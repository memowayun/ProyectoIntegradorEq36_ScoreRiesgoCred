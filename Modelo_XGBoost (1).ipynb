{
 "cells": [
  {
   "cell_type": "markdown",
   "id": "7de58723",
   "metadata": {},
   "source": [
    "# Proyecto Integrador"
   ]
  },
  {
   "cell_type": "markdown",
   "id": "74c8f2dd",
   "metadata": {},
   "source": [
    "## Score de Riesgo en Originación de Crédito\n",
    "## Para Kubo Financiero\n",
    "\n",
    "Participantes:\n",
    "\n",
    "Dalina Aideé Villa Ocelotl (A01793258)\n",
    "\n",
    "Julián Valera Juarez (A01793875)\n",
    "\n",
    "Miguel Guillermo Galindo Orozco (A01793695)\n",
    "1793695)"
   ]
  },
  {
   "cell_type": "markdown",
   "id": "248595fc",
   "metadata": {},
   "source": [
    "## Modelo XGBoost Final"
   ]
  },
  {
   "cell_type": "markdown",
   "id": "7346866a",
   "metadata": {},
   "source": [
    "### Importar librerías"
   ]
  },
  {
   "cell_type": "code",
   "execution_count": 6,
   "id": "7f58e6c8-8783-47cd-bdf8-e81bf03286db",
   "metadata": {},
   "outputs": [],
   "source": [
    "import pandas as pd\n",
    "import numpy as np\n",
    "from sklearn.model_selection import train_test_split, GridSearchCV\n",
    "from sklearn.linear_model import LogisticRegression\n",
    "from sklearn.ensemble import RandomForestClassifier, GradientBoostingClassifier\n",
    "from sklearn.svm import SVC\n",
    "from sklearn.neighbors import KNeighborsClassifier\n",
    "from sklearn.naive_bayes import GaussianNB\n",
    "from sklearn.preprocessing import StandardScaler\n",
    "from sklearn.metrics import roc_auc_score, accuracy_score, classification_report, confusion_matrix\n",
    "import matplotlib.pyplot as plt\n",
    "import seaborn as sns\n",
    "from collections import Counter"
   ]
  },
  {
   "cell_type": "code",
   "execution_count": 7,
   "id": "cb4bdcef",
   "metadata": {},
   "outputs": [],
   "source": [
    "from imblearn.over_sampling import RandomOverSampler"
   ]
  },
  {
   "cell_type": "markdown",
   "id": "9c6c66b9",
   "metadata": {},
   "source": [
    "### Leer datos"
   ]
  },
  {
   "cell_type": "code",
   "execution_count": 9,
   "id": "d61bf34a-1685-4b8a-9363-27c451569551",
   "metadata": {},
   "outputs": [],
   "source": [
    "file_path = 'base_20210101a20240430 (2).xlsx'\n",
    "df = pd.read_excel(file_path, sheet_name='Cliientes_Nuevos')\n",
    "#df = pd.read_excel(file_path, sheet_name='Buro')"
   ]
  },
  {
   "cell_type": "code",
   "execution_count": 10,
   "id": "6c7fb164",
   "metadata": {},
   "outputs": [
    {
     "data": {
      "text/html": [
       "<div>\n",
       "<style scoped>\n",
       "    .dataframe tbody tr th:only-of-type {\n",
       "        vertical-align: middle;\n",
       "    }\n",
       "\n",
       "    .dataframe tbody tr th {\n",
       "        vertical-align: top;\n",
       "    }\n",
       "\n",
       "    .dataframe thead th {\n",
       "        text-align: right;\n",
       "    }\n",
       "</style>\n",
       "<table border=\"1\" class=\"dataframe\">\n",
       "  <thead>\n",
       "    <tr style=\"text-align: right;\">\n",
       "      <th></th>\n",
       "      <th>prospectus_id</th>\n",
       "      <th>Edad</th>\n",
       "      <th>Genero</th>\n",
       "      <th>EstadoCivil</th>\n",
       "      <th>DependientesEconomicos</th>\n",
       "      <th>Estado</th>\n",
       "      <th>ActividadEconomica</th>\n",
       "      <th>NivelEstudios</th>\n",
       "      <th>NumCaracteresSobreMi</th>\n",
       "      <th>consulting_date</th>\n",
       "      <th>...</th>\n",
       "      <th>MontoCredR</th>\n",
       "      <th>NumCredI</th>\n",
       "      <th>MontoCredI</th>\n",
       "      <th>NumCredM</th>\n",
       "      <th>MontoCredM</th>\n",
       "      <th>montocredito_actual</th>\n",
       "      <th>estatus_actual</th>\n",
       "      <th>diasatraso_actual</th>\n",
       "      <th>es_malo_actual</th>\n",
       "      <th>saldo_actual</th>\n",
       "    </tr>\n",
       "  </thead>\n",
       "  <tbody>\n",
       "    <tr>\n",
       "      <th>0</th>\n",
       "      <td>3872</td>\n",
       "      <td>46</td>\n",
       "      <td>Hombre</td>\n",
       "      <td>Casado (sociedad conyugal)</td>\n",
       "      <td>1</td>\n",
       "      <td>Ciudad de México</td>\n",
       "      <td>Empleado</td>\n",
       "      <td>Bachillerato</td>\n",
       "      <td>28</td>\n",
       "      <td>2021-09-06 15:19:27</td>\n",
       "      <td>...</td>\n",
       "      <td>14997.0</td>\n",
       "      <td>10.0</td>\n",
       "      <td>98826.0</td>\n",
       "      <td>0.0</td>\n",
       "      <td>0.0</td>\n",
       "      <td>50000</td>\n",
       "      <td>P</td>\n",
       "      <td>0</td>\n",
       "      <td>0</td>\n",
       "      <td>NaN</td>\n",
       "    </tr>\n",
       "    <tr>\n",
       "      <th>1</th>\n",
       "      <td>7207</td>\n",
       "      <td>43</td>\n",
       "      <td>Hombre</td>\n",
       "      <td>Soltero</td>\n",
       "      <td>0</td>\n",
       "      <td>Ciudad de México</td>\n",
       "      <td>Empleado</td>\n",
       "      <td>Maestría</td>\n",
       "      <td>113</td>\n",
       "      <td>2021-10-14 13:45:49</td>\n",
       "      <td>...</td>\n",
       "      <td>10469.0</td>\n",
       "      <td>49.0</td>\n",
       "      <td>37484.0</td>\n",
       "      <td>0.0</td>\n",
       "      <td>0.0</td>\n",
       "      <td>48000</td>\n",
       "      <td>P</td>\n",
       "      <td>0</td>\n",
       "      <td>0</td>\n",
       "      <td>NaN</td>\n",
       "    </tr>\n",
       "    <tr>\n",
       "      <th>2</th>\n",
       "      <td>8105</td>\n",
       "      <td>51</td>\n",
       "      <td>Mujer</td>\n",
       "      <td>Casado (sociedad conyugal)</td>\n",
       "      <td>más de 4</td>\n",
       "      <td>Ciudad de México</td>\n",
       "      <td>Empresario/Socio</td>\n",
       "      <td>Licenciatura</td>\n",
       "      <td>0</td>\n",
       "      <td>2022-05-18 20:06:57</td>\n",
       "      <td>...</td>\n",
       "      <td>527690.0</td>\n",
       "      <td>1.0</td>\n",
       "      <td>113100.0</td>\n",
       "      <td>0.0</td>\n",
       "      <td>0.0</td>\n",
       "      <td>10000</td>\n",
       "      <td>P</td>\n",
       "      <td>0</td>\n",
       "      <td>0</td>\n",
       "      <td>NaN</td>\n",
       "    </tr>\n",
       "    <tr>\n",
       "      <th>3</th>\n",
       "      <td>9969</td>\n",
       "      <td>48</td>\n",
       "      <td>Hombre</td>\n",
       "      <td>Casado (bienes separados)</td>\n",
       "      <td>1</td>\n",
       "      <td>Ciudad de México</td>\n",
       "      <td>Profesionista independiente</td>\n",
       "      <td>Licenciatura</td>\n",
       "      <td>25</td>\n",
       "      <td>2024-01-15 15:11:58</td>\n",
       "      <td>...</td>\n",
       "      <td>33826.0</td>\n",
       "      <td>1.0</td>\n",
       "      <td>50900.0</td>\n",
       "      <td>0.0</td>\n",
       "      <td>0.0</td>\n",
       "      <td>100000</td>\n",
       "      <td>V</td>\n",
       "      <td>0</td>\n",
       "      <td>0</td>\n",
       "      <td>93219.72</td>\n",
       "    </tr>\n",
       "    <tr>\n",
       "      <th>4</th>\n",
       "      <td>12520</td>\n",
       "      <td>53</td>\n",
       "      <td>Hombre</td>\n",
       "      <td>Casado (bienes separados)</td>\n",
       "      <td>3</td>\n",
       "      <td>Baja California</td>\n",
       "      <td>Empleado</td>\n",
       "      <td>Maestría</td>\n",
       "      <td>79</td>\n",
       "      <td>2021-07-07 20:44:43</td>\n",
       "      <td>...</td>\n",
       "      <td>305643.0</td>\n",
       "      <td>1.0</td>\n",
       "      <td>253688.0</td>\n",
       "      <td>2.0</td>\n",
       "      <td>251228.0</td>\n",
       "      <td>53000</td>\n",
       "      <td>P</td>\n",
       "      <td>0</td>\n",
       "      <td>0</td>\n",
       "      <td>NaN</td>\n",
       "    </tr>\n",
       "    <tr>\n",
       "      <th>5</th>\n",
       "      <td>13644</td>\n",
       "      <td>37</td>\n",
       "      <td>Mujer</td>\n",
       "      <td>Soltero</td>\n",
       "      <td>1</td>\n",
       "      <td>Ciudad de México</td>\n",
       "      <td>Dueño de negocio</td>\n",
       "      <td>Licenciatura</td>\n",
       "      <td>19</td>\n",
       "      <td>2022-05-16 15:48:52</td>\n",
       "      <td>...</td>\n",
       "      <td>94413.0</td>\n",
       "      <td>10.0</td>\n",
       "      <td>80804.0</td>\n",
       "      <td>0.0</td>\n",
       "      <td>0.0</td>\n",
       "      <td>30000</td>\n",
       "      <td>P</td>\n",
       "      <td>0</td>\n",
       "      <td>0</td>\n",
       "      <td>NaN</td>\n",
       "    </tr>\n",
       "    <tr>\n",
       "      <th>6</th>\n",
       "      <td>17632</td>\n",
       "      <td>50</td>\n",
       "      <td>Mujer</td>\n",
       "      <td>Casado (bienes separados)</td>\n",
       "      <td>0</td>\n",
       "      <td>Michoacán de Ocampo</td>\n",
       "      <td>Empleado</td>\n",
       "      <td>Licenciatura</td>\n",
       "      <td>0</td>\n",
       "      <td>2021-06-04 13:18:41</td>\n",
       "      <td>...</td>\n",
       "      <td>18859.0</td>\n",
       "      <td>9.0</td>\n",
       "      <td>385240.0</td>\n",
       "      <td>1.0</td>\n",
       "      <td>89697.0</td>\n",
       "      <td>35000</td>\n",
       "      <td>P</td>\n",
       "      <td>0</td>\n",
       "      <td>1</td>\n",
       "      <td>NaN</td>\n",
       "    </tr>\n",
       "    <tr>\n",
       "      <th>7</th>\n",
       "      <td>19042</td>\n",
       "      <td>31</td>\n",
       "      <td>Mujer</td>\n",
       "      <td>Casado (sociedad conyugal)</td>\n",
       "      <td>0</td>\n",
       "      <td>Estado de México</td>\n",
       "      <td>Dueño de negocio</td>\n",
       "      <td>Licenciatura</td>\n",
       "      <td>0</td>\n",
       "      <td>2022-04-07 13:38:03</td>\n",
       "      <td>...</td>\n",
       "      <td>14303.0</td>\n",
       "      <td>5.0</td>\n",
       "      <td>29679.0</td>\n",
       "      <td>0.0</td>\n",
       "      <td>0.0</td>\n",
       "      <td>30000</td>\n",
       "      <td>P</td>\n",
       "      <td>0</td>\n",
       "      <td>1</td>\n",
       "      <td>NaN</td>\n",
       "    </tr>\n",
       "    <tr>\n",
       "      <th>8</th>\n",
       "      <td>19108</td>\n",
       "      <td>40</td>\n",
       "      <td>Hombre</td>\n",
       "      <td>Unión Libre</td>\n",
       "      <td>1</td>\n",
       "      <td>Ciudad de México</td>\n",
       "      <td>Dueño de negocio</td>\n",
       "      <td>Licenciatura</td>\n",
       "      <td>62</td>\n",
       "      <td>2022-08-25 21:30:35</td>\n",
       "      <td>...</td>\n",
       "      <td>15199.0</td>\n",
       "      <td>7.0</td>\n",
       "      <td>547893.0</td>\n",
       "      <td>0.0</td>\n",
       "      <td>0.0</td>\n",
       "      <td>15000</td>\n",
       "      <td>P</td>\n",
       "      <td>0</td>\n",
       "      <td>0</td>\n",
       "      <td>NaN</td>\n",
       "    </tr>\n",
       "    <tr>\n",
       "      <th>9</th>\n",
       "      <td>20073</td>\n",
       "      <td>28</td>\n",
       "      <td>Hombre</td>\n",
       "      <td>Soltero</td>\n",
       "      <td>0</td>\n",
       "      <td>Ciudad de México</td>\n",
       "      <td>Empleado</td>\n",
       "      <td>Licenciatura</td>\n",
       "      <td>0</td>\n",
       "      <td>2022-11-15 11:05:06</td>\n",
       "      <td>...</td>\n",
       "      <td>44789.0</td>\n",
       "      <td>0.0</td>\n",
       "      <td>0.0</td>\n",
       "      <td>0.0</td>\n",
       "      <td>0.0</td>\n",
       "      <td>90000</td>\n",
       "      <td>P</td>\n",
       "      <td>0</td>\n",
       "      <td>0</td>\n",
       "      <td>NaN</td>\n",
       "    </tr>\n",
       "  </tbody>\n",
       "</table>\n",
       "<p>10 rows × 28 columns</p>\n",
       "</div>"
      ],
      "text/plain": [
       "   prospectus_id  Edad  Genero                 EstadoCivil  \\\n",
       "0           3872    46  Hombre  Casado (sociedad conyugal)   \n",
       "1           7207    43  Hombre                     Soltero   \n",
       "2           8105    51   Mujer  Casado (sociedad conyugal)   \n",
       "3           9969    48  Hombre   Casado (bienes separados)   \n",
       "4          12520    53  Hombre   Casado (bienes separados)   \n",
       "5          13644    37   Mujer                     Soltero   \n",
       "6          17632    50   Mujer   Casado (bienes separados)   \n",
       "7          19042    31   Mujer  Casado (sociedad conyugal)   \n",
       "8          19108    40  Hombre                 Unión Libre   \n",
       "9          20073    28  Hombre                     Soltero   \n",
       "\n",
       "  DependientesEconomicos               Estado           ActividadEconomica  \\\n",
       "0                      1     Ciudad de México                     Empleado   \n",
       "1                      0     Ciudad de México                     Empleado   \n",
       "2               más de 4     Ciudad de México             Empresario/Socio   \n",
       "3                      1     Ciudad de México  Profesionista independiente   \n",
       "4                      3      Baja California                     Empleado   \n",
       "5                      1     Ciudad de México             Dueño de negocio   \n",
       "6                      0  Michoacán de Ocampo                     Empleado   \n",
       "7                      0     Estado de México             Dueño de negocio   \n",
       "8                      1     Ciudad de México             Dueño de negocio   \n",
       "9                      0     Ciudad de México                     Empleado   \n",
       "\n",
       "  NivelEstudios  NumCaracteresSobreMi     consulting_date  ...  MontoCredR  \\\n",
       "0  Bachillerato                    28 2021-09-06 15:19:27  ...     14997.0   \n",
       "1      Maestría                   113 2021-10-14 13:45:49  ...     10469.0   \n",
       "2  Licenciatura                     0 2022-05-18 20:06:57  ...    527690.0   \n",
       "3  Licenciatura                    25 2024-01-15 15:11:58  ...     33826.0   \n",
       "4      Maestría                    79 2021-07-07 20:44:43  ...    305643.0   \n",
       "5  Licenciatura                    19 2022-05-16 15:48:52  ...     94413.0   \n",
       "6  Licenciatura                     0 2021-06-04 13:18:41  ...     18859.0   \n",
       "7  Licenciatura                     0 2022-04-07 13:38:03  ...     14303.0   \n",
       "8  Licenciatura                    62 2022-08-25 21:30:35  ...     15199.0   \n",
       "9  Licenciatura                     0 2022-11-15 11:05:06  ...     44789.0   \n",
       "\n",
       "   NumCredI  MontoCredI  NumCredM  MontoCredM  montocredito_actual  \\\n",
       "0      10.0     98826.0       0.0         0.0                50000   \n",
       "1      49.0     37484.0       0.0         0.0                48000   \n",
       "2       1.0    113100.0       0.0         0.0                10000   \n",
       "3       1.0     50900.0       0.0         0.0               100000   \n",
       "4       1.0    253688.0       2.0    251228.0                53000   \n",
       "5      10.0     80804.0       0.0         0.0                30000   \n",
       "6       9.0    385240.0       1.0     89697.0                35000   \n",
       "7       5.0     29679.0       0.0         0.0                30000   \n",
       "8       7.0    547893.0       0.0         0.0                15000   \n",
       "9       0.0         0.0       0.0         0.0                90000   \n",
       "\n",
       "   estatus_actual  diasatraso_actual  es_malo_actual  saldo_actual  \n",
       "0               P                  0               0           NaN  \n",
       "1               P                  0               0           NaN  \n",
       "2               P                  0               0           NaN  \n",
       "3               V                  0               0      93219.72  \n",
       "4               P                  0               0           NaN  \n",
       "5               P                  0               0           NaN  \n",
       "6               P                  0               1           NaN  \n",
       "7               P                  0               1           NaN  \n",
       "8               P                  0               0           NaN  \n",
       "9               P                  0               0           NaN  \n",
       "\n",
       "[10 rows x 28 columns]"
      ]
     },
     "execution_count": 10,
     "metadata": {},
     "output_type": "execute_result"
    }
   ],
   "source": [
    "df.head(10)"
   ]
  },
  {
   "cell_type": "markdown",
   "id": "08d66687",
   "metadata": {},
   "source": [
    "Leer nuevos atribitos\n",
    "\n",
    "El código del cálculo es: \n",
    "\n"
   ]
  },
  {
   "cell_type": "code",
   "execution_count": 12,
   "id": "5a88471a",
   "metadata": {},
   "outputs": [
    {
     "data": {
      "text/html": [
       "<div>\n",
       "<style scoped>\n",
       "    .dataframe tbody tr th:only-of-type {\n",
       "        vertical-align: middle;\n",
       "    }\n",
       "\n",
       "    .dataframe tbody tr th {\n",
       "        vertical-align: top;\n",
       "    }\n",
       "\n",
       "    .dataframe thead th {\n",
       "        text-align: right;\n",
       "    }\n",
       "</style>\n",
       "<table border=\"1\" class=\"dataframe\">\n",
       "  <thead>\n",
       "    <tr style=\"text-align: right;\">\n",
       "      <th></th>\n",
       "      <th>index</th>\n",
       "      <th>prospectus_id</th>\n",
       "      <th>Fecha_minAp</th>\n",
       "      <th>Fecha_maxAp</th>\n",
       "      <th>Fecha_maxCr</th>\n",
       "      <th>Monto_avg</th>\n",
       "      <th>Monto_min</th>\n",
       "      <th>Monto_max</th>\n",
       "      <th>Negocios_dist</th>\n",
       "      <th>Cuentas_Banco</th>\n",
       "      <th>...</th>\n",
       "      <th>SaldoVen_sum</th>\n",
       "      <th>SaldoVen_avg</th>\n",
       "      <th>Cuentas_saldoVen</th>\n",
       "      <th>Total_pagos_vencidos</th>\n",
       "      <th>Cuentas_1Atraso</th>\n",
       "      <th>Cuentas_buenas</th>\n",
       "      <th>Cuentas_cveObs</th>\n",
       "      <th>PeorAtraso_avg</th>\n",
       "      <th>PeorAtraso_sum</th>\n",
       "      <th>PeorMOP</th>\n",
       "    </tr>\n",
       "  </thead>\n",
       "  <tbody>\n",
       "    <tr>\n",
       "      <th>0</th>\n",
       "      <td>0</td>\n",
       "      <td>2666075</td>\n",
       "      <td>2017-07-29</td>\n",
       "      <td>2019-12-07</td>\n",
       "      <td>2018-10-31</td>\n",
       "      <td>5141.6</td>\n",
       "      <td>815.0</td>\n",
       "      <td>14842.0</td>\n",
       "      <td>2</td>\n",
       "      <td>2</td>\n",
       "      <td>...</td>\n",
       "      <td>0.0</td>\n",
       "      <td>0.0</td>\n",
       "      <td>0</td>\n",
       "      <td>0.0</td>\n",
       "      <td>0</td>\n",
       "      <td>5</td>\n",
       "      <td>1</td>\n",
       "      <td>0.0</td>\n",
       "      <td>0.0</td>\n",
       "      <td>0.0</td>\n",
       "    </tr>\n",
       "  </tbody>\n",
       "</table>\n",
       "<p>1 rows × 32 columns</p>\n",
       "</div>"
      ],
      "text/plain": [
       "   index  prospectus_id Fecha_minAp Fecha_maxAp Fecha_maxCr  Monto_avg  \\\n",
       "0      0        2666075  2017-07-29  2019-12-07  2018-10-31     5141.6   \n",
       "\n",
       "   Monto_min  Monto_max  Negocios_dist  Cuentas_Banco  ...  SaldoVen_sum  \\\n",
       "0      815.0    14842.0              2              2  ...           0.0   \n",
       "\n",
       "   SaldoVen_avg  Cuentas_saldoVen  Total_pagos_vencidos  Cuentas_1Atraso  \\\n",
       "0           0.0                 0                   0.0                0   \n",
       "\n",
       "   Cuentas_buenas  Cuentas_cveObs  PeorAtraso_avg  PeorAtraso_sum  PeorMOP  \n",
       "0               5               1             0.0             0.0      0.0  \n",
       "\n",
       "[1 rows x 32 columns]"
      ]
     },
     "execution_count": 12,
     "metadata": {},
     "output_type": "execute_result"
    }
   ],
   "source": [
    "atributos = pd.read_csv('atributos_calculados_2.csv')\n",
    "atributos.head(5)"
   ]
  },
  {
   "cell_type": "code",
   "execution_count": 13,
   "id": "564fb265",
   "metadata": {},
   "outputs": [
    {
     "data": {
      "text/html": [
       "<div>\n",
       "<style scoped>\n",
       "    .dataframe tbody tr th:only-of-type {\n",
       "        vertical-align: middle;\n",
       "    }\n",
       "\n",
       "    .dataframe tbody tr th {\n",
       "        vertical-align: top;\n",
       "    }\n",
       "\n",
       "    .dataframe thead th {\n",
       "        text-align: right;\n",
       "    }\n",
       "</style>\n",
       "<table border=\"1\" class=\"dataframe\">\n",
       "  <thead>\n",
       "    <tr style=\"text-align: right;\">\n",
       "      <th></th>\n",
       "      <th>prospectus_id</th>\n",
       "      <th>Edad</th>\n",
       "      <th>Genero</th>\n",
       "      <th>EstadoCivil</th>\n",
       "      <th>DependientesEconomicos</th>\n",
       "      <th>Estado</th>\n",
       "      <th>ActividadEconomica</th>\n",
       "      <th>NivelEstudios</th>\n",
       "      <th>NumCaracteresSobreMi</th>\n",
       "      <th>consulting_date</th>\n",
       "      <th>...</th>\n",
       "      <th>SaldoVen_sum</th>\n",
       "      <th>SaldoVen_avg</th>\n",
       "      <th>Cuentas_saldoVen</th>\n",
       "      <th>Total_pagos_vencidos</th>\n",
       "      <th>Cuentas_1Atraso</th>\n",
       "      <th>Cuentas_buenas</th>\n",
       "      <th>Cuentas_cveObs</th>\n",
       "      <th>PeorAtraso_avg</th>\n",
       "      <th>PeorAtraso_sum</th>\n",
       "      <th>PeorMOP</th>\n",
       "    </tr>\n",
       "  </thead>\n",
       "  <tbody>\n",
       "    <tr>\n",
       "      <th>0</th>\n",
       "      <td>3872</td>\n",
       "      <td>46</td>\n",
       "      <td>Hombre</td>\n",
       "      <td>Casado (sociedad conyugal)</td>\n",
       "      <td>1</td>\n",
       "      <td>Ciudad de México</td>\n",
       "      <td>Empleado</td>\n",
       "      <td>Bachillerato</td>\n",
       "      <td>28</td>\n",
       "      <td>2021-09-06 15:19:27</td>\n",
       "      <td>...</td>\n",
       "      <td>NaN</td>\n",
       "      <td>NaN</td>\n",
       "      <td>NaN</td>\n",
       "      <td>NaN</td>\n",
       "      <td>NaN</td>\n",
       "      <td>NaN</td>\n",
       "      <td>NaN</td>\n",
       "      <td>NaN</td>\n",
       "      <td>NaN</td>\n",
       "      <td>NaN</td>\n",
       "    </tr>\n",
       "    <tr>\n",
       "      <th>1</th>\n",
       "      <td>7207</td>\n",
       "      <td>43</td>\n",
       "      <td>Hombre</td>\n",
       "      <td>Soltero</td>\n",
       "      <td>0</td>\n",
       "      <td>Ciudad de México</td>\n",
       "      <td>Empleado</td>\n",
       "      <td>Maestría</td>\n",
       "      <td>113</td>\n",
       "      <td>2021-10-14 13:45:49</td>\n",
       "      <td>...</td>\n",
       "      <td>NaN</td>\n",
       "      <td>NaN</td>\n",
       "      <td>NaN</td>\n",
       "      <td>NaN</td>\n",
       "      <td>NaN</td>\n",
       "      <td>NaN</td>\n",
       "      <td>NaN</td>\n",
       "      <td>NaN</td>\n",
       "      <td>NaN</td>\n",
       "      <td>NaN</td>\n",
       "    </tr>\n",
       "    <tr>\n",
       "      <th>2</th>\n",
       "      <td>8105</td>\n",
       "      <td>51</td>\n",
       "      <td>Mujer</td>\n",
       "      <td>Casado (sociedad conyugal)</td>\n",
       "      <td>más de 4</td>\n",
       "      <td>Ciudad de México</td>\n",
       "      <td>Empresario/Socio</td>\n",
       "      <td>Licenciatura</td>\n",
       "      <td>0</td>\n",
       "      <td>2022-05-18 20:06:57</td>\n",
       "      <td>...</td>\n",
       "      <td>NaN</td>\n",
       "      <td>NaN</td>\n",
       "      <td>NaN</td>\n",
       "      <td>NaN</td>\n",
       "      <td>NaN</td>\n",
       "      <td>NaN</td>\n",
       "      <td>NaN</td>\n",
       "      <td>NaN</td>\n",
       "      <td>NaN</td>\n",
       "      <td>NaN</td>\n",
       "    </tr>\n",
       "    <tr>\n",
       "      <th>3</th>\n",
       "      <td>9969</td>\n",
       "      <td>48</td>\n",
       "      <td>Hombre</td>\n",
       "      <td>Casado (bienes separados)</td>\n",
       "      <td>1</td>\n",
       "      <td>Ciudad de México</td>\n",
       "      <td>Profesionista independiente</td>\n",
       "      <td>Licenciatura</td>\n",
       "      <td>25</td>\n",
       "      <td>2024-01-15 15:11:58</td>\n",
       "      <td>...</td>\n",
       "      <td>NaN</td>\n",
       "      <td>NaN</td>\n",
       "      <td>NaN</td>\n",
       "      <td>NaN</td>\n",
       "      <td>NaN</td>\n",
       "      <td>NaN</td>\n",
       "      <td>NaN</td>\n",
       "      <td>NaN</td>\n",
       "      <td>NaN</td>\n",
       "      <td>NaN</td>\n",
       "    </tr>\n",
       "    <tr>\n",
       "      <th>4</th>\n",
       "      <td>12520</td>\n",
       "      <td>53</td>\n",
       "      <td>Hombre</td>\n",
       "      <td>Casado (bienes separados)</td>\n",
       "      <td>3</td>\n",
       "      <td>Baja California</td>\n",
       "      <td>Empleado</td>\n",
       "      <td>Maestría</td>\n",
       "      <td>79</td>\n",
       "      <td>2021-07-07 20:44:43</td>\n",
       "      <td>...</td>\n",
       "      <td>NaN</td>\n",
       "      <td>NaN</td>\n",
       "      <td>NaN</td>\n",
       "      <td>NaN</td>\n",
       "      <td>NaN</td>\n",
       "      <td>NaN</td>\n",
       "      <td>NaN</td>\n",
       "      <td>NaN</td>\n",
       "      <td>NaN</td>\n",
       "      <td>NaN</td>\n",
       "    </tr>\n",
       "  </tbody>\n",
       "</table>\n",
       "<p>5 rows × 59 columns</p>\n",
       "</div>"
      ],
      "text/plain": [
       "   prospectus_id  Edad  Genero                 EstadoCivil  \\\n",
       "0           3872    46  Hombre  Casado (sociedad conyugal)   \n",
       "1           7207    43  Hombre                     Soltero   \n",
       "2           8105    51   Mujer  Casado (sociedad conyugal)   \n",
       "3           9969    48  Hombre   Casado (bienes separados)   \n",
       "4          12520    53  Hombre   Casado (bienes separados)   \n",
       "\n",
       "  DependientesEconomicos            Estado           ActividadEconomica  \\\n",
       "0                      1  Ciudad de México                     Empleado   \n",
       "1                      0  Ciudad de México                     Empleado   \n",
       "2               más de 4  Ciudad de México             Empresario/Socio   \n",
       "3                      1  Ciudad de México  Profesionista independiente   \n",
       "4                      3   Baja California                     Empleado   \n",
       "\n",
       "  NivelEstudios  NumCaracteresSobreMi     consulting_date  ...  SaldoVen_sum  \\\n",
       "0  Bachillerato                    28 2021-09-06 15:19:27  ...           NaN   \n",
       "1      Maestría                   113 2021-10-14 13:45:49  ...           NaN   \n",
       "2  Licenciatura                     0 2022-05-18 20:06:57  ...           NaN   \n",
       "3  Licenciatura                    25 2024-01-15 15:11:58  ...           NaN   \n",
       "4      Maestría                    79 2021-07-07 20:44:43  ...           NaN   \n",
       "\n",
       "   SaldoVen_avg  Cuentas_saldoVen  Total_pagos_vencidos  Cuentas_1Atraso  \\\n",
       "0           NaN               NaN                   NaN              NaN   \n",
       "1           NaN               NaN                   NaN              NaN   \n",
       "2           NaN               NaN                   NaN              NaN   \n",
       "3           NaN               NaN                   NaN              NaN   \n",
       "4           NaN               NaN                   NaN              NaN   \n",
       "\n",
       "   Cuentas_buenas  Cuentas_cveObs  PeorAtraso_avg  PeorAtraso_sum  PeorMOP  \n",
       "0             NaN             NaN             NaN             NaN      NaN  \n",
       "1             NaN             NaN             NaN             NaN      NaN  \n",
       "2             NaN             NaN             NaN             NaN      NaN  \n",
       "3             NaN             NaN             NaN             NaN      NaN  \n",
       "4             NaN             NaN             NaN             NaN      NaN  \n",
       "\n",
       "[5 rows x 59 columns]"
      ]
     },
     "execution_count": 13,
     "metadata": {},
     "output_type": "execute_result"
    }
   ],
   "source": [
    "## Unir bases\n",
    "\n",
    "df = df.merge(atributos, how='left',on='prospectus_id')\n",
    "\n",
    "df.head()"
   ]
  },
  {
   "cell_type": "code",
   "execution_count": 14,
   "id": "ac9cb234",
   "metadata": {},
   "outputs": [
    {
     "name": "stdout",
     "output_type": "stream",
     "text": [
      "prospectus_id\n",
      "Edad\n",
      "Genero\n",
      "EstadoCivil\n",
      "DependientesEconomicos\n",
      "Estado\n",
      "ActividadEconomica\n",
      "NivelEstudios\n",
      "NumCaracteresSobreMi\n",
      "consulting_date\n",
      "cci_score\n",
      "bc_score\n",
      "NumCredHist\n",
      "MontoCredHist\n",
      "CredMobMayor2\n",
      "NumCredActivos\n",
      "MontoCredActivos\n",
      "NumCredR\n",
      "MontoCredR\n",
      "NumCredI\n",
      "MontoCredI\n",
      "NumCredM\n",
      "MontoCredM\n",
      "montocredito_actual\n",
      "estatus_actual\n",
      "diasatraso_actual\n",
      "es_malo_actual\n",
      "saldo_actual\n",
      "index\n",
      "Fecha_minAp\n",
      "Fecha_maxAp\n",
      "Fecha_maxCr\n",
      "Monto_avg\n",
      "Monto_min\n",
      "Monto_max\n",
      "Negocios_dist\n",
      "Cuentas_Banco\n",
      "Cuentas_micro\n",
      "Cuentas_fin\n",
      "Cuentas_tienda\n",
      "Cuentas_com\n",
      "MontoPagar_avg\n",
      "MontoPagar_sum\n",
      "CuentasDesde_Buro\n",
      "CuentasDesde_CDC\n",
      "MontoMax_avg\n",
      "MontoMax_sum\n",
      "Limite_avg\n",
      "Limite_sum\n",
      "SaldoVen_sum\n",
      "SaldoVen_avg\n",
      "Cuentas_saldoVen\n",
      "Total_pagos_vencidos\n",
      "Cuentas_1Atraso\n",
      "Cuentas_buenas\n",
      "Cuentas_cveObs\n",
      "PeorAtraso_avg\n",
      "PeorAtraso_sum\n",
      "PeorMOP\n"
     ]
    }
   ],
   "source": [
    "for i in df.columns: print(i)"
   ]
  },
  {
   "cell_type": "code",
   "execution_count": 15,
   "id": "784bc511",
   "metadata": {},
   "outputs": [],
   "source": [
    "## Calcular variables de antiguedad\n",
    "\n",
    "#df['max_antiguedad'] = df['consulting_date'] - df['Fecha_minAp']\n",
    "#df['min_antiguedad'] = df['consulting_date'] - df['Fecha_maxAp']\n",
    "#df['antiguedad_ult_cierre'] = df['consulting_date'] - df['Fecha_maxCr']\n"
   ]
  },
  {
   "cell_type": "code",
   "execution_count": null,
   "id": "ef272380",
   "metadata": {},
   "outputs": [],
   "source": []
  },
  {
   "cell_type": "markdown",
   "id": "d5857a44",
   "metadata": {},
   "source": [
    "Eliminar variables no necesarias"
   ]
  },
  {
   "cell_type": "code",
   "execution_count": 17,
   "id": "ec4b1e2c-3296-4ae5-a6f7-7d309455ddc5",
   "metadata": {},
   "outputs": [],
   "source": [
    "#variables_eliminar = [\"montocredito_actual\", \"estatus_actual\",\"diasatraso_actual\",\"saldo_actual\", \"prospectus_id\"]\n",
    "variables_eliminar = [\"montocredito_actual\", \"estatus_actual\",\"diasatraso_actual\",\"saldo_actual\",\"Fecha_minAp\",\"Fecha_maxAp\",\"Fecha_maxCr\"]\n",
    "variables_ok = [i for i in df.columns if i not in variables_eliminar ]\n",
    "df = df[variables_ok]\n",
    "df = df[df['es_malo_actual'].isin([0,1])]\n",
    "#df = df.dropna()"
   ]
  },
  {
   "cell_type": "code",
   "execution_count": 18,
   "id": "390571fa",
   "metadata": {},
   "outputs": [
    {
     "data": {
      "text/plain": [
       "35197"
      ]
     },
     "execution_count": 18,
     "metadata": {},
     "output_type": "execute_result"
    }
   ],
   "source": [
    "len(df)"
   ]
  },
  {
   "cell_type": "code",
   "execution_count": 19,
   "id": "3be67017",
   "metadata": {},
   "outputs": [
    {
     "data": {
      "text/html": [
       "<div>\n",
       "<style scoped>\n",
       "    .dataframe tbody tr th:only-of-type {\n",
       "        vertical-align: middle;\n",
       "    }\n",
       "\n",
       "    .dataframe tbody tr th {\n",
       "        vertical-align: top;\n",
       "    }\n",
       "\n",
       "    .dataframe thead th {\n",
       "        text-align: right;\n",
       "    }\n",
       "</style>\n",
       "<table border=\"1\" class=\"dataframe\">\n",
       "  <thead>\n",
       "    <tr style=\"text-align: right;\">\n",
       "      <th></th>\n",
       "      <th>prospectus_id</th>\n",
       "      <th>Edad</th>\n",
       "      <th>Genero</th>\n",
       "      <th>EstadoCivil</th>\n",
       "      <th>DependientesEconomicos</th>\n",
       "      <th>Estado</th>\n",
       "      <th>ActividadEconomica</th>\n",
       "      <th>NivelEstudios</th>\n",
       "      <th>NumCaracteresSobreMi</th>\n",
       "      <th>consulting_date</th>\n",
       "      <th>...</th>\n",
       "      <th>SaldoVen_sum</th>\n",
       "      <th>SaldoVen_avg</th>\n",
       "      <th>Cuentas_saldoVen</th>\n",
       "      <th>Total_pagos_vencidos</th>\n",
       "      <th>Cuentas_1Atraso</th>\n",
       "      <th>Cuentas_buenas</th>\n",
       "      <th>Cuentas_cveObs</th>\n",
       "      <th>PeorAtraso_avg</th>\n",
       "      <th>PeorAtraso_sum</th>\n",
       "      <th>PeorMOP</th>\n",
       "    </tr>\n",
       "  </thead>\n",
       "  <tbody>\n",
       "    <tr>\n",
       "      <th>0</th>\n",
       "      <td>3872</td>\n",
       "      <td>46</td>\n",
       "      <td>Hombre</td>\n",
       "      <td>Casado (sociedad conyugal)</td>\n",
       "      <td>1</td>\n",
       "      <td>Ciudad de México</td>\n",
       "      <td>Empleado</td>\n",
       "      <td>Bachillerato</td>\n",
       "      <td>28</td>\n",
       "      <td>2021-09-06 15:19:27</td>\n",
       "      <td>...</td>\n",
       "      <td>NaN</td>\n",
       "      <td>NaN</td>\n",
       "      <td>NaN</td>\n",
       "      <td>NaN</td>\n",
       "      <td>NaN</td>\n",
       "      <td>NaN</td>\n",
       "      <td>NaN</td>\n",
       "      <td>NaN</td>\n",
       "      <td>NaN</td>\n",
       "      <td>NaN</td>\n",
       "    </tr>\n",
       "    <tr>\n",
       "      <th>1</th>\n",
       "      <td>7207</td>\n",
       "      <td>43</td>\n",
       "      <td>Hombre</td>\n",
       "      <td>Soltero</td>\n",
       "      <td>0</td>\n",
       "      <td>Ciudad de México</td>\n",
       "      <td>Empleado</td>\n",
       "      <td>Maestría</td>\n",
       "      <td>113</td>\n",
       "      <td>2021-10-14 13:45:49</td>\n",
       "      <td>...</td>\n",
       "      <td>NaN</td>\n",
       "      <td>NaN</td>\n",
       "      <td>NaN</td>\n",
       "      <td>NaN</td>\n",
       "      <td>NaN</td>\n",
       "      <td>NaN</td>\n",
       "      <td>NaN</td>\n",
       "      <td>NaN</td>\n",
       "      <td>NaN</td>\n",
       "      <td>NaN</td>\n",
       "    </tr>\n",
       "    <tr>\n",
       "      <th>2</th>\n",
       "      <td>8105</td>\n",
       "      <td>51</td>\n",
       "      <td>Mujer</td>\n",
       "      <td>Casado (sociedad conyugal)</td>\n",
       "      <td>más de 4</td>\n",
       "      <td>Ciudad de México</td>\n",
       "      <td>Empresario/Socio</td>\n",
       "      <td>Licenciatura</td>\n",
       "      <td>0</td>\n",
       "      <td>2022-05-18 20:06:57</td>\n",
       "      <td>...</td>\n",
       "      <td>NaN</td>\n",
       "      <td>NaN</td>\n",
       "      <td>NaN</td>\n",
       "      <td>NaN</td>\n",
       "      <td>NaN</td>\n",
       "      <td>NaN</td>\n",
       "      <td>NaN</td>\n",
       "      <td>NaN</td>\n",
       "      <td>NaN</td>\n",
       "      <td>NaN</td>\n",
       "    </tr>\n",
       "    <tr>\n",
       "      <th>3</th>\n",
       "      <td>9969</td>\n",
       "      <td>48</td>\n",
       "      <td>Hombre</td>\n",
       "      <td>Casado (bienes separados)</td>\n",
       "      <td>1</td>\n",
       "      <td>Ciudad de México</td>\n",
       "      <td>Profesionista independiente</td>\n",
       "      <td>Licenciatura</td>\n",
       "      <td>25</td>\n",
       "      <td>2024-01-15 15:11:58</td>\n",
       "      <td>...</td>\n",
       "      <td>NaN</td>\n",
       "      <td>NaN</td>\n",
       "      <td>NaN</td>\n",
       "      <td>NaN</td>\n",
       "      <td>NaN</td>\n",
       "      <td>NaN</td>\n",
       "      <td>NaN</td>\n",
       "      <td>NaN</td>\n",
       "      <td>NaN</td>\n",
       "      <td>NaN</td>\n",
       "    </tr>\n",
       "    <tr>\n",
       "      <th>4</th>\n",
       "      <td>12520</td>\n",
       "      <td>53</td>\n",
       "      <td>Hombre</td>\n",
       "      <td>Casado (bienes separados)</td>\n",
       "      <td>3</td>\n",
       "      <td>Baja California</td>\n",
       "      <td>Empleado</td>\n",
       "      <td>Maestría</td>\n",
       "      <td>79</td>\n",
       "      <td>2021-07-07 20:44:43</td>\n",
       "      <td>...</td>\n",
       "      <td>NaN</td>\n",
       "      <td>NaN</td>\n",
       "      <td>NaN</td>\n",
       "      <td>NaN</td>\n",
       "      <td>NaN</td>\n",
       "      <td>NaN</td>\n",
       "      <td>NaN</td>\n",
       "      <td>NaN</td>\n",
       "      <td>NaN</td>\n",
       "      <td>NaN</td>\n",
       "    </tr>\n",
       "  </tbody>\n",
       "</table>\n",
       "<p>5 rows × 52 columns</p>\n",
       "</div>"
      ],
      "text/plain": [
       "   prospectus_id  Edad  Genero                 EstadoCivil  \\\n",
       "0           3872    46  Hombre  Casado (sociedad conyugal)   \n",
       "1           7207    43  Hombre                     Soltero   \n",
       "2           8105    51   Mujer  Casado (sociedad conyugal)   \n",
       "3           9969    48  Hombre   Casado (bienes separados)   \n",
       "4          12520    53  Hombre   Casado (bienes separados)   \n",
       "\n",
       "  DependientesEconomicos            Estado           ActividadEconomica  \\\n",
       "0                      1  Ciudad de México                     Empleado   \n",
       "1                      0  Ciudad de México                     Empleado   \n",
       "2               más de 4  Ciudad de México             Empresario/Socio   \n",
       "3                      1  Ciudad de México  Profesionista independiente   \n",
       "4                      3   Baja California                     Empleado   \n",
       "\n",
       "  NivelEstudios  NumCaracteresSobreMi     consulting_date  ...  SaldoVen_sum  \\\n",
       "0  Bachillerato                    28 2021-09-06 15:19:27  ...           NaN   \n",
       "1      Maestría                   113 2021-10-14 13:45:49  ...           NaN   \n",
       "2  Licenciatura                     0 2022-05-18 20:06:57  ...           NaN   \n",
       "3  Licenciatura                    25 2024-01-15 15:11:58  ...           NaN   \n",
       "4      Maestría                    79 2021-07-07 20:44:43  ...           NaN   \n",
       "\n",
       "   SaldoVen_avg  Cuentas_saldoVen  Total_pagos_vencidos  Cuentas_1Atraso  \\\n",
       "0           NaN               NaN                   NaN              NaN   \n",
       "1           NaN               NaN                   NaN              NaN   \n",
       "2           NaN               NaN                   NaN              NaN   \n",
       "3           NaN               NaN                   NaN              NaN   \n",
       "4           NaN               NaN                   NaN              NaN   \n",
       "\n",
       "   Cuentas_buenas  Cuentas_cveObs  PeorAtraso_avg  PeorAtraso_sum  PeorMOP  \n",
       "0             NaN             NaN             NaN             NaN      NaN  \n",
       "1             NaN             NaN             NaN             NaN      NaN  \n",
       "2             NaN             NaN             NaN             NaN      NaN  \n",
       "3             NaN             NaN             NaN             NaN      NaN  \n",
       "4             NaN             NaN             NaN             NaN      NaN  \n",
       "\n",
       "[5 rows x 52 columns]"
      ]
     },
     "execution_count": 19,
     "metadata": {},
     "output_type": "execute_result"
    }
   ],
   "source": [
    "df.head(\n",
    "    \n",
    ")"
   ]
  },
  {
   "cell_type": "markdown",
   "id": "46ee124d",
   "metadata": {},
   "source": [
    "Eliminar registros después de Octubre 2023, ya que no cuentan con la madurez suficiente de acuerdo a lo encontrado en el EDA."
   ]
  },
  {
   "cell_type": "code",
   "execution_count": 21,
   "id": "630420cc",
   "metadata": {},
   "outputs": [],
   "source": [
    "# Definir la fecha límite\n",
    "#fecha_limite = pd.to_datetime('2023-10-01')\n",
    "\n",
    "# Eliminar los registros que sean posteriores a la fecha límite\n",
    "#df = df[df['consulting_date'] <= fecha_limite]\n"
   ]
  },
  {
   "cell_type": "code",
   "execution_count": 22,
   "id": "ed1de540",
   "metadata": {},
   "outputs": [
    {
     "data": {
      "text/plain": [
       "35197"
      ]
     },
     "execution_count": 22,
     "metadata": {},
     "output_type": "execute_result"
    }
   ],
   "source": [
    "len(df)"
   ]
  },
  {
   "cell_type": "markdown",
   "id": "33ff2599",
   "metadata": {},
   "source": [
    "Separar variables independientes (x) y dependientes (y)"
   ]
  },
  {
   "cell_type": "code",
   "execution_count": 24,
   "id": "e459b18d-6c2c-4b91-ab27-458ba105061c",
   "metadata": {},
   "outputs": [],
   "source": [
    "y = df['es_malo_actual']\n",
    "X = df.drop(['es_malo_actual'], axis=1)"
   ]
  },
  {
   "cell_type": "markdown",
   "id": "bbb5e60b",
   "metadata": {},
   "source": [
    "Eliminar columnas datetime y convertir categorias en dummy"
   ]
  },
  {
   "cell_type": "code",
   "execution_count": 26,
   "id": "40b53496-fcbf-4c3f-85e0-b173cfccd87e",
   "metadata": {},
   "outputs": [],
   "source": [
    "X = X.select_dtypes(exclude=['datetime64'])\n",
    "X = pd.get_dummies(X, drop_first=True)"
   ]
  },
  {
   "cell_type": "markdown",
   "id": "6726b65f",
   "metadata": {},
   "source": [
    "Escalar datos"
   ]
  },
  {
   "cell_type": "code",
   "execution_count": 28,
   "id": "6a15ddf3-fcbd-49eb-818b-f1b344832ad9",
   "metadata": {},
   "outputs": [],
   "source": [
    "scaler = StandardScaler()\n",
    "X_scaled = scaler.fit_transform(X)"
   ]
  },
  {
   "cell_type": "markdown",
   "id": "fcc2eba6",
   "metadata": {},
   "source": [
    "Separar conjuntos de entrenamiento (train) y prueba (test)"
   ]
  },
  {
   "cell_type": "code",
   "execution_count": 30,
   "id": "122c4371-c183-4f4d-8328-8073f786a8a2",
   "metadata": {},
   "outputs": [],
   "source": [
    "X_train, X_test, y_train, y_test = train_test_split(X_scaled, y, test_size=0.2, random_state=1234, shuffle=True)"
   ]
  },
  {
   "cell_type": "markdown",
   "id": "aab5c6a2",
   "metadata": {},
   "source": [
    "### Entrenamiento de modelos"
   ]
  },
  {
   "cell_type": "code",
   "execution_count": 32,
   "id": "0c054396-f694-4b76-b419-3a2eddfbd65c",
   "metadata": {},
   "outputs": [],
   "source": [
    "def evaluate_model(model, X_train, y_train, X_test, y_test):\n",
    "    model.fit(X_train, y_train)\n",
    "    y_pred = model.predict(X_test)\n",
    "    y_probs = model.predict_proba(X_test)[:, 1]\n",
    "    auc_score = roc_auc_score(y_test, y_probs)\n",
    "    acc_score = accuracy_score(y_test, y_pred)\n",
    "    class_report = classification_report(y_test, y_pred, zero_division=0)\n",
    "    conf_matrix = confusion_matrix(y_test, y_pred)\n",
    "    \n",
    "    print(f\"ROC-AUC Score: {auc_score}\")\n",
    "    print(f\"Accuracy Score: {acc_score}\")\n",
    "    print(\"Classification Report:\")\n",
    "    print(class_report)\n",
    "    \n",
    "    plt.figure(figsize=(10, 7))\n",
    "    sns.heatmap(conf_matrix, annot=True, fmt='d', cmap='Blues', xticklabels=['No Malo', 'Malo'], yticklabels=['No Malo', 'Malo'])\n",
    "    plt.xlabel('Predicted')\n",
    "    plt.ylabel('Actual')\n",
    "    plt.title('Confusion Matrix')\n",
    "    plt.show()\n",
    "    \n",
    "    return auc_score, acc_score"
   ]
  },
  {
   "cell_type": "markdown",
   "id": "0c7d1f3c",
   "metadata": {},
   "source": [
    "**Balanceo de clases**"
   ]
  },
  {
   "cell_type": "code",
   "execution_count": 34,
   "id": "575baa11",
   "metadata": {},
   "outputs": [
    {
     "name": "stdout",
     "output_type": "stream",
     "text": [
      "Distribución de clases antes del balanceo:\n",
      "es_malo_actual\n",
      "0    22510\n",
      "1     5647\n",
      "Name: count, dtype: int64\n"
     ]
    }
   ],
   "source": [
    "# Mostrar la distribución de clases antes del balanceo\n",
    "print(\"Distribución de clases antes del balanceo:\")\n",
    "print(pd.Series(y_train).value_counts())\n"
   ]
  },
  {
   "cell_type": "code",
   "execution_count": 35,
   "id": "8160f4f4",
   "metadata": {},
   "outputs": [],
   "source": [
    "# Aplicar el sobremuestreo aleatorio\n",
    "ros = RandomOverSampler(random_state=42)\n",
    "X_train, y_train = ros.fit_resample(X_train, y_train)"
   ]
  },
  {
   "cell_type": "code",
   "execution_count": 36,
   "id": "a3e342d2",
   "metadata": {},
   "outputs": [
    {
     "name": "stdout",
     "output_type": "stream",
     "text": [
      "\n",
      "Distribución de clases después del balanceo:\n",
      "es_malo_actual\n",
      "1    22510\n",
      "0    22510\n",
      "Name: count, dtype: int64\n"
     ]
    }
   ],
   "source": [
    "# Mostrar la distribución de clases después del balanceo\n",
    "print(\"\\nDistribución de clases después del balanceo:\")\n",
    "print(pd.Series(y_train).value_counts())"
   ]
  },
  {
   "cell_type": "markdown",
   "id": "c123769b",
   "metadata": {},
   "source": [
    "# Entrenar nuevos modelos desde aquí"
   ]
  },
  {
   "cell_type": "code",
   "execution_count": null,
   "id": "82909c70",
   "metadata": {},
   "outputs": [],
   "source": []
  },
  {
   "cell_type": "code",
   "execution_count": null,
   "id": "75368c02",
   "metadata": {},
   "outputs": [],
   "source": []
  },
  {
   "cell_type": "code",
   "execution_count": null,
   "id": "7aae999e",
   "metadata": {},
   "outputs": [],
   "source": []
  },
  {
   "cell_type": "code",
   "execution_count": null,
   "id": "b7a2a928",
   "metadata": {},
   "outputs": [],
   "source": []
  },
  {
   "cell_type": "markdown",
   "id": "f2721180",
   "metadata": {},
   "source": [
    "### **Mi entrenamiento anterior de XGBoost** \n",
    "\n",
    "### **Por lo que ahora, buscaremos optimizar sobre ese algoritmo.** \n",
    "\n",
    "Lo que proponemos es aplicar una optimización del mismo conocido como **XGBoost (eXtreme Gradient Boosting)**, este algoritmo a diferencia del Gradient Boosting simple, permite optimizar en distintos hiperparámetros buscando optimizaciones globales y no sólo locales, algunos de las principales diferencias que marcan un beneficio son: \n",
    "\n",
    "- Regularización: Permite aplicar regularización para evitar overfitting. \n",
    "- Computo paralelizado: Permite realizar computo por batches de información.\n",
    "- Se puede trabajar con información faltante (missing data)\n",
    "- Tree Prunning: Realizar optimización de los árboles para encontrar mínimos globales y no sólo locales. \n",
    "- Validación Cruzada desde el entrenamiento. \n"
   ]
  },
  {
   "cell_type": "markdown",
   "id": "783c9d94",
   "metadata": {},
   "source": [
    "#### Librerías a utilizar"
   ]
  },
  {
   "cell_type": "code",
   "execution_count": 40,
   "id": "6491c34a",
   "metadata": {},
   "outputs": [],
   "source": [
    "from sklearn.inspection import permutation_importance\n",
    "import xgboost as xgb\n",
    "from xgboost.sklearn import XGBClassifier\n",
    "from sklearn.metrics import confusion_matrix\n",
    "from sklearn.metrics import accuracy_score\n",
    "from sklearn.metrics import classification_report\n",
    "\n",
    "from sklearn.model_selection import KFold\n",
    "from sklearn.model_selection import cross_val_score\n",
    "\n",
    "import shap\n",
    "\n",
    "# import packages for hyperparameters tuning\n",
    "from hyperopt import STATUS_OK, Trials, fmin, hp, tpe\n",
    "from hyperopt.early_stop import no_progress_loss\n",
    "\n",
    "from sklearn.metrics import roc_curve\n",
    "from sklearn.metrics import roc_auc_score"
   ]
  },
  {
   "cell_type": "code",
   "execution_count": 41,
   "id": "2bd71db1",
   "metadata": {},
   "outputs": [],
   "source": [
    "from sklearn.metrics import precision_recall_curve\n",
    "#from sklearn.metrics import plot_precision_recall_curve\n",
    "from sklearn.metrics import precision_score\n",
    "from sklearn.metrics import f1_score\n",
    "from sklearn.metrics import recall_score\n"
   ]
  },
  {
   "cell_type": "markdown",
   "id": "0039eee5",
   "metadata": {},
   "source": [
    "Iniciamos el espacio de búscada con rangos para encontrar los mejores parámetros para el XGBoost"
   ]
  },
  {
   "cell_type": "code",
   "execution_count": 43,
   "id": "ac536e83",
   "metadata": {},
   "outputs": [],
   "source": [
    "space={ \n",
    "        'max_depth': hp.quniform(\"max_depth\", 3, 25, 1),\n",
    "        'gamma': hp.uniform ('gamma', 1,9),\n",
    "        'reg_alpha' : hp.quniform('reg_alpha', 40,180,1),\n",
    "        'reg_lambda' : hp.uniform('reg_lambda', 0,10),\n",
    "        'colsample_bytree' : hp.uniform('colsample_bytree', 0.5,1),\n",
    "        'min_child_weight' : hp.quniform('min_child_weight', 0, 15, 1),\n",
    "        'n_estimators': hp.quniform('n_estimators', 2500,15000,25), \n",
    "        'scale_pos_weight': hp.quniform('scale_pos_weight', 2,15,1), # Hiperparámetro de pesos para balance de clases\n",
    "        'seed': 0\n",
    "    }"
   ]
  },
  {
   "cell_type": "markdown",
   "id": "11628056",
   "metadata": {},
   "source": [
    "### Definir función objetivo para la optimización (minimización del -roc_auc)\n",
    "### Optimización bayesiana (tuneada de hiperparámetros)\n"
   ]
  },
  {
   "cell_type": "code",
   "execution_count": 45,
   "id": "b92099b3",
   "metadata": {},
   "outputs": [],
   "source": [
    "from sklearn.metrics import roc_curve\n",
    "from sklearn.metrics import roc_auc_score\n",
    "\n",
    "\n",
    "def objective(space):\n",
    "    clf=xgb.XGBClassifier(\n",
    "                    n_estimators =int(space['n_estimators']), \n",
    "                    max_depth = int(space['max_depth']), gamma = space['gamma'],\n",
    "                    reg_alpha = space['reg_alpha'],\n",
    "                    min_child_weight=int(space['min_child_weight']),\n",
    "                    scale_pos_weight=int(space['scale_pos_weight']),\n",
    "                    colsample_bytree=int(space['colsample_bytree']))\n",
    "    \n",
    "    evaluation = [( X_train, y_train), ( X_test, y_test)]\n",
    "    \n",
    "    clf.fit(X_train, y_train,\n",
    "            eval_set=evaluation, eval_metric=\"aucpr\",\n",
    "            early_stopping_rounds=10,verbose=False)\n",
    "    \n",
    "\n",
    "    pred = clf.predict(X_test)\n",
    "    accuracy = accuracy_score(y_test, pred>0.5)\n",
    "    ns_auc = roc_auc_score(y_test,  pred>0.5)\n",
    "    precision = precision_score(y_test,  pred)\n",
    "    recall = recall_score(y_test,  pred)\n",
    "    f1 = f1_score(y_test,  pred)\n",
    "    print (\"Accuracy:\", accuracy, \" ROC_AUC:\",ns_auc, \"precision:\", precision, \"f1:\",f1)\n",
    "    print (\"------------------------------------\")\n",
    "    return {'loss': -f1, 'status': STATUS_OK }"
   ]
  },
  {
   "cell_type": "markdown",
   "id": "f11d08d1",
   "metadata": {},
   "source": [
    "### Algoritmo de optimización\n",
    "\n",
    "Este proceso puede ser tardado.\n",
    "\n",
    "Eliminamos la impresión de los 500 resultados solicitados."
   ]
  },
  {
   "cell_type": "markdown",
   "id": "36e126d7",
   "metadata": {},
   "source": [
    "trials = Trials()\n",
    "\n",
    "best_hyperparams = fmin(fn = objective,\n",
    "                        space = space,\n",
    "                        algo = tpe.suggest,\n",
    "                        max_evals = 500,\n",
    "                        trials = trials,\n",
    "                        early_stop_fn = no_progress_loss(200))"
   ]
  },
  {
   "cell_type": "code",
   "execution_count": 48,
   "id": "e48122b7",
   "metadata": {},
   "outputs": [
    {
     "name": "stdout",
     "output_type": "stream",
     "text": [
      "  0%|                                                                          | 0/500 [00:00<?, ?trial/s, best loss=?]"
     ]
    },
    {
     "name": "stderr",
     "output_type": "stream",
     "text": [
      "D:\\ProgramData\\anaconda3\\Lib\\site-packages\\xgboost\\sklearn.py:889: UserWarning: `eval_metric` in `fit` method is deprecated for better compatibility with scikit-learn, use `eval_metric` in constructor or`set_params` instead.\n",
      "  warnings.warn(\n",
      "\n",
      "D:\\ProgramData\\anaconda3\\Lib\\site-packages\\xgboost\\sklearn.py:889: UserWarning: `early_stopping_rounds` in `fit` method is deprecated for better compatibility with scikit-learn, use `early_stopping_rounds` in constructor or`set_params` instead.\n",
      "  warnings.warn(\n",
      "\n"
     ]
    },
    {
     "name": "stdout",
     "output_type": "stream",
     "text": [
      "Accuracy:                                                                                                              \n",
      "0.20326704545454546                                                                                                    \n",
      " ROC_AUC:                                                                                                              \n",
      "0.5                                                                                                                    \n",
      "precision:                                                                                                             \n",
      "0.20326704545454546                                                                                                    \n",
      "f1:                                                                                                                    \n",
      "0.3378585763192067                                                                                                     \n",
      "------------------------------------                                                                                   \n",
      "  0%|                                               | 1/500 [00:00<02:57,  2.81trial/s, best loss: -0.3378585763192067]"
     ]
    },
    {
     "name": "stderr",
     "output_type": "stream",
     "text": [
      "D:\\ProgramData\\anaconda3\\Lib\\site-packages\\xgboost\\sklearn.py:889: UserWarning: `eval_metric` in `fit` method is deprecated for better compatibility with scikit-learn, use `eval_metric` in constructor or`set_params` instead.\n",
      "  warnings.warn(\n",
      "\n",
      "D:\\ProgramData\\anaconda3\\Lib\\site-packages\\xgboost\\sklearn.py:889: UserWarning: `early_stopping_rounds` in `fit` method is deprecated for better compatibility with scikit-learn, use `early_stopping_rounds` in constructor or`set_params` instead.\n",
      "  warnings.warn(\n",
      "\n"
     ]
    },
    {
     "name": "stdout",
     "output_type": "stream",
     "text": [
      "Accuracy:                                                                                                              \n",
      "0.20326704545454546                                                                                                    \n",
      " ROC_AUC:                                                                                                              \n",
      "0.5                                                                                                                    \n",
      "precision:                                                                                                             \n",
      "0.20326704545454546                                                                                                    \n",
      "f1:                                                                                                                    \n",
      "0.3378585763192067                                                                                                     \n",
      "------------------------------------                                                                                   \n",
      "  0%|▏                                              | 2/500 [00:00<03:14,  2.55trial/s, best loss: -0.3378585763192067]"
     ]
    },
    {
     "name": "stderr",
     "output_type": "stream",
     "text": [
      "D:\\ProgramData\\anaconda3\\Lib\\site-packages\\xgboost\\sklearn.py:889: UserWarning: `eval_metric` in `fit` method is deprecated for better compatibility with scikit-learn, use `eval_metric` in constructor or`set_params` instead.\n",
      "  warnings.warn(\n",
      "\n",
      "D:\\ProgramData\\anaconda3\\Lib\\site-packages\\xgboost\\sklearn.py:889: UserWarning: `early_stopping_rounds` in `fit` method is deprecated for better compatibility with scikit-learn, use `early_stopping_rounds` in constructor or`set_params` instead.\n",
      "  warnings.warn(\n",
      "\n"
     ]
    },
    {
     "name": "stdout",
     "output_type": "stream",
     "text": [
      "Accuracy:                                                                                                              \n",
      "0.20326704545454546                                                                                                    \n",
      " ROC_AUC:                                                                                                              \n",
      "0.5                                                                                                                    \n",
      "precision:                                                                                                             \n",
      "0.20326704545454546                                                                                                    \n",
      "f1:                                                                                                                    \n",
      "0.3378585763192067                                                                                                     \n",
      "------------------------------------                                                                                   \n",
      "  1%|▎                                              | 3/500 [00:01<02:49,  2.93trial/s, best loss: -0.3378585763192067]"
     ]
    },
    {
     "name": "stderr",
     "output_type": "stream",
     "text": [
      "D:\\ProgramData\\anaconda3\\Lib\\site-packages\\xgboost\\sklearn.py:889: UserWarning: `eval_metric` in `fit` method is deprecated for better compatibility with scikit-learn, use `eval_metric` in constructor or`set_params` instead.\n",
      "  warnings.warn(\n",
      "\n",
      "D:\\ProgramData\\anaconda3\\Lib\\site-packages\\xgboost\\sklearn.py:889: UserWarning: `early_stopping_rounds` in `fit` method is deprecated for better compatibility with scikit-learn, use `early_stopping_rounds` in constructor or`set_params` instead.\n",
      "  warnings.warn(\n",
      "\n"
     ]
    },
    {
     "name": "stdout",
     "output_type": "stream",
     "text": [
      "Accuracy:                                                                                                              \n",
      "0.20326704545454546                                                                                                    \n",
      " ROC_AUC:                                                                                                              \n",
      "0.5                                                                                                                    \n",
      "precision:                                                                                                             \n",
      "0.20326704545454546                                                                                                    \n",
      "f1:                                                                                                                    \n",
      "0.3378585763192067                                                                                                     \n",
      "------------------------------------                                                                                   \n",
      "  1%|▍                                              | 4/500 [00:01<02:39,  3.10trial/s, best loss: -0.3378585763192067]"
     ]
    },
    {
     "name": "stderr",
     "output_type": "stream",
     "text": [
      "D:\\ProgramData\\anaconda3\\Lib\\site-packages\\xgboost\\sklearn.py:889: UserWarning: `eval_metric` in `fit` method is deprecated for better compatibility with scikit-learn, use `eval_metric` in constructor or`set_params` instead.\n",
      "  warnings.warn(\n",
      "\n",
      "D:\\ProgramData\\anaconda3\\Lib\\site-packages\\xgboost\\sklearn.py:889: UserWarning: `early_stopping_rounds` in `fit` method is deprecated for better compatibility with scikit-learn, use `early_stopping_rounds` in constructor or`set_params` instead.\n",
      "  warnings.warn(\n",
      "\n"
     ]
    },
    {
     "name": "stdout",
     "output_type": "stream",
     "text": [
      "Accuracy:                                                                                                              \n",
      "0.20326704545454546                                                                                                    \n",
      " ROC_AUC:                                                                                                              \n",
      "0.5                                                                                                                    \n",
      "precision:                                                                                                             \n",
      "0.20326704545454546                                                                                                    \n",
      "f1:                                                                                                                    \n",
      "0.3378585763192067                                                                                                     \n",
      "------------------------------------                                                                                   \n",
      "  1%|▍                                              | 5/500 [00:01<02:31,  3.26trial/s, best loss: -0.3378585763192067]"
     ]
    },
    {
     "name": "stderr",
     "output_type": "stream",
     "text": [
      "D:\\ProgramData\\anaconda3\\Lib\\site-packages\\xgboost\\sklearn.py:889: UserWarning: `eval_metric` in `fit` method is deprecated for better compatibility with scikit-learn, use `eval_metric` in constructor or`set_params` instead.\n",
      "  warnings.warn(\n",
      "\n",
      "D:\\ProgramData\\anaconda3\\Lib\\site-packages\\xgboost\\sklearn.py:889: UserWarning: `early_stopping_rounds` in `fit` method is deprecated for better compatibility with scikit-learn, use `early_stopping_rounds` in constructor or`set_params` instead.\n",
      "  warnings.warn(\n",
      "\n"
     ]
    },
    {
     "name": "stdout",
     "output_type": "stream",
     "text": [
      "Accuracy:                                                                                                              \n",
      "0.20326704545454546                                                                                                    \n",
      " ROC_AUC:                                                                                                              \n",
      "0.5                                                                                                                    \n",
      "precision:                                                                                                             \n",
      "0.20326704545454546                                                                                                    \n",
      "f1:                                                                                                                    \n",
      "0.3378585763192067                                                                                                     \n",
      "------------------------------------                                                                                   \n",
      "  1%|▌                                              | 6/500 [00:01<02:27,  3.36trial/s, best loss: -0.3378585763192067]"
     ]
    },
    {
     "name": "stderr",
     "output_type": "stream",
     "text": [
      "D:\\ProgramData\\anaconda3\\Lib\\site-packages\\xgboost\\sklearn.py:889: UserWarning: `eval_metric` in `fit` method is deprecated for better compatibility with scikit-learn, use `eval_metric` in constructor or`set_params` instead.\n",
      "  warnings.warn(\n",
      "\n",
      "D:\\ProgramData\\anaconda3\\Lib\\site-packages\\xgboost\\sklearn.py:889: UserWarning: `early_stopping_rounds` in `fit` method is deprecated for better compatibility with scikit-learn, use `early_stopping_rounds` in constructor or`set_params` instead.\n",
      "  warnings.warn(\n",
      "\n"
     ]
    },
    {
     "name": "stdout",
     "output_type": "stream",
     "text": [
      "Accuracy:                                                                                                              \n",
      "0.20326704545454546                                                                                                    \n",
      " ROC_AUC:                                                                                                              \n",
      "0.5                                                                                                                    \n",
      "precision:                                                                                                             \n",
      "0.20326704545454546                                                                                                    \n",
      "f1:                                                                                                                    \n",
      "0.3378585763192067                                                                                                     \n",
      "------------------------------------                                                                                   \n",
      "  1%|▋                                              | 7/500 [00:02<02:49,  2.91trial/s, best loss: -0.3378585763192067]"
     ]
    },
    {
     "name": "stderr",
     "output_type": "stream",
     "text": [
      "D:\\ProgramData\\anaconda3\\Lib\\site-packages\\xgboost\\sklearn.py:889: UserWarning: `eval_metric` in `fit` method is deprecated for better compatibility with scikit-learn, use `eval_metric` in constructor or`set_params` instead.\n",
      "  warnings.warn(\n",
      "\n",
      "D:\\ProgramData\\anaconda3\\Lib\\site-packages\\xgboost\\sklearn.py:889: UserWarning: `early_stopping_rounds` in `fit` method is deprecated for better compatibility with scikit-learn, use `early_stopping_rounds` in constructor or`set_params` instead.\n",
      "  warnings.warn(\n",
      "\n"
     ]
    },
    {
     "name": "stdout",
     "output_type": "stream",
     "text": [
      "Accuracy:                                                                                                              \n",
      "0.20326704545454546                                                                                                    \n",
      " ROC_AUC:                                                                                                              \n",
      "0.5                                                                                                                    \n",
      "precision:                                                                                                             \n",
      "0.20326704545454546                                                                                                    \n",
      "f1:                                                                                                                    \n",
      "0.3378585763192067                                                                                                     \n",
      "------------------------------------                                                                                   \n",
      "  2%|▊                                              | 8/500 [00:02<02:38,  3.10trial/s, best loss: -0.3378585763192067]"
     ]
    },
    {
     "name": "stderr",
     "output_type": "stream",
     "text": [
      "D:\\ProgramData\\anaconda3\\Lib\\site-packages\\xgboost\\sklearn.py:889: UserWarning: `eval_metric` in `fit` method is deprecated for better compatibility with scikit-learn, use `eval_metric` in constructor or`set_params` instead.\n",
      "  warnings.warn(\n",
      "\n",
      "D:\\ProgramData\\anaconda3\\Lib\\site-packages\\xgboost\\sklearn.py:889: UserWarning: `early_stopping_rounds` in `fit` method is deprecated for better compatibility with scikit-learn, use `early_stopping_rounds` in constructor or`set_params` instead.\n",
      "  warnings.warn(\n",
      "\n"
     ]
    },
    {
     "name": "stdout",
     "output_type": "stream",
     "text": [
      "Accuracy:                                                                                                              \n",
      "0.20326704545454546                                                                                                    \n",
      " ROC_AUC:                                                                                                              \n",
      "0.5                                                                                                                    \n",
      "precision:                                                                                                             \n",
      "0.20326704545454546                                                                                                    \n",
      "f1:                                                                                                                    \n",
      "0.3378585763192067                                                                                                     \n",
      "------------------------------------                                                                                   \n",
      "  2%|▊                                              | 9/500 [00:02<02:31,  3.24trial/s, best loss: -0.3378585763192067]"
     ]
    },
    {
     "name": "stderr",
     "output_type": "stream",
     "text": [
      "D:\\ProgramData\\anaconda3\\Lib\\site-packages\\xgboost\\sklearn.py:889: UserWarning: `eval_metric` in `fit` method is deprecated for better compatibility with scikit-learn, use `eval_metric` in constructor or`set_params` instead.\n",
      "  warnings.warn(\n",
      "\n",
      "D:\\ProgramData\\anaconda3\\Lib\\site-packages\\xgboost\\sklearn.py:889: UserWarning: `early_stopping_rounds` in `fit` method is deprecated for better compatibility with scikit-learn, use `early_stopping_rounds` in constructor or`set_params` instead.\n",
      "  warnings.warn(\n",
      "\n"
     ]
    },
    {
     "name": "stdout",
     "output_type": "stream",
     "text": [
      "Accuracy:                                                                                                              \n",
      "0.20326704545454546                                                                                                    \n",
      " ROC_AUC:                                                                                                              \n",
      "0.5                                                                                                                    \n",
      "precision:                                                                                                             \n",
      "0.20326704545454546                                                                                                    \n",
      "f1:                                                                                                                    \n",
      "0.3378585763192067                                                                                                     \n",
      "------------------------------------                                                                                   \n",
      "  2%|▉                                             | 10/500 [00:03<02:26,  3.35trial/s, best loss: -0.3378585763192067]"
     ]
    },
    {
     "name": "stderr",
     "output_type": "stream",
     "text": [
      "D:\\ProgramData\\anaconda3\\Lib\\site-packages\\xgboost\\sklearn.py:889: UserWarning: `eval_metric` in `fit` method is deprecated for better compatibility with scikit-learn, use `eval_metric` in constructor or`set_params` instead.\n",
      "  warnings.warn(\n",
      "\n",
      "D:\\ProgramData\\anaconda3\\Lib\\site-packages\\xgboost\\sklearn.py:889: UserWarning: `early_stopping_rounds` in `fit` method is deprecated for better compatibility with scikit-learn, use `early_stopping_rounds` in constructor or`set_params` instead.\n",
      "  warnings.warn(\n",
      "\n"
     ]
    },
    {
     "name": "stdout",
     "output_type": "stream",
     "text": [
      "Accuracy:                                                                                                              \n",
      "0.20326704545454546                                                                                                    \n",
      " ROC_AUC:                                                                                                              \n",
      "0.5                                                                                                                    \n",
      "precision:                                                                                                             \n",
      "0.20326704545454546                                                                                                    \n",
      "f1:                                                                                                                    \n",
      "0.3378585763192067                                                                                                     \n",
      "------------------------------------                                                                                   \n",
      "  2%|█                                             | 11/500 [00:03<02:22,  3.43trial/s, best loss: -0.3378585763192067]"
     ]
    },
    {
     "name": "stderr",
     "output_type": "stream",
     "text": [
      "D:\\ProgramData\\anaconda3\\Lib\\site-packages\\xgboost\\sklearn.py:889: UserWarning: `eval_metric` in `fit` method is deprecated for better compatibility with scikit-learn, use `eval_metric` in constructor or`set_params` instead.\n",
      "  warnings.warn(\n",
      "\n",
      "D:\\ProgramData\\anaconda3\\Lib\\site-packages\\xgboost\\sklearn.py:889: UserWarning: `early_stopping_rounds` in `fit` method is deprecated for better compatibility with scikit-learn, use `early_stopping_rounds` in constructor or`set_params` instead.\n",
      "  warnings.warn(\n",
      "\n"
     ]
    },
    {
     "name": "stdout",
     "output_type": "stream",
     "text": [
      "Accuracy:                                                                                                              \n",
      "0.20326704545454546                                                                                                    \n",
      " ROC_AUC:                                                                                                              \n",
      "0.5                                                                                                                    \n",
      "precision:                                                                                                             \n",
      "0.20326704545454546                                                                                                    \n",
      "f1:                                                                                                                    \n",
      "0.3378585763192067                                                                                                     \n",
      "------------------------------------                                                                                   \n",
      "  2%|█                                             | 12/500 [00:03<02:19,  3.49trial/s, best loss: -0.3378585763192067]"
     ]
    },
    {
     "name": "stderr",
     "output_type": "stream",
     "text": [
      "D:\\ProgramData\\anaconda3\\Lib\\site-packages\\xgboost\\sklearn.py:889: UserWarning: `eval_metric` in `fit` method is deprecated for better compatibility with scikit-learn, use `eval_metric` in constructor or`set_params` instead.\n",
      "  warnings.warn(\n",
      "\n",
      "D:\\ProgramData\\anaconda3\\Lib\\site-packages\\xgboost\\sklearn.py:889: UserWarning: `early_stopping_rounds` in `fit` method is deprecated for better compatibility with scikit-learn, use `early_stopping_rounds` in constructor or`set_params` instead.\n",
      "  warnings.warn(\n",
      "\n"
     ]
    },
    {
     "name": "stdout",
     "output_type": "stream",
     "text": [
      "Accuracy:                                                                                                              \n",
      "0.20326704545454546                                                                                                    \n",
      " ROC_AUC:                                                                                                              \n",
      "0.5                                                                                                                    \n",
      "precision:                                                                                                             \n",
      "0.20326704545454546                                                                                                    \n",
      "f1:                                                                                                                    \n",
      "0.3378585763192067                                                                                                     \n",
      "------------------------------------                                                                                   \n",
      "  3%|█▏                                            | 13/500 [00:04<02:18,  3.52trial/s, best loss: -0.3378585763192067]"
     ]
    },
    {
     "name": "stderr",
     "output_type": "stream",
     "text": [
      "D:\\ProgramData\\anaconda3\\Lib\\site-packages\\xgboost\\sklearn.py:889: UserWarning: `eval_metric` in `fit` method is deprecated for better compatibility with scikit-learn, use `eval_metric` in constructor or`set_params` instead.\n",
      "  warnings.warn(\n",
      "\n",
      "D:\\ProgramData\\anaconda3\\Lib\\site-packages\\xgboost\\sklearn.py:889: UserWarning: `early_stopping_rounds` in `fit` method is deprecated for better compatibility with scikit-learn, use `early_stopping_rounds` in constructor or`set_params` instead.\n",
      "  warnings.warn(\n",
      "\n"
     ]
    },
    {
     "name": "stdout",
     "output_type": "stream",
     "text": [
      "Accuracy:                                                                                                              \n",
      "0.20326704545454546                                                                                                    \n",
      " ROC_AUC:                                                                                                              \n",
      "0.5                                                                                                                    \n",
      "precision:                                                                                                             \n",
      "0.20326704545454546                                                                                                    \n",
      "f1:                                                                                                                    \n",
      "0.3378585763192067                                                                                                     \n",
      "------------------------------------                                                                                   \n",
      "  3%|█▎                                            | 14/500 [00:04<02:51,  2.83trial/s, best loss: -0.3378585763192067]"
     ]
    },
    {
     "name": "stderr",
     "output_type": "stream",
     "text": [
      "D:\\ProgramData\\anaconda3\\Lib\\site-packages\\xgboost\\sklearn.py:889: UserWarning: `eval_metric` in `fit` method is deprecated for better compatibility with scikit-learn, use `eval_metric` in constructor or`set_params` instead.\n",
      "  warnings.warn(\n",
      "\n",
      "D:\\ProgramData\\anaconda3\\Lib\\site-packages\\xgboost\\sklearn.py:889: UserWarning: `early_stopping_rounds` in `fit` method is deprecated for better compatibility with scikit-learn, use `early_stopping_rounds` in constructor or`set_params` instead.\n",
      "  warnings.warn(\n",
      "\n"
     ]
    },
    {
     "name": "stdout",
     "output_type": "stream",
     "text": [
      "Accuracy:                                                                                                              \n",
      "0.20326704545454546                                                                                                    \n",
      " ROC_AUC:                                                                                                              \n",
      "0.5                                                                                                                    \n",
      "precision:                                                                                                             \n",
      "0.20326704545454546                                                                                                    \n",
      "f1:                                                                                                                    \n",
      "0.3378585763192067                                                                                                     \n",
      "------------------------------------                                                                                   \n",
      "  3%|█▍                                            | 15/500 [00:04<03:00,  2.69trial/s, best loss: -0.3378585763192067]"
     ]
    },
    {
     "name": "stderr",
     "output_type": "stream",
     "text": [
      "D:\\ProgramData\\anaconda3\\Lib\\site-packages\\xgboost\\sklearn.py:889: UserWarning: `eval_metric` in `fit` method is deprecated for better compatibility with scikit-learn, use `eval_metric` in constructor or`set_params` instead.\n",
      "  warnings.warn(\n",
      "\n",
      "D:\\ProgramData\\anaconda3\\Lib\\site-packages\\xgboost\\sklearn.py:889: UserWarning: `early_stopping_rounds` in `fit` method is deprecated for better compatibility with scikit-learn, use `early_stopping_rounds` in constructor or`set_params` instead.\n",
      "  warnings.warn(\n",
      "\n"
     ]
    },
    {
     "name": "stdout",
     "output_type": "stream",
     "text": [
      "Accuracy:                                                                                                              \n",
      "0.20326704545454546                                                                                                    \n",
      " ROC_AUC:                                                                                                              \n",
      "0.5                                                                                                                    \n",
      "precision:                                                                                                             \n",
      "0.20326704545454546                                                                                                    \n",
      "f1:                                                                                                                    \n",
      "0.3378585763192067                                                                                                     \n",
      "------------------------------------                                                                                   \n",
      "  3%|█▍                                            | 16/500 [00:05<03:07,  2.58trial/s, best loss: -0.3378585763192067]"
     ]
    },
    {
     "name": "stderr",
     "output_type": "stream",
     "text": [
      "D:\\ProgramData\\anaconda3\\Lib\\site-packages\\xgboost\\sklearn.py:889: UserWarning: `eval_metric` in `fit` method is deprecated for better compatibility with scikit-learn, use `eval_metric` in constructor or`set_params` instead.\n",
      "  warnings.warn(\n",
      "\n",
      "D:\\ProgramData\\anaconda3\\Lib\\site-packages\\xgboost\\sklearn.py:889: UserWarning: `early_stopping_rounds` in `fit` method is deprecated for better compatibility with scikit-learn, use `early_stopping_rounds` in constructor or`set_params` instead.\n",
      "  warnings.warn(\n",
      "\n"
     ]
    },
    {
     "name": "stdout",
     "output_type": "stream",
     "text": [
      "Accuracy:                                                                                                              \n",
      "0.20326704545454546                                                                                                    \n",
      " ROC_AUC:                                                                                                              \n",
      "0.5                                                                                                                    \n",
      "precision:                                                                                                             \n",
      "0.20326704545454546                                                                                                    \n",
      "f1:                                                                                                                    \n",
      "0.3378585763192067                                                                                                     \n",
      "------------------------------------                                                                                   \n",
      "  3%|█▌                                            | 17/500 [00:05<03:13,  2.50trial/s, best loss: -0.3378585763192067]"
     ]
    },
    {
     "name": "stderr",
     "output_type": "stream",
     "text": [
      "D:\\ProgramData\\anaconda3\\Lib\\site-packages\\xgboost\\sklearn.py:889: UserWarning: `eval_metric` in `fit` method is deprecated for better compatibility with scikit-learn, use `eval_metric` in constructor or`set_params` instead.\n",
      "  warnings.warn(\n",
      "\n",
      "D:\\ProgramData\\anaconda3\\Lib\\site-packages\\xgboost\\sklearn.py:889: UserWarning: `early_stopping_rounds` in `fit` method is deprecated for better compatibility with scikit-learn, use `early_stopping_rounds` in constructor or`set_params` instead.\n",
      "  warnings.warn(\n",
      "\n"
     ]
    },
    {
     "name": "stdout",
     "output_type": "stream",
     "text": [
      "Accuracy:                                                                                                              \n",
      "0.20326704545454546                                                                                                    \n",
      " ROC_AUC:                                                                                                              \n",
      "0.5                                                                                                                    \n",
      "precision:                                                                                                             \n",
      "0.20326704545454546                                                                                                    \n",
      "f1:                                                                                                                    \n",
      "0.3378585763192067                                                                                                     \n",
      "------------------------------------                                                                                   \n",
      "  4%|█▋                                            | 18/500 [00:06<03:35,  2.24trial/s, best loss: -0.3378585763192067]"
     ]
    },
    {
     "name": "stderr",
     "output_type": "stream",
     "text": [
      "D:\\ProgramData\\anaconda3\\Lib\\site-packages\\xgboost\\sklearn.py:889: UserWarning: `eval_metric` in `fit` method is deprecated for better compatibility with scikit-learn, use `eval_metric` in constructor or`set_params` instead.\n",
      "  warnings.warn(\n",
      "\n",
      "D:\\ProgramData\\anaconda3\\Lib\\site-packages\\xgboost\\sklearn.py:889: UserWarning: `early_stopping_rounds` in `fit` method is deprecated for better compatibility with scikit-learn, use `early_stopping_rounds` in constructor or`set_params` instead.\n",
      "  warnings.warn(\n",
      "\n"
     ]
    },
    {
     "name": "stdout",
     "output_type": "stream",
     "text": [
      "Accuracy:                                                                                                              \n",
      "0.20326704545454546                                                                                                    \n",
      " ROC_AUC:                                                                                                              \n",
      "0.5                                                                                                                    \n",
      "precision:                                                                                                             \n",
      "0.20326704545454546                                                                                                    \n",
      "f1:                                                                                                                    \n",
      "0.3378585763192067                                                                                                     \n",
      "------------------------------------                                                                                   \n",
      "  4%|█▋                                            | 19/500 [00:06<03:15,  2.46trial/s, best loss: -0.3378585763192067]"
     ]
    },
    {
     "name": "stderr",
     "output_type": "stream",
     "text": [
      "D:\\ProgramData\\anaconda3\\Lib\\site-packages\\xgboost\\sklearn.py:889: UserWarning: `eval_metric` in `fit` method is deprecated for better compatibility with scikit-learn, use `eval_metric` in constructor or`set_params` instead.\n",
      "  warnings.warn(\n",
      "\n",
      "D:\\ProgramData\\anaconda3\\Lib\\site-packages\\xgboost\\sklearn.py:889: UserWarning: `early_stopping_rounds` in `fit` method is deprecated for better compatibility with scikit-learn, use `early_stopping_rounds` in constructor or`set_params` instead.\n",
      "  warnings.warn(\n",
      "\n"
     ]
    },
    {
     "name": "stdout",
     "output_type": "stream",
     "text": [
      "Accuracy:                                                                                                              \n",
      "0.20326704545454546                                                                                                    \n",
      " ROC_AUC:                                                                                                              \n",
      "0.5                                                                                                                    \n",
      "precision:                                                                                                             \n",
      "0.20326704545454546                                                                                                    \n",
      "f1:                                                                                                                    \n",
      "0.3378585763192067                                                                                                     \n",
      "------------------------------------                                                                                   \n",
      "  4%|█▊                                            | 20/500 [00:06<02:56,  2.72trial/s, best loss: -0.3378585763192067]"
     ]
    },
    {
     "name": "stderr",
     "output_type": "stream",
     "text": [
      "D:\\ProgramData\\anaconda3\\Lib\\site-packages\\xgboost\\sklearn.py:889: UserWarning: `eval_metric` in `fit` method is deprecated for better compatibility with scikit-learn, use `eval_metric` in constructor or`set_params` instead.\n",
      "  warnings.warn(\n",
      "\n",
      "D:\\ProgramData\\anaconda3\\Lib\\site-packages\\xgboost\\sklearn.py:889: UserWarning: `early_stopping_rounds` in `fit` method is deprecated for better compatibility with scikit-learn, use `early_stopping_rounds` in constructor or`set_params` instead.\n",
      "  warnings.warn(\n",
      "\n"
     ]
    },
    {
     "name": "stdout",
     "output_type": "stream",
     "text": [
      "Accuracy:                                                                                                              \n",
      "0.20326704545454546                                                                                                    \n",
      " ROC_AUC:                                                                                                              \n",
      "0.5                                                                                                                    \n",
      "precision:                                                                                                             \n",
      "0.20326704545454546                                                                                                    \n",
      "f1:                                                                                                                    \n",
      "0.3378585763192067                                                                                                     \n",
      "------------------------------------                                                                                   \n",
      "  4%|█▉                                            | 21/500 [00:07<02:44,  2.92trial/s, best loss: -0.3378585763192067]"
     ]
    },
    {
     "name": "stderr",
     "output_type": "stream",
     "text": [
      "D:\\ProgramData\\anaconda3\\Lib\\site-packages\\xgboost\\sklearn.py:889: UserWarning: `eval_metric` in `fit` method is deprecated for better compatibility with scikit-learn, use `eval_metric` in constructor or`set_params` instead.\n",
      "  warnings.warn(\n",
      "\n",
      "D:\\ProgramData\\anaconda3\\Lib\\site-packages\\xgboost\\sklearn.py:889: UserWarning: `early_stopping_rounds` in `fit` method is deprecated for better compatibility with scikit-learn, use `early_stopping_rounds` in constructor or`set_params` instead.\n",
      "  warnings.warn(\n",
      "\n"
     ]
    },
    {
     "name": "stdout",
     "output_type": "stream",
     "text": [
      "Accuracy:                                                                                                              \n",
      "0.20326704545454546                                                                                                    \n",
      " ROC_AUC:                                                                                                              \n",
      "0.5                                                                                                                    \n",
      "precision:                                                                                                             \n",
      "0.20326704545454546                                                                                                    \n",
      "f1:                                                                                                                    \n",
      "0.3378585763192067                                                                                                     \n",
      "------------------------------------                                                                                   \n",
      "  4%|██                                            | 22/500 [00:07<02:36,  3.06trial/s, best loss: -0.3378585763192067]"
     ]
    },
    {
     "name": "stderr",
     "output_type": "stream",
     "text": [
      "D:\\ProgramData\\anaconda3\\Lib\\site-packages\\xgboost\\sklearn.py:889: UserWarning: `eval_metric` in `fit` method is deprecated for better compatibility with scikit-learn, use `eval_metric` in constructor or`set_params` instead.\n",
      "  warnings.warn(\n",
      "\n",
      "D:\\ProgramData\\anaconda3\\Lib\\site-packages\\xgboost\\sklearn.py:889: UserWarning: `early_stopping_rounds` in `fit` method is deprecated for better compatibility with scikit-learn, use `early_stopping_rounds` in constructor or`set_params` instead.\n",
      "  warnings.warn(\n",
      "\n"
     ]
    },
    {
     "name": "stdout",
     "output_type": "stream",
     "text": [
      "Accuracy:                                                                                                              \n",
      "0.20326704545454546                                                                                                    \n",
      " ROC_AUC:                                                                                                              \n",
      "0.5                                                                                                                    \n",
      "precision:                                                                                                             \n",
      "0.20326704545454546                                                                                                    \n",
      "f1:                                                                                                                    \n",
      "0.3378585763192067                                                                                                     \n",
      "------------------------------------                                                                                   \n",
      "  5%|██                                            | 23/500 [00:07<02:29,  3.20trial/s, best loss: -0.3378585763192067]"
     ]
    },
    {
     "name": "stderr",
     "output_type": "stream",
     "text": [
      "D:\\ProgramData\\anaconda3\\Lib\\site-packages\\xgboost\\sklearn.py:889: UserWarning: `eval_metric` in `fit` method is deprecated for better compatibility with scikit-learn, use `eval_metric` in constructor or`set_params` instead.\n",
      "  warnings.warn(\n",
      "\n",
      "D:\\ProgramData\\anaconda3\\Lib\\site-packages\\xgboost\\sklearn.py:889: UserWarning: `early_stopping_rounds` in `fit` method is deprecated for better compatibility with scikit-learn, use `early_stopping_rounds` in constructor or`set_params` instead.\n",
      "  warnings.warn(\n",
      "\n"
     ]
    },
    {
     "name": "stdout",
     "output_type": "stream",
     "text": [
      "Accuracy:                                                                                                              \n",
      "0.20326704545454546                                                                                                    \n",
      " ROC_AUC:                                                                                                              \n",
      "0.5                                                                                                                    \n",
      "precision:                                                                                                             \n",
      "0.20326704545454546                                                                                                    \n",
      "f1:                                                                                                                    \n",
      "0.3378585763192067                                                                                                     \n",
      "------------------------------------                                                                                   \n",
      "  5%|██▏                                           | 24/500 [00:08<02:24,  3.28trial/s, best loss: -0.3378585763192067]"
     ]
    },
    {
     "name": "stderr",
     "output_type": "stream",
     "text": [
      "D:\\ProgramData\\anaconda3\\Lib\\site-packages\\xgboost\\sklearn.py:889: UserWarning: `eval_metric` in `fit` method is deprecated for better compatibility with scikit-learn, use `eval_metric` in constructor or`set_params` instead.\n",
      "  warnings.warn(\n",
      "\n",
      "D:\\ProgramData\\anaconda3\\Lib\\site-packages\\xgboost\\sklearn.py:889: UserWarning: `early_stopping_rounds` in `fit` method is deprecated for better compatibility with scikit-learn, use `early_stopping_rounds` in constructor or`set_params` instead.\n",
      "  warnings.warn(\n",
      "\n"
     ]
    },
    {
     "name": "stdout",
     "output_type": "stream",
     "text": [
      "Accuracy:                                                                                                              \n",
      "0.20326704545454546                                                                                                    \n",
      " ROC_AUC:                                                                                                              \n",
      "0.5                                                                                                                    \n",
      "precision:                                                                                                             \n",
      "0.20326704545454546                                                                                                    \n",
      "f1:                                                                                                                    \n",
      "0.3378585763192067                                                                                                     \n",
      "------------------------------------                                                                                   \n",
      "  5%|██▎                                           | 25/500 [00:08<02:23,  3.31trial/s, best loss: -0.3378585763192067]"
     ]
    },
    {
     "name": "stderr",
     "output_type": "stream",
     "text": [
      "D:\\ProgramData\\anaconda3\\Lib\\site-packages\\xgboost\\sklearn.py:889: UserWarning: `eval_metric` in `fit` method is deprecated for better compatibility with scikit-learn, use `eval_metric` in constructor or`set_params` instead.\n",
      "  warnings.warn(\n",
      "\n",
      "D:\\ProgramData\\anaconda3\\Lib\\site-packages\\xgboost\\sklearn.py:889: UserWarning: `early_stopping_rounds` in `fit` method is deprecated for better compatibility with scikit-learn, use `early_stopping_rounds` in constructor or`set_params` instead.\n",
      "  warnings.warn(\n",
      "\n"
     ]
    },
    {
     "name": "stdout",
     "output_type": "stream",
     "text": [
      "Accuracy:                                                                                                              \n",
      "0.20326704545454546                                                                                                    \n",
      " ROC_AUC:                                                                                                              \n",
      "0.5                                                                                                                    \n",
      "precision:                                                                                                             \n",
      "0.20326704545454546                                                                                                    \n",
      "f1:                                                                                                                    \n",
      "0.3378585763192067                                                                                                     \n",
      "------------------------------------                                                                                   \n",
      "  5%|██▍                                           | 26/500 [00:08<02:20,  3.38trial/s, best loss: -0.3378585763192067]"
     ]
    },
    {
     "name": "stderr",
     "output_type": "stream",
     "text": [
      "D:\\ProgramData\\anaconda3\\Lib\\site-packages\\xgboost\\sklearn.py:889: UserWarning: `eval_metric` in `fit` method is deprecated for better compatibility with scikit-learn, use `eval_metric` in constructor or`set_params` instead.\n",
      "  warnings.warn(\n",
      "\n",
      "D:\\ProgramData\\anaconda3\\Lib\\site-packages\\xgboost\\sklearn.py:889: UserWarning: `early_stopping_rounds` in `fit` method is deprecated for better compatibility with scikit-learn, use `early_stopping_rounds` in constructor or`set_params` instead.\n",
      "  warnings.warn(\n",
      "\n"
     ]
    },
    {
     "name": "stdout",
     "output_type": "stream",
     "text": [
      "Accuracy:                                                                                                              \n",
      "0.20326704545454546                                                                                                    \n",
      " ROC_AUC:                                                                                                              \n",
      "0.5                                                                                                                    \n",
      "precision:                                                                                                             \n",
      "0.20326704545454546                                                                                                    \n",
      "f1:                                                                                                                    \n",
      "0.3378585763192067                                                                                                     \n",
      "------------------------------------                                                                                   \n",
      "  5%|██▍                                           | 27/500 [00:08<02:17,  3.44trial/s, best loss: -0.3378585763192067]"
     ]
    },
    {
     "name": "stderr",
     "output_type": "stream",
     "text": [
      "D:\\ProgramData\\anaconda3\\Lib\\site-packages\\xgboost\\sklearn.py:889: UserWarning: `eval_metric` in `fit` method is deprecated for better compatibility with scikit-learn, use `eval_metric` in constructor or`set_params` instead.\n",
      "  warnings.warn(\n",
      "\n",
      "D:\\ProgramData\\anaconda3\\Lib\\site-packages\\xgboost\\sklearn.py:889: UserWarning: `early_stopping_rounds` in `fit` method is deprecated for better compatibility with scikit-learn, use `early_stopping_rounds` in constructor or`set_params` instead.\n",
      "  warnings.warn(\n",
      "\n"
     ]
    },
    {
     "name": "stdout",
     "output_type": "stream",
     "text": [
      "Accuracy:                                                                                                              \n",
      "0.20326704545454546                                                                                                    \n",
      " ROC_AUC:                                                                                                              \n",
      "0.5                                                                                                                    \n",
      "precision:                                                                                                             \n",
      "0.20326704545454546                                                                                                    \n",
      "f1:                                                                                                                    \n",
      "0.3378585763192067                                                                                                     \n",
      "------------------------------------                                                                                   \n",
      "  6%|██▌                                           | 28/500 [00:09<02:16,  3.46trial/s, best loss: -0.3378585763192067]"
     ]
    },
    {
     "name": "stderr",
     "output_type": "stream",
     "text": [
      "D:\\ProgramData\\anaconda3\\Lib\\site-packages\\xgboost\\sklearn.py:889: UserWarning: `eval_metric` in `fit` method is deprecated for better compatibility with scikit-learn, use `eval_metric` in constructor or`set_params` instead.\n",
      "  warnings.warn(\n",
      "\n",
      "D:\\ProgramData\\anaconda3\\Lib\\site-packages\\xgboost\\sklearn.py:889: UserWarning: `early_stopping_rounds` in `fit` method is deprecated for better compatibility with scikit-learn, use `early_stopping_rounds` in constructor or`set_params` instead.\n",
      "  warnings.warn(\n",
      "\n"
     ]
    },
    {
     "name": "stdout",
     "output_type": "stream",
     "text": [
      "Accuracy:                                                                                                              \n",
      "0.20326704545454546                                                                                                    \n",
      " ROC_AUC:                                                                                                              \n",
      "0.5                                                                                                                    \n",
      "precision:                                                                                                             \n",
      "0.20326704545454546                                                                                                    \n",
      "f1:                                                                                                                    \n",
      "0.3378585763192067                                                                                                     \n",
      "------------------------------------                                                                                   \n",
      "  6%|██▋                                           | 29/500 [00:09<02:15,  3.49trial/s, best loss: -0.3378585763192067]"
     ]
    },
    {
     "name": "stderr",
     "output_type": "stream",
     "text": [
      "D:\\ProgramData\\anaconda3\\Lib\\site-packages\\xgboost\\sklearn.py:889: UserWarning: `eval_metric` in `fit` method is deprecated for better compatibility with scikit-learn, use `eval_metric` in constructor or`set_params` instead.\n",
      "  warnings.warn(\n",
      "\n",
      "D:\\ProgramData\\anaconda3\\Lib\\site-packages\\xgboost\\sklearn.py:889: UserWarning: `early_stopping_rounds` in `fit` method is deprecated for better compatibility with scikit-learn, use `early_stopping_rounds` in constructor or`set_params` instead.\n",
      "  warnings.warn(\n",
      "\n"
     ]
    },
    {
     "name": "stdout",
     "output_type": "stream",
     "text": [
      "Accuracy:                                                                                                              \n",
      "0.20326704545454546                                                                                                    \n",
      " ROC_AUC:                                                                                                              \n",
      "0.5                                                                                                                    \n",
      "precision:                                                                                                             \n",
      "0.20326704545454546                                                                                                    \n",
      "f1:                                                                                                                    \n",
      "0.3378585763192067                                                                                                     \n",
      "------------------------------------                                                                                   \n",
      "  6%|██▊                                           | 30/500 [00:09<02:13,  3.51trial/s, best loss: -0.3378585763192067]"
     ]
    },
    {
     "name": "stderr",
     "output_type": "stream",
     "text": [
      "D:\\ProgramData\\anaconda3\\Lib\\site-packages\\xgboost\\sklearn.py:889: UserWarning: `eval_metric` in `fit` method is deprecated for better compatibility with scikit-learn, use `eval_metric` in constructor or`set_params` instead.\n",
      "  warnings.warn(\n",
      "\n",
      "D:\\ProgramData\\anaconda3\\Lib\\site-packages\\xgboost\\sklearn.py:889: UserWarning: `early_stopping_rounds` in `fit` method is deprecated for better compatibility with scikit-learn, use `early_stopping_rounds` in constructor or`set_params` instead.\n",
      "  warnings.warn(\n",
      "\n"
     ]
    },
    {
     "name": "stdout",
     "output_type": "stream",
     "text": [
      "Accuracy:                                                                                                              \n",
      "0.20326704545454546                                                                                                    \n",
      " ROC_AUC:                                                                                                              \n",
      "0.5                                                                                                                    \n",
      "precision:                                                                                                             \n",
      "0.20326704545454546                                                                                                    \n",
      "f1:                                                                                                                    \n",
      "0.3378585763192067                                                                                                     \n",
      "------------------------------------                                                                                   \n",
      "  6%|██▊                                           | 31/500 [00:10<02:13,  3.53trial/s, best loss: -0.3378585763192067]"
     ]
    },
    {
     "name": "stderr",
     "output_type": "stream",
     "text": [
      "D:\\ProgramData\\anaconda3\\Lib\\site-packages\\xgboost\\sklearn.py:889: UserWarning: `eval_metric` in `fit` method is deprecated for better compatibility with scikit-learn, use `eval_metric` in constructor or`set_params` instead.\n",
      "  warnings.warn(\n",
      "\n",
      "D:\\ProgramData\\anaconda3\\Lib\\site-packages\\xgboost\\sklearn.py:889: UserWarning: `early_stopping_rounds` in `fit` method is deprecated for better compatibility with scikit-learn, use `early_stopping_rounds` in constructor or`set_params` instead.\n",
      "  warnings.warn(\n",
      "\n"
     ]
    },
    {
     "name": "stdout",
     "output_type": "stream",
     "text": [
      "Accuracy:                                                                                                              \n",
      "0.20326704545454546                                                                                                    \n",
      " ROC_AUC:                                                                                                              \n",
      "0.5                                                                                                                    \n",
      "precision:                                                                                                             \n",
      "0.20326704545454546                                                                                                    \n",
      "f1:                                                                                                                    \n",
      "0.3378585763192067                                                                                                     \n",
      "------------------------------------                                                                                   \n",
      "  6%|██▉                                           | 32/500 [00:10<02:13,  3.52trial/s, best loss: -0.3378585763192067]"
     ]
    },
    {
     "name": "stderr",
     "output_type": "stream",
     "text": [
      "D:\\ProgramData\\anaconda3\\Lib\\site-packages\\xgboost\\sklearn.py:889: UserWarning: `eval_metric` in `fit` method is deprecated for better compatibility with scikit-learn, use `eval_metric` in constructor or`set_params` instead.\n",
      "  warnings.warn(\n",
      "\n",
      "D:\\ProgramData\\anaconda3\\Lib\\site-packages\\xgboost\\sklearn.py:889: UserWarning: `early_stopping_rounds` in `fit` method is deprecated for better compatibility with scikit-learn, use `early_stopping_rounds` in constructor or`set_params` instead.\n",
      "  warnings.warn(\n",
      "\n"
     ]
    },
    {
     "name": "stdout",
     "output_type": "stream",
     "text": [
      "Accuracy:                                                                                                              \n",
      "0.20326704545454546                                                                                                    \n",
      " ROC_AUC:                                                                                                              \n",
      "0.5                                                                                                                    \n",
      "precision:                                                                                                             \n",
      "0.20326704545454546                                                                                                    \n",
      "f1:                                                                                                                    \n",
      "0.3378585763192067                                                                                                     \n",
      "------------------------------------                                                                                   \n",
      "  7%|███                                           | 33/500 [00:10<02:34,  3.03trial/s, best loss: -0.3378585763192067]"
     ]
    },
    {
     "name": "stderr",
     "output_type": "stream",
     "text": [
      "D:\\ProgramData\\anaconda3\\Lib\\site-packages\\xgboost\\sklearn.py:889: UserWarning: `eval_metric` in `fit` method is deprecated for better compatibility with scikit-learn, use `eval_metric` in constructor or`set_params` instead.\n",
      "  warnings.warn(\n",
      "\n",
      "D:\\ProgramData\\anaconda3\\Lib\\site-packages\\xgboost\\sklearn.py:889: UserWarning: `early_stopping_rounds` in `fit` method is deprecated for better compatibility with scikit-learn, use `early_stopping_rounds` in constructor or`set_params` instead.\n",
      "  warnings.warn(\n",
      "\n"
     ]
    },
    {
     "name": "stdout",
     "output_type": "stream",
     "text": [
      "Accuracy:                                                                                                              \n",
      "0.20326704545454546                                                                                                    \n",
      " ROC_AUC:                                                                                                              \n",
      "0.5                                                                                                                    \n",
      "precision:                                                                                                             \n",
      "0.20326704545454546                                                                                                    \n",
      "f1:                                                                                                                    \n",
      "0.3378585763192067                                                                                                     \n",
      "------------------------------------                                                                                   \n",
      "  7%|███▏                                          | 34/500 [00:11<02:38,  2.94trial/s, best loss: -0.3378585763192067]"
     ]
    },
    {
     "name": "stderr",
     "output_type": "stream",
     "text": [
      "D:\\ProgramData\\anaconda3\\Lib\\site-packages\\xgboost\\sklearn.py:889: UserWarning: `eval_metric` in `fit` method is deprecated for better compatibility with scikit-learn, use `eval_metric` in constructor or`set_params` instead.\n",
      "  warnings.warn(\n",
      "\n",
      "D:\\ProgramData\\anaconda3\\Lib\\site-packages\\xgboost\\sklearn.py:889: UserWarning: `early_stopping_rounds` in `fit` method is deprecated for better compatibility with scikit-learn, use `early_stopping_rounds` in constructor or`set_params` instead.\n",
      "  warnings.warn(\n",
      "\n"
     ]
    },
    {
     "name": "stdout",
     "output_type": "stream",
     "text": [
      "Accuracy:                                                                                                              \n",
      "0.20326704545454546                                                                                                    \n",
      " ROC_AUC:                                                                                                              \n",
      "0.5                                                                                                                    \n",
      "precision:                                                                                                             \n",
      "0.20326704545454546                                                                                                    \n",
      "f1:                                                                                                                    \n",
      "0.3378585763192067                                                                                                     \n",
      "------------------------------------                                                                                   \n",
      "  7%|███▏                                          | 35/500 [00:11<02:30,  3.09trial/s, best loss: -0.3378585763192067]"
     ]
    },
    {
     "name": "stderr",
     "output_type": "stream",
     "text": [
      "D:\\ProgramData\\anaconda3\\Lib\\site-packages\\xgboost\\sklearn.py:889: UserWarning: `eval_metric` in `fit` method is deprecated for better compatibility with scikit-learn, use `eval_metric` in constructor or`set_params` instead.\n",
      "  warnings.warn(\n",
      "\n",
      "D:\\ProgramData\\anaconda3\\Lib\\site-packages\\xgboost\\sklearn.py:889: UserWarning: `early_stopping_rounds` in `fit` method is deprecated for better compatibility with scikit-learn, use `early_stopping_rounds` in constructor or`set_params` instead.\n",
      "  warnings.warn(\n",
      "\n"
     ]
    },
    {
     "name": "stdout",
     "output_type": "stream",
     "text": [
      "Accuracy:                                                                                                              \n",
      "0.20326704545454546                                                                                                    \n",
      " ROC_AUC:                                                                                                              \n",
      "0.5                                                                                                                    \n",
      "precision:                                                                                                             \n",
      "0.20326704545454546                                                                                                    \n",
      "f1:                                                                                                                    \n",
      "0.3378585763192067                                                                                                     \n",
      "------------------------------------                                                                                   \n",
      "  7%|███▎                                          | 36/500 [00:11<02:27,  3.16trial/s, best loss: -0.3378585763192067]"
     ]
    },
    {
     "name": "stderr",
     "output_type": "stream",
     "text": [
      "D:\\ProgramData\\anaconda3\\Lib\\site-packages\\xgboost\\sklearn.py:889: UserWarning: `eval_metric` in `fit` method is deprecated for better compatibility with scikit-learn, use `eval_metric` in constructor or`set_params` instead.\n",
      "  warnings.warn(\n",
      "\n",
      "D:\\ProgramData\\anaconda3\\Lib\\site-packages\\xgboost\\sklearn.py:889: UserWarning: `early_stopping_rounds` in `fit` method is deprecated for better compatibility with scikit-learn, use `early_stopping_rounds` in constructor or`set_params` instead.\n",
      "  warnings.warn(\n",
      "\n"
     ]
    },
    {
     "name": "stdout",
     "output_type": "stream",
     "text": [
      "Accuracy:                                                                                                              \n",
      "0.20326704545454546                                                                                                    \n",
      " ROC_AUC:                                                                                                              \n",
      "0.5                                                                                                                    \n",
      "precision:                                                                                                             \n",
      "0.20326704545454546                                                                                                    \n",
      "f1:                                                                                                                    \n",
      "0.3378585763192067                                                                                                     \n",
      "------------------------------------                                                                                   \n",
      "  7%|███▍                                          | 37/500 [00:12<02:35,  2.98trial/s, best loss: -0.3378585763192067]"
     ]
    },
    {
     "name": "stderr",
     "output_type": "stream",
     "text": [
      "D:\\ProgramData\\anaconda3\\Lib\\site-packages\\xgboost\\sklearn.py:889: UserWarning: `eval_metric` in `fit` method is deprecated for better compatibility with scikit-learn, use `eval_metric` in constructor or`set_params` instead.\n",
      "  warnings.warn(\n",
      "\n",
      "D:\\ProgramData\\anaconda3\\Lib\\site-packages\\xgboost\\sklearn.py:889: UserWarning: `early_stopping_rounds` in `fit` method is deprecated for better compatibility with scikit-learn, use `early_stopping_rounds` in constructor or`set_params` instead.\n",
      "  warnings.warn(\n",
      "\n"
     ]
    },
    {
     "name": "stdout",
     "output_type": "stream",
     "text": [
      "Accuracy:                                                                                                              \n",
      "0.20326704545454546                                                                                                    \n",
      " ROC_AUC:                                                                                                              \n",
      "0.5                                                                                                                    \n",
      "precision:                                                                                                             \n",
      "0.20326704545454546                                                                                                    \n",
      "f1:                                                                                                                    \n",
      "0.3378585763192067                                                                                                     \n",
      "------------------------------------                                                                                   \n",
      "  8%|███▍                                          | 38/500 [00:12<02:42,  2.85trial/s, best loss: -0.3378585763192067]"
     ]
    },
    {
     "name": "stderr",
     "output_type": "stream",
     "text": [
      "D:\\ProgramData\\anaconda3\\Lib\\site-packages\\xgboost\\sklearn.py:889: UserWarning: `eval_metric` in `fit` method is deprecated for better compatibility with scikit-learn, use `eval_metric` in constructor or`set_params` instead.\n",
      "  warnings.warn(\n",
      "\n",
      "D:\\ProgramData\\anaconda3\\Lib\\site-packages\\xgboost\\sklearn.py:889: UserWarning: `early_stopping_rounds` in `fit` method is deprecated for better compatibility with scikit-learn, use `early_stopping_rounds` in constructor or`set_params` instead.\n",
      "  warnings.warn(\n",
      "\n"
     ]
    },
    {
     "name": "stdout",
     "output_type": "stream",
     "text": [
      "Accuracy:                                                                                                              \n",
      "0.20326704545454546                                                                                                    \n",
      " ROC_AUC:                                                                                                              \n",
      "0.5                                                                                                                    \n",
      "precision:                                                                                                             \n",
      "0.20326704545454546                                                                                                    \n",
      "f1:                                                                                                                    \n",
      "0.3378585763192067                                                                                                     \n",
      "------------------------------------                                                                                   \n",
      "  8%|███▌                                          | 39/500 [00:13<03:11,  2.40trial/s, best loss: -0.3378585763192067]"
     ]
    },
    {
     "name": "stderr",
     "output_type": "stream",
     "text": [
      "D:\\ProgramData\\anaconda3\\Lib\\site-packages\\xgboost\\sklearn.py:889: UserWarning: `eval_metric` in `fit` method is deprecated for better compatibility with scikit-learn, use `eval_metric` in constructor or`set_params` instead.\n",
      "  warnings.warn(\n",
      "\n",
      "D:\\ProgramData\\anaconda3\\Lib\\site-packages\\xgboost\\sklearn.py:889: UserWarning: `early_stopping_rounds` in `fit` method is deprecated for better compatibility with scikit-learn, use `early_stopping_rounds` in constructor or`set_params` instead.\n",
      "  warnings.warn(\n",
      "\n"
     ]
    },
    {
     "name": "stdout",
     "output_type": "stream",
     "text": [
      "Accuracy:                                                                                                              \n",
      "0.20326704545454546                                                                                                    \n",
      " ROC_AUC:                                                                                                              \n",
      "0.5                                                                                                                    \n",
      "precision:                                                                                                             \n",
      "0.20326704545454546                                                                                                    \n",
      "f1:                                                                                                                    \n",
      "0.3378585763192067                                                                                                     \n",
      "------------------------------------                                                                                   \n",
      "  8%|███▋                                          | 40/500 [00:13<03:05,  2.48trial/s, best loss: -0.3378585763192067]"
     ]
    },
    {
     "name": "stderr",
     "output_type": "stream",
     "text": [
      "D:\\ProgramData\\anaconda3\\Lib\\site-packages\\xgboost\\sklearn.py:889: UserWarning: `eval_metric` in `fit` method is deprecated for better compatibility with scikit-learn, use `eval_metric` in constructor or`set_params` instead.\n",
      "  warnings.warn(\n",
      "\n",
      "D:\\ProgramData\\anaconda3\\Lib\\site-packages\\xgboost\\sklearn.py:889: UserWarning: `early_stopping_rounds` in `fit` method is deprecated for better compatibility with scikit-learn, use `early_stopping_rounds` in constructor or`set_params` instead.\n",
      "  warnings.warn(\n",
      "\n"
     ]
    },
    {
     "name": "stdout",
     "output_type": "stream",
     "text": [
      "Accuracy:                                                                                                              \n",
      "0.20326704545454546                                                                                                    \n",
      " ROC_AUC:                                                                                                              \n",
      "0.5                                                                                                                    \n",
      "precision:                                                                                                             \n",
      "0.20326704545454546                                                                                                    \n",
      "f1:                                                                                                                    \n",
      "0.3378585763192067                                                                                                     \n",
      "------------------------------------                                                                                   \n",
      "  8%|███▊                                          | 41/500 [00:13<03:02,  2.51trial/s, best loss: -0.3378585763192067]"
     ]
    },
    {
     "name": "stderr",
     "output_type": "stream",
     "text": [
      "D:\\ProgramData\\anaconda3\\Lib\\site-packages\\xgboost\\sklearn.py:889: UserWarning: `eval_metric` in `fit` method is deprecated for better compatibility with scikit-learn, use `eval_metric` in constructor or`set_params` instead.\n",
      "  warnings.warn(\n",
      "\n",
      "D:\\ProgramData\\anaconda3\\Lib\\site-packages\\xgboost\\sklearn.py:889: UserWarning: `early_stopping_rounds` in `fit` method is deprecated for better compatibility with scikit-learn, use `early_stopping_rounds` in constructor or`set_params` instead.\n",
      "  warnings.warn(\n",
      "\n"
     ]
    },
    {
     "name": "stdout",
     "output_type": "stream",
     "text": [
      "Accuracy:                                                                                                              \n",
      "0.20326704545454546                                                                                                    \n",
      " ROC_AUC:                                                                                                              \n",
      "0.5                                                                                                                    \n",
      "precision:                                                                                                             \n",
      "0.20326704545454546                                                                                                    \n",
      "f1:                                                                                                                    \n",
      "0.3378585763192067                                                                                                     \n",
      "------------------------------------                                                                                   \n",
      "  8%|███▊                                          | 42/500 [00:14<03:03,  2.49trial/s, best loss: -0.3378585763192067]"
     ]
    },
    {
     "name": "stderr",
     "output_type": "stream",
     "text": [
      "D:\\ProgramData\\anaconda3\\Lib\\site-packages\\xgboost\\sklearn.py:889: UserWarning: `eval_metric` in `fit` method is deprecated for better compatibility with scikit-learn, use `eval_metric` in constructor or`set_params` instead.\n",
      "  warnings.warn(\n",
      "\n",
      "D:\\ProgramData\\anaconda3\\Lib\\site-packages\\xgboost\\sklearn.py:889: UserWarning: `early_stopping_rounds` in `fit` method is deprecated for better compatibility with scikit-learn, use `early_stopping_rounds` in constructor or`set_params` instead.\n",
      "  warnings.warn(\n",
      "\n"
     ]
    },
    {
     "name": "stdout",
     "output_type": "stream",
     "text": [
      "Accuracy:                                                                                                              \n",
      "0.20326704545454546                                                                                                    \n",
      " ROC_AUC:                                                                                                              \n",
      "0.5                                                                                                                    \n",
      "precision:                                                                                                             \n",
      "0.20326704545454546                                                                                                    \n",
      "f1:                                                                                                                    \n",
      "0.3378585763192067                                                                                                     \n",
      "------------------------------------                                                                                   \n",
      "  9%|███▉                                          | 43/500 [00:14<02:59,  2.55trial/s, best loss: -0.3378585763192067]"
     ]
    },
    {
     "name": "stderr",
     "output_type": "stream",
     "text": [
      "D:\\ProgramData\\anaconda3\\Lib\\site-packages\\xgboost\\sklearn.py:889: UserWarning: `eval_metric` in `fit` method is deprecated for better compatibility with scikit-learn, use `eval_metric` in constructor or`set_params` instead.\n",
      "  warnings.warn(\n",
      "\n",
      "D:\\ProgramData\\anaconda3\\Lib\\site-packages\\xgboost\\sklearn.py:889: UserWarning: `early_stopping_rounds` in `fit` method is deprecated for better compatibility with scikit-learn, use `early_stopping_rounds` in constructor or`set_params` instead.\n",
      "  warnings.warn(\n",
      "\n"
     ]
    },
    {
     "name": "stdout",
     "output_type": "stream",
     "text": [
      "Accuracy:                                                                                                              \n",
      "0.20326704545454546                                                                                                    \n",
      " ROC_AUC:                                                                                                              \n",
      "0.5                                                                                                                    \n",
      "precision:                                                                                                             \n",
      "0.20326704545454546                                                                                                    \n",
      "f1:                                                                                                                    \n",
      "0.3378585763192067                                                                                                     \n",
      "------------------------------------                                                                                   \n",
      "  9%|████                                          | 44/500 [00:14<02:56,  2.59trial/s, best loss: -0.3378585763192067]"
     ]
    },
    {
     "name": "stderr",
     "output_type": "stream",
     "text": [
      "D:\\ProgramData\\anaconda3\\Lib\\site-packages\\xgboost\\sklearn.py:889: UserWarning: `eval_metric` in `fit` method is deprecated for better compatibility with scikit-learn, use `eval_metric` in constructor or`set_params` instead.\n",
      "  warnings.warn(\n",
      "\n",
      "D:\\ProgramData\\anaconda3\\Lib\\site-packages\\xgboost\\sklearn.py:889: UserWarning: `early_stopping_rounds` in `fit` method is deprecated for better compatibility with scikit-learn, use `early_stopping_rounds` in constructor or`set_params` instead.\n",
      "  warnings.warn(\n",
      "\n"
     ]
    },
    {
     "name": "stdout",
     "output_type": "stream",
     "text": [
      "Accuracy:                                                                                                              \n",
      "0.20326704545454546                                                                                                    \n",
      " ROC_AUC:                                                                                                              \n",
      "0.5                                                                                                                    \n",
      "precision:                                                                                                             \n",
      "0.20326704545454546                                                                                                    \n",
      "f1:                                                                                                                    \n",
      "0.3378585763192067                                                                                                     \n",
      "------------------------------------                                                                                   \n",
      "  9%|████▏                                         | 45/500 [00:15<02:54,  2.61trial/s, best loss: -0.3378585763192067]"
     ]
    },
    {
     "name": "stderr",
     "output_type": "stream",
     "text": [
      "D:\\ProgramData\\anaconda3\\Lib\\site-packages\\xgboost\\sklearn.py:889: UserWarning: `eval_metric` in `fit` method is deprecated for better compatibility with scikit-learn, use `eval_metric` in constructor or`set_params` instead.\n",
      "  warnings.warn(\n",
      "\n",
      "D:\\ProgramData\\anaconda3\\Lib\\site-packages\\xgboost\\sklearn.py:889: UserWarning: `early_stopping_rounds` in `fit` method is deprecated for better compatibility with scikit-learn, use `early_stopping_rounds` in constructor or`set_params` instead.\n",
      "  warnings.warn(\n",
      "\n"
     ]
    },
    {
     "name": "stdout",
     "output_type": "stream",
     "text": [
      "Accuracy:                                                                                                              \n",
      "0.20326704545454546                                                                                                    \n",
      " ROC_AUC:                                                                                                              \n",
      "0.5                                                                                                                    \n",
      "precision:                                                                                                             \n",
      "0.20326704545454546                                                                                                    \n",
      "f1:                                                                                                                    \n",
      "0.3378585763192067                                                                                                     \n",
      "------------------------------------                                                                                   \n",
      "  9%|████▏                                         | 46/500 [00:15<02:54,  2.60trial/s, best loss: -0.3378585763192067]"
     ]
    },
    {
     "name": "stderr",
     "output_type": "stream",
     "text": [
      "D:\\ProgramData\\anaconda3\\Lib\\site-packages\\xgboost\\sklearn.py:889: UserWarning: `eval_metric` in `fit` method is deprecated for better compatibility with scikit-learn, use `eval_metric` in constructor or`set_params` instead.\n",
      "  warnings.warn(\n",
      "\n",
      "D:\\ProgramData\\anaconda3\\Lib\\site-packages\\xgboost\\sklearn.py:889: UserWarning: `early_stopping_rounds` in `fit` method is deprecated for better compatibility with scikit-learn, use `early_stopping_rounds` in constructor or`set_params` instead.\n",
      "  warnings.warn(\n",
      "\n"
     ]
    },
    {
     "name": "stdout",
     "output_type": "stream",
     "text": [
      "Accuracy:                                                                                                              \n",
      "0.20326704545454546                                                                                                    \n",
      " ROC_AUC:                                                                                                              \n",
      "0.5                                                                                                                    \n",
      "precision:                                                                                                             \n",
      "0.20326704545454546                                                                                                    \n",
      "f1:                                                                                                                    \n",
      "0.3378585763192067                                                                                                     \n",
      "------------------------------------                                                                                   \n",
      "  9%|████▎                                         | 47/500 [00:16<02:53,  2.61trial/s, best loss: -0.3378585763192067]"
     ]
    },
    {
     "name": "stderr",
     "output_type": "stream",
     "text": [
      "D:\\ProgramData\\anaconda3\\Lib\\site-packages\\xgboost\\sklearn.py:889: UserWarning: `eval_metric` in `fit` method is deprecated for better compatibility with scikit-learn, use `eval_metric` in constructor or`set_params` instead.\n",
      "  warnings.warn(\n",
      "\n",
      "D:\\ProgramData\\anaconda3\\Lib\\site-packages\\xgboost\\sklearn.py:889: UserWarning: `early_stopping_rounds` in `fit` method is deprecated for better compatibility with scikit-learn, use `early_stopping_rounds` in constructor or`set_params` instead.\n",
      "  warnings.warn(\n",
      "\n"
     ]
    },
    {
     "name": "stdout",
     "output_type": "stream",
     "text": [
      "Accuracy:                                                                                                              \n",
      "0.20326704545454546                                                                                                    \n",
      " ROC_AUC:                                                                                                              \n",
      "0.5                                                                                                                    \n",
      "precision:                                                                                                             \n",
      "0.20326704545454546                                                                                                    \n",
      "f1:                                                                                                                    \n",
      "0.3378585763192067                                                                                                     \n",
      "------------------------------------                                                                                   \n",
      " 10%|████▍                                         | 48/500 [00:16<02:53,  2.60trial/s, best loss: -0.3378585763192067]"
     ]
    },
    {
     "name": "stderr",
     "output_type": "stream",
     "text": [
      "D:\\ProgramData\\anaconda3\\Lib\\site-packages\\xgboost\\sklearn.py:889: UserWarning: `eval_metric` in `fit` method is deprecated for better compatibility with scikit-learn, use `eval_metric` in constructor or`set_params` instead.\n",
      "  warnings.warn(\n",
      "\n",
      "D:\\ProgramData\\anaconda3\\Lib\\site-packages\\xgboost\\sklearn.py:889: UserWarning: `early_stopping_rounds` in `fit` method is deprecated for better compatibility with scikit-learn, use `early_stopping_rounds` in constructor or`set_params` instead.\n",
      "  warnings.warn(\n",
      "\n"
     ]
    },
    {
     "name": "stdout",
     "output_type": "stream",
     "text": [
      "Accuracy:                                                                                                              \n",
      "0.20326704545454546                                                                                                    \n",
      " ROC_AUC:                                                                                                              \n",
      "0.5                                                                                                                    \n",
      "precision:                                                                                                             \n",
      "0.20326704545454546                                                                                                    \n",
      "f1:                                                                                                                    \n",
      "0.3378585763192067                                                                                                     \n",
      "------------------------------------                                                                                   \n",
      " 10%|████▌                                         | 49/500 [00:16<02:51,  2.64trial/s, best loss: -0.3378585763192067]"
     ]
    },
    {
     "name": "stderr",
     "output_type": "stream",
     "text": [
      "D:\\ProgramData\\anaconda3\\Lib\\site-packages\\xgboost\\sklearn.py:889: UserWarning: `eval_metric` in `fit` method is deprecated for better compatibility with scikit-learn, use `eval_metric` in constructor or`set_params` instead.\n",
      "  warnings.warn(\n",
      "\n",
      "D:\\ProgramData\\anaconda3\\Lib\\site-packages\\xgboost\\sklearn.py:889: UserWarning: `early_stopping_rounds` in `fit` method is deprecated for better compatibility with scikit-learn, use `early_stopping_rounds` in constructor or`set_params` instead.\n",
      "  warnings.warn(\n",
      "\n"
     ]
    },
    {
     "name": "stdout",
     "output_type": "stream",
     "text": [
      "Accuracy:                                                                                                              \n",
      "0.20326704545454546                                                                                                    \n",
      " ROC_AUC:                                                                                                              \n",
      "0.5                                                                                                                    \n",
      "precision:                                                                                                             \n",
      "0.20326704545454546                                                                                                    \n",
      "f1:                                                                                                                    \n",
      "0.3378585763192067                                                                                                     \n",
      "------------------------------------                                                                                   \n",
      " 10%|████▌                                         | 50/500 [00:17<02:50,  2.65trial/s, best loss: -0.3378585763192067]"
     ]
    },
    {
     "name": "stderr",
     "output_type": "stream",
     "text": [
      "D:\\ProgramData\\anaconda3\\Lib\\site-packages\\xgboost\\sklearn.py:889: UserWarning: `eval_metric` in `fit` method is deprecated for better compatibility with scikit-learn, use `eval_metric` in constructor or`set_params` instead.\n",
      "  warnings.warn(\n",
      "\n",
      "D:\\ProgramData\\anaconda3\\Lib\\site-packages\\xgboost\\sklearn.py:889: UserWarning: `early_stopping_rounds` in `fit` method is deprecated for better compatibility with scikit-learn, use `early_stopping_rounds` in constructor or`set_params` instead.\n",
      "  warnings.warn(\n",
      "\n"
     ]
    },
    {
     "name": "stdout",
     "output_type": "stream",
     "text": [
      "Accuracy:                                                                                                              \n",
      "0.20326704545454546                                                                                                    \n",
      " ROC_AUC:                                                                                                              \n",
      "0.5                                                                                                                    \n",
      "precision:                                                                                                             \n",
      "0.20326704545454546                                                                                                    \n",
      "f1:                                                                                                                    \n",
      "0.3378585763192067                                                                                                     \n",
      "------------------------------------                                                                                   \n",
      " 10%|████▋                                         | 51/500 [00:17<02:47,  2.67trial/s, best loss: -0.3378585763192067]"
     ]
    },
    {
     "name": "stderr",
     "output_type": "stream",
     "text": [
      "D:\\ProgramData\\anaconda3\\Lib\\site-packages\\xgboost\\sklearn.py:889: UserWarning: `eval_metric` in `fit` method is deprecated for better compatibility with scikit-learn, use `eval_metric` in constructor or`set_params` instead.\n",
      "  warnings.warn(\n",
      "\n",
      "D:\\ProgramData\\anaconda3\\Lib\\site-packages\\xgboost\\sklearn.py:889: UserWarning: `early_stopping_rounds` in `fit` method is deprecated for better compatibility with scikit-learn, use `early_stopping_rounds` in constructor or`set_params` instead.\n",
      "  warnings.warn(\n",
      "\n"
     ]
    },
    {
     "name": "stdout",
     "output_type": "stream",
     "text": [
      "Accuracy:                                                                                                              \n",
      "0.20326704545454546                                                                                                    \n",
      " ROC_AUC:                                                                                                              \n",
      "0.5                                                                                                                    \n",
      "precision:                                                                                                             \n",
      "0.20326704545454546                                                                                                    \n",
      "f1:                                                                                                                    \n",
      "0.3378585763192067                                                                                                     \n",
      "------------------------------------                                                                                   \n",
      " 10%|████▊                                         | 52/500 [00:17<02:48,  2.67trial/s, best loss: -0.3378585763192067]"
     ]
    },
    {
     "name": "stderr",
     "output_type": "stream",
     "text": [
      "D:\\ProgramData\\anaconda3\\Lib\\site-packages\\xgboost\\sklearn.py:889: UserWarning: `eval_metric` in `fit` method is deprecated for better compatibility with scikit-learn, use `eval_metric` in constructor or`set_params` instead.\n",
      "  warnings.warn(\n",
      "\n",
      "D:\\ProgramData\\anaconda3\\Lib\\site-packages\\xgboost\\sklearn.py:889: UserWarning: `early_stopping_rounds` in `fit` method is deprecated for better compatibility with scikit-learn, use `early_stopping_rounds` in constructor or`set_params` instead.\n",
      "  warnings.warn(\n",
      "\n"
     ]
    },
    {
     "name": "stdout",
     "output_type": "stream",
     "text": [
      "Accuracy:                                                                                                              \n",
      "0.20326704545454546                                                                                                    \n",
      " ROC_AUC:                                                                                                              \n",
      "0.5                                                                                                                    \n",
      "precision:                                                                                                             \n",
      "0.20326704545454546                                                                                                    \n",
      "f1:                                                                                                                    \n",
      "0.3378585763192067                                                                                                     \n",
      "------------------------------------                                                                                   \n",
      " 11%|████▉                                         | 53/500 [00:18<02:50,  2.63trial/s, best loss: -0.3378585763192067]"
     ]
    },
    {
     "name": "stderr",
     "output_type": "stream",
     "text": [
      "D:\\ProgramData\\anaconda3\\Lib\\site-packages\\xgboost\\sklearn.py:889: UserWarning: `eval_metric` in `fit` method is deprecated for better compatibility with scikit-learn, use `eval_metric` in constructor or`set_params` instead.\n",
      "  warnings.warn(\n",
      "\n",
      "D:\\ProgramData\\anaconda3\\Lib\\site-packages\\xgboost\\sklearn.py:889: UserWarning: `early_stopping_rounds` in `fit` method is deprecated for better compatibility with scikit-learn, use `early_stopping_rounds` in constructor or`set_params` instead.\n",
      "  warnings.warn(\n",
      "\n"
     ]
    },
    {
     "name": "stdout",
     "output_type": "stream",
     "text": [
      "Accuracy:                                                                                                              \n",
      "0.20326704545454546                                                                                                    \n",
      " ROC_AUC:                                                                                                              \n",
      "0.5                                                                                                                    \n",
      "precision:                                                                                                             \n",
      "0.20326704545454546                                                                                                    \n",
      "f1:                                                                                                                    \n",
      "0.3378585763192067                                                                                                     \n",
      "------------------------------------                                                                                   \n",
      " 11%|████▉                                         | 54/500 [00:18<02:47,  2.66trial/s, best loss: -0.3378585763192067]"
     ]
    },
    {
     "name": "stderr",
     "output_type": "stream",
     "text": [
      "D:\\ProgramData\\anaconda3\\Lib\\site-packages\\xgboost\\sklearn.py:889: UserWarning: `eval_metric` in `fit` method is deprecated for better compatibility with scikit-learn, use `eval_metric` in constructor or`set_params` instead.\n",
      "  warnings.warn(\n",
      "\n",
      "D:\\ProgramData\\anaconda3\\Lib\\site-packages\\xgboost\\sklearn.py:889: UserWarning: `early_stopping_rounds` in `fit` method is deprecated for better compatibility with scikit-learn, use `early_stopping_rounds` in constructor or`set_params` instead.\n",
      "  warnings.warn(\n",
      "\n"
     ]
    },
    {
     "name": "stdout",
     "output_type": "stream",
     "text": [
      "Accuracy:                                                                                                              \n",
      "0.20326704545454546                                                                                                    \n",
      " ROC_AUC:                                                                                                              \n",
      "0.5                                                                                                                    \n",
      "precision:                                                                                                             \n",
      "0.20326704545454546                                                                                                    \n",
      "f1:                                                                                                                    \n",
      "0.3378585763192067                                                                                                     \n",
      "------------------------------------                                                                                   \n",
      " 11%|█████                                         | 55/500 [00:19<03:37,  2.05trial/s, best loss: -0.3378585763192067]"
     ]
    },
    {
     "name": "stderr",
     "output_type": "stream",
     "text": [
      "D:\\ProgramData\\anaconda3\\Lib\\site-packages\\xgboost\\sklearn.py:889: UserWarning: `eval_metric` in `fit` method is deprecated for better compatibility with scikit-learn, use `eval_metric` in constructor or`set_params` instead.\n",
      "  warnings.warn(\n",
      "\n",
      "D:\\ProgramData\\anaconda3\\Lib\\site-packages\\xgboost\\sklearn.py:889: UserWarning: `early_stopping_rounds` in `fit` method is deprecated for better compatibility with scikit-learn, use `early_stopping_rounds` in constructor or`set_params` instead.\n",
      "  warnings.warn(\n",
      "\n"
     ]
    },
    {
     "name": "stdout",
     "output_type": "stream",
     "text": [
      "Accuracy:                                                                                                              \n",
      "0.20326704545454546                                                                                                    \n",
      " ROC_AUC:                                                                                                              \n",
      "0.5                                                                                                                    \n",
      "precision:                                                                                                             \n",
      "0.20326704545454546                                                                                                    \n",
      "f1:                                                                                                                    \n",
      "0.3378585763192067                                                                                                     \n",
      "------------------------------------                                                                                   \n",
      " 11%|█████▏                                        | 56/500 [00:20<04:02,  1.83trial/s, best loss: -0.3378585763192067]"
     ]
    },
    {
     "name": "stderr",
     "output_type": "stream",
     "text": [
      "D:\\ProgramData\\anaconda3\\Lib\\site-packages\\xgboost\\sklearn.py:889: UserWarning: `eval_metric` in `fit` method is deprecated for better compatibility with scikit-learn, use `eval_metric` in constructor or`set_params` instead.\n",
      "  warnings.warn(\n",
      "\n",
      "D:\\ProgramData\\anaconda3\\Lib\\site-packages\\xgboost\\sklearn.py:889: UserWarning: `early_stopping_rounds` in `fit` method is deprecated for better compatibility with scikit-learn, use `early_stopping_rounds` in constructor or`set_params` instead.\n",
      "  warnings.warn(\n",
      "\n"
     ]
    },
    {
     "name": "stdout",
     "output_type": "stream",
     "text": [
      "Accuracy:                                                                                                              \n",
      "0.20326704545454546                                                                                                    \n",
      " ROC_AUC:                                                                                                              \n",
      "0.5                                                                                                                    \n",
      "precision:                                                                                                             \n",
      "0.20326704545454546                                                                                                    \n",
      "f1:                                                                                                                    \n",
      "0.3378585763192067                                                                                                     \n",
      "------------------------------------                                                                                   \n",
      " 11%|█████▏                                        | 57/500 [00:20<03:40,  2.01trial/s, best loss: -0.3378585763192067]"
     ]
    },
    {
     "name": "stderr",
     "output_type": "stream",
     "text": [
      "D:\\ProgramData\\anaconda3\\Lib\\site-packages\\xgboost\\sklearn.py:889: UserWarning: `eval_metric` in `fit` method is deprecated for better compatibility with scikit-learn, use `eval_metric` in constructor or`set_params` instead.\n",
      "  warnings.warn(\n",
      "\n",
      "D:\\ProgramData\\anaconda3\\Lib\\site-packages\\xgboost\\sklearn.py:889: UserWarning: `early_stopping_rounds` in `fit` method is deprecated for better compatibility with scikit-learn, use `early_stopping_rounds` in constructor or`set_params` instead.\n",
      "  warnings.warn(\n",
      "\n"
     ]
    },
    {
     "name": "stdout",
     "output_type": "stream",
     "text": [
      "Accuracy:                                                                                                              \n",
      "0.20326704545454546                                                                                                    \n",
      " ROC_AUC:                                                                                                              \n",
      "0.5                                                                                                                    \n",
      "precision:                                                                                                             \n",
      "0.20326704545454546                                                                                                    \n",
      "f1:                                                                                                                    \n",
      "0.3378585763192067                                                                                                     \n",
      "------------------------------------                                                                                   \n",
      " 12%|█████▎                                        | 58/500 [00:20<03:24,  2.16trial/s, best loss: -0.3378585763192067]"
     ]
    },
    {
     "name": "stderr",
     "output_type": "stream",
     "text": [
      "D:\\ProgramData\\anaconda3\\Lib\\site-packages\\xgboost\\sklearn.py:889: UserWarning: `eval_metric` in `fit` method is deprecated for better compatibility with scikit-learn, use `eval_metric` in constructor or`set_params` instead.\n",
      "  warnings.warn(\n",
      "\n",
      "D:\\ProgramData\\anaconda3\\Lib\\site-packages\\xgboost\\sklearn.py:889: UserWarning: `early_stopping_rounds` in `fit` method is deprecated for better compatibility with scikit-learn, use `early_stopping_rounds` in constructor or`set_params` instead.\n",
      "  warnings.warn(\n",
      "\n"
     ]
    },
    {
     "name": "stdout",
     "output_type": "stream",
     "text": [
      "Accuracy:                                                                                                              \n",
      "0.20326704545454546                                                                                                    \n",
      " ROC_AUC:                                                                                                              \n",
      "0.5                                                                                                                    \n",
      "precision:                                                                                                             \n",
      "0.20326704545454546                                                                                                    \n",
      "f1:                                                                                                                    \n",
      "0.3378585763192067                                                                                                     \n",
      "------------------------------------                                                                                   \n",
      " 12%|█████▍                                        | 59/500 [00:21<03:11,  2.31trial/s, best loss: -0.3378585763192067]"
     ]
    },
    {
     "name": "stderr",
     "output_type": "stream",
     "text": [
      "D:\\ProgramData\\anaconda3\\Lib\\site-packages\\xgboost\\sklearn.py:889: UserWarning: `eval_metric` in `fit` method is deprecated for better compatibility with scikit-learn, use `eval_metric` in constructor or`set_params` instead.\n",
      "  warnings.warn(\n",
      "\n",
      "D:\\ProgramData\\anaconda3\\Lib\\site-packages\\xgboost\\sklearn.py:889: UserWarning: `early_stopping_rounds` in `fit` method is deprecated for better compatibility with scikit-learn, use `early_stopping_rounds` in constructor or`set_params` instead.\n",
      "  warnings.warn(\n",
      "\n"
     ]
    },
    {
     "name": "stdout",
     "output_type": "stream",
     "text": [
      "Accuracy:                                                                                                              \n",
      "0.20326704545454546                                                                                                    \n",
      " ROC_AUC:                                                                                                              \n",
      "0.5                                                                                                                    \n",
      "precision:                                                                                                             \n",
      "0.20326704545454546                                                                                                    \n",
      "f1:                                                                                                                    \n",
      "0.3378585763192067                                                                                                     \n",
      "------------------------------------                                                                                   \n",
      " 12%|█████▌                                        | 60/500 [00:21<03:09,  2.32trial/s, best loss: -0.3378585763192067]"
     ]
    },
    {
     "name": "stderr",
     "output_type": "stream",
     "text": [
      "D:\\ProgramData\\anaconda3\\Lib\\site-packages\\xgboost\\sklearn.py:889: UserWarning: `eval_metric` in `fit` method is deprecated for better compatibility with scikit-learn, use `eval_metric` in constructor or`set_params` instead.\n",
      "  warnings.warn(\n",
      "\n",
      "D:\\ProgramData\\anaconda3\\Lib\\site-packages\\xgboost\\sklearn.py:889: UserWarning: `early_stopping_rounds` in `fit` method is deprecated for better compatibility with scikit-learn, use `early_stopping_rounds` in constructor or`set_params` instead.\n",
      "  warnings.warn(\n",
      "\n"
     ]
    },
    {
     "name": "stdout",
     "output_type": "stream",
     "text": [
      "Accuracy:                                                                                                              \n",
      "0.20326704545454546                                                                                                    \n",
      " ROC_AUC:                                                                                                              \n",
      "0.5                                                                                                                    \n",
      "precision:                                                                                                             \n",
      "0.20326704545454546                                                                                                    \n",
      "f1:                                                                                                                    \n",
      "0.3378585763192067                                                                                                     \n",
      "------------------------------------                                                                                   \n",
      " 12%|█████▌                                        | 61/500 [00:22<03:49,  1.91trial/s, best loss: -0.3378585763192067]"
     ]
    },
    {
     "name": "stderr",
     "output_type": "stream",
     "text": [
      "D:\\ProgramData\\anaconda3\\Lib\\site-packages\\xgboost\\sklearn.py:889: UserWarning: `eval_metric` in `fit` method is deprecated for better compatibility with scikit-learn, use `eval_metric` in constructor or`set_params` instead.\n",
      "  warnings.warn(\n",
      "\n",
      "D:\\ProgramData\\anaconda3\\Lib\\site-packages\\xgboost\\sklearn.py:889: UserWarning: `early_stopping_rounds` in `fit` method is deprecated for better compatibility with scikit-learn, use `early_stopping_rounds` in constructor or`set_params` instead.\n",
      "  warnings.warn(\n",
      "\n"
     ]
    },
    {
     "name": "stdout",
     "output_type": "stream",
     "text": [
      "Accuracy:                                                                                                              \n",
      "0.20326704545454546                                                                                                    \n",
      " ROC_AUC:                                                                                                              \n",
      "0.5                                                                                                                    \n",
      "precision:                                                                                                             \n",
      "0.20326704545454546                                                                                                    \n",
      "f1:                                                                                                                    \n",
      "0.3378585763192067                                                                                                     \n",
      "------------------------------------                                                                                   \n",
      " 12%|█████▋                                        | 62/500 [00:23<04:18,  1.70trial/s, best loss: -0.3378585763192067]"
     ]
    },
    {
     "name": "stderr",
     "output_type": "stream",
     "text": [
      "D:\\ProgramData\\anaconda3\\Lib\\site-packages\\xgboost\\sklearn.py:889: UserWarning: `eval_metric` in `fit` method is deprecated for better compatibility with scikit-learn, use `eval_metric` in constructor or`set_params` instead.\n",
      "  warnings.warn(\n",
      "\n",
      "D:\\ProgramData\\anaconda3\\Lib\\site-packages\\xgboost\\sklearn.py:889: UserWarning: `early_stopping_rounds` in `fit` method is deprecated for better compatibility with scikit-learn, use `early_stopping_rounds` in constructor or`set_params` instead.\n",
      "  warnings.warn(\n",
      "\n"
     ]
    },
    {
     "name": "stdout",
     "output_type": "stream",
     "text": [
      "Accuracy:                                                                                                              \n",
      "0.20326704545454546                                                                                                    \n",
      " ROC_AUC:                                                                                                              \n",
      "0.5                                                                                                                    \n",
      "precision:                                                                                                             \n",
      "0.20326704545454546                                                                                                    \n",
      "f1:                                                                                                                    \n",
      "0.3378585763192067                                                                                                     \n",
      "------------------------------------                                                                                   \n",
      " 13%|█████▊                                        | 63/500 [00:23<03:50,  1.90trial/s, best loss: -0.3378585763192067]"
     ]
    },
    {
     "name": "stderr",
     "output_type": "stream",
     "text": [
      "D:\\ProgramData\\anaconda3\\Lib\\site-packages\\xgboost\\sklearn.py:889: UserWarning: `eval_metric` in `fit` method is deprecated for better compatibility with scikit-learn, use `eval_metric` in constructor or`set_params` instead.\n",
      "  warnings.warn(\n",
      "\n",
      "D:\\ProgramData\\anaconda3\\Lib\\site-packages\\xgboost\\sklearn.py:889: UserWarning: `early_stopping_rounds` in `fit` method is deprecated for better compatibility with scikit-learn, use `early_stopping_rounds` in constructor or`set_params` instead.\n",
      "  warnings.warn(\n",
      "\n"
     ]
    },
    {
     "name": "stdout",
     "output_type": "stream",
     "text": [
      "Accuracy:                                                                                                              \n",
      "0.20326704545454546                                                                                                    \n",
      " ROC_AUC:                                                                                                              \n",
      "0.5                                                                                                                    \n",
      "precision:                                                                                                             \n",
      "0.20326704545454546                                                                                                    \n",
      "f1:                                                                                                                    \n",
      "0.3378585763192067                                                                                                     \n",
      "------------------------------------                                                                                   \n",
      " 13%|█████▉                                        | 64/500 [00:24<03:56,  1.84trial/s, best loss: -0.3378585763192067]"
     ]
    },
    {
     "name": "stderr",
     "output_type": "stream",
     "text": [
      "D:\\ProgramData\\anaconda3\\Lib\\site-packages\\xgboost\\sklearn.py:889: UserWarning: `eval_metric` in `fit` method is deprecated for better compatibility with scikit-learn, use `eval_metric` in constructor or`set_params` instead.\n",
      "  warnings.warn(\n",
      "\n",
      "D:\\ProgramData\\anaconda3\\Lib\\site-packages\\xgboost\\sklearn.py:889: UserWarning: `early_stopping_rounds` in `fit` method is deprecated for better compatibility with scikit-learn, use `early_stopping_rounds` in constructor or`set_params` instead.\n",
      "  warnings.warn(\n",
      "\n"
     ]
    },
    {
     "name": "stdout",
     "output_type": "stream",
     "text": [
      "Accuracy:                                                                                                              \n",
      "0.20326704545454546                                                                                                    \n",
      " ROC_AUC:                                                                                                              \n",
      "0.5                                                                                                                    \n",
      "precision:                                                                                                             \n",
      "0.20326704545454546                                                                                                    \n",
      "f1:                                                                                                                    \n",
      "0.3378585763192067                                                                                                     \n",
      "------------------------------------                                                                                   \n",
      " 13%|█████▉                                        | 65/500 [00:24<03:36,  2.01trial/s, best loss: -0.3378585763192067]"
     ]
    },
    {
     "name": "stderr",
     "output_type": "stream",
     "text": [
      "D:\\ProgramData\\anaconda3\\Lib\\site-packages\\xgboost\\sklearn.py:889: UserWarning: `eval_metric` in `fit` method is deprecated for better compatibility with scikit-learn, use `eval_metric` in constructor or`set_params` instead.\n",
      "  warnings.warn(\n",
      "\n",
      "D:\\ProgramData\\anaconda3\\Lib\\site-packages\\xgboost\\sklearn.py:889: UserWarning: `early_stopping_rounds` in `fit` method is deprecated for better compatibility with scikit-learn, use `early_stopping_rounds` in constructor or`set_params` instead.\n",
      "  warnings.warn(\n",
      "\n"
     ]
    },
    {
     "name": "stdout",
     "output_type": "stream",
     "text": [
      "Accuracy:                                                                                                              \n",
      "0.20326704545454546                                                                                                    \n",
      " ROC_AUC:                                                                                                              \n",
      "0.5                                                                                                                    \n",
      "precision:                                                                                                             \n",
      "0.20326704545454546                                                                                                    \n",
      "f1:                                                                                                                    \n",
      "0.3378585763192067                                                                                                     \n",
      "------------------------------------                                                                                   \n",
      " 13%|██████                                        | 66/500 [00:24<03:22,  2.15trial/s, best loss: -0.3378585763192067]"
     ]
    },
    {
     "name": "stderr",
     "output_type": "stream",
     "text": [
      "D:\\ProgramData\\anaconda3\\Lib\\site-packages\\xgboost\\sklearn.py:889: UserWarning: `eval_metric` in `fit` method is deprecated for better compatibility with scikit-learn, use `eval_metric` in constructor or`set_params` instead.\n",
      "  warnings.warn(\n",
      "\n",
      "D:\\ProgramData\\anaconda3\\Lib\\site-packages\\xgboost\\sklearn.py:889: UserWarning: `early_stopping_rounds` in `fit` method is deprecated for better compatibility with scikit-learn, use `early_stopping_rounds` in constructor or`set_params` instead.\n",
      "  warnings.warn(\n",
      "\n"
     ]
    },
    {
     "name": "stdout",
     "output_type": "stream",
     "text": [
      "Accuracy:                                                                                                              \n",
      "0.20326704545454546                                                                                                    \n",
      " ROC_AUC:                                                                                                              \n",
      "0.5                                                                                                                    \n",
      "precision:                                                                                                             \n",
      "0.20326704545454546                                                                                                    \n",
      "f1:                                                                                                                    \n",
      "0.3378585763192067                                                                                                     \n",
      "------------------------------------                                                                                   \n",
      " 13%|██████▏                                       | 67/500 [00:25<03:11,  2.26trial/s, best loss: -0.3378585763192067]"
     ]
    },
    {
     "name": "stderr",
     "output_type": "stream",
     "text": [
      "D:\\ProgramData\\anaconda3\\Lib\\site-packages\\xgboost\\sklearn.py:889: UserWarning: `eval_metric` in `fit` method is deprecated for better compatibility with scikit-learn, use `eval_metric` in constructor or`set_params` instead.\n",
      "  warnings.warn(\n",
      "\n",
      "D:\\ProgramData\\anaconda3\\Lib\\site-packages\\xgboost\\sklearn.py:889: UserWarning: `early_stopping_rounds` in `fit` method is deprecated for better compatibility with scikit-learn, use `early_stopping_rounds` in constructor or`set_params` instead.\n",
      "  warnings.warn(\n",
      "\n"
     ]
    },
    {
     "name": "stdout",
     "output_type": "stream",
     "text": [
      "Accuracy:                                                                                                              \n",
      "0.20326704545454546                                                                                                    \n",
      " ROC_AUC:                                                                                                              \n",
      "0.5                                                                                                                    \n",
      "precision:                                                                                                             \n",
      "0.20326704545454546                                                                                                    \n",
      "f1:                                                                                                                    \n",
      "0.3378585763192067                                                                                                     \n",
      "------------------------------------                                                                                   \n",
      " 14%|██████▎                                       | 68/500 [00:25<03:01,  2.38trial/s, best loss: -0.3378585763192067]"
     ]
    },
    {
     "name": "stderr",
     "output_type": "stream",
     "text": [
      "D:\\ProgramData\\anaconda3\\Lib\\site-packages\\xgboost\\sklearn.py:889: UserWarning: `eval_metric` in `fit` method is deprecated for better compatibility with scikit-learn, use `eval_metric` in constructor or`set_params` instead.\n",
      "  warnings.warn(\n",
      "\n",
      "D:\\ProgramData\\anaconda3\\Lib\\site-packages\\xgboost\\sklearn.py:889: UserWarning: `early_stopping_rounds` in `fit` method is deprecated for better compatibility with scikit-learn, use `early_stopping_rounds` in constructor or`set_params` instead.\n",
      "  warnings.warn(\n",
      "\n"
     ]
    },
    {
     "name": "stdout",
     "output_type": "stream",
     "text": [
      "Accuracy:                                                                                                              \n",
      "0.20326704545454546                                                                                                    \n",
      " ROC_AUC:                                                                                                              \n",
      "0.5                                                                                                                    \n",
      "precision:                                                                                                             \n",
      "0.20326704545454546                                                                                                    \n",
      "f1:                                                                                                                    \n",
      "0.3378585763192067                                                                                                     \n",
      "------------------------------------                                                                                   \n",
      " 14%|██████▎                                       | 69/500 [00:26<02:56,  2.44trial/s, best loss: -0.3378585763192067]"
     ]
    },
    {
     "name": "stderr",
     "output_type": "stream",
     "text": [
      "D:\\ProgramData\\anaconda3\\Lib\\site-packages\\xgboost\\sklearn.py:889: UserWarning: `eval_metric` in `fit` method is deprecated for better compatibility with scikit-learn, use `eval_metric` in constructor or`set_params` instead.\n",
      "  warnings.warn(\n",
      "\n",
      "D:\\ProgramData\\anaconda3\\Lib\\site-packages\\xgboost\\sklearn.py:889: UserWarning: `early_stopping_rounds` in `fit` method is deprecated for better compatibility with scikit-learn, use `early_stopping_rounds` in constructor or`set_params` instead.\n",
      "  warnings.warn(\n",
      "\n"
     ]
    },
    {
     "name": "stdout",
     "output_type": "stream",
     "text": [
      "Accuracy:                                                                                                              \n",
      "0.20326704545454546                                                                                                    \n",
      " ROC_AUC:                                                                                                              \n",
      "0.5                                                                                                                    \n",
      "precision:                                                                                                             \n",
      "0.20326704545454546                                                                                                    \n",
      "f1:                                                                                                                    \n",
      "0.3378585763192067                                                                                                     \n",
      "------------------------------------                                                                                   \n",
      " 14%|██████▍                                       | 70/500 [00:26<02:54,  2.46trial/s, best loss: -0.3378585763192067]"
     ]
    },
    {
     "name": "stderr",
     "output_type": "stream",
     "text": [
      "D:\\ProgramData\\anaconda3\\Lib\\site-packages\\xgboost\\sklearn.py:889: UserWarning: `eval_metric` in `fit` method is deprecated for better compatibility with scikit-learn, use `eval_metric` in constructor or`set_params` instead.\n",
      "  warnings.warn(\n",
      "\n",
      "D:\\ProgramData\\anaconda3\\Lib\\site-packages\\xgboost\\sklearn.py:889: UserWarning: `early_stopping_rounds` in `fit` method is deprecated for better compatibility with scikit-learn, use `early_stopping_rounds` in constructor or`set_params` instead.\n",
      "  warnings.warn(\n",
      "\n"
     ]
    },
    {
     "name": "stdout",
     "output_type": "stream",
     "text": [
      "Accuracy:                                                                                                              \n",
      "0.20326704545454546                                                                                                    \n",
      " ROC_AUC:                                                                                                              \n",
      "0.5                                                                                                                    \n",
      "precision:                                                                                                             \n",
      "0.20326704545454546                                                                                                    \n",
      "f1:                                                                                                                    \n",
      "0.3378585763192067                                                                                                     \n",
      "------------------------------------                                                                                   \n",
      " 14%|██████▌                                       | 71/500 [00:27<03:13,  2.21trial/s, best loss: -0.3378585763192067]"
     ]
    },
    {
     "name": "stderr",
     "output_type": "stream",
     "text": [
      "D:\\ProgramData\\anaconda3\\Lib\\site-packages\\xgboost\\sklearn.py:889: UserWarning: `eval_metric` in `fit` method is deprecated for better compatibility with scikit-learn, use `eval_metric` in constructor or`set_params` instead.\n",
      "  warnings.warn(\n",
      "\n",
      "D:\\ProgramData\\anaconda3\\Lib\\site-packages\\xgboost\\sklearn.py:889: UserWarning: `early_stopping_rounds` in `fit` method is deprecated for better compatibility with scikit-learn, use `early_stopping_rounds` in constructor or`set_params` instead.\n",
      "  warnings.warn(\n",
      "\n"
     ]
    },
    {
     "name": "stdout",
     "output_type": "stream",
     "text": [
      "Accuracy:                                                                                                              \n",
      "0.20326704545454546                                                                                                    \n",
      " ROC_AUC:                                                                                                              \n",
      "0.5                                                                                                                    \n",
      "precision:                                                                                                             \n",
      "0.20326704545454546                                                                                                    \n",
      "f1:                                                                                                                    \n",
      "0.3378585763192067                                                                                                     \n",
      "------------------------------------                                                                                   \n",
      " 14%|██████▌                                       | 72/500 [00:27<03:29,  2.05trial/s, best loss: -0.3378585763192067]"
     ]
    },
    {
     "name": "stderr",
     "output_type": "stream",
     "text": [
      "D:\\ProgramData\\anaconda3\\Lib\\site-packages\\xgboost\\sklearn.py:889: UserWarning: `eval_metric` in `fit` method is deprecated for better compatibility with scikit-learn, use `eval_metric` in constructor or`set_params` instead.\n",
      "  warnings.warn(\n",
      "\n",
      "D:\\ProgramData\\anaconda3\\Lib\\site-packages\\xgboost\\sklearn.py:889: UserWarning: `early_stopping_rounds` in `fit` method is deprecated for better compatibility with scikit-learn, use `early_stopping_rounds` in constructor or`set_params` instead.\n",
      "  warnings.warn(\n",
      "\n"
     ]
    },
    {
     "name": "stdout",
     "output_type": "stream",
     "text": [
      "Accuracy:                                                                                                              \n",
      "0.20326704545454546                                                                                                    \n",
      " ROC_AUC:                                                                                                              \n",
      "0.5                                                                                                                    \n",
      "precision:                                                                                                             \n",
      "0.20326704545454546                                                                                                    \n",
      "f1:                                                                                                                    \n",
      "0.3378585763192067                                                                                                     \n",
      "------------------------------------                                                                                   \n",
      " 15%|██████▋                                       | 73/500 [00:28<03:13,  2.21trial/s, best loss: -0.3378585763192067]"
     ]
    },
    {
     "name": "stderr",
     "output_type": "stream",
     "text": [
      "D:\\ProgramData\\anaconda3\\Lib\\site-packages\\xgboost\\sklearn.py:889: UserWarning: `eval_metric` in `fit` method is deprecated for better compatibility with scikit-learn, use `eval_metric` in constructor or`set_params` instead.\n",
      "  warnings.warn(\n",
      "\n",
      "D:\\ProgramData\\anaconda3\\Lib\\site-packages\\xgboost\\sklearn.py:889: UserWarning: `early_stopping_rounds` in `fit` method is deprecated for better compatibility with scikit-learn, use `early_stopping_rounds` in constructor or`set_params` instead.\n",
      "  warnings.warn(\n",
      "\n"
     ]
    },
    {
     "name": "stdout",
     "output_type": "stream",
     "text": [
      "Accuracy:                                                                                                              \n",
      "0.20326704545454546                                                                                                    \n",
      " ROC_AUC:                                                                                                              \n",
      "0.5                                                                                                                    \n",
      "precision:                                                                                                             \n",
      "0.20326704545454546                                                                                                    \n",
      "f1:                                                                                                                    \n",
      "0.3378585763192067                                                                                                     \n",
      "------------------------------------                                                                                   \n",
      " 15%|██████▊                                       | 74/500 [00:28<03:04,  2.31trial/s, best loss: -0.3378585763192067]"
     ]
    },
    {
     "name": "stderr",
     "output_type": "stream",
     "text": [
      "D:\\ProgramData\\anaconda3\\Lib\\site-packages\\xgboost\\sklearn.py:889: UserWarning: `eval_metric` in `fit` method is deprecated for better compatibility with scikit-learn, use `eval_metric` in constructor or`set_params` instead.\n",
      "  warnings.warn(\n",
      "\n",
      "D:\\ProgramData\\anaconda3\\Lib\\site-packages\\xgboost\\sklearn.py:889: UserWarning: `early_stopping_rounds` in `fit` method is deprecated for better compatibility with scikit-learn, use `early_stopping_rounds` in constructor or`set_params` instead.\n",
      "  warnings.warn(\n",
      "\n"
     ]
    },
    {
     "name": "stdout",
     "output_type": "stream",
     "text": [
      "Accuracy:                                                                                                              \n",
      "0.20326704545454546                                                                                                    \n",
      " ROC_AUC:                                                                                                              \n",
      "0.5                                                                                                                    \n",
      "precision:                                                                                                             \n",
      "0.20326704545454546                                                                                                    \n",
      "f1:                                                                                                                    \n",
      "0.3378585763192067                                                                                                     \n",
      "------------------------------------                                                                                   \n",
      " 15%|██████▉                                       | 75/500 [00:28<02:56,  2.40trial/s, best loss: -0.3378585763192067]"
     ]
    },
    {
     "name": "stderr",
     "output_type": "stream",
     "text": [
      "D:\\ProgramData\\anaconda3\\Lib\\site-packages\\xgboost\\sklearn.py:889: UserWarning: `eval_metric` in `fit` method is deprecated for better compatibility with scikit-learn, use `eval_metric` in constructor or`set_params` instead.\n",
      "  warnings.warn(\n",
      "\n",
      "D:\\ProgramData\\anaconda3\\Lib\\site-packages\\xgboost\\sklearn.py:889: UserWarning: `early_stopping_rounds` in `fit` method is deprecated for better compatibility with scikit-learn, use `early_stopping_rounds` in constructor or`set_params` instead.\n",
      "  warnings.warn(\n",
      "\n"
     ]
    },
    {
     "name": "stdout",
     "output_type": "stream",
     "text": [
      "Accuracy:                                                                                                              \n",
      "0.20326704545454546                                                                                                    \n",
      " ROC_AUC:                                                                                                              \n",
      "0.5                                                                                                                    \n",
      "precision:                                                                                                             \n",
      "0.20326704545454546                                                                                                    \n",
      "f1:                                                                                                                    \n",
      "0.3378585763192067                                                                                                     \n",
      "------------------------------------                                                                                   \n",
      " 15%|██████▉                                       | 76/500 [00:29<02:51,  2.48trial/s, best loss: -0.3378585763192067]"
     ]
    },
    {
     "name": "stderr",
     "output_type": "stream",
     "text": [
      "D:\\ProgramData\\anaconda3\\Lib\\site-packages\\xgboost\\sklearn.py:889: UserWarning: `eval_metric` in `fit` method is deprecated for better compatibility with scikit-learn, use `eval_metric` in constructor or`set_params` instead.\n",
      "  warnings.warn(\n",
      "\n",
      "D:\\ProgramData\\anaconda3\\Lib\\site-packages\\xgboost\\sklearn.py:889: UserWarning: `early_stopping_rounds` in `fit` method is deprecated for better compatibility with scikit-learn, use `early_stopping_rounds` in constructor or`set_params` instead.\n",
      "  warnings.warn(\n",
      "\n"
     ]
    },
    {
     "name": "stdout",
     "output_type": "stream",
     "text": [
      "Accuracy:                                                                                                              \n",
      "0.20326704545454546                                                                                                    \n",
      " ROC_AUC:                                                                                                              \n",
      "0.5                                                                                                                    \n",
      "precision:                                                                                                             \n",
      "0.20326704545454546                                                                                                    \n",
      "f1:                                                                                                                    \n",
      "0.3378585763192067                                                                                                     \n",
      "------------------------------------                                                                                   \n",
      " 15%|███████                                       | 77/500 [00:29<02:47,  2.52trial/s, best loss: -0.3378585763192067]"
     ]
    },
    {
     "name": "stderr",
     "output_type": "stream",
     "text": [
      "D:\\ProgramData\\anaconda3\\Lib\\site-packages\\xgboost\\sklearn.py:889: UserWarning: `eval_metric` in `fit` method is deprecated for better compatibility with scikit-learn, use `eval_metric` in constructor or`set_params` instead.\n",
      "  warnings.warn(\n",
      "\n",
      "D:\\ProgramData\\anaconda3\\Lib\\site-packages\\xgboost\\sklearn.py:889: UserWarning: `early_stopping_rounds` in `fit` method is deprecated for better compatibility with scikit-learn, use `early_stopping_rounds` in constructor or`set_params` instead.\n",
      "  warnings.warn(\n",
      "\n"
     ]
    },
    {
     "name": "stdout",
     "output_type": "stream",
     "text": [
      "Accuracy:                                                                                                              \n",
      "0.20326704545454546                                                                                                    \n",
      " ROC_AUC:                                                                                                              \n",
      "0.5                                                                                                                    \n",
      "precision:                                                                                                             \n",
      "0.20326704545454546                                                                                                    \n",
      "f1:                                                                                                                    \n",
      "0.3378585763192067                                                                                                     \n",
      "------------------------------------                                                                                   \n",
      " 16%|███████▏                                      | 78/500 [00:29<02:44,  2.57trial/s, best loss: -0.3378585763192067]"
     ]
    },
    {
     "name": "stderr",
     "output_type": "stream",
     "text": [
      "D:\\ProgramData\\anaconda3\\Lib\\site-packages\\xgboost\\sklearn.py:889: UserWarning: `eval_metric` in `fit` method is deprecated for better compatibility with scikit-learn, use `eval_metric` in constructor or`set_params` instead.\n",
      "  warnings.warn(\n",
      "\n",
      "D:\\ProgramData\\anaconda3\\Lib\\site-packages\\xgboost\\sklearn.py:889: UserWarning: `early_stopping_rounds` in `fit` method is deprecated for better compatibility with scikit-learn, use `early_stopping_rounds` in constructor or`set_params` instead.\n",
      "  warnings.warn(\n",
      "\n"
     ]
    },
    {
     "name": "stdout",
     "output_type": "stream",
     "text": [
      "Accuracy:                                                                                                              \n",
      "0.20326704545454546                                                                                                    \n",
      " ROC_AUC:                                                                                                              \n",
      "0.5                                                                                                                    \n",
      "precision:                                                                                                             \n",
      "0.20326704545454546                                                                                                    \n",
      "f1:                                                                                                                    \n",
      "0.3378585763192067                                                                                                     \n",
      "------------------------------------                                                                                   \n",
      " 16%|███████▎                                      | 79/500 [00:30<03:30,  2.00trial/s, best loss: -0.3378585763192067]"
     ]
    },
    {
     "name": "stderr",
     "output_type": "stream",
     "text": [
      "D:\\ProgramData\\anaconda3\\Lib\\site-packages\\xgboost\\sklearn.py:889: UserWarning: `eval_metric` in `fit` method is deprecated for better compatibility with scikit-learn, use `eval_metric` in constructor or`set_params` instead.\n",
      "  warnings.warn(\n",
      "\n",
      "D:\\ProgramData\\anaconda3\\Lib\\site-packages\\xgboost\\sklearn.py:889: UserWarning: `early_stopping_rounds` in `fit` method is deprecated for better compatibility with scikit-learn, use `early_stopping_rounds` in constructor or`set_params` instead.\n",
      "  warnings.warn(\n",
      "\n"
     ]
    },
    {
     "name": "stdout",
     "output_type": "stream",
     "text": [
      "Accuracy:                                                                                                              \n",
      "0.20326704545454546                                                                                                    \n",
      " ROC_AUC:                                                                                                              \n",
      "0.5                                                                                                                    \n",
      "precision:                                                                                                             \n",
      "0.20326704545454546                                                                                                    \n",
      "f1:                                                                                                                    \n",
      "0.3378585763192067                                                                                                     \n",
      "------------------------------------                                                                                   \n",
      " 16%|███████▎                                      | 80/500 [00:31<03:40,  1.90trial/s, best loss: -0.3378585763192067]"
     ]
    },
    {
     "name": "stderr",
     "output_type": "stream",
     "text": [
      "D:\\ProgramData\\anaconda3\\Lib\\site-packages\\xgboost\\sklearn.py:889: UserWarning: `eval_metric` in `fit` method is deprecated for better compatibility with scikit-learn, use `eval_metric` in constructor or`set_params` instead.\n",
      "  warnings.warn(\n",
      "\n",
      "D:\\ProgramData\\anaconda3\\Lib\\site-packages\\xgboost\\sklearn.py:889: UserWarning: `early_stopping_rounds` in `fit` method is deprecated for better compatibility with scikit-learn, use `early_stopping_rounds` in constructor or`set_params` instead.\n",
      "  warnings.warn(\n",
      "\n"
     ]
    },
    {
     "name": "stdout",
     "output_type": "stream",
     "text": [
      "Accuracy:                                                                                                              \n",
      "0.20326704545454546                                                                                                    \n",
      " ROC_AUC:                                                                                                              \n",
      "0.5                                                                                                                    \n",
      "precision:                                                                                                             \n",
      "0.20326704545454546                                                                                                    \n",
      "f1:                                                                                                                    \n",
      "0.3378585763192067                                                                                                     \n",
      "------------------------------------                                                                                   \n",
      " 16%|███████▍                                      | 81/500 [00:31<03:23,  2.06trial/s, best loss: -0.3378585763192067]"
     ]
    },
    {
     "name": "stderr",
     "output_type": "stream",
     "text": [
      "D:\\ProgramData\\anaconda3\\Lib\\site-packages\\xgboost\\sklearn.py:889: UserWarning: `eval_metric` in `fit` method is deprecated for better compatibility with scikit-learn, use `eval_metric` in constructor or`set_params` instead.\n",
      "  warnings.warn(\n",
      "\n",
      "D:\\ProgramData\\anaconda3\\Lib\\site-packages\\xgboost\\sklearn.py:889: UserWarning: `early_stopping_rounds` in `fit` method is deprecated for better compatibility with scikit-learn, use `early_stopping_rounds` in constructor or`set_params` instead.\n",
      "  warnings.warn(\n",
      "\n"
     ]
    },
    {
     "name": "stdout",
     "output_type": "stream",
     "text": [
      "Accuracy:                                                                                                              \n",
      "0.20326704545454546                                                                                                    \n",
      " ROC_AUC:                                                                                                              \n",
      "0.5                                                                                                                    \n",
      "precision:                                                                                                             \n",
      "0.20326704545454546                                                                                                    \n",
      "f1:                                                                                                                    \n",
      "0.3378585763192067                                                                                                     \n",
      "------------------------------------                                                                                   \n",
      " 16%|███████▌                                      | 82/500 [00:32<03:10,  2.20trial/s, best loss: -0.3378585763192067]"
     ]
    },
    {
     "name": "stderr",
     "output_type": "stream",
     "text": [
      "D:\\ProgramData\\anaconda3\\Lib\\site-packages\\xgboost\\sklearn.py:889: UserWarning: `eval_metric` in `fit` method is deprecated for better compatibility with scikit-learn, use `eval_metric` in constructor or`set_params` instead.\n",
      "  warnings.warn(\n",
      "\n",
      "D:\\ProgramData\\anaconda3\\Lib\\site-packages\\xgboost\\sklearn.py:889: UserWarning: `early_stopping_rounds` in `fit` method is deprecated for better compatibility with scikit-learn, use `early_stopping_rounds` in constructor or`set_params` instead.\n",
      "  warnings.warn(\n",
      "\n"
     ]
    },
    {
     "name": "stdout",
     "output_type": "stream",
     "text": [
      "Accuracy:                                                                                                              \n",
      "0.20326704545454546                                                                                                    \n",
      " ROC_AUC:                                                                                                              \n",
      "0.5                                                                                                                    \n",
      "precision:                                                                                                             \n",
      "0.20326704545454546                                                                                                    \n",
      "f1:                                                                                                                    \n",
      "0.3378585763192067                                                                                                     \n",
      "------------------------------------                                                                                   \n",
      " 17%|███████▋                                      | 83/500 [00:32<03:00,  2.31trial/s, best loss: -0.3378585763192067]"
     ]
    },
    {
     "name": "stderr",
     "output_type": "stream",
     "text": [
      "D:\\ProgramData\\anaconda3\\Lib\\site-packages\\xgboost\\sklearn.py:889: UserWarning: `eval_metric` in `fit` method is deprecated for better compatibility with scikit-learn, use `eval_metric` in constructor or`set_params` instead.\n",
      "  warnings.warn(\n",
      "\n",
      "D:\\ProgramData\\anaconda3\\Lib\\site-packages\\xgboost\\sklearn.py:889: UserWarning: `early_stopping_rounds` in `fit` method is deprecated for better compatibility with scikit-learn, use `early_stopping_rounds` in constructor or`set_params` instead.\n",
      "  warnings.warn(\n",
      "\n"
     ]
    },
    {
     "name": "stdout",
     "output_type": "stream",
     "text": [
      "Accuracy:                                                                                                              \n",
      "0.20326704545454546                                                                                                    \n",
      " ROC_AUC:                                                                                                              \n",
      "0.5                                                                                                                    \n",
      "precision:                                                                                                             \n",
      "0.20326704545454546                                                                                                    \n",
      "f1:                                                                                                                    \n",
      "0.3378585763192067                                                                                                     \n",
      "------------------------------------                                                                                   \n",
      " 17%|███████▋                                      | 84/500 [00:32<02:52,  2.42trial/s, best loss: -0.3378585763192067]"
     ]
    },
    {
     "name": "stderr",
     "output_type": "stream",
     "text": [
      "D:\\ProgramData\\anaconda3\\Lib\\site-packages\\xgboost\\sklearn.py:889: UserWarning: `eval_metric` in `fit` method is deprecated for better compatibility with scikit-learn, use `eval_metric` in constructor or`set_params` instead.\n",
      "  warnings.warn(\n",
      "\n",
      "D:\\ProgramData\\anaconda3\\Lib\\site-packages\\xgboost\\sklearn.py:889: UserWarning: `early_stopping_rounds` in `fit` method is deprecated for better compatibility with scikit-learn, use `early_stopping_rounds` in constructor or`set_params` instead.\n",
      "  warnings.warn(\n",
      "\n"
     ]
    },
    {
     "name": "stdout",
     "output_type": "stream",
     "text": [
      "Accuracy:                                                                                                              \n",
      "0.20326704545454546                                                                                                    \n",
      " ROC_AUC:                                                                                                              \n",
      "0.5                                                                                                                    \n",
      "precision:                                                                                                             \n",
      "0.20326704545454546                                                                                                    \n",
      "f1:                                                                                                                    \n",
      "0.3378585763192067                                                                                                     \n",
      "------------------------------------                                                                                   \n",
      " 17%|███████▊                                      | 85/500 [00:33<02:45,  2.51trial/s, best loss: -0.3378585763192067]"
     ]
    },
    {
     "name": "stderr",
     "output_type": "stream",
     "text": [
      "D:\\ProgramData\\anaconda3\\Lib\\site-packages\\xgboost\\sklearn.py:889: UserWarning: `eval_metric` in `fit` method is deprecated for better compatibility with scikit-learn, use `eval_metric` in constructor or`set_params` instead.\n",
      "  warnings.warn(\n",
      "\n",
      "D:\\ProgramData\\anaconda3\\Lib\\site-packages\\xgboost\\sklearn.py:889: UserWarning: `early_stopping_rounds` in `fit` method is deprecated for better compatibility with scikit-learn, use `early_stopping_rounds` in constructor or`set_params` instead.\n",
      "  warnings.warn(\n",
      "\n"
     ]
    },
    {
     "name": "stdout",
     "output_type": "stream",
     "text": [
      "Accuracy:                                                                                                              \n",
      "0.20326704545454546                                                                                                    \n",
      " ROC_AUC:                                                                                                              \n",
      "0.5                                                                                                                    \n",
      "precision:                                                                                                             \n",
      "0.20326704545454546                                                                                                    \n",
      "f1:                                                                                                                    \n",
      "0.3378585763192067                                                                                                     \n",
      "------------------------------------                                                                                   \n",
      " 17%|███████▉                                      | 86/500 [00:33<02:43,  2.54trial/s, best loss: -0.3378585763192067]"
     ]
    },
    {
     "name": "stderr",
     "output_type": "stream",
     "text": [
      "D:\\ProgramData\\anaconda3\\Lib\\site-packages\\xgboost\\sklearn.py:889: UserWarning: `eval_metric` in `fit` method is deprecated for better compatibility with scikit-learn, use `eval_metric` in constructor or`set_params` instead.\n",
      "  warnings.warn(\n",
      "\n",
      "D:\\ProgramData\\anaconda3\\Lib\\site-packages\\xgboost\\sklearn.py:889: UserWarning: `early_stopping_rounds` in `fit` method is deprecated for better compatibility with scikit-learn, use `early_stopping_rounds` in constructor or`set_params` instead.\n",
      "  warnings.warn(\n",
      "\n"
     ]
    },
    {
     "name": "stdout",
     "output_type": "stream",
     "text": [
      "Accuracy:                                                                                                              \n",
      "0.20326704545454546                                                                                                    \n",
      " ROC_AUC:                                                                                                              \n",
      "0.5                                                                                                                    \n",
      "precision:                                                                                                             \n",
      "0.20326704545454546                                                                                                    \n",
      "f1:                                                                                                                    \n",
      "0.3378585763192067                                                                                                     \n",
      "------------------------------------                                                                                   \n",
      " 17%|████████                                      | 87/500 [00:33<02:40,  2.58trial/s, best loss: -0.3378585763192067]"
     ]
    },
    {
     "name": "stderr",
     "output_type": "stream",
     "text": [
      "D:\\ProgramData\\anaconda3\\Lib\\site-packages\\xgboost\\sklearn.py:889: UserWarning: `eval_metric` in `fit` method is deprecated for better compatibility with scikit-learn, use `eval_metric` in constructor or`set_params` instead.\n",
      "  warnings.warn(\n",
      "\n",
      "D:\\ProgramData\\anaconda3\\Lib\\site-packages\\xgboost\\sklearn.py:889: UserWarning: `early_stopping_rounds` in `fit` method is deprecated for better compatibility with scikit-learn, use `early_stopping_rounds` in constructor or`set_params` instead.\n",
      "  warnings.warn(\n",
      "\n"
     ]
    },
    {
     "name": "stdout",
     "output_type": "stream",
     "text": [
      "Accuracy:                                                                                                              \n",
      "0.20326704545454546                                                                                                    \n",
      " ROC_AUC:                                                                                                              \n",
      "0.5                                                                                                                    \n",
      "precision:                                                                                                             \n",
      "0.20326704545454546                                                                                                    \n",
      "f1:                                                                                                                    \n",
      "0.3378585763192067                                                                                                     \n",
      "------------------------------------                                                                                   \n",
      " 18%|████████                                      | 88/500 [00:34<03:23,  2.03trial/s, best loss: -0.3378585763192067]"
     ]
    },
    {
     "name": "stderr",
     "output_type": "stream",
     "text": [
      "D:\\ProgramData\\anaconda3\\Lib\\site-packages\\xgboost\\sklearn.py:889: UserWarning: `eval_metric` in `fit` method is deprecated for better compatibility with scikit-learn, use `eval_metric` in constructor or`set_params` instead.\n",
      "  warnings.warn(\n",
      "\n",
      "D:\\ProgramData\\anaconda3\\Lib\\site-packages\\xgboost\\sklearn.py:889: UserWarning: `early_stopping_rounds` in `fit` method is deprecated for better compatibility with scikit-learn, use `early_stopping_rounds` in constructor or`set_params` instead.\n",
      "  warnings.warn(\n",
      "\n"
     ]
    },
    {
     "name": "stdout",
     "output_type": "stream",
     "text": [
      "Accuracy:                                                                                                              \n",
      "0.20326704545454546                                                                                                    \n",
      " ROC_AUC:                                                                                                              \n",
      "0.5                                                                                                                    \n",
      "precision:                                                                                                             \n",
      "0.20326704545454546                                                                                                    \n",
      "f1:                                                                                                                    \n",
      "0.3378585763192067                                                                                                     \n",
      "------------------------------------                                                                                   \n",
      " 18%|████████▏                                     | 89/500 [00:35<03:32,  1.93trial/s, best loss: -0.3378585763192067]"
     ]
    },
    {
     "name": "stderr",
     "output_type": "stream",
     "text": [
      "D:\\ProgramData\\anaconda3\\Lib\\site-packages\\xgboost\\sklearn.py:889: UserWarning: `eval_metric` in `fit` method is deprecated for better compatibility with scikit-learn, use `eval_metric` in constructor or`set_params` instead.\n",
      "  warnings.warn(\n",
      "\n",
      "D:\\ProgramData\\anaconda3\\Lib\\site-packages\\xgboost\\sklearn.py:889: UserWarning: `early_stopping_rounds` in `fit` method is deprecated for better compatibility with scikit-learn, use `early_stopping_rounds` in constructor or`set_params` instead.\n",
      "  warnings.warn(\n",
      "\n"
     ]
    },
    {
     "name": "stdout",
     "output_type": "stream",
     "text": [
      "Accuracy:                                                                                                              \n",
      "0.20326704545454546                                                                                                    \n",
      " ROC_AUC:                                                                                                              \n",
      "0.5                                                                                                                    \n",
      "precision:                                                                                                             \n",
      "0.20326704545454546                                                                                                    \n",
      "f1:                                                                                                                    \n",
      "0.3378585763192067                                                                                                     \n",
      "------------------------------------                                                                                   \n",
      " 18%|████████▎                                     | 90/500 [00:35<03:15,  2.10trial/s, best loss: -0.3378585763192067]"
     ]
    },
    {
     "name": "stderr",
     "output_type": "stream",
     "text": [
      "D:\\ProgramData\\anaconda3\\Lib\\site-packages\\xgboost\\sklearn.py:889: UserWarning: `eval_metric` in `fit` method is deprecated for better compatibility with scikit-learn, use `eval_metric` in constructor or`set_params` instead.\n",
      "  warnings.warn(\n",
      "\n",
      "D:\\ProgramData\\anaconda3\\Lib\\site-packages\\xgboost\\sklearn.py:889: UserWarning: `early_stopping_rounds` in `fit` method is deprecated for better compatibility with scikit-learn, use `early_stopping_rounds` in constructor or`set_params` instead.\n",
      "  warnings.warn(\n",
      "\n"
     ]
    },
    {
     "name": "stdout",
     "output_type": "stream",
     "text": [
      "Accuracy:                                                                                                              \n",
      "0.20326704545454546                                                                                                    \n",
      " ROC_AUC:                                                                                                              \n",
      "0.5                                                                                                                    \n",
      "precision:                                                                                                             \n",
      "0.20326704545454546                                                                                                    \n",
      "f1:                                                                                                                    \n",
      "0.3378585763192067                                                                                                     \n",
      "------------------------------------                                                                                   \n",
      " 18%|████████▎                                     | 91/500 [00:35<03:03,  2.23trial/s, best loss: -0.3378585763192067]"
     ]
    },
    {
     "name": "stderr",
     "output_type": "stream",
     "text": [
      "D:\\ProgramData\\anaconda3\\Lib\\site-packages\\xgboost\\sklearn.py:889: UserWarning: `eval_metric` in `fit` method is deprecated for better compatibility with scikit-learn, use `eval_metric` in constructor or`set_params` instead.\n",
      "  warnings.warn(\n",
      "\n",
      "D:\\ProgramData\\anaconda3\\Lib\\site-packages\\xgboost\\sklearn.py:889: UserWarning: `early_stopping_rounds` in `fit` method is deprecated for better compatibility with scikit-learn, use `early_stopping_rounds` in constructor or`set_params` instead.\n",
      "  warnings.warn(\n",
      "\n"
     ]
    },
    {
     "name": "stdout",
     "output_type": "stream",
     "text": [
      "Accuracy:                                                                                                              \n",
      "0.20326704545454546                                                                                                    \n",
      " ROC_AUC:                                                                                                              \n",
      "0.5                                                                                                                    \n",
      "precision:                                                                                                             \n",
      "0.20326704545454546                                                                                                    \n",
      "f1:                                                                                                                    \n",
      "0.3378585763192067                                                                                                     \n",
      "------------------------------------                                                                                   \n",
      " 18%|████████▍                                     | 92/500 [00:36<02:57,  2.31trial/s, best loss: -0.3378585763192067]"
     ]
    },
    {
     "name": "stderr",
     "output_type": "stream",
     "text": [
      "D:\\ProgramData\\anaconda3\\Lib\\site-packages\\xgboost\\sklearn.py:889: UserWarning: `eval_metric` in `fit` method is deprecated for better compatibility with scikit-learn, use `eval_metric` in constructor or`set_params` instead.\n",
      "  warnings.warn(\n",
      "\n",
      "D:\\ProgramData\\anaconda3\\Lib\\site-packages\\xgboost\\sklearn.py:889: UserWarning: `early_stopping_rounds` in `fit` method is deprecated for better compatibility with scikit-learn, use `early_stopping_rounds` in constructor or`set_params` instead.\n",
      "  warnings.warn(\n",
      "\n"
     ]
    },
    {
     "name": "stdout",
     "output_type": "stream",
     "text": [
      "Accuracy:                                                                                                              \n",
      "0.20326704545454546                                                                                                    \n",
      " ROC_AUC:                                                                                                              \n",
      "0.5                                                                                                                    \n",
      "precision:                                                                                                             \n",
      "0.20326704545454546                                                                                                    \n",
      "f1:                                                                                                                    \n",
      "0.3378585763192067                                                                                                     \n",
      "------------------------------------                                                                                   \n",
      " 19%|████████▌                                     | 93/500 [00:36<02:50,  2.38trial/s, best loss: -0.3378585763192067]"
     ]
    },
    {
     "name": "stderr",
     "output_type": "stream",
     "text": [
      "D:\\ProgramData\\anaconda3\\Lib\\site-packages\\xgboost\\sklearn.py:889: UserWarning: `eval_metric` in `fit` method is deprecated for better compatibility with scikit-learn, use `eval_metric` in constructor or`set_params` instead.\n",
      "  warnings.warn(\n",
      "\n",
      "D:\\ProgramData\\anaconda3\\Lib\\site-packages\\xgboost\\sklearn.py:889: UserWarning: `early_stopping_rounds` in `fit` method is deprecated for better compatibility with scikit-learn, use `early_stopping_rounds` in constructor or`set_params` instead.\n",
      "  warnings.warn(\n",
      "\n"
     ]
    },
    {
     "name": "stdout",
     "output_type": "stream",
     "text": [
      "Accuracy:                                                                                                              \n",
      "0.20326704545454546                                                                                                    \n",
      " ROC_AUC:                                                                                                              \n",
      "0.5                                                                                                                    \n",
      "precision:                                                                                                             \n",
      "0.20326704545454546                                                                                                    \n",
      "f1:                                                                                                                    \n",
      "0.3378585763192067                                                                                                     \n",
      "------------------------------------                                                                                   \n",
      " 19%|████████▋                                     | 94/500 [00:37<02:44,  2.47trial/s, best loss: -0.3378585763192067]"
     ]
    },
    {
     "name": "stderr",
     "output_type": "stream",
     "text": [
      "D:\\ProgramData\\anaconda3\\Lib\\site-packages\\xgboost\\sklearn.py:889: UserWarning: `eval_metric` in `fit` method is deprecated for better compatibility with scikit-learn, use `eval_metric` in constructor or`set_params` instead.\n",
      "  warnings.warn(\n",
      "\n",
      "D:\\ProgramData\\anaconda3\\Lib\\site-packages\\xgboost\\sklearn.py:889: UserWarning: `early_stopping_rounds` in `fit` method is deprecated for better compatibility with scikit-learn, use `early_stopping_rounds` in constructor or`set_params` instead.\n",
      "  warnings.warn(\n",
      "\n"
     ]
    },
    {
     "name": "stdout",
     "output_type": "stream",
     "text": [
      "Accuracy:                                                                                                              \n",
      "0.20326704545454546                                                                                                    \n",
      " ROC_AUC:                                                                                                              \n",
      "0.5                                                                                                                    \n",
      "precision:                                                                                                             \n",
      "0.20326704545454546                                                                                                    \n",
      "f1:                                                                                                                    \n",
      "0.3378585763192067                                                                                                     \n",
      "------------------------------------                                                                                   \n",
      " 19%|████████▋                                     | 95/500 [00:37<02:42,  2.49trial/s, best loss: -0.3378585763192067]"
     ]
    },
    {
     "name": "stderr",
     "output_type": "stream",
     "text": [
      "D:\\ProgramData\\anaconda3\\Lib\\site-packages\\xgboost\\sklearn.py:889: UserWarning: `eval_metric` in `fit` method is deprecated for better compatibility with scikit-learn, use `eval_metric` in constructor or`set_params` instead.\n",
      "  warnings.warn(\n",
      "\n",
      "D:\\ProgramData\\anaconda3\\Lib\\site-packages\\xgboost\\sklearn.py:889: UserWarning: `early_stopping_rounds` in `fit` method is deprecated for better compatibility with scikit-learn, use `early_stopping_rounds` in constructor or`set_params` instead.\n",
      "  warnings.warn(\n",
      "\n"
     ]
    },
    {
     "name": "stdout",
     "output_type": "stream",
     "text": [
      "Accuracy:                                                                                                              \n",
      "0.20326704545454546                                                                                                    \n",
      " ROC_AUC:                                                                                                              \n",
      "0.5                                                                                                                    \n",
      "precision:                                                                                                             \n",
      "0.20326704545454546                                                                                                    \n",
      "f1:                                                                                                                    \n",
      "0.3378585763192067                                                                                                     \n",
      "------------------------------------                                                                                   \n",
      " 19%|████████▊                                     | 96/500 [00:38<03:01,  2.23trial/s, best loss: -0.3378585763192067]"
     ]
    },
    {
     "name": "stderr",
     "output_type": "stream",
     "text": [
      "D:\\ProgramData\\anaconda3\\Lib\\site-packages\\xgboost\\sklearn.py:889: UserWarning: `eval_metric` in `fit` method is deprecated for better compatibility with scikit-learn, use `eval_metric` in constructor or`set_params` instead.\n",
      "  warnings.warn(\n",
      "\n",
      "D:\\ProgramData\\anaconda3\\Lib\\site-packages\\xgboost\\sklearn.py:889: UserWarning: `early_stopping_rounds` in `fit` method is deprecated for better compatibility with scikit-learn, use `early_stopping_rounds` in constructor or`set_params` instead.\n",
      "  warnings.warn(\n",
      "\n"
     ]
    },
    {
     "name": "stdout",
     "output_type": "stream",
     "text": [
      "Accuracy:                                                                                                              \n",
      "0.20326704545454546                                                                                                    \n",
      " ROC_AUC:                                                                                                              \n",
      "0.5                                                                                                                    \n",
      "precision:                                                                                                             \n",
      "0.20326704545454546                                                                                                    \n",
      "f1:                                                                                                                    \n",
      "0.3378585763192067                                                                                                     \n",
      "------------------------------------                                                                                   \n",
      " 19%|████████▉                                     | 97/500 [00:38<02:53,  2.33trial/s, best loss: -0.3378585763192067]"
     ]
    },
    {
     "name": "stderr",
     "output_type": "stream",
     "text": [
      "D:\\ProgramData\\anaconda3\\Lib\\site-packages\\xgboost\\sklearn.py:889: UserWarning: `eval_metric` in `fit` method is deprecated for better compatibility with scikit-learn, use `eval_metric` in constructor or`set_params` instead.\n",
      "  warnings.warn(\n",
      "\n",
      "D:\\ProgramData\\anaconda3\\Lib\\site-packages\\xgboost\\sklearn.py:889: UserWarning: `early_stopping_rounds` in `fit` method is deprecated for better compatibility with scikit-learn, use `early_stopping_rounds` in constructor or`set_params` instead.\n",
      "  warnings.warn(\n",
      "\n"
     ]
    },
    {
     "name": "stdout",
     "output_type": "stream",
     "text": [
      "Accuracy:                                                                                                              \n",
      "0.20326704545454546                                                                                                    \n",
      " ROC_AUC:                                                                                                              \n",
      "0.5                                                                                                                    \n",
      "precision:                                                                                                             \n",
      "0.20326704545454546                                                                                                    \n",
      "f1:                                                                                                                    \n",
      "0.3378585763192067                                                                                                     \n",
      "------------------------------------                                                                                   \n",
      " 20%|█████████                                     | 98/500 [00:38<02:47,  2.40trial/s, best loss: -0.3378585763192067]"
     ]
    },
    {
     "name": "stderr",
     "output_type": "stream",
     "text": [
      "D:\\ProgramData\\anaconda3\\Lib\\site-packages\\xgboost\\sklearn.py:889: UserWarning: `eval_metric` in `fit` method is deprecated for better compatibility with scikit-learn, use `eval_metric` in constructor or`set_params` instead.\n",
      "  warnings.warn(\n",
      "\n",
      "D:\\ProgramData\\anaconda3\\Lib\\site-packages\\xgboost\\sklearn.py:889: UserWarning: `early_stopping_rounds` in `fit` method is deprecated for better compatibility with scikit-learn, use `early_stopping_rounds` in constructor or`set_params` instead.\n",
      "  warnings.warn(\n",
      "\n"
     ]
    },
    {
     "name": "stdout",
     "output_type": "stream",
     "text": [
      "Accuracy:                                                                                                              \n",
      "0.20326704545454546                                                                                                    \n",
      " ROC_AUC:                                                                                                              \n",
      "0.5                                                                                                                    \n",
      "precision:                                                                                                             \n",
      "0.20326704545454546                                                                                                    \n",
      "f1:                                                                                                                    \n",
      "0.3378585763192067                                                                                                     \n",
      "------------------------------------                                                                                   \n",
      " 20%|█████████                                     | 99/500 [00:39<03:06,  2.16trial/s, best loss: -0.3378585763192067]"
     ]
    },
    {
     "name": "stderr",
     "output_type": "stream",
     "text": [
      "D:\\ProgramData\\anaconda3\\Lib\\site-packages\\xgboost\\sklearn.py:889: UserWarning: `eval_metric` in `fit` method is deprecated for better compatibility with scikit-learn, use `eval_metric` in constructor or`set_params` instead.\n",
      "  warnings.warn(\n",
      "\n",
      "D:\\ProgramData\\anaconda3\\Lib\\site-packages\\xgboost\\sklearn.py:889: UserWarning: `early_stopping_rounds` in `fit` method is deprecated for better compatibility with scikit-learn, use `early_stopping_rounds` in constructor or`set_params` instead.\n",
      "  warnings.warn(\n",
      "\n"
     ]
    },
    {
     "name": "stdout",
     "output_type": "stream",
     "text": [
      "Accuracy:                                                                                                              \n",
      "0.20326704545454546                                                                                                    \n",
      " ROC_AUC:                                                                                                              \n",
      "0.5                                                                                                                    \n",
      "precision:                                                                                                             \n",
      "0.20326704545454546                                                                                                    \n",
      "f1:                                                                                                                    \n",
      "0.3378585763192067                                                                                                     \n",
      "------------------------------------                                                                                   \n",
      " 20%|█████████                                    | 100/500 [00:39<03:16,  2.03trial/s, best loss: -0.3378585763192067]"
     ]
    },
    {
     "name": "stderr",
     "output_type": "stream",
     "text": [
      "D:\\ProgramData\\anaconda3\\Lib\\site-packages\\xgboost\\sklearn.py:889: UserWarning: `eval_metric` in `fit` method is deprecated for better compatibility with scikit-learn, use `eval_metric` in constructor or`set_params` instead.\n",
      "  warnings.warn(\n",
      "\n",
      "D:\\ProgramData\\anaconda3\\Lib\\site-packages\\xgboost\\sklearn.py:889: UserWarning: `early_stopping_rounds` in `fit` method is deprecated for better compatibility with scikit-learn, use `early_stopping_rounds` in constructor or`set_params` instead.\n",
      "  warnings.warn(\n",
      "\n"
     ]
    },
    {
     "name": "stdout",
     "output_type": "stream",
     "text": [
      "Accuracy:                                                                                                              \n",
      "0.20326704545454546                                                                                                    \n",
      " ROC_AUC:                                                                                                              \n",
      "0.5                                                                                                                    \n",
      "precision:                                                                                                             \n",
      "0.20326704545454546                                                                                                    \n",
      "f1:                                                                                                                    \n",
      "0.3378585763192067                                                                                                     \n",
      "------------------------------------                                                                                   \n",
      " 20%|█████████                                    | 101/500 [00:40<03:04,  2.17trial/s, best loss: -0.3378585763192067]"
     ]
    },
    {
     "name": "stderr",
     "output_type": "stream",
     "text": [
      "D:\\ProgramData\\anaconda3\\Lib\\site-packages\\xgboost\\sklearn.py:889: UserWarning: `eval_metric` in `fit` method is deprecated for better compatibility with scikit-learn, use `eval_metric` in constructor or`set_params` instead.\n",
      "  warnings.warn(\n",
      "\n",
      "D:\\ProgramData\\anaconda3\\Lib\\site-packages\\xgboost\\sklearn.py:889: UserWarning: `early_stopping_rounds` in `fit` method is deprecated for better compatibility with scikit-learn, use `early_stopping_rounds` in constructor or`set_params` instead.\n",
      "  warnings.warn(\n",
      "\n"
     ]
    },
    {
     "name": "stdout",
     "output_type": "stream",
     "text": [
      "Accuracy:                                                                                                              \n",
      "0.20326704545454546                                                                                                    \n",
      " ROC_AUC:                                                                                                              \n",
      "0.5                                                                                                                    \n",
      "precision:                                                                                                             \n",
      "0.20326704545454546                                                                                                    \n",
      "f1:                                                                                                                    \n",
      "0.3378585763192067                                                                                                     \n",
      "------------------------------------                                                                                   \n",
      " 20%|█████████▏                                   | 102/500 [00:40<02:54,  2.28trial/s, best loss: -0.3378585763192067]"
     ]
    },
    {
     "name": "stderr",
     "output_type": "stream",
     "text": [
      "D:\\ProgramData\\anaconda3\\Lib\\site-packages\\xgboost\\sklearn.py:889: UserWarning: `eval_metric` in `fit` method is deprecated for better compatibility with scikit-learn, use `eval_metric` in constructor or`set_params` instead.\n",
      "  warnings.warn(\n",
      "\n",
      "D:\\ProgramData\\anaconda3\\Lib\\site-packages\\xgboost\\sklearn.py:889: UserWarning: `early_stopping_rounds` in `fit` method is deprecated for better compatibility with scikit-learn, use `early_stopping_rounds` in constructor or`set_params` instead.\n",
      "  warnings.warn(\n",
      "\n"
     ]
    },
    {
     "name": "stdout",
     "output_type": "stream",
     "text": [
      "Accuracy:                                                                                                              \n",
      "0.20326704545454546                                                                                                    \n",
      " ROC_AUC:                                                                                                              \n",
      "0.5                                                                                                                    \n",
      "precision:                                                                                                             \n",
      "0.20326704545454546                                                                                                    \n",
      "f1:                                                                                                                    \n",
      "0.3378585763192067                                                                                                     \n",
      "------------------------------------                                                                                   \n",
      " 21%|█████████▎                                   | 103/500 [00:41<02:47,  2.37trial/s, best loss: -0.3378585763192067]"
     ]
    },
    {
     "name": "stderr",
     "output_type": "stream",
     "text": [
      "D:\\ProgramData\\anaconda3\\Lib\\site-packages\\xgboost\\sklearn.py:889: UserWarning: `eval_metric` in `fit` method is deprecated for better compatibility with scikit-learn, use `eval_metric` in constructor or`set_params` instead.\n",
      "  warnings.warn(\n",
      "\n",
      "D:\\ProgramData\\anaconda3\\Lib\\site-packages\\xgboost\\sklearn.py:889: UserWarning: `early_stopping_rounds` in `fit` method is deprecated for better compatibility with scikit-learn, use `early_stopping_rounds` in constructor or`set_params` instead.\n",
      "  warnings.warn(\n",
      "\n"
     ]
    },
    {
     "name": "stdout",
     "output_type": "stream",
     "text": [
      "Accuracy:                                                                                                              \n",
      "0.20326704545454546                                                                                                    \n",
      " ROC_AUC:                                                                                                              \n",
      "0.5                                                                                                                    \n",
      "precision:                                                                                                             \n",
      "0.20326704545454546                                                                                                    \n",
      "f1:                                                                                                                    \n",
      "0.3378585763192067                                                                                                     \n",
      "------------------------------------                                                                                   \n",
      " 21%|█████████▎                                   | 104/500 [00:41<02:43,  2.42trial/s, best loss: -0.3378585763192067]"
     ]
    },
    {
     "name": "stderr",
     "output_type": "stream",
     "text": [
      "D:\\ProgramData\\anaconda3\\Lib\\site-packages\\xgboost\\sklearn.py:889: UserWarning: `eval_metric` in `fit` method is deprecated for better compatibility with scikit-learn, use `eval_metric` in constructor or`set_params` instead.\n",
      "  warnings.warn(\n",
      "\n",
      "D:\\ProgramData\\anaconda3\\Lib\\site-packages\\xgboost\\sklearn.py:889: UserWarning: `early_stopping_rounds` in `fit` method is deprecated for better compatibility with scikit-learn, use `early_stopping_rounds` in constructor or`set_params` instead.\n",
      "  warnings.warn(\n",
      "\n"
     ]
    },
    {
     "name": "stdout",
     "output_type": "stream",
     "text": [
      "Accuracy:                                                                                                              \n",
      "0.20326704545454546                                                                                                    \n",
      " ROC_AUC:                                                                                                              \n",
      "0.5                                                                                                                    \n",
      "precision:                                                                                                             \n",
      "0.20326704545454546                                                                                                    \n",
      "f1:                                                                                                                    \n",
      "0.3378585763192067                                                                                                     \n",
      "------------------------------------                                                                                   \n",
      " 21%|█████████▍                                   | 105/500 [00:41<02:38,  2.49trial/s, best loss: -0.3378585763192067]"
     ]
    },
    {
     "name": "stderr",
     "output_type": "stream",
     "text": [
      "D:\\ProgramData\\anaconda3\\Lib\\site-packages\\xgboost\\sklearn.py:889: UserWarning: `eval_metric` in `fit` method is deprecated for better compatibility with scikit-learn, use `eval_metric` in constructor or`set_params` instead.\n",
      "  warnings.warn(\n",
      "\n",
      "D:\\ProgramData\\anaconda3\\Lib\\site-packages\\xgboost\\sklearn.py:889: UserWarning: `early_stopping_rounds` in `fit` method is deprecated for better compatibility with scikit-learn, use `early_stopping_rounds` in constructor or`set_params` instead.\n",
      "  warnings.warn(\n",
      "\n"
     ]
    },
    {
     "name": "stdout",
     "output_type": "stream",
     "text": [
      "Accuracy:                                                                                                              \n",
      "0.20326704545454546                                                                                                    \n",
      " ROC_AUC:                                                                                                              \n",
      "0.5                                                                                                                    \n",
      "precision:                                                                                                             \n",
      "0.20326704545454546                                                                                                    \n",
      "f1:                                                                                                                    \n",
      "0.3378585763192067                                                                                                     \n",
      "------------------------------------                                                                                   \n",
      " 21%|█████████▌                                   | 106/500 [00:42<02:37,  2.51trial/s, best loss: -0.3378585763192067]"
     ]
    },
    {
     "name": "stderr",
     "output_type": "stream",
     "text": [
      "D:\\ProgramData\\anaconda3\\Lib\\site-packages\\xgboost\\sklearn.py:889: UserWarning: `eval_metric` in `fit` method is deprecated for better compatibility with scikit-learn, use `eval_metric` in constructor or`set_params` instead.\n",
      "  warnings.warn(\n",
      "\n",
      "D:\\ProgramData\\anaconda3\\Lib\\site-packages\\xgboost\\sklearn.py:889: UserWarning: `early_stopping_rounds` in `fit` method is deprecated for better compatibility with scikit-learn, use `early_stopping_rounds` in constructor or`set_params` instead.\n",
      "  warnings.warn(\n",
      "\n"
     ]
    },
    {
     "name": "stdout",
     "output_type": "stream",
     "text": [
      "Accuracy:                                                                                                              \n",
      "0.20326704545454546                                                                                                    \n",
      " ROC_AUC:                                                                                                              \n",
      "0.5                                                                                                                    \n",
      "precision:                                                                                                             \n",
      "0.20326704545454546                                                                                                    \n",
      "f1:                                                                                                                    \n",
      "0.3378585763192067                                                                                                     \n",
      "------------------------------------                                                                                   \n",
      " 21%|█████████▋                                   | 107/500 [00:42<02:35,  2.54trial/s, best loss: -0.3378585763192067]"
     ]
    },
    {
     "name": "stderr",
     "output_type": "stream",
     "text": [
      "D:\\ProgramData\\anaconda3\\Lib\\site-packages\\xgboost\\sklearn.py:889: UserWarning: `eval_metric` in `fit` method is deprecated for better compatibility with scikit-learn, use `eval_metric` in constructor or`set_params` instead.\n",
      "  warnings.warn(\n",
      "\n",
      "D:\\ProgramData\\anaconda3\\Lib\\site-packages\\xgboost\\sklearn.py:889: UserWarning: `early_stopping_rounds` in `fit` method is deprecated for better compatibility with scikit-learn, use `early_stopping_rounds` in constructor or`set_params` instead.\n",
      "  warnings.warn(\n",
      "\n"
     ]
    },
    {
     "name": "stdout",
     "output_type": "stream",
     "text": [
      "Accuracy:                                                                                                              \n",
      "0.20326704545454546                                                                                                    \n",
      " ROC_AUC:                                                                                                              \n",
      "0.5                                                                                                                    \n",
      "precision:                                                                                                             \n",
      "0.20326704545454546                                                                                                    \n",
      "f1:                                                                                                                    \n",
      "0.3378585763192067                                                                                                     \n",
      "------------------------------------                                                                                   \n",
      " 22%|█████████▋                                   | 108/500 [00:43<02:33,  2.56trial/s, best loss: -0.3378585763192067]"
     ]
    },
    {
     "name": "stderr",
     "output_type": "stream",
     "text": [
      "D:\\ProgramData\\anaconda3\\Lib\\site-packages\\xgboost\\sklearn.py:889: UserWarning: `eval_metric` in `fit` method is deprecated for better compatibility with scikit-learn, use `eval_metric` in constructor or`set_params` instead.\n",
      "  warnings.warn(\n",
      "\n",
      "D:\\ProgramData\\anaconda3\\Lib\\site-packages\\xgboost\\sklearn.py:889: UserWarning: `early_stopping_rounds` in `fit` method is deprecated for better compatibility with scikit-learn, use `early_stopping_rounds` in constructor or`set_params` instead.\n",
      "  warnings.warn(\n",
      "\n"
     ]
    },
    {
     "name": "stdout",
     "output_type": "stream",
     "text": [
      "Accuracy:                                                                                                              \n",
      "0.20326704545454546                                                                                                    \n",
      " ROC_AUC:                                                                                                              \n",
      "0.5                                                                                                                    \n",
      "precision:                                                                                                             \n",
      "0.20326704545454546                                                                                                    \n",
      "f1:                                                                                                                    \n",
      "0.3378585763192067                                                                                                     \n",
      "------------------------------------                                                                                   \n",
      " 22%|█████████▊                                   | 109/500 [00:43<02:32,  2.56trial/s, best loss: -0.3378585763192067]"
     ]
    },
    {
     "name": "stderr",
     "output_type": "stream",
     "text": [
      "D:\\ProgramData\\anaconda3\\Lib\\site-packages\\xgboost\\sklearn.py:889: UserWarning: `eval_metric` in `fit` method is deprecated for better compatibility with scikit-learn, use `eval_metric` in constructor or`set_params` instead.\n",
      "  warnings.warn(\n",
      "\n",
      "D:\\ProgramData\\anaconda3\\Lib\\site-packages\\xgboost\\sklearn.py:889: UserWarning: `early_stopping_rounds` in `fit` method is deprecated for better compatibility with scikit-learn, use `early_stopping_rounds` in constructor or`set_params` instead.\n",
      "  warnings.warn(\n",
      "\n"
     ]
    },
    {
     "name": "stdout",
     "output_type": "stream",
     "text": [
      "Accuracy:                                                                                                              \n",
      "0.20326704545454546                                                                                                    \n",
      " ROC_AUC:                                                                                                              \n",
      "0.5                                                                                                                    \n",
      "precision:                                                                                                             \n",
      "0.20326704545454546                                                                                                    \n",
      "f1:                                                                                                                    \n",
      "0.3378585763192067                                                                                                     \n",
      "------------------------------------                                                                                   \n",
      " 22%|█████████▉                                   | 110/500 [00:43<02:31,  2.57trial/s, best loss: -0.3378585763192067]"
     ]
    },
    {
     "name": "stderr",
     "output_type": "stream",
     "text": [
      "D:\\ProgramData\\anaconda3\\Lib\\site-packages\\xgboost\\sklearn.py:889: UserWarning: `eval_metric` in `fit` method is deprecated for better compatibility with scikit-learn, use `eval_metric` in constructor or`set_params` instead.\n",
      "  warnings.warn(\n",
      "\n",
      "D:\\ProgramData\\anaconda3\\Lib\\site-packages\\xgboost\\sklearn.py:889: UserWarning: `early_stopping_rounds` in `fit` method is deprecated for better compatibility with scikit-learn, use `early_stopping_rounds` in constructor or`set_params` instead.\n",
      "  warnings.warn(\n",
      "\n"
     ]
    },
    {
     "name": "stdout",
     "output_type": "stream",
     "text": [
      "Accuracy:                                                                                                              \n",
      "0.20326704545454546                                                                                                    \n",
      " ROC_AUC:                                                                                                              \n",
      "0.5                                                                                                                    \n",
      "precision:                                                                                                             \n",
      "0.20326704545454546                                                                                                    \n",
      "f1:                                                                                                                    \n",
      "0.3378585763192067                                                                                                     \n",
      "------------------------------------                                                                                   \n",
      " 22%|█████████▉                                   | 111/500 [00:44<03:12,  2.02trial/s, best loss: -0.3378585763192067]"
     ]
    },
    {
     "name": "stderr",
     "output_type": "stream",
     "text": [
      "D:\\ProgramData\\anaconda3\\Lib\\site-packages\\xgboost\\sklearn.py:889: UserWarning: `eval_metric` in `fit` method is deprecated for better compatibility with scikit-learn, use `eval_metric` in constructor or`set_params` instead.\n",
      "  warnings.warn(\n",
      "\n",
      "D:\\ProgramData\\anaconda3\\Lib\\site-packages\\xgboost\\sklearn.py:889: UserWarning: `early_stopping_rounds` in `fit` method is deprecated for better compatibility with scikit-learn, use `early_stopping_rounds` in constructor or`set_params` instead.\n",
      "  warnings.warn(\n",
      "\n"
     ]
    },
    {
     "name": "stdout",
     "output_type": "stream",
     "text": [
      "Accuracy:                                                                                                              \n",
      "0.20326704545454546                                                                                                    \n",
      " ROC_AUC:                                                                                                              \n",
      "0.5                                                                                                                    \n",
      "precision:                                                                                                             \n",
      "0.20326704545454546                                                                                                    \n",
      "f1:                                                                                                                    \n",
      "0.3378585763192067                                                                                                     \n",
      "------------------------------------                                                                                   \n",
      " 22%|██████████                                   | 112/500 [00:44<02:58,  2.17trial/s, best loss: -0.3378585763192067]"
     ]
    },
    {
     "name": "stderr",
     "output_type": "stream",
     "text": [
      "D:\\ProgramData\\anaconda3\\Lib\\site-packages\\xgboost\\sklearn.py:889: UserWarning: `eval_metric` in `fit` method is deprecated for better compatibility with scikit-learn, use `eval_metric` in constructor or`set_params` instead.\n",
      "  warnings.warn(\n",
      "\n",
      "D:\\ProgramData\\anaconda3\\Lib\\site-packages\\xgboost\\sklearn.py:889: UserWarning: `early_stopping_rounds` in `fit` method is deprecated for better compatibility with scikit-learn, use `early_stopping_rounds` in constructor or`set_params` instead.\n",
      "  warnings.warn(\n",
      "\n"
     ]
    },
    {
     "name": "stdout",
     "output_type": "stream",
     "text": [
      "Accuracy:                                                                                                              \n",
      "0.20326704545454546                                                                                                    \n",
      " ROC_AUC:                                                                                                              \n",
      "0.5                                                                                                                    \n",
      "precision:                                                                                                             \n",
      "0.20326704545454546                                                                                                    \n",
      "f1:                                                                                                                    \n",
      "0.3378585763192067                                                                                                     \n",
      "------------------------------------                                                                                   \n",
      " 23%|██████████▏                                  | 113/500 [00:45<02:49,  2.29trial/s, best loss: -0.3378585763192067]"
     ]
    },
    {
     "name": "stderr",
     "output_type": "stream",
     "text": [
      "D:\\ProgramData\\anaconda3\\Lib\\site-packages\\xgboost\\sklearn.py:889: UserWarning: `eval_metric` in `fit` method is deprecated for better compatibility with scikit-learn, use `eval_metric` in constructor or`set_params` instead.\n",
      "  warnings.warn(\n",
      "\n",
      "D:\\ProgramData\\anaconda3\\Lib\\site-packages\\xgboost\\sklearn.py:889: UserWarning: `early_stopping_rounds` in `fit` method is deprecated for better compatibility with scikit-learn, use `early_stopping_rounds` in constructor or`set_params` instead.\n",
      "  warnings.warn(\n",
      "\n"
     ]
    },
    {
     "name": "stdout",
     "output_type": "stream",
     "text": [
      "Accuracy:                                                                                                              \n",
      "0.20326704545454546                                                                                                    \n",
      " ROC_AUC:                                                                                                              \n",
      "0.5                                                                                                                    \n",
      "precision:                                                                                                             \n",
      "0.20326704545454546                                                                                                    \n",
      "f1:                                                                                                                    \n",
      "0.3378585763192067                                                                                                     \n",
      "------------------------------------                                                                                   \n",
      " 23%|██████████▎                                  | 114/500 [00:45<02:41,  2.39trial/s, best loss: -0.3378585763192067]"
     ]
    },
    {
     "name": "stderr",
     "output_type": "stream",
     "text": [
      "D:\\ProgramData\\anaconda3\\Lib\\site-packages\\xgboost\\sklearn.py:889: UserWarning: `eval_metric` in `fit` method is deprecated for better compatibility with scikit-learn, use `eval_metric` in constructor or`set_params` instead.\n",
      "  warnings.warn(\n",
      "\n",
      "D:\\ProgramData\\anaconda3\\Lib\\site-packages\\xgboost\\sklearn.py:889: UserWarning: `early_stopping_rounds` in `fit` method is deprecated for better compatibility with scikit-learn, use `early_stopping_rounds` in constructor or`set_params` instead.\n",
      "  warnings.warn(\n",
      "\n"
     ]
    },
    {
     "name": "stdout",
     "output_type": "stream",
     "text": [
      "Accuracy:                                                                                                              \n",
      "0.20326704545454546                                                                                                    \n",
      " ROC_AUC:                                                                                                              \n",
      "0.5                                                                                                                    \n",
      "precision:                                                                                                             \n",
      "0.20326704545454546                                                                                                    \n",
      "f1:                                                                                                                    \n",
      "0.3378585763192067                                                                                                     \n",
      "------------------------------------                                                                                   \n",
      " 23%|██████████▎                                  | 115/500 [00:46<02:36,  2.46trial/s, best loss: -0.3378585763192067]"
     ]
    },
    {
     "name": "stderr",
     "output_type": "stream",
     "text": [
      "D:\\ProgramData\\anaconda3\\Lib\\site-packages\\xgboost\\sklearn.py:889: UserWarning: `eval_metric` in `fit` method is deprecated for better compatibility with scikit-learn, use `eval_metric` in constructor or`set_params` instead.\n",
      "  warnings.warn(\n",
      "\n",
      "D:\\ProgramData\\anaconda3\\Lib\\site-packages\\xgboost\\sklearn.py:889: UserWarning: `early_stopping_rounds` in `fit` method is deprecated for better compatibility with scikit-learn, use `early_stopping_rounds` in constructor or`set_params` instead.\n",
      "  warnings.warn(\n",
      "\n"
     ]
    },
    {
     "name": "stdout",
     "output_type": "stream",
     "text": [
      "Accuracy:                                                                                                              \n",
      "0.20326704545454546                                                                                                    \n",
      " ROC_AUC:                                                                                                              \n",
      "0.5                                                                                                                    \n",
      "precision:                                                                                                             \n",
      "0.20326704545454546                                                                                                    \n",
      "f1:                                                                                                                    \n",
      "0.3378585763192067                                                                                                     \n",
      "------------------------------------                                                                                   \n",
      " 23%|██████████▍                                  | 116/500 [00:46<02:35,  2.47trial/s, best loss: -0.3378585763192067]"
     ]
    },
    {
     "name": "stderr",
     "output_type": "stream",
     "text": [
      "D:\\ProgramData\\anaconda3\\Lib\\site-packages\\xgboost\\sklearn.py:889: UserWarning: `eval_metric` in `fit` method is deprecated for better compatibility with scikit-learn, use `eval_metric` in constructor or`set_params` instead.\n",
      "  warnings.warn(\n",
      "\n",
      "D:\\ProgramData\\anaconda3\\Lib\\site-packages\\xgboost\\sklearn.py:889: UserWarning: `early_stopping_rounds` in `fit` method is deprecated for better compatibility with scikit-learn, use `early_stopping_rounds` in constructor or`set_params` instead.\n",
      "  warnings.warn(\n",
      "\n"
     ]
    },
    {
     "name": "stdout",
     "output_type": "stream",
     "text": [
      "Accuracy:                                                                                                              \n",
      "0.20326704545454546                                                                                                    \n",
      " ROC_AUC:                                                                                                              \n",
      "0.5                                                                                                                    \n",
      "precision:                                                                                                             \n",
      "0.20326704545454546                                                                                                    \n",
      "f1:                                                                                                                    \n",
      "0.3378585763192067                                                                                                     \n",
      "------------------------------------                                                                                   \n",
      " 23%|██████████▌                                  | 117/500 [00:47<02:59,  2.13trial/s, best loss: -0.3378585763192067]"
     ]
    },
    {
     "name": "stderr",
     "output_type": "stream",
     "text": [
      "D:\\ProgramData\\anaconda3\\Lib\\site-packages\\xgboost\\sklearn.py:889: UserWarning: `eval_metric` in `fit` method is deprecated for better compatibility with scikit-learn, use `eval_metric` in constructor or`set_params` instead.\n",
      "  warnings.warn(\n",
      "\n",
      "D:\\ProgramData\\anaconda3\\Lib\\site-packages\\xgboost\\sklearn.py:889: UserWarning: `early_stopping_rounds` in `fit` method is deprecated for better compatibility with scikit-learn, use `early_stopping_rounds` in constructor or`set_params` instead.\n",
      "  warnings.warn(\n",
      "\n"
     ]
    },
    {
     "name": "stdout",
     "output_type": "stream",
     "text": [
      "Accuracy:                                                                                                              \n",
      "0.20326704545454546                                                                                                    \n",
      " ROC_AUC:                                                                                                              \n",
      "0.5                                                                                                                    \n",
      "precision:                                                                                                             \n",
      "0.20326704545454546                                                                                                    \n",
      "f1:                                                                                                                    \n",
      "0.3378585763192067                                                                                                     \n",
      "------------------------------------                                                                                   \n",
      " 24%|██████████▌                                  | 118/500 [00:47<02:49,  2.26trial/s, best loss: -0.3378585763192067]"
     ]
    },
    {
     "name": "stderr",
     "output_type": "stream",
     "text": [
      "D:\\ProgramData\\anaconda3\\Lib\\site-packages\\xgboost\\sklearn.py:889: UserWarning: `eval_metric` in `fit` method is deprecated for better compatibility with scikit-learn, use `eval_metric` in constructor or`set_params` instead.\n",
      "  warnings.warn(\n",
      "\n",
      "D:\\ProgramData\\anaconda3\\Lib\\site-packages\\xgboost\\sklearn.py:889: UserWarning: `early_stopping_rounds` in `fit` method is deprecated for better compatibility with scikit-learn, use `early_stopping_rounds` in constructor or`set_params` instead.\n",
      "  warnings.warn(\n",
      "\n"
     ]
    },
    {
     "name": "stdout",
     "output_type": "stream",
     "text": [
      "Accuracy:                                                                                                              \n",
      "0.20326704545454546                                                                                                    \n",
      " ROC_AUC:                                                                                                              \n",
      "0.5                                                                                                                    \n",
      "precision:                                                                                                             \n",
      "0.20326704545454546                                                                                                    \n",
      "f1:                                                                                                                    \n",
      "0.3378585763192067                                                                                                     \n",
      "------------------------------------                                                                                   \n",
      " 24%|██████████▋                                  | 119/500 [00:47<02:42,  2.35trial/s, best loss: -0.3378585763192067]"
     ]
    },
    {
     "name": "stderr",
     "output_type": "stream",
     "text": [
      "D:\\ProgramData\\anaconda3\\Lib\\site-packages\\xgboost\\sklearn.py:889: UserWarning: `eval_metric` in `fit` method is deprecated for better compatibility with scikit-learn, use `eval_metric` in constructor or`set_params` instead.\n",
      "  warnings.warn(\n",
      "\n",
      "D:\\ProgramData\\anaconda3\\Lib\\site-packages\\xgboost\\sklearn.py:889: UserWarning: `early_stopping_rounds` in `fit` method is deprecated for better compatibility with scikit-learn, use `early_stopping_rounds` in constructor or`set_params` instead.\n",
      "  warnings.warn(\n",
      "\n"
     ]
    },
    {
     "name": "stdout",
     "output_type": "stream",
     "text": [
      "Accuracy:                                                                                                              \n",
      "0.20326704545454546                                                                                                    \n",
      " ROC_AUC:                                                                                                              \n",
      "0.5                                                                                                                    \n",
      "precision:                                                                                                             \n",
      "0.20326704545454546                                                                                                    \n",
      "f1:                                                                                                                    \n",
      "0.3378585763192067                                                                                                     \n",
      "------------------------------------                                                                                   \n",
      " 24%|██████████▊                                  | 120/500 [00:48<02:38,  2.40trial/s, best loss: -0.3378585763192067]"
     ]
    },
    {
     "name": "stderr",
     "output_type": "stream",
     "text": [
      "D:\\ProgramData\\anaconda3\\Lib\\site-packages\\xgboost\\sklearn.py:889: UserWarning: `eval_metric` in `fit` method is deprecated for better compatibility with scikit-learn, use `eval_metric` in constructor or`set_params` instead.\n",
      "  warnings.warn(\n",
      "\n",
      "D:\\ProgramData\\anaconda3\\Lib\\site-packages\\xgboost\\sklearn.py:889: UserWarning: `early_stopping_rounds` in `fit` method is deprecated for better compatibility with scikit-learn, use `early_stopping_rounds` in constructor or`set_params` instead.\n",
      "  warnings.warn(\n",
      "\n"
     ]
    },
    {
     "name": "stdout",
     "output_type": "stream",
     "text": [
      "Accuracy:                                                                                                              \n",
      "0.20326704545454546                                                                                                    \n",
      " ROC_AUC:                                                                                                              \n",
      "0.5                                                                                                                    \n",
      "precision:                                                                                                             \n",
      "0.20326704545454546                                                                                                    \n",
      "f1:                                                                                                                    \n",
      "0.3378585763192067                                                                                                     \n",
      "------------------------------------                                                                                   \n",
      " 24%|██████████▉                                  | 121/500 [00:48<02:37,  2.40trial/s, best loss: -0.3378585763192067]"
     ]
    },
    {
     "name": "stderr",
     "output_type": "stream",
     "text": [
      "D:\\ProgramData\\anaconda3\\Lib\\site-packages\\xgboost\\sklearn.py:889: UserWarning: `eval_metric` in `fit` method is deprecated for better compatibility with scikit-learn, use `eval_metric` in constructor or`set_params` instead.\n",
      "  warnings.warn(\n",
      "\n",
      "D:\\ProgramData\\anaconda3\\Lib\\site-packages\\xgboost\\sklearn.py:889: UserWarning: `early_stopping_rounds` in `fit` method is deprecated for better compatibility with scikit-learn, use `early_stopping_rounds` in constructor or`set_params` instead.\n",
      "  warnings.warn(\n",
      "\n"
     ]
    },
    {
     "name": "stdout",
     "output_type": "stream",
     "text": [
      "Accuracy:                                                                                                              \n",
      "0.20326704545454546                                                                                                    \n",
      " ROC_AUC:                                                                                                              \n",
      "0.5                                                                                                                    \n",
      "precision:                                                                                                             \n",
      "0.20326704545454546                                                                                                    \n",
      "f1:                                                                                                                    \n",
      "0.3378585763192067                                                                                                     \n",
      "------------------------------------                                                                                   \n",
      " 24%|██████████▉                                  | 122/500 [00:49<02:33,  2.46trial/s, best loss: -0.3378585763192067]"
     ]
    },
    {
     "name": "stderr",
     "output_type": "stream",
     "text": [
      "D:\\ProgramData\\anaconda3\\Lib\\site-packages\\xgboost\\sklearn.py:889: UserWarning: `eval_metric` in `fit` method is deprecated for better compatibility with scikit-learn, use `eval_metric` in constructor or`set_params` instead.\n",
      "  warnings.warn(\n",
      "\n",
      "D:\\ProgramData\\anaconda3\\Lib\\site-packages\\xgboost\\sklearn.py:889: UserWarning: `early_stopping_rounds` in `fit` method is deprecated for better compatibility with scikit-learn, use `early_stopping_rounds` in constructor or`set_params` instead.\n",
      "  warnings.warn(\n",
      "\n"
     ]
    },
    {
     "name": "stdout",
     "output_type": "stream",
     "text": [
      "Accuracy:                                                                                                              \n",
      "0.20326704545454546                                                                                                    \n",
      " ROC_AUC:                                                                                                              \n",
      "0.5                                                                                                                    \n",
      "precision:                                                                                                             \n",
      "0.20326704545454546                                                                                                    \n",
      "f1:                                                                                                                    \n",
      "0.3378585763192067                                                                                                     \n",
      "------------------------------------                                                                                   \n",
      " 25%|███████████                                  | 123/500 [00:49<02:51,  2.20trial/s, best loss: -0.3378585763192067]"
     ]
    },
    {
     "name": "stderr",
     "output_type": "stream",
     "text": [
      "D:\\ProgramData\\anaconda3\\Lib\\site-packages\\xgboost\\sklearn.py:889: UserWarning: `eval_metric` in `fit` method is deprecated for better compatibility with scikit-learn, use `eval_metric` in constructor or`set_params` instead.\n",
      "  warnings.warn(\n",
      "\n",
      "D:\\ProgramData\\anaconda3\\Lib\\site-packages\\xgboost\\sklearn.py:889: UserWarning: `early_stopping_rounds` in `fit` method is deprecated for better compatibility with scikit-learn, use `early_stopping_rounds` in constructor or`set_params` instead.\n",
      "  warnings.warn(\n",
      "\n"
     ]
    },
    {
     "name": "stdout",
     "output_type": "stream",
     "text": [
      "Accuracy:                                                                                                              \n",
      "0.20326704545454546                                                                                                    \n",
      " ROC_AUC:                                                                                                              \n",
      "0.5                                                                                                                    \n",
      "precision:                                                                                                             \n",
      "0.20326704545454546                                                                                                    \n",
      "f1:                                                                                                                    \n",
      "0.3378585763192067                                                                                                     \n",
      "------------------------------------                                                                                   \n",
      " 25%|███████████▏                                 | 124/500 [00:50<02:42,  2.31trial/s, best loss: -0.3378585763192067]"
     ]
    },
    {
     "name": "stderr",
     "output_type": "stream",
     "text": [
      "D:\\ProgramData\\anaconda3\\Lib\\site-packages\\xgboost\\sklearn.py:889: UserWarning: `eval_metric` in `fit` method is deprecated for better compatibility with scikit-learn, use `eval_metric` in constructor or`set_params` instead.\n",
      "  warnings.warn(\n",
      "\n",
      "D:\\ProgramData\\anaconda3\\Lib\\site-packages\\xgboost\\sklearn.py:889: UserWarning: `early_stopping_rounds` in `fit` method is deprecated for better compatibility with scikit-learn, use `early_stopping_rounds` in constructor or`set_params` instead.\n",
      "  warnings.warn(\n",
      "\n"
     ]
    },
    {
     "name": "stdout",
     "output_type": "stream",
     "text": [
      "Accuracy:                                                                                                              \n",
      "0.20326704545454546                                                                                                    \n",
      " ROC_AUC:                                                                                                              \n",
      "0.5                                                                                                                    \n",
      "precision:                                                                                                             \n",
      "0.20326704545454546                                                                                                    \n",
      "f1:                                                                                                                    \n",
      "0.3378585763192067                                                                                                     \n",
      "------------------------------------                                                                                   \n",
      " 25%|███████████▎                                 | 125/500 [00:50<02:39,  2.35trial/s, best loss: -0.3378585763192067]"
     ]
    },
    {
     "name": "stderr",
     "output_type": "stream",
     "text": [
      "D:\\ProgramData\\anaconda3\\Lib\\site-packages\\xgboost\\sklearn.py:889: UserWarning: `eval_metric` in `fit` method is deprecated for better compatibility with scikit-learn, use `eval_metric` in constructor or`set_params` instead.\n",
      "  warnings.warn(\n",
      "\n",
      "D:\\ProgramData\\anaconda3\\Lib\\site-packages\\xgboost\\sklearn.py:889: UserWarning: `early_stopping_rounds` in `fit` method is deprecated for better compatibility with scikit-learn, use `early_stopping_rounds` in constructor or`set_params` instead.\n",
      "  warnings.warn(\n",
      "\n"
     ]
    },
    {
     "name": "stdout",
     "output_type": "stream",
     "text": [
      "Accuracy:                                                                                                              \n",
      "0.20326704545454546                                                                                                    \n",
      " ROC_AUC:                                                                                                              \n",
      "0.5                                                                                                                    \n",
      "precision:                                                                                                             \n",
      "0.20326704545454546                                                                                                    \n",
      "f1:                                                                                                                    \n",
      "0.3378585763192067                                                                                                     \n",
      "------------------------------------                                                                                   \n",
      " 25%|███████████▎                                 | 126/500 [00:50<02:34,  2.43trial/s, best loss: -0.3378585763192067]"
     ]
    },
    {
     "name": "stderr",
     "output_type": "stream",
     "text": [
      "D:\\ProgramData\\anaconda3\\Lib\\site-packages\\xgboost\\sklearn.py:889: UserWarning: `eval_metric` in `fit` method is deprecated for better compatibility with scikit-learn, use `eval_metric` in constructor or`set_params` instead.\n",
      "  warnings.warn(\n",
      "\n",
      "D:\\ProgramData\\anaconda3\\Lib\\site-packages\\xgboost\\sklearn.py:889: UserWarning: `early_stopping_rounds` in `fit` method is deprecated for better compatibility with scikit-learn, use `early_stopping_rounds` in constructor or`set_params` instead.\n",
      "  warnings.warn(\n",
      "\n"
     ]
    },
    {
     "name": "stdout",
     "output_type": "stream",
     "text": [
      "Accuracy:                                                                                                              \n",
      "0.20326704545454546                                                                                                    \n",
      " ROC_AUC:                                                                                                              \n",
      "0.5                                                                                                                    \n",
      "precision:                                                                                                             \n",
      "0.20326704545454546                                                                                                    \n",
      "f1:                                                                                                                    \n",
      "0.3378585763192067                                                                                                     \n",
      "------------------------------------                                                                                   \n",
      " 25%|███████████▍                                 | 127/500 [00:51<02:30,  2.47trial/s, best loss: -0.3378585763192067]"
     ]
    },
    {
     "name": "stderr",
     "output_type": "stream",
     "text": [
      "D:\\ProgramData\\anaconda3\\Lib\\site-packages\\xgboost\\sklearn.py:889: UserWarning: `eval_metric` in `fit` method is deprecated for better compatibility with scikit-learn, use `eval_metric` in constructor or`set_params` instead.\n",
      "  warnings.warn(\n",
      "\n",
      "D:\\ProgramData\\anaconda3\\Lib\\site-packages\\xgboost\\sklearn.py:889: UserWarning: `early_stopping_rounds` in `fit` method is deprecated for better compatibility with scikit-learn, use `early_stopping_rounds` in constructor or`set_params` instead.\n",
      "  warnings.warn(\n",
      "\n"
     ]
    },
    {
     "name": "stdout",
     "output_type": "stream",
     "text": [
      "Accuracy:                                                                                                              \n",
      "0.20326704545454546                                                                                                    \n",
      " ROC_AUC:                                                                                                              \n",
      "0.5                                                                                                                    \n",
      "precision:                                                                                                             \n",
      "0.20326704545454546                                                                                                    \n",
      "f1:                                                                                                                    \n",
      "0.3378585763192067                                                                                                     \n",
      "------------------------------------                                                                                   \n",
      " 26%|███████████▌                                 | 128/500 [00:51<02:47,  2.22trial/s, best loss: -0.3378585763192067]"
     ]
    },
    {
     "name": "stderr",
     "output_type": "stream",
     "text": [
      "D:\\ProgramData\\anaconda3\\Lib\\site-packages\\xgboost\\sklearn.py:889: UserWarning: `eval_metric` in `fit` method is deprecated for better compatibility with scikit-learn, use `eval_metric` in constructor or`set_params` instead.\n",
      "  warnings.warn(\n",
      "\n",
      "D:\\ProgramData\\anaconda3\\Lib\\site-packages\\xgboost\\sklearn.py:889: UserWarning: `early_stopping_rounds` in `fit` method is deprecated for better compatibility with scikit-learn, use `early_stopping_rounds` in constructor or`set_params` instead.\n",
      "  warnings.warn(\n",
      "\n"
     ]
    },
    {
     "name": "stdout",
     "output_type": "stream",
     "text": [
      "Accuracy:                                                                                                              \n",
      "0.20326704545454546                                                                                                    \n",
      " ROC_AUC:                                                                                                              \n",
      "0.5                                                                                                                    \n",
      "precision:                                                                                                             \n",
      "0.20326704545454546                                                                                                    \n",
      "f1:                                                                                                                    \n",
      "0.3378585763192067                                                                                                     \n",
      "------------------------------------                                                                                   \n",
      " 26%|███████████▌                                 | 129/500 [00:52<02:39,  2.32trial/s, best loss: -0.3378585763192067]"
     ]
    },
    {
     "name": "stderr",
     "output_type": "stream",
     "text": [
      "D:\\ProgramData\\anaconda3\\Lib\\site-packages\\xgboost\\sklearn.py:889: UserWarning: `eval_metric` in `fit` method is deprecated for better compatibility with scikit-learn, use `eval_metric` in constructor or`set_params` instead.\n",
      "  warnings.warn(\n",
      "\n",
      "D:\\ProgramData\\anaconda3\\Lib\\site-packages\\xgboost\\sklearn.py:889: UserWarning: `early_stopping_rounds` in `fit` method is deprecated for better compatibility with scikit-learn, use `early_stopping_rounds` in constructor or`set_params` instead.\n",
      "  warnings.warn(\n",
      "\n"
     ]
    },
    {
     "name": "stdout",
     "output_type": "stream",
     "text": [
      "Accuracy:                                                                                                              \n",
      "0.20326704545454546                                                                                                    \n",
      " ROC_AUC:                                                                                                              \n",
      "0.5                                                                                                                    \n",
      "precision:                                                                                                             \n",
      "0.20326704545454546                                                                                                    \n",
      "f1:                                                                                                                    \n",
      "0.3378585763192067                                                                                                     \n",
      "------------------------------------                                                                                   \n",
      " 26%|███████████▋                                 | 130/500 [00:52<02:35,  2.37trial/s, best loss: -0.3378585763192067]"
     ]
    },
    {
     "name": "stderr",
     "output_type": "stream",
     "text": [
      "D:\\ProgramData\\anaconda3\\Lib\\site-packages\\xgboost\\sklearn.py:889: UserWarning: `eval_metric` in `fit` method is deprecated for better compatibility with scikit-learn, use `eval_metric` in constructor or`set_params` instead.\n",
      "  warnings.warn(\n",
      "\n",
      "D:\\ProgramData\\anaconda3\\Lib\\site-packages\\xgboost\\sklearn.py:889: UserWarning: `early_stopping_rounds` in `fit` method is deprecated for better compatibility with scikit-learn, use `early_stopping_rounds` in constructor or`set_params` instead.\n",
      "  warnings.warn(\n",
      "\n"
     ]
    },
    {
     "name": "stdout",
     "output_type": "stream",
     "text": [
      "Accuracy:                                                                                                              \n",
      "0.20326704545454546                                                                                                    \n",
      " ROC_AUC:                                                                                                              \n",
      "0.5                                                                                                                    \n",
      "precision:                                                                                                             \n",
      "0.20326704545454546                                                                                                    \n",
      "f1:                                                                                                                    \n",
      "0.3378585763192067                                                                                                     \n",
      "------------------------------------                                                                                   \n",
      " 26%|███████████▊                                 | 131/500 [00:52<02:31,  2.43trial/s, best loss: -0.3378585763192067]"
     ]
    },
    {
     "name": "stderr",
     "output_type": "stream",
     "text": [
      "D:\\ProgramData\\anaconda3\\Lib\\site-packages\\xgboost\\sklearn.py:889: UserWarning: `eval_metric` in `fit` method is deprecated for better compatibility with scikit-learn, use `eval_metric` in constructor or`set_params` instead.\n",
      "  warnings.warn(\n",
      "\n",
      "D:\\ProgramData\\anaconda3\\Lib\\site-packages\\xgboost\\sklearn.py:889: UserWarning: `early_stopping_rounds` in `fit` method is deprecated for better compatibility with scikit-learn, use `early_stopping_rounds` in constructor or`set_params` instead.\n",
      "  warnings.warn(\n",
      "\n"
     ]
    },
    {
     "name": "stdout",
     "output_type": "stream",
     "text": [
      "Accuracy:                                                                                                              \n",
      "0.20326704545454546                                                                                                    \n",
      " ROC_AUC:                                                                                                              \n",
      "0.5                                                                                                                    \n",
      "precision:                                                                                                             \n",
      "0.20326704545454546                                                                                                    \n",
      "f1:                                                                                                                    \n",
      "0.3378585763192067                                                                                                     \n",
      "------------------------------------                                                                                   \n",
      " 26%|███████████▉                                 | 132/500 [00:53<02:53,  2.12trial/s, best loss: -0.3378585763192067]"
     ]
    },
    {
     "name": "stderr",
     "output_type": "stream",
     "text": [
      "D:\\ProgramData\\anaconda3\\Lib\\site-packages\\xgboost\\sklearn.py:889: UserWarning: `eval_metric` in `fit` method is deprecated for better compatibility with scikit-learn, use `eval_metric` in constructor or`set_params` instead.\n",
      "  warnings.warn(\n",
      "\n",
      "D:\\ProgramData\\anaconda3\\Lib\\site-packages\\xgboost\\sklearn.py:889: UserWarning: `early_stopping_rounds` in `fit` method is deprecated for better compatibility with scikit-learn, use `early_stopping_rounds` in constructor or`set_params` instead.\n",
      "  warnings.warn(\n",
      "\n"
     ]
    },
    {
     "name": "stdout",
     "output_type": "stream",
     "text": [
      "Accuracy:                                                                                                              \n",
      "0.20326704545454546                                                                                                    \n",
      " ROC_AUC:                                                                                                              \n",
      "0.5                                                                                                                    \n",
      "precision:                                                                                                             \n",
      "0.20326704545454546                                                                                                    \n",
      "f1:                                                                                                                    \n",
      "0.3378585763192067                                                                                                     \n",
      "------------------------------------                                                                                   \n",
      " 27%|███████████▉                                 | 133/500 [00:54<03:05,  1.98trial/s, best loss: -0.3378585763192067]"
     ]
    },
    {
     "name": "stderr",
     "output_type": "stream",
     "text": [
      "D:\\ProgramData\\anaconda3\\Lib\\site-packages\\xgboost\\sklearn.py:889: UserWarning: `eval_metric` in `fit` method is deprecated for better compatibility with scikit-learn, use `eval_metric` in constructor or`set_params` instead.\n",
      "  warnings.warn(\n",
      "\n",
      "D:\\ProgramData\\anaconda3\\Lib\\site-packages\\xgboost\\sklearn.py:889: UserWarning: `early_stopping_rounds` in `fit` method is deprecated for better compatibility with scikit-learn, use `early_stopping_rounds` in constructor or`set_params` instead.\n",
      "  warnings.warn(\n",
      "\n"
     ]
    },
    {
     "name": "stdout",
     "output_type": "stream",
     "text": [
      "Accuracy:                                                                                                              \n",
      "0.20326704545454546                                                                                                    \n",
      " ROC_AUC:                                                                                                              \n",
      "0.5                                                                                                                    \n",
      "precision:                                                                                                             \n",
      "0.20326704545454546                                                                                                    \n",
      "f1:                                                                                                                    \n",
      "0.3378585763192067                                                                                                     \n",
      "------------------------------------                                                                                   \n",
      " 27%|████████████                                 | 134/500 [00:54<03:17,  1.85trial/s, best loss: -0.3378585763192067]"
     ]
    },
    {
     "name": "stderr",
     "output_type": "stream",
     "text": [
      "D:\\ProgramData\\anaconda3\\Lib\\site-packages\\xgboost\\sklearn.py:889: UserWarning: `eval_metric` in `fit` method is deprecated for better compatibility with scikit-learn, use `eval_metric` in constructor or`set_params` instead.\n",
      "  warnings.warn(\n",
      "\n",
      "D:\\ProgramData\\anaconda3\\Lib\\site-packages\\xgboost\\sklearn.py:889: UserWarning: `early_stopping_rounds` in `fit` method is deprecated for better compatibility with scikit-learn, use `early_stopping_rounds` in constructor or`set_params` instead.\n",
      "  warnings.warn(\n",
      "\n"
     ]
    },
    {
     "name": "stdout",
     "output_type": "stream",
     "text": [
      "Accuracy:                                                                                                              \n",
      "0.20326704545454546                                                                                                    \n",
      " ROC_AUC:                                                                                                              \n",
      "0.5                                                                                                                    \n",
      "precision:                                                                                                             \n",
      "0.20326704545454546                                                                                                    \n",
      "f1:                                                                                                                    \n",
      "0.3378585763192067                                                                                                     \n",
      "------------------------------------                                                                                   \n",
      " 27%|████████████▏                                | 135/500 [00:55<03:04,  1.98trial/s, best loss: -0.3378585763192067]"
     ]
    },
    {
     "name": "stderr",
     "output_type": "stream",
     "text": [
      "D:\\ProgramData\\anaconda3\\Lib\\site-packages\\xgboost\\sklearn.py:889: UserWarning: `eval_metric` in `fit` method is deprecated for better compatibility with scikit-learn, use `eval_metric` in constructor or`set_params` instead.\n",
      "  warnings.warn(\n",
      "\n",
      "D:\\ProgramData\\anaconda3\\Lib\\site-packages\\xgboost\\sklearn.py:889: UserWarning: `early_stopping_rounds` in `fit` method is deprecated for better compatibility with scikit-learn, use `early_stopping_rounds` in constructor or`set_params` instead.\n",
      "  warnings.warn(\n",
      "\n"
     ]
    },
    {
     "name": "stdout",
     "output_type": "stream",
     "text": [
      "Accuracy:                                                                                                              \n",
      "0.20326704545454546                                                                                                    \n",
      " ROC_AUC:                                                                                                              \n",
      "0.5                                                                                                                    \n",
      "precision:                                                                                                             \n",
      "0.20326704545454546                                                                                                    \n",
      "f1:                                                                                                                    \n",
      "0.3378585763192067                                                                                                     \n",
      "------------------------------------                                                                                   \n",
      " 27%|████████████▏                                | 136/500 [00:55<03:13,  1.88trial/s, best loss: -0.3378585763192067]"
     ]
    },
    {
     "name": "stderr",
     "output_type": "stream",
     "text": [
      "D:\\ProgramData\\anaconda3\\Lib\\site-packages\\xgboost\\sklearn.py:889: UserWarning: `eval_metric` in `fit` method is deprecated for better compatibility with scikit-learn, use `eval_metric` in constructor or`set_params` instead.\n",
      "  warnings.warn(\n",
      "\n",
      "D:\\ProgramData\\anaconda3\\Lib\\site-packages\\xgboost\\sklearn.py:889: UserWarning: `early_stopping_rounds` in `fit` method is deprecated for better compatibility with scikit-learn, use `early_stopping_rounds` in constructor or`set_params` instead.\n",
      "  warnings.warn(\n",
      "\n"
     ]
    },
    {
     "name": "stdout",
     "output_type": "stream",
     "text": [
      "Accuracy:                                                                                                              \n",
      "0.20326704545454546                                                                                                    \n",
      " ROC_AUC:                                                                                                              \n",
      "0.5                                                                                                                    \n",
      "precision:                                                                                                             \n",
      "0.20326704545454546                                                                                                    \n",
      "f1:                                                                                                                    \n",
      "0.3378585763192067                                                                                                     \n",
      "------------------------------------                                                                                   \n",
      " 27%|████████████▎                                | 137/500 [00:56<03:20,  1.81trial/s, best loss: -0.3378585763192067]"
     ]
    },
    {
     "name": "stderr",
     "output_type": "stream",
     "text": [
      "D:\\ProgramData\\anaconda3\\Lib\\site-packages\\xgboost\\sklearn.py:889: UserWarning: `eval_metric` in `fit` method is deprecated for better compatibility with scikit-learn, use `eval_metric` in constructor or`set_params` instead.\n",
      "  warnings.warn(\n",
      "\n",
      "D:\\ProgramData\\anaconda3\\Lib\\site-packages\\xgboost\\sklearn.py:889: UserWarning: `early_stopping_rounds` in `fit` method is deprecated for better compatibility with scikit-learn, use `early_stopping_rounds` in constructor or`set_params` instead.\n",
      "  warnings.warn(\n",
      "\n"
     ]
    },
    {
     "name": "stdout",
     "output_type": "stream",
     "text": [
      "Accuracy:                                                                                                              \n",
      "0.20326704545454546                                                                                                    \n",
      " ROC_AUC:                                                                                                              \n",
      "0.5                                                                                                                    \n",
      "precision:                                                                                                             \n",
      "0.20326704545454546                                                                                                    \n",
      "f1:                                                                                                                    \n",
      "0.3378585763192067                                                                                                     \n",
      "------------------------------------                                                                                   \n",
      " 28%|████████████▍                                | 138/500 [00:56<03:28,  1.74trial/s, best loss: -0.3378585763192067]"
     ]
    },
    {
     "name": "stderr",
     "output_type": "stream",
     "text": [
      "D:\\ProgramData\\anaconda3\\Lib\\site-packages\\xgboost\\sklearn.py:889: UserWarning: `eval_metric` in `fit` method is deprecated for better compatibility with scikit-learn, use `eval_metric` in constructor or`set_params` instead.\n",
      "  warnings.warn(\n",
      "\n",
      "D:\\ProgramData\\anaconda3\\Lib\\site-packages\\xgboost\\sklearn.py:889: UserWarning: `early_stopping_rounds` in `fit` method is deprecated for better compatibility with scikit-learn, use `early_stopping_rounds` in constructor or`set_params` instead.\n",
      "  warnings.warn(\n",
      "\n"
     ]
    },
    {
     "name": "stdout",
     "output_type": "stream",
     "text": [
      "Accuracy:                                                                                                              \n",
      "0.20326704545454546                                                                                                    \n",
      " ROC_AUC:                                                                                                              \n",
      "0.5                                                                                                                    \n",
      "precision:                                                                                                             \n",
      "0.20326704545454546                                                                                                    \n",
      "f1:                                                                                                                    \n",
      "0.3378585763192067                                                                                                     \n",
      "------------------------------------                                                                                   \n",
      " 28%|████████████▌                                | 139/500 [00:57<03:08,  1.92trial/s, best loss: -0.3378585763192067]"
     ]
    },
    {
     "name": "stderr",
     "output_type": "stream",
     "text": [
      "D:\\ProgramData\\anaconda3\\Lib\\site-packages\\xgboost\\sklearn.py:889: UserWarning: `eval_metric` in `fit` method is deprecated for better compatibility with scikit-learn, use `eval_metric` in constructor or`set_params` instead.\n",
      "  warnings.warn(\n",
      "\n",
      "D:\\ProgramData\\anaconda3\\Lib\\site-packages\\xgboost\\sklearn.py:889: UserWarning: `early_stopping_rounds` in `fit` method is deprecated for better compatibility with scikit-learn, use `early_stopping_rounds` in constructor or`set_params` instead.\n",
      "  warnings.warn(\n",
      "\n"
     ]
    },
    {
     "name": "stdout",
     "output_type": "stream",
     "text": [
      "Accuracy:                                                                                                              \n",
      "0.20326704545454546                                                                                                    \n",
      " ROC_AUC:                                                                                                              \n",
      "0.5                                                                                                                    \n",
      "precision:                                                                                                             \n",
      "0.20326704545454546                                                                                                    \n",
      "f1:                                                                                                                    \n",
      "0.3378585763192067                                                                                                     \n",
      "------------------------------------                                                                                   \n",
      " 28%|████████████▌                                | 140/500 [00:57<02:53,  2.07trial/s, best loss: -0.3378585763192067]"
     ]
    },
    {
     "name": "stderr",
     "output_type": "stream",
     "text": [
      "D:\\ProgramData\\anaconda3\\Lib\\site-packages\\xgboost\\sklearn.py:889: UserWarning: `eval_metric` in `fit` method is deprecated for better compatibility with scikit-learn, use `eval_metric` in constructor or`set_params` instead.\n",
      "  warnings.warn(\n",
      "\n",
      "D:\\ProgramData\\anaconda3\\Lib\\site-packages\\xgboost\\sklearn.py:889: UserWarning: `early_stopping_rounds` in `fit` method is deprecated for better compatibility with scikit-learn, use `early_stopping_rounds` in constructor or`set_params` instead.\n",
      "  warnings.warn(\n",
      "\n"
     ]
    },
    {
     "name": "stdout",
     "output_type": "stream",
     "text": [
      "Accuracy:                                                                                                              \n",
      "0.20326704545454546                                                                                                    \n",
      " ROC_AUC:                                                                                                              \n",
      "0.5                                                                                                                    \n",
      "precision:                                                                                                             \n",
      "0.20326704545454546                                                                                                    \n",
      "f1:                                                                                                                    \n",
      "0.3378585763192067                                                                                                     \n",
      "------------------------------------                                                                                   \n",
      " 28%|████████████▋                                | 141/500 [00:58<02:43,  2.20trial/s, best loss: -0.3378585763192067]"
     ]
    },
    {
     "name": "stderr",
     "output_type": "stream",
     "text": [
      "D:\\ProgramData\\anaconda3\\Lib\\site-packages\\xgboost\\sklearn.py:889: UserWarning: `eval_metric` in `fit` method is deprecated for better compatibility with scikit-learn, use `eval_metric` in constructor or`set_params` instead.\n",
      "  warnings.warn(\n",
      "\n",
      "D:\\ProgramData\\anaconda3\\Lib\\site-packages\\xgboost\\sklearn.py:889: UserWarning: `early_stopping_rounds` in `fit` method is deprecated for better compatibility with scikit-learn, use `early_stopping_rounds` in constructor or`set_params` instead.\n",
      "  warnings.warn(\n",
      "\n"
     ]
    },
    {
     "name": "stdout",
     "output_type": "stream",
     "text": [
      "Accuracy:                                                                                                              \n",
      "0.20326704545454546                                                                                                    \n",
      " ROC_AUC:                                                                                                              \n",
      "0.5                                                                                                                    \n",
      "precision:                                                                                                             \n",
      "0.20326704545454546                                                                                                    \n",
      "f1:                                                                                                                    \n",
      "0.3378585763192067                                                                                                     \n",
      "------------------------------------                                                                                   \n",
      " 28%|████████████▊                                | 142/500 [00:58<02:39,  2.25trial/s, best loss: -0.3378585763192067]"
     ]
    },
    {
     "name": "stderr",
     "output_type": "stream",
     "text": [
      "D:\\ProgramData\\anaconda3\\Lib\\site-packages\\xgboost\\sklearn.py:889: UserWarning: `eval_metric` in `fit` method is deprecated for better compatibility with scikit-learn, use `eval_metric` in constructor or`set_params` instead.\n",
      "  warnings.warn(\n",
      "\n",
      "D:\\ProgramData\\anaconda3\\Lib\\site-packages\\xgboost\\sklearn.py:889: UserWarning: `early_stopping_rounds` in `fit` method is deprecated for better compatibility with scikit-learn, use `early_stopping_rounds` in constructor or`set_params` instead.\n",
      "  warnings.warn(\n",
      "\n"
     ]
    },
    {
     "name": "stdout",
     "output_type": "stream",
     "text": [
      "Accuracy:                                                                                                              \n",
      "0.20326704545454546                                                                                                    \n",
      " ROC_AUC:                                                                                                              \n",
      "0.5                                                                                                                    \n",
      "precision:                                                                                                             \n",
      "0.20326704545454546                                                                                                    \n",
      "f1:                                                                                                                    \n",
      "0.3378585763192067                                                                                                     \n",
      "------------------------------------                                                                                   \n",
      " 29%|████████████▊                                | 143/500 [00:59<02:34,  2.31trial/s, best loss: -0.3378585763192067]"
     ]
    },
    {
     "name": "stderr",
     "output_type": "stream",
     "text": [
      "D:\\ProgramData\\anaconda3\\Lib\\site-packages\\xgboost\\sklearn.py:889: UserWarning: `eval_metric` in `fit` method is deprecated for better compatibility with scikit-learn, use `eval_metric` in constructor or`set_params` instead.\n",
      "  warnings.warn(\n",
      "\n",
      "D:\\ProgramData\\anaconda3\\Lib\\site-packages\\xgboost\\sklearn.py:889: UserWarning: `early_stopping_rounds` in `fit` method is deprecated for better compatibility with scikit-learn, use `early_stopping_rounds` in constructor or`set_params` instead.\n",
      "  warnings.warn(\n",
      "\n"
     ]
    },
    {
     "name": "stdout",
     "output_type": "stream",
     "text": [
      "Accuracy:                                                                                                              \n",
      "0.20326704545454546                                                                                                    \n",
      " ROC_AUC:                                                                                                              \n",
      "0.5                                                                                                                    \n",
      "precision:                                                                                                             \n",
      "0.20326704545454546                                                                                                    \n",
      "f1:                                                                                                                    \n",
      "0.3378585763192067                                                                                                     \n",
      "------------------------------------                                                                                   \n",
      " 29%|████████████▉                                | 144/500 [00:59<02:29,  2.38trial/s, best loss: -0.3378585763192067]"
     ]
    },
    {
     "name": "stderr",
     "output_type": "stream",
     "text": [
      "D:\\ProgramData\\anaconda3\\Lib\\site-packages\\xgboost\\sklearn.py:889: UserWarning: `eval_metric` in `fit` method is deprecated for better compatibility with scikit-learn, use `eval_metric` in constructor or`set_params` instead.\n",
      "  warnings.warn(\n",
      "\n",
      "D:\\ProgramData\\anaconda3\\Lib\\site-packages\\xgboost\\sklearn.py:889: UserWarning: `early_stopping_rounds` in `fit` method is deprecated for better compatibility with scikit-learn, use `early_stopping_rounds` in constructor or`set_params` instead.\n",
      "  warnings.warn(\n",
      "\n"
     ]
    },
    {
     "name": "stdout",
     "output_type": "stream",
     "text": [
      "Accuracy:                                                                                                              \n",
      "0.20326704545454546                                                                                                    \n",
      " ROC_AUC:                                                                                                              \n",
      "0.5                                                                                                                    \n",
      "precision:                                                                                                             \n",
      "0.20326704545454546                                                                                                    \n",
      "f1:                                                                                                                    \n",
      "0.3378585763192067                                                                                                     \n",
      "------------------------------------                                                                                   \n",
      " 29%|█████████████                                | 145/500 [00:59<02:25,  2.43trial/s, best loss: -0.3378585763192067]"
     ]
    },
    {
     "name": "stderr",
     "output_type": "stream",
     "text": [
      "D:\\ProgramData\\anaconda3\\Lib\\site-packages\\xgboost\\sklearn.py:889: UserWarning: `eval_metric` in `fit` method is deprecated for better compatibility with scikit-learn, use `eval_metric` in constructor or`set_params` instead.\n",
      "  warnings.warn(\n",
      "\n",
      "D:\\ProgramData\\anaconda3\\Lib\\site-packages\\xgboost\\sklearn.py:889: UserWarning: `early_stopping_rounds` in `fit` method is deprecated for better compatibility with scikit-learn, use `early_stopping_rounds` in constructor or`set_params` instead.\n",
      "  warnings.warn(\n",
      "\n"
     ]
    },
    {
     "name": "stdout",
     "output_type": "stream",
     "text": [
      "Accuracy:                                                                                                              \n",
      "0.20326704545454546                                                                                                    \n",
      " ROC_AUC:                                                                                                              \n",
      "0.5                                                                                                                    \n",
      "precision:                                                                                                             \n",
      "0.20326704545454546                                                                                                    \n",
      "f1:                                                                                                                    \n",
      "0.3378585763192067                                                                                                     \n",
      "------------------------------------                                                                                   \n",
      " 29%|█████████████▏                               | 146/500 [01:00<02:31,  2.34trial/s, best loss: -0.3378585763192067]"
     ]
    },
    {
     "name": "stderr",
     "output_type": "stream",
     "text": [
      "D:\\ProgramData\\anaconda3\\Lib\\site-packages\\xgboost\\sklearn.py:889: UserWarning: `eval_metric` in `fit` method is deprecated for better compatibility with scikit-learn, use `eval_metric` in constructor or`set_params` instead.\n",
      "  warnings.warn(\n",
      "\n",
      "D:\\ProgramData\\anaconda3\\Lib\\site-packages\\xgboost\\sklearn.py:889: UserWarning: `early_stopping_rounds` in `fit` method is deprecated for better compatibility with scikit-learn, use `early_stopping_rounds` in constructor or`set_params` instead.\n",
      "  warnings.warn(\n",
      "\n"
     ]
    },
    {
     "name": "stdout",
     "output_type": "stream",
     "text": [
      "Accuracy:                                                                                                              \n",
      "0.20326704545454546                                                                                                    \n",
      " ROC_AUC:                                                                                                              \n",
      "0.5                                                                                                                    \n",
      "precision:                                                                                                             \n",
      "0.20326704545454546                                                                                                    \n",
      "f1:                                                                                                                    \n",
      "0.3378585763192067                                                                                                     \n",
      "------------------------------------                                                                                   \n",
      " 29%|█████████████▏                               | 147/500 [01:00<02:26,  2.40trial/s, best loss: -0.3378585763192067]"
     ]
    },
    {
     "name": "stderr",
     "output_type": "stream",
     "text": [
      "D:\\ProgramData\\anaconda3\\Lib\\site-packages\\xgboost\\sklearn.py:889: UserWarning: `eval_metric` in `fit` method is deprecated for better compatibility with scikit-learn, use `eval_metric` in constructor or`set_params` instead.\n",
      "  warnings.warn(\n",
      "\n",
      "D:\\ProgramData\\anaconda3\\Lib\\site-packages\\xgboost\\sklearn.py:889: UserWarning: `early_stopping_rounds` in `fit` method is deprecated for better compatibility with scikit-learn, use `early_stopping_rounds` in constructor or`set_params` instead.\n",
      "  warnings.warn(\n",
      "\n"
     ]
    },
    {
     "name": "stdout",
     "output_type": "stream",
     "text": [
      "Accuracy:                                                                                                              \n",
      "0.20326704545454546                                                                                                    \n",
      " ROC_AUC:                                                                                                              \n",
      "0.5                                                                                                                    \n",
      "precision:                                                                                                             \n",
      "0.20326704545454546                                                                                                    \n",
      "f1:                                                                                                                    \n",
      "0.3378585763192067                                                                                                     \n",
      "------------------------------------                                                                                   \n",
      " 30%|█████████████▎                               | 148/500 [01:01<02:54,  2.01trial/s, best loss: -0.3378585763192067]"
     ]
    },
    {
     "name": "stderr",
     "output_type": "stream",
     "text": [
      "D:\\ProgramData\\anaconda3\\Lib\\site-packages\\xgboost\\sklearn.py:889: UserWarning: `eval_metric` in `fit` method is deprecated for better compatibility with scikit-learn, use `eval_metric` in constructor or`set_params` instead.\n",
      "  warnings.warn(\n",
      "\n",
      "D:\\ProgramData\\anaconda3\\Lib\\site-packages\\xgboost\\sklearn.py:889: UserWarning: `early_stopping_rounds` in `fit` method is deprecated for better compatibility with scikit-learn, use `early_stopping_rounds` in constructor or`set_params` instead.\n",
      "  warnings.warn(\n",
      "\n"
     ]
    },
    {
     "name": "stdout",
     "output_type": "stream",
     "text": [
      "Accuracy:                                                                                                              \n",
      "0.20326704545454546                                                                                                    \n",
      " ROC_AUC:                                                                                                              \n",
      "0.5                                                                                                                    \n",
      "precision:                                                                                                             \n",
      "0.20326704545454546                                                                                                    \n",
      "f1:                                                                                                                    \n",
      "0.3378585763192067                                                                                                     \n",
      "------------------------------------                                                                                   \n",
      " 30%|█████████████▍                               | 149/500 [01:01<02:43,  2.14trial/s, best loss: -0.3378585763192067]"
     ]
    },
    {
     "name": "stderr",
     "output_type": "stream",
     "text": [
      "D:\\ProgramData\\anaconda3\\Lib\\site-packages\\xgboost\\sklearn.py:889: UserWarning: `eval_metric` in `fit` method is deprecated for better compatibility with scikit-learn, use `eval_metric` in constructor or`set_params` instead.\n",
      "  warnings.warn(\n",
      "\n",
      "D:\\ProgramData\\anaconda3\\Lib\\site-packages\\xgboost\\sklearn.py:889: UserWarning: `early_stopping_rounds` in `fit` method is deprecated for better compatibility with scikit-learn, use `early_stopping_rounds` in constructor or`set_params` instead.\n",
      "  warnings.warn(\n",
      "\n"
     ]
    },
    {
     "name": "stdout",
     "output_type": "stream",
     "text": [
      "Accuracy:                                                                                                              \n",
      "0.20326704545454546                                                                                                    \n",
      " ROC_AUC:                                                                                                              \n",
      "0.5                                                                                                                    \n",
      "precision:                                                                                                             \n",
      "0.20326704545454546                                                                                                    \n",
      "f1:                                                                                                                    \n",
      "0.3378585763192067                                                                                                     \n",
      "------------------------------------                                                                                   \n",
      " 30%|█████████████▌                               | 150/500 [01:02<02:42,  2.16trial/s, best loss: -0.3378585763192067]"
     ]
    },
    {
     "name": "stderr",
     "output_type": "stream",
     "text": [
      "D:\\ProgramData\\anaconda3\\Lib\\site-packages\\xgboost\\sklearn.py:889: UserWarning: `eval_metric` in `fit` method is deprecated for better compatibility with scikit-learn, use `eval_metric` in constructor or`set_params` instead.\n",
      "  warnings.warn(\n",
      "\n",
      "D:\\ProgramData\\anaconda3\\Lib\\site-packages\\xgboost\\sklearn.py:889: UserWarning: `early_stopping_rounds` in `fit` method is deprecated for better compatibility with scikit-learn, use `early_stopping_rounds` in constructor or`set_params` instead.\n",
      "  warnings.warn(\n",
      "\n"
     ]
    },
    {
     "name": "stdout",
     "output_type": "stream",
     "text": [
      "Accuracy:                                                                                                              \n",
      "0.20326704545454546                                                                                                    \n",
      " ROC_AUC:                                                                                                              \n",
      "0.5                                                                                                                    \n",
      "precision:                                                                                                             \n",
      "0.20326704545454546                                                                                                    \n",
      "f1:                                                                                                                    \n",
      "0.3378585763192067                                                                                                     \n",
      "------------------------------------                                                                                   \n",
      " 30%|█████████████▌                               | 151/500 [01:02<02:38,  2.20trial/s, best loss: -0.3378585763192067]"
     ]
    },
    {
     "name": "stderr",
     "output_type": "stream",
     "text": [
      "D:\\ProgramData\\anaconda3\\Lib\\site-packages\\xgboost\\sklearn.py:889: UserWarning: `eval_metric` in `fit` method is deprecated for better compatibility with scikit-learn, use `eval_metric` in constructor or`set_params` instead.\n",
      "  warnings.warn(\n",
      "\n",
      "D:\\ProgramData\\anaconda3\\Lib\\site-packages\\xgboost\\sklearn.py:889: UserWarning: `early_stopping_rounds` in `fit` method is deprecated for better compatibility with scikit-learn, use `early_stopping_rounds` in constructor or`set_params` instead.\n",
      "  warnings.warn(\n",
      "\n"
     ]
    },
    {
     "name": "stdout",
     "output_type": "stream",
     "text": [
      "Accuracy:                                                                                                              \n",
      "0.20326704545454546                                                                                                    \n",
      " ROC_AUC:                                                                                                              \n",
      "0.5                                                                                                                    \n",
      "precision:                                                                                                             \n",
      "0.20326704545454546                                                                                                    \n",
      "f1:                                                                                                                    \n",
      "0.3378585763192067                                                                                                     \n",
      "------------------------------------                                                                                   \n",
      " 30%|█████████████▋                               | 152/500 [01:03<02:33,  2.26trial/s, best loss: -0.3378585763192067]"
     ]
    },
    {
     "name": "stderr",
     "output_type": "stream",
     "text": [
      "D:\\ProgramData\\anaconda3\\Lib\\site-packages\\xgboost\\sklearn.py:889: UserWarning: `eval_metric` in `fit` method is deprecated for better compatibility with scikit-learn, use `eval_metric` in constructor or`set_params` instead.\n",
      "  warnings.warn(\n",
      "\n",
      "D:\\ProgramData\\anaconda3\\Lib\\site-packages\\xgboost\\sklearn.py:889: UserWarning: `early_stopping_rounds` in `fit` method is deprecated for better compatibility with scikit-learn, use `early_stopping_rounds` in constructor or`set_params` instead.\n",
      "  warnings.warn(\n",
      "\n"
     ]
    },
    {
     "name": "stdout",
     "output_type": "stream",
     "text": [
      "Accuracy:                                                                                                              \n",
      "0.20326704545454546                                                                                                    \n",
      " ROC_AUC:                                                                                                              \n",
      "0.5                                                                                                                    \n",
      "precision:                                                                                                             \n",
      "0.20326704545454546                                                                                                    \n",
      "f1:                                                                                                                    \n",
      "0.3378585763192067                                                                                                     \n",
      "------------------------------------                                                                                   \n",
      " 31%|█████████████▊                               | 153/500 [01:03<02:50,  2.04trial/s, best loss: -0.3378585763192067]"
     ]
    },
    {
     "name": "stderr",
     "output_type": "stream",
     "text": [
      "D:\\ProgramData\\anaconda3\\Lib\\site-packages\\xgboost\\sklearn.py:889: UserWarning: `eval_metric` in `fit` method is deprecated for better compatibility with scikit-learn, use `eval_metric` in constructor or`set_params` instead.\n",
      "  warnings.warn(\n",
      "\n",
      "D:\\ProgramData\\anaconda3\\Lib\\site-packages\\xgboost\\sklearn.py:889: UserWarning: `early_stopping_rounds` in `fit` method is deprecated for better compatibility with scikit-learn, use `early_stopping_rounds` in constructor or`set_params` instead.\n",
      "  warnings.warn(\n",
      "\n"
     ]
    },
    {
     "name": "stdout",
     "output_type": "stream",
     "text": [
      "Accuracy:                                                                                                              \n",
      "0.20326704545454546                                                                                                    \n",
      " ROC_AUC:                                                                                                              \n",
      "0.5                                                                                                                    \n",
      "precision:                                                                                                             \n",
      "0.20326704545454546                                                                                                    \n",
      "f1:                                                                                                                    \n",
      "0.3378585763192067                                                                                                     \n",
      "------------------------------------                                                                                   \n",
      " 31%|█████████████▊                               | 154/500 [01:04<03:04,  1.88trial/s, best loss: -0.3378585763192067]"
     ]
    },
    {
     "name": "stderr",
     "output_type": "stream",
     "text": [
      "D:\\ProgramData\\anaconda3\\Lib\\site-packages\\xgboost\\sklearn.py:889: UserWarning: `eval_metric` in `fit` method is deprecated for better compatibility with scikit-learn, use `eval_metric` in constructor or`set_params` instead.\n",
      "  warnings.warn(\n",
      "\n",
      "D:\\ProgramData\\anaconda3\\Lib\\site-packages\\xgboost\\sklearn.py:889: UserWarning: `early_stopping_rounds` in `fit` method is deprecated for better compatibility with scikit-learn, use `early_stopping_rounds` in constructor or`set_params` instead.\n",
      "  warnings.warn(\n",
      "\n"
     ]
    },
    {
     "name": "stdout",
     "output_type": "stream",
     "text": [
      "Accuracy:                                                                                                              \n",
      "0.20326704545454546                                                                                                    \n",
      " ROC_AUC:                                                                                                              \n",
      "0.5                                                                                                                    \n",
      "precision:                                                                                                             \n",
      "0.20326704545454546                                                                                                    \n",
      "f1:                                                                                                                    \n",
      "0.3378585763192067                                                                                                     \n",
      "------------------------------------                                                                                   \n",
      " 31%|█████████████▉                               | 155/500 [01:04<02:52,  2.00trial/s, best loss: -0.3378585763192067]"
     ]
    },
    {
     "name": "stderr",
     "output_type": "stream",
     "text": [
      "D:\\ProgramData\\anaconda3\\Lib\\site-packages\\xgboost\\sklearn.py:889: UserWarning: `eval_metric` in `fit` method is deprecated for better compatibility with scikit-learn, use `eval_metric` in constructor or`set_params` instead.\n",
      "  warnings.warn(\n",
      "\n",
      "D:\\ProgramData\\anaconda3\\Lib\\site-packages\\xgboost\\sklearn.py:889: UserWarning: `early_stopping_rounds` in `fit` method is deprecated for better compatibility with scikit-learn, use `early_stopping_rounds` in constructor or`set_params` instead.\n",
      "  warnings.warn(\n",
      "\n"
     ]
    },
    {
     "name": "stdout",
     "output_type": "stream",
     "text": [
      "Accuracy:                                                                                                              \n",
      "0.20326704545454546                                                                                                    \n",
      " ROC_AUC:                                                                                                              \n",
      "0.5                                                                                                                    \n",
      "precision:                                                                                                             \n",
      "0.20326704545454546                                                                                                    \n",
      "f1:                                                                                                                    \n",
      "0.3378585763192067                                                                                                     \n",
      "------------------------------------                                                                                   \n",
      " 31%|██████████████                               | 156/500 [01:05<03:05,  1.86trial/s, best loss: -0.3378585763192067]"
     ]
    },
    {
     "name": "stderr",
     "output_type": "stream",
     "text": [
      "D:\\ProgramData\\anaconda3\\Lib\\site-packages\\xgboost\\sklearn.py:889: UserWarning: `eval_metric` in `fit` method is deprecated for better compatibility with scikit-learn, use `eval_metric` in constructor or`set_params` instead.\n",
      "  warnings.warn(\n",
      "\n",
      "D:\\ProgramData\\anaconda3\\Lib\\site-packages\\xgboost\\sklearn.py:889: UserWarning: `early_stopping_rounds` in `fit` method is deprecated for better compatibility with scikit-learn, use `early_stopping_rounds` in constructor or`set_params` instead.\n",
      "  warnings.warn(\n",
      "\n"
     ]
    },
    {
     "name": "stdout",
     "output_type": "stream",
     "text": [
      "Accuracy:                                                                                                              \n",
      "0.20326704545454546                                                                                                    \n",
      " ROC_AUC:                                                                                                              \n",
      "0.5                                                                                                                    \n",
      "precision:                                                                                                             \n",
      "0.20326704545454546                                                                                                    \n",
      "f1:                                                                                                                    \n",
      "0.3378585763192067                                                                                                     \n",
      "------------------------------------                                                                                   \n",
      " 31%|██████████████▏                              | 157/500 [01:05<02:51,  2.01trial/s, best loss: -0.3378585763192067]"
     ]
    },
    {
     "name": "stderr",
     "output_type": "stream",
     "text": [
      "D:\\ProgramData\\anaconda3\\Lib\\site-packages\\xgboost\\sklearn.py:889: UserWarning: `eval_metric` in `fit` method is deprecated for better compatibility with scikit-learn, use `eval_metric` in constructor or`set_params` instead.\n",
      "  warnings.warn(\n",
      "\n",
      "D:\\ProgramData\\anaconda3\\Lib\\site-packages\\xgboost\\sklearn.py:889: UserWarning: `early_stopping_rounds` in `fit` method is deprecated for better compatibility with scikit-learn, use `early_stopping_rounds` in constructor or`set_params` instead.\n",
      "  warnings.warn(\n",
      "\n"
     ]
    },
    {
     "name": "stdout",
     "output_type": "stream",
     "text": [
      "Accuracy:                                                                                                              \n",
      "0.20326704545454546                                                                                                    \n",
      " ROC_AUC:                                                                                                              \n",
      "0.5                                                                                                                    \n",
      "precision:                                                                                                             \n",
      "0.20326704545454546                                                                                                    \n",
      "f1:                                                                                                                    \n",
      "0.3378585763192067                                                                                                     \n",
      "------------------------------------                                                                                   \n",
      " 32%|██████████████▏                              | 158/500 [01:06<02:41,  2.12trial/s, best loss: -0.3378585763192067]"
     ]
    },
    {
     "name": "stderr",
     "output_type": "stream",
     "text": [
      "D:\\ProgramData\\anaconda3\\Lib\\site-packages\\xgboost\\sklearn.py:889: UserWarning: `eval_metric` in `fit` method is deprecated for better compatibility with scikit-learn, use `eval_metric` in constructor or`set_params` instead.\n",
      "  warnings.warn(\n",
      "\n",
      "D:\\ProgramData\\anaconda3\\Lib\\site-packages\\xgboost\\sklearn.py:889: UserWarning: `early_stopping_rounds` in `fit` method is deprecated for better compatibility with scikit-learn, use `early_stopping_rounds` in constructor or`set_params` instead.\n",
      "  warnings.warn(\n",
      "\n"
     ]
    },
    {
     "name": "stdout",
     "output_type": "stream",
     "text": [
      "Accuracy:                                                                                                              \n",
      "0.20326704545454546                                                                                                    \n",
      " ROC_AUC:                                                                                                              \n",
      "0.5                                                                                                                    \n",
      "precision:                                                                                                             \n",
      "0.20326704545454546                                                                                                    \n",
      "f1:                                                                                                                    \n",
      "0.3378585763192067                                                                                                     \n",
      "------------------------------------                                                                                   \n",
      " 32%|██████████████▎                              | 159/500 [01:06<02:36,  2.18trial/s, best loss: -0.3378585763192067]"
     ]
    },
    {
     "name": "stderr",
     "output_type": "stream",
     "text": [
      "D:\\ProgramData\\anaconda3\\Lib\\site-packages\\xgboost\\sklearn.py:889: UserWarning: `eval_metric` in `fit` method is deprecated for better compatibility with scikit-learn, use `eval_metric` in constructor or`set_params` instead.\n",
      "  warnings.warn(\n",
      "\n",
      "D:\\ProgramData\\anaconda3\\Lib\\site-packages\\xgboost\\sklearn.py:889: UserWarning: `early_stopping_rounds` in `fit` method is deprecated for better compatibility with scikit-learn, use `early_stopping_rounds` in constructor or`set_params` instead.\n",
      "  warnings.warn(\n",
      "\n"
     ]
    },
    {
     "name": "stdout",
     "output_type": "stream",
     "text": [
      "Accuracy:                                                                                                              \n",
      "0.20326704545454546                                                                                                    \n",
      " ROC_AUC:                                                                                                              \n",
      "0.5                                                                                                                    \n",
      "precision:                                                                                                             \n",
      "0.20326704545454546                                                                                                    \n",
      "f1:                                                                                                                    \n",
      "0.3378585763192067                                                                                                     \n",
      "------------------------------------                                                                                   \n",
      " 32%|██████████████▍                              | 160/500 [01:06<02:29,  2.28trial/s, best loss: -0.3378585763192067]"
     ]
    },
    {
     "name": "stderr",
     "output_type": "stream",
     "text": [
      "D:\\ProgramData\\anaconda3\\Lib\\site-packages\\xgboost\\sklearn.py:889: UserWarning: `eval_metric` in `fit` method is deprecated for better compatibility with scikit-learn, use `eval_metric` in constructor or`set_params` instead.\n",
      "  warnings.warn(\n",
      "\n",
      "D:\\ProgramData\\anaconda3\\Lib\\site-packages\\xgboost\\sklearn.py:889: UserWarning: `early_stopping_rounds` in `fit` method is deprecated for better compatibility with scikit-learn, use `early_stopping_rounds` in constructor or`set_params` instead.\n",
      "  warnings.warn(\n",
      "\n"
     ]
    },
    {
     "name": "stdout",
     "output_type": "stream",
     "text": [
      "Accuracy:                                                                                                              \n",
      "0.20326704545454546                                                                                                    \n",
      " ROC_AUC:                                                                                                              \n",
      "0.5                                                                                                                    \n",
      "precision:                                                                                                             \n",
      "0.20326704545454546                                                                                                    \n",
      "f1:                                                                                                                    \n",
      "0.3378585763192067                                                                                                     \n",
      "------------------------------------                                                                                   \n",
      " 32%|██████████████▍                              | 161/500 [01:07<02:24,  2.34trial/s, best loss: -0.3378585763192067]"
     ]
    },
    {
     "name": "stderr",
     "output_type": "stream",
     "text": [
      "D:\\ProgramData\\anaconda3\\Lib\\site-packages\\xgboost\\sklearn.py:889: UserWarning: `eval_metric` in `fit` method is deprecated for better compatibility with scikit-learn, use `eval_metric` in constructor or`set_params` instead.\n",
      "  warnings.warn(\n",
      "\n",
      "D:\\ProgramData\\anaconda3\\Lib\\site-packages\\xgboost\\sklearn.py:889: UserWarning: `early_stopping_rounds` in `fit` method is deprecated for better compatibility with scikit-learn, use `early_stopping_rounds` in constructor or`set_params` instead.\n",
      "  warnings.warn(\n",
      "\n"
     ]
    },
    {
     "name": "stdout",
     "output_type": "stream",
     "text": [
      "Accuracy:                                                                                                              \n",
      "0.20326704545454546                                                                                                    \n",
      " ROC_AUC:                                                                                                              \n",
      "0.5                                                                                                                    \n",
      "precision:                                                                                                             \n",
      "0.20326704545454546                                                                                                    \n",
      "f1:                                                                                                                    \n",
      "0.3378585763192067                                                                                                     \n",
      "------------------------------------                                                                                   \n",
      " 32%|██████████████▌                              | 162/500 [01:07<02:24,  2.33trial/s, best loss: -0.3378585763192067]"
     ]
    },
    {
     "name": "stderr",
     "output_type": "stream",
     "text": [
      "D:\\ProgramData\\anaconda3\\Lib\\site-packages\\xgboost\\sklearn.py:889: UserWarning: `eval_metric` in `fit` method is deprecated for better compatibility with scikit-learn, use `eval_metric` in constructor or`set_params` instead.\n",
      "  warnings.warn(\n",
      "\n",
      "D:\\ProgramData\\anaconda3\\Lib\\site-packages\\xgboost\\sklearn.py:889: UserWarning: `early_stopping_rounds` in `fit` method is deprecated for better compatibility with scikit-learn, use `early_stopping_rounds` in constructor or`set_params` instead.\n",
      "  warnings.warn(\n",
      "\n"
     ]
    },
    {
     "name": "stdout",
     "output_type": "stream",
     "text": [
      "Accuracy:                                                                                                              \n",
      "0.20326704545454546                                                                                                    \n",
      " ROC_AUC:                                                                                                              \n",
      "0.5                                                                                                                    \n",
      "precision:                                                                                                             \n",
      "0.20326704545454546                                                                                                    \n",
      "f1:                                                                                                                    \n",
      "0.3378585763192067                                                                                                     \n",
      "------------------------------------                                                                                   \n",
      " 33%|██████████████▋                              | 163/500 [01:08<02:21,  2.39trial/s, best loss: -0.3378585763192067]"
     ]
    },
    {
     "name": "stderr",
     "output_type": "stream",
     "text": [
      "D:\\ProgramData\\anaconda3\\Lib\\site-packages\\xgboost\\sklearn.py:889: UserWarning: `eval_metric` in `fit` method is deprecated for better compatibility with scikit-learn, use `eval_metric` in constructor or`set_params` instead.\n",
      "  warnings.warn(\n",
      "\n",
      "D:\\ProgramData\\anaconda3\\Lib\\site-packages\\xgboost\\sklearn.py:889: UserWarning: `early_stopping_rounds` in `fit` method is deprecated for better compatibility with scikit-learn, use `early_stopping_rounds` in constructor or`set_params` instead.\n",
      "  warnings.warn(\n",
      "\n"
     ]
    },
    {
     "name": "stdout",
     "output_type": "stream",
     "text": [
      "Accuracy:                                                                                                              \n",
      "0.20326704545454546                                                                                                    \n",
      " ROC_AUC:                                                                                                              \n",
      "0.5                                                                                                                    \n",
      "precision:                                                                                                             \n",
      "0.20326704545454546                                                                                                    \n",
      "f1:                                                                                                                    \n",
      "0.3378585763192067                                                                                                     \n",
      "------------------------------------                                                                                   \n",
      " 33%|██████████████▊                              | 164/500 [01:08<02:19,  2.41trial/s, best loss: -0.3378585763192067]"
     ]
    },
    {
     "name": "stderr",
     "output_type": "stream",
     "text": [
      "D:\\ProgramData\\anaconda3\\Lib\\site-packages\\xgboost\\sklearn.py:889: UserWarning: `eval_metric` in `fit` method is deprecated for better compatibility with scikit-learn, use `eval_metric` in constructor or`set_params` instead.\n",
      "  warnings.warn(\n",
      "\n",
      "D:\\ProgramData\\anaconda3\\Lib\\site-packages\\xgboost\\sklearn.py:889: UserWarning: `early_stopping_rounds` in `fit` method is deprecated for better compatibility with scikit-learn, use `early_stopping_rounds` in constructor or`set_params` instead.\n",
      "  warnings.warn(\n",
      "\n"
     ]
    },
    {
     "name": "stdout",
     "output_type": "stream",
     "text": [
      "Accuracy:                                                                                                              \n",
      "0.20326704545454546                                                                                                    \n",
      " ROC_AUC:                                                                                                              \n",
      "0.5                                                                                                                    \n",
      "precision:                                                                                                             \n",
      "0.20326704545454546                                                                                                    \n",
      "f1:                                                                                                                    \n",
      "0.3378585763192067                                                                                                     \n",
      "------------------------------------                                                                                   \n",
      " 33%|██████████████▊                              | 165/500 [01:09<02:20,  2.39trial/s, best loss: -0.3378585763192067]"
     ]
    },
    {
     "name": "stderr",
     "output_type": "stream",
     "text": [
      "D:\\ProgramData\\anaconda3\\Lib\\site-packages\\xgboost\\sklearn.py:889: UserWarning: `eval_metric` in `fit` method is deprecated for better compatibility with scikit-learn, use `eval_metric` in constructor or`set_params` instead.\n",
      "  warnings.warn(\n",
      "\n",
      "D:\\ProgramData\\anaconda3\\Lib\\site-packages\\xgboost\\sklearn.py:889: UserWarning: `early_stopping_rounds` in `fit` method is deprecated for better compatibility with scikit-learn, use `early_stopping_rounds` in constructor or`set_params` instead.\n",
      "  warnings.warn(\n",
      "\n"
     ]
    },
    {
     "name": "stdout",
     "output_type": "stream",
     "text": [
      "Accuracy:                                                                                                              \n",
      "0.20326704545454546                                                                                                    \n",
      " ROC_AUC:                                                                                                              \n",
      "0.5                                                                                                                    \n",
      "precision:                                                                                                             \n",
      "0.20326704545454546                                                                                                    \n",
      "f1:                                                                                                                    \n",
      "0.3378585763192067                                                                                                     \n",
      "------------------------------------                                                                                   \n",
      " 33%|██████████████▉                              | 166/500 [01:09<02:20,  2.38trial/s, best loss: -0.3378585763192067]"
     ]
    },
    {
     "name": "stderr",
     "output_type": "stream",
     "text": [
      "D:\\ProgramData\\anaconda3\\Lib\\site-packages\\xgboost\\sklearn.py:889: UserWarning: `eval_metric` in `fit` method is deprecated for better compatibility with scikit-learn, use `eval_metric` in constructor or`set_params` instead.\n",
      "  warnings.warn(\n",
      "\n",
      "D:\\ProgramData\\anaconda3\\Lib\\site-packages\\xgboost\\sklearn.py:889: UserWarning: `early_stopping_rounds` in `fit` method is deprecated for better compatibility with scikit-learn, use `early_stopping_rounds` in constructor or`set_params` instead.\n",
      "  warnings.warn(\n",
      "\n"
     ]
    },
    {
     "name": "stdout",
     "output_type": "stream",
     "text": [
      "Accuracy:                                                                                                              \n",
      "0.20326704545454546                                                                                                    \n",
      " ROC_AUC:                                                                                                              \n",
      "0.5                                                                                                                    \n",
      "precision:                                                                                                             \n",
      "0.20326704545454546                                                                                                    \n",
      "f1:                                                                                                                    \n",
      "0.3378585763192067                                                                                                     \n",
      "------------------------------------                                                                                   \n",
      " 33%|███████████████                              | 167/500 [01:09<02:19,  2.40trial/s, best loss: -0.3378585763192067]"
     ]
    },
    {
     "name": "stderr",
     "output_type": "stream",
     "text": [
      "D:\\ProgramData\\anaconda3\\Lib\\site-packages\\xgboost\\sklearn.py:889: UserWarning: `eval_metric` in `fit` method is deprecated for better compatibility with scikit-learn, use `eval_metric` in constructor or`set_params` instead.\n",
      "  warnings.warn(\n",
      "\n",
      "D:\\ProgramData\\anaconda3\\Lib\\site-packages\\xgboost\\sklearn.py:889: UserWarning: `early_stopping_rounds` in `fit` method is deprecated for better compatibility with scikit-learn, use `early_stopping_rounds` in constructor or`set_params` instead.\n",
      "  warnings.warn(\n",
      "\n"
     ]
    },
    {
     "name": "stdout",
     "output_type": "stream",
     "text": [
      "Accuracy:                                                                                                              \n",
      "0.20326704545454546                                                                                                    \n",
      " ROC_AUC:                                                                                                              \n",
      "0.5                                                                                                                    \n",
      "precision:                                                                                                             \n",
      "0.20326704545454546                                                                                                    \n",
      "f1:                                                                                                                    \n",
      "0.3378585763192067                                                                                                     \n",
      "------------------------------------                                                                                   \n",
      " 34%|███████████████                              | 168/500 [01:10<02:17,  2.41trial/s, best loss: -0.3378585763192067]"
     ]
    },
    {
     "name": "stderr",
     "output_type": "stream",
     "text": [
      "D:\\ProgramData\\anaconda3\\Lib\\site-packages\\xgboost\\sklearn.py:889: UserWarning: `eval_metric` in `fit` method is deprecated for better compatibility with scikit-learn, use `eval_metric` in constructor or`set_params` instead.\n",
      "  warnings.warn(\n",
      "\n",
      "D:\\ProgramData\\anaconda3\\Lib\\site-packages\\xgboost\\sklearn.py:889: UserWarning: `early_stopping_rounds` in `fit` method is deprecated for better compatibility with scikit-learn, use `early_stopping_rounds` in constructor or`set_params` instead.\n",
      "  warnings.warn(\n",
      "\n"
     ]
    },
    {
     "name": "stdout",
     "output_type": "stream",
     "text": [
      "Accuracy:                                                                                                              \n",
      "0.20326704545454546                                                                                                    \n",
      " ROC_AUC:                                                                                                              \n",
      "0.5                                                                                                                    \n",
      "precision:                                                                                                             \n",
      "0.20326704545454546                                                                                                    \n",
      "f1:                                                                                                                    \n",
      "0.3378585763192067                                                                                                     \n",
      "------------------------------------                                                                                   \n",
      " 34%|███████████████▏                             | 169/500 [01:10<02:37,  2.10trial/s, best loss: -0.3378585763192067]"
     ]
    },
    {
     "name": "stderr",
     "output_type": "stream",
     "text": [
      "D:\\ProgramData\\anaconda3\\Lib\\site-packages\\xgboost\\sklearn.py:889: UserWarning: `eval_metric` in `fit` method is deprecated for better compatibility with scikit-learn, use `eval_metric` in constructor or`set_params` instead.\n",
      "  warnings.warn(\n",
      "\n",
      "D:\\ProgramData\\anaconda3\\Lib\\site-packages\\xgboost\\sklearn.py:889: UserWarning: `early_stopping_rounds` in `fit` method is deprecated for better compatibility with scikit-learn, use `early_stopping_rounds` in constructor or`set_params` instead.\n",
      "  warnings.warn(\n",
      "\n"
     ]
    },
    {
     "name": "stdout",
     "output_type": "stream",
     "text": [
      "Accuracy:                                                                                                              \n",
      "0.20326704545454546                                                                                                    \n",
      " ROC_AUC:                                                                                                              \n",
      "0.5                                                                                                                    \n",
      "precision:                                                                                                             \n",
      "0.20326704545454546                                                                                                    \n",
      "f1:                                                                                                                    \n",
      "0.3378585763192067                                                                                                     \n",
      "------------------------------------                                                                                   \n",
      " 34%|███████████████▎                             | 170/500 [01:11<02:31,  2.17trial/s, best loss: -0.3378585763192067]"
     ]
    },
    {
     "name": "stderr",
     "output_type": "stream",
     "text": [
      "D:\\ProgramData\\anaconda3\\Lib\\site-packages\\xgboost\\sklearn.py:889: UserWarning: `eval_metric` in `fit` method is deprecated for better compatibility with scikit-learn, use `eval_metric` in constructor or`set_params` instead.\n",
      "  warnings.warn(\n",
      "\n",
      "D:\\ProgramData\\anaconda3\\Lib\\site-packages\\xgboost\\sklearn.py:889: UserWarning: `early_stopping_rounds` in `fit` method is deprecated for better compatibility with scikit-learn, use `early_stopping_rounds` in constructor or`set_params` instead.\n",
      "  warnings.warn(\n",
      "\n"
     ]
    },
    {
     "name": "stdout",
     "output_type": "stream",
     "text": [
      "Accuracy:                                                                                                              \n",
      "0.20326704545454546                                                                                                    \n",
      " ROC_AUC:                                                                                                              \n",
      "0.5                                                                                                                    \n",
      "precision:                                                                                                             \n",
      "0.20326704545454546                                                                                                    \n",
      "f1:                                                                                                                    \n",
      "0.3378585763192067                                                                                                     \n",
      "------------------------------------                                                                                   \n",
      " 34%|███████████████▍                             | 171/500 [01:11<02:25,  2.26trial/s, best loss: -0.3378585763192067]"
     ]
    },
    {
     "name": "stderr",
     "output_type": "stream",
     "text": [
      "D:\\ProgramData\\anaconda3\\Lib\\site-packages\\xgboost\\sklearn.py:889: UserWarning: `eval_metric` in `fit` method is deprecated for better compatibility with scikit-learn, use `eval_metric` in constructor or`set_params` instead.\n",
      "  warnings.warn(\n",
      "\n",
      "D:\\ProgramData\\anaconda3\\Lib\\site-packages\\xgboost\\sklearn.py:889: UserWarning: `early_stopping_rounds` in `fit` method is deprecated for better compatibility with scikit-learn, use `early_stopping_rounds` in constructor or`set_params` instead.\n",
      "  warnings.warn(\n",
      "\n"
     ]
    },
    {
     "name": "stdout",
     "output_type": "stream",
     "text": [
      "Accuracy:                                                                                                              \n",
      "0.20326704545454546                                                                                                    \n",
      " ROC_AUC:                                                                                                              \n",
      "0.5                                                                                                                    \n",
      "precision:                                                                                                             \n",
      "0.20326704545454546                                                                                                    \n",
      "f1:                                                                                                                    \n",
      "0.3378585763192067                                                                                                     \n",
      "------------------------------------                                                                                   \n",
      " 34%|███████████████▍                             | 172/500 [01:12<02:22,  2.30trial/s, best loss: -0.3378585763192067]"
     ]
    },
    {
     "name": "stderr",
     "output_type": "stream",
     "text": [
      "D:\\ProgramData\\anaconda3\\Lib\\site-packages\\xgboost\\sklearn.py:889: UserWarning: `eval_metric` in `fit` method is deprecated for better compatibility with scikit-learn, use `eval_metric` in constructor or`set_params` instead.\n",
      "  warnings.warn(\n",
      "\n",
      "D:\\ProgramData\\anaconda3\\Lib\\site-packages\\xgboost\\sklearn.py:889: UserWarning: `early_stopping_rounds` in `fit` method is deprecated for better compatibility with scikit-learn, use `early_stopping_rounds` in constructor or`set_params` instead.\n",
      "  warnings.warn(\n",
      "\n"
     ]
    },
    {
     "name": "stdout",
     "output_type": "stream",
     "text": [
      "Accuracy:                                                                                                              \n",
      "0.20326704545454546                                                                                                    \n",
      " ROC_AUC:                                                                                                              \n",
      "0.5                                                                                                                    \n",
      "precision:                                                                                                             \n",
      "0.20326704545454546                                                                                                    \n",
      "f1:                                                                                                                    \n",
      "0.3378585763192067                                                                                                     \n",
      "------------------------------------                                                                                   \n",
      " 35%|███████████████▌                             | 173/500 [01:12<02:20,  2.33trial/s, best loss: -0.3378585763192067]"
     ]
    },
    {
     "name": "stderr",
     "output_type": "stream",
     "text": [
      "D:\\ProgramData\\anaconda3\\Lib\\site-packages\\xgboost\\sklearn.py:889: UserWarning: `eval_metric` in `fit` method is deprecated for better compatibility with scikit-learn, use `eval_metric` in constructor or`set_params` instead.\n",
      "  warnings.warn(\n",
      "\n",
      "D:\\ProgramData\\anaconda3\\Lib\\site-packages\\xgboost\\sklearn.py:889: UserWarning: `early_stopping_rounds` in `fit` method is deprecated for better compatibility with scikit-learn, use `early_stopping_rounds` in constructor or`set_params` instead.\n",
      "  warnings.warn(\n",
      "\n"
     ]
    },
    {
     "name": "stdout",
     "output_type": "stream",
     "text": [
      "Accuracy:                                                                                                              \n",
      "0.20326704545454546                                                                                                    \n",
      " ROC_AUC:                                                                                                              \n",
      "0.5                                                                                                                    \n",
      "precision:                                                                                                             \n",
      "0.20326704545454546                                                                                                    \n",
      "f1:                                                                                                                    \n",
      "0.3378585763192067                                                                                                     \n",
      "------------------------------------                                                                                   \n",
      " 35%|███████████████▋                             | 174/500 [01:12<02:17,  2.37trial/s, best loss: -0.3378585763192067]"
     ]
    },
    {
     "name": "stderr",
     "output_type": "stream",
     "text": [
      "D:\\ProgramData\\anaconda3\\Lib\\site-packages\\xgboost\\sklearn.py:889: UserWarning: `eval_metric` in `fit` method is deprecated for better compatibility with scikit-learn, use `eval_metric` in constructor or`set_params` instead.\n",
      "  warnings.warn(\n",
      "\n",
      "D:\\ProgramData\\anaconda3\\Lib\\site-packages\\xgboost\\sklearn.py:889: UserWarning: `early_stopping_rounds` in `fit` method is deprecated for better compatibility with scikit-learn, use `early_stopping_rounds` in constructor or`set_params` instead.\n",
      "  warnings.warn(\n",
      "\n"
     ]
    },
    {
     "name": "stdout",
     "output_type": "stream",
     "text": [
      "Accuracy:                                                                                                              \n",
      "0.20326704545454546                                                                                                    \n",
      " ROC_AUC:                                                                                                              \n",
      "0.5                                                                                                                    \n",
      "precision:                                                                                                             \n",
      "0.20326704545454546                                                                                                    \n",
      "f1:                                                                                                                    \n",
      "0.3378585763192067                                                                                                     \n",
      "------------------------------------                                                                                   \n",
      " 35%|███████████████▋                             | 175/500 [01:13<02:15,  2.41trial/s, best loss: -0.3378585763192067]"
     ]
    },
    {
     "name": "stderr",
     "output_type": "stream",
     "text": [
      "D:\\ProgramData\\anaconda3\\Lib\\site-packages\\xgboost\\sklearn.py:889: UserWarning: `eval_metric` in `fit` method is deprecated for better compatibility with scikit-learn, use `eval_metric` in constructor or`set_params` instead.\n",
      "  warnings.warn(\n",
      "\n",
      "D:\\ProgramData\\anaconda3\\Lib\\site-packages\\xgboost\\sklearn.py:889: UserWarning: `early_stopping_rounds` in `fit` method is deprecated for better compatibility with scikit-learn, use `early_stopping_rounds` in constructor or`set_params` instead.\n",
      "  warnings.warn(\n",
      "\n"
     ]
    },
    {
     "name": "stdout",
     "output_type": "stream",
     "text": [
      "Accuracy:                                                                                                              \n",
      "0.20326704545454546                                                                                                    \n",
      " ROC_AUC:                                                                                                              \n",
      "0.5                                                                                                                    \n",
      "precision:                                                                                                             \n",
      "0.20326704545454546                                                                                                    \n",
      "f1:                                                                                                                    \n",
      "0.3378585763192067                                                                                                     \n",
      "------------------------------------                                                                                   \n",
      " 35%|███████████████▊                             | 176/500 [01:13<02:13,  2.43trial/s, best loss: -0.3378585763192067]"
     ]
    },
    {
     "name": "stderr",
     "output_type": "stream",
     "text": [
      "D:\\ProgramData\\anaconda3\\Lib\\site-packages\\xgboost\\sklearn.py:889: UserWarning: `eval_metric` in `fit` method is deprecated for better compatibility with scikit-learn, use `eval_metric` in constructor or`set_params` instead.\n",
      "  warnings.warn(\n",
      "\n",
      "D:\\ProgramData\\anaconda3\\Lib\\site-packages\\xgboost\\sklearn.py:889: UserWarning: `early_stopping_rounds` in `fit` method is deprecated for better compatibility with scikit-learn, use `early_stopping_rounds` in constructor or`set_params` instead.\n",
      "  warnings.warn(\n",
      "\n"
     ]
    },
    {
     "name": "stdout",
     "output_type": "stream",
     "text": [
      "Accuracy:                                                                                                              \n",
      "0.20326704545454546                                                                                                    \n",
      " ROC_AUC:                                                                                                              \n",
      "0.5                                                                                                                    \n",
      "precision:                                                                                                             \n",
      "0.20326704545454546                                                                                                    \n",
      "f1:                                                                                                                    \n",
      "0.3378585763192067                                                                                                     \n",
      "------------------------------------                                                                                   \n",
      " 35%|███████████████▉                             | 177/500 [01:14<02:12,  2.44trial/s, best loss: -0.3378585763192067]"
     ]
    },
    {
     "name": "stderr",
     "output_type": "stream",
     "text": [
      "D:\\ProgramData\\anaconda3\\Lib\\site-packages\\xgboost\\sklearn.py:889: UserWarning: `eval_metric` in `fit` method is deprecated for better compatibility with scikit-learn, use `eval_metric` in constructor or`set_params` instead.\n",
      "  warnings.warn(\n",
      "\n",
      "D:\\ProgramData\\anaconda3\\Lib\\site-packages\\xgboost\\sklearn.py:889: UserWarning: `early_stopping_rounds` in `fit` method is deprecated for better compatibility with scikit-learn, use `early_stopping_rounds` in constructor or`set_params` instead.\n",
      "  warnings.warn(\n",
      "\n"
     ]
    },
    {
     "name": "stdout",
     "output_type": "stream",
     "text": [
      "Accuracy:                                                                                                              \n",
      "0.20326704545454546                                                                                                    \n",
      " ROC_AUC:                                                                                                              \n",
      "0.5                                                                                                                    \n",
      "precision:                                                                                                             \n",
      "0.20326704545454546                                                                                                    \n",
      "f1:                                                                                                                    \n",
      "0.3378585763192067                                                                                                     \n",
      "------------------------------------                                                                                   \n",
      " 36%|████████████████                             | 178/500 [01:14<02:12,  2.43trial/s, best loss: -0.3378585763192067]"
     ]
    },
    {
     "name": "stderr",
     "output_type": "stream",
     "text": [
      "D:\\ProgramData\\anaconda3\\Lib\\site-packages\\xgboost\\sklearn.py:889: UserWarning: `eval_metric` in `fit` method is deprecated for better compatibility with scikit-learn, use `eval_metric` in constructor or`set_params` instead.\n",
      "  warnings.warn(\n",
      "\n",
      "D:\\ProgramData\\anaconda3\\Lib\\site-packages\\xgboost\\sklearn.py:889: UserWarning: `early_stopping_rounds` in `fit` method is deprecated for better compatibility with scikit-learn, use `early_stopping_rounds` in constructor or`set_params` instead.\n",
      "  warnings.warn(\n",
      "\n"
     ]
    },
    {
     "name": "stdout",
     "output_type": "stream",
     "text": [
      "Accuracy:                                                                                                              \n",
      "0.20326704545454546                                                                                                    \n",
      " ROC_AUC:                                                                                                              \n",
      "0.5                                                                                                                    \n",
      "precision:                                                                                                             \n",
      "0.20326704545454546                                                                                                    \n",
      "f1:                                                                                                                    \n",
      "0.3378585763192067                                                                                                     \n",
      "------------------------------------                                                                                   \n",
      " 36%|████████████████                             | 179/500 [01:14<02:14,  2.38trial/s, best loss: -0.3378585763192067]"
     ]
    },
    {
     "name": "stderr",
     "output_type": "stream",
     "text": [
      "D:\\ProgramData\\anaconda3\\Lib\\site-packages\\xgboost\\sklearn.py:889: UserWarning: `eval_metric` in `fit` method is deprecated for better compatibility with scikit-learn, use `eval_metric` in constructor or`set_params` instead.\n",
      "  warnings.warn(\n",
      "\n",
      "D:\\ProgramData\\anaconda3\\Lib\\site-packages\\xgboost\\sklearn.py:889: UserWarning: `early_stopping_rounds` in `fit` method is deprecated for better compatibility with scikit-learn, use `early_stopping_rounds` in constructor or`set_params` instead.\n",
      "  warnings.warn(\n",
      "\n"
     ]
    },
    {
     "name": "stdout",
     "output_type": "stream",
     "text": [
      "Accuracy:                                                                                                              \n",
      "0.20326704545454546                                                                                                    \n",
      " ROC_AUC:                                                                                                              \n",
      "0.5                                                                                                                    \n",
      "precision:                                                                                                             \n",
      "0.20326704545454546                                                                                                    \n",
      "f1:                                                                                                                    \n",
      "0.3378585763192067                                                                                                     \n",
      "------------------------------------                                                                                   \n",
      " 36%|████████████████▏                            | 180/500 [01:15<02:14,  2.38trial/s, best loss: -0.3378585763192067]"
     ]
    },
    {
     "name": "stderr",
     "output_type": "stream",
     "text": [
      "D:\\ProgramData\\anaconda3\\Lib\\site-packages\\xgboost\\sklearn.py:889: UserWarning: `eval_metric` in `fit` method is deprecated for better compatibility with scikit-learn, use `eval_metric` in constructor or`set_params` instead.\n",
      "  warnings.warn(\n",
      "\n",
      "D:\\ProgramData\\anaconda3\\Lib\\site-packages\\xgboost\\sklearn.py:889: UserWarning: `early_stopping_rounds` in `fit` method is deprecated for better compatibility with scikit-learn, use `early_stopping_rounds` in constructor or`set_params` instead.\n",
      "  warnings.warn(\n",
      "\n"
     ]
    },
    {
     "name": "stdout",
     "output_type": "stream",
     "text": [
      "Accuracy:                                                                                                              \n",
      "0.20326704545454546                                                                                                    \n",
      " ROC_AUC:                                                                                                              \n",
      "0.5                                                                                                                    \n",
      "precision:                                                                                                             \n",
      "0.20326704545454546                                                                                                    \n",
      "f1:                                                                                                                    \n",
      "0.3378585763192067                                                                                                     \n",
      "------------------------------------                                                                                   \n",
      " 36%|████████████████▎                            | 181/500 [01:15<02:12,  2.40trial/s, best loss: -0.3378585763192067]"
     ]
    },
    {
     "name": "stderr",
     "output_type": "stream",
     "text": [
      "D:\\ProgramData\\anaconda3\\Lib\\site-packages\\xgboost\\sklearn.py:889: UserWarning: `eval_metric` in `fit` method is deprecated for better compatibility with scikit-learn, use `eval_metric` in constructor or`set_params` instead.\n",
      "  warnings.warn(\n",
      "\n",
      "D:\\ProgramData\\anaconda3\\Lib\\site-packages\\xgboost\\sklearn.py:889: UserWarning: `early_stopping_rounds` in `fit` method is deprecated for better compatibility with scikit-learn, use `early_stopping_rounds` in constructor or`set_params` instead.\n",
      "  warnings.warn(\n",
      "\n"
     ]
    },
    {
     "name": "stdout",
     "output_type": "stream",
     "text": [
      "Accuracy:                                                                                                              \n",
      "0.20326704545454546                                                                                                    \n",
      " ROC_AUC:                                                                                                              \n",
      "0.5                                                                                                                    \n",
      "precision:                                                                                                             \n",
      "0.20326704545454546                                                                                                    \n",
      "f1:                                                                                                                    \n",
      "0.3378585763192067                                                                                                     \n",
      "------------------------------------                                                                                   \n",
      " 36%|████████████████▍                            | 182/500 [01:16<02:11,  2.42trial/s, best loss: -0.3378585763192067]"
     ]
    },
    {
     "name": "stderr",
     "output_type": "stream",
     "text": [
      "D:\\ProgramData\\anaconda3\\Lib\\site-packages\\xgboost\\sklearn.py:889: UserWarning: `eval_metric` in `fit` method is deprecated for better compatibility with scikit-learn, use `eval_metric` in constructor or`set_params` instead.\n",
      "  warnings.warn(\n",
      "\n",
      "D:\\ProgramData\\anaconda3\\Lib\\site-packages\\xgboost\\sklearn.py:889: UserWarning: `early_stopping_rounds` in `fit` method is deprecated for better compatibility with scikit-learn, use `early_stopping_rounds` in constructor or`set_params` instead.\n",
      "  warnings.warn(\n",
      "\n"
     ]
    },
    {
     "name": "stdout",
     "output_type": "stream",
     "text": [
      "Accuracy:                                                                                                              \n",
      "0.20326704545454546                                                                                                    \n",
      " ROC_AUC:                                                                                                              \n",
      "0.5                                                                                                                    \n",
      "precision:                                                                                                             \n",
      "0.20326704545454546                                                                                                    \n",
      "f1:                                                                                                                    \n",
      "0.3378585763192067                                                                                                     \n",
      "------------------------------------                                                                                   \n",
      " 37%|████████████████▍                            | 183/500 [01:16<02:10,  2.43trial/s, best loss: -0.3378585763192067]"
     ]
    },
    {
     "name": "stderr",
     "output_type": "stream",
     "text": [
      "D:\\ProgramData\\anaconda3\\Lib\\site-packages\\xgboost\\sklearn.py:889: UserWarning: `eval_metric` in `fit` method is deprecated for better compatibility with scikit-learn, use `eval_metric` in constructor or`set_params` instead.\n",
      "  warnings.warn(\n",
      "\n",
      "D:\\ProgramData\\anaconda3\\Lib\\site-packages\\xgboost\\sklearn.py:889: UserWarning: `early_stopping_rounds` in `fit` method is deprecated for better compatibility with scikit-learn, use `early_stopping_rounds` in constructor or`set_params` instead.\n",
      "  warnings.warn(\n",
      "\n"
     ]
    },
    {
     "name": "stdout",
     "output_type": "stream",
     "text": [
      "Accuracy:                                                                                                              \n",
      "0.20326704545454546                                                                                                    \n",
      " ROC_AUC:                                                                                                              \n",
      "0.5                                                                                                                    \n",
      "precision:                                                                                                             \n",
      "0.20326704545454546                                                                                                    \n",
      "f1:                                                                                                                    \n",
      "0.3378585763192067                                                                                                     \n",
      "------------------------------------                                                                                   \n",
      " 37%|████████████████▌                            | 184/500 [01:17<02:36,  2.01trial/s, best loss: -0.3378585763192067]"
     ]
    },
    {
     "name": "stderr",
     "output_type": "stream",
     "text": [
      "D:\\ProgramData\\anaconda3\\Lib\\site-packages\\xgboost\\sklearn.py:889: UserWarning: `eval_metric` in `fit` method is deprecated for better compatibility with scikit-learn, use `eval_metric` in constructor or`set_params` instead.\n",
      "  warnings.warn(\n",
      "\n",
      "D:\\ProgramData\\anaconda3\\Lib\\site-packages\\xgboost\\sklearn.py:889: UserWarning: `early_stopping_rounds` in `fit` method is deprecated for better compatibility with scikit-learn, use `early_stopping_rounds` in constructor or`set_params` instead.\n",
      "  warnings.warn(\n",
      "\n"
     ]
    },
    {
     "name": "stdout",
     "output_type": "stream",
     "text": [
      "Accuracy:                                                                                                              \n",
      "0.20326704545454546                                                                                                    \n",
      " ROC_AUC:                                                                                                              \n",
      "0.5                                                                                                                    \n",
      "precision:                                                                                                             \n",
      "0.20326704545454546                                                                                                    \n",
      "f1:                                                                                                                    \n",
      "0.3378585763192067                                                                                                     \n",
      "------------------------------------                                                                                   \n",
      " 37%|████████████████▋                            | 185/500 [01:17<02:27,  2.14trial/s, best loss: -0.3378585763192067]"
     ]
    },
    {
     "name": "stderr",
     "output_type": "stream",
     "text": [
      "D:\\ProgramData\\anaconda3\\Lib\\site-packages\\xgboost\\sklearn.py:889: UserWarning: `eval_metric` in `fit` method is deprecated for better compatibility with scikit-learn, use `eval_metric` in constructor or`set_params` instead.\n",
      "  warnings.warn(\n",
      "\n",
      "D:\\ProgramData\\anaconda3\\Lib\\site-packages\\xgboost\\sklearn.py:889: UserWarning: `early_stopping_rounds` in `fit` method is deprecated for better compatibility with scikit-learn, use `early_stopping_rounds` in constructor or`set_params` instead.\n",
      "  warnings.warn(\n",
      "\n"
     ]
    },
    {
     "name": "stdout",
     "output_type": "stream",
     "text": [
      "Accuracy:                                                                                                              \n",
      "0.20326704545454546                                                                                                    \n",
      " ROC_AUC:                                                                                                              \n",
      "0.5                                                                                                                    \n",
      "precision:                                                                                                             \n",
      "0.20326704545454546                                                                                                    \n",
      "f1:                                                                                                                    \n",
      "0.3378585763192067                                                                                                     \n",
      "------------------------------------                                                                                   \n",
      " 37%|████████████████▋                            | 186/500 [01:18<02:21,  2.22trial/s, best loss: -0.3378585763192067]"
     ]
    },
    {
     "name": "stderr",
     "output_type": "stream",
     "text": [
      "D:\\ProgramData\\anaconda3\\Lib\\site-packages\\xgboost\\sklearn.py:889: UserWarning: `eval_metric` in `fit` method is deprecated for better compatibility with scikit-learn, use `eval_metric` in constructor or`set_params` instead.\n",
      "  warnings.warn(\n",
      "\n",
      "D:\\ProgramData\\anaconda3\\Lib\\site-packages\\xgboost\\sklearn.py:889: UserWarning: `early_stopping_rounds` in `fit` method is deprecated for better compatibility with scikit-learn, use `early_stopping_rounds` in constructor or`set_params` instead.\n",
      "  warnings.warn(\n",
      "\n"
     ]
    },
    {
     "name": "stdout",
     "output_type": "stream",
     "text": [
      "Accuracy:                                                                                                              \n",
      "0.20326704545454546                                                                                                    \n",
      " ROC_AUC:                                                                                                              \n",
      "0.5                                                                                                                    \n",
      "precision:                                                                                                             \n",
      "0.20326704545454546                                                                                                    \n",
      "f1:                                                                                                                    \n",
      "0.3378585763192067                                                                                                     \n",
      "------------------------------------                                                                                   \n",
      " 37%|████████████████▊                            | 187/500 [01:18<02:50,  1.83trial/s, best loss: -0.3378585763192067]"
     ]
    },
    {
     "name": "stderr",
     "output_type": "stream",
     "text": [
      "D:\\ProgramData\\anaconda3\\Lib\\site-packages\\xgboost\\sklearn.py:889: UserWarning: `eval_metric` in `fit` method is deprecated for better compatibility with scikit-learn, use `eval_metric` in constructor or`set_params` instead.\n",
      "  warnings.warn(\n",
      "\n",
      "D:\\ProgramData\\anaconda3\\Lib\\site-packages\\xgboost\\sklearn.py:889: UserWarning: `early_stopping_rounds` in `fit` method is deprecated for better compatibility with scikit-learn, use `early_stopping_rounds` in constructor or`set_params` instead.\n",
      "  warnings.warn(\n",
      "\n"
     ]
    },
    {
     "name": "stdout",
     "output_type": "stream",
     "text": [
      "Accuracy:                                                                                                              \n",
      "0.20326704545454546                                                                                                    \n",
      " ROC_AUC:                                                                                                              \n",
      "0.5                                                                                                                    \n",
      "precision:                                                                                                             \n",
      "0.20326704545454546                                                                                                    \n",
      "f1:                                                                                                                    \n",
      "0.3378585763192067                                                                                                     \n",
      "------------------------------------                                                                                   \n",
      " 38%|████████████████▉                            | 188/500 [01:19<02:36,  1.99trial/s, best loss: -0.3378585763192067]"
     ]
    },
    {
     "name": "stderr",
     "output_type": "stream",
     "text": [
      "D:\\ProgramData\\anaconda3\\Lib\\site-packages\\xgboost\\sklearn.py:889: UserWarning: `eval_metric` in `fit` method is deprecated for better compatibility with scikit-learn, use `eval_metric` in constructor or`set_params` instead.\n",
      "  warnings.warn(\n",
      "\n",
      "D:\\ProgramData\\anaconda3\\Lib\\site-packages\\xgboost\\sklearn.py:889: UserWarning: `early_stopping_rounds` in `fit` method is deprecated for better compatibility with scikit-learn, use `early_stopping_rounds` in constructor or`set_params` instead.\n",
      "  warnings.warn(\n",
      "\n"
     ]
    },
    {
     "name": "stdout",
     "output_type": "stream",
     "text": [
      "Accuracy:                                                                                                              \n",
      "0.20326704545454546                                                                                                    \n",
      " ROC_AUC:                                                                                                              \n",
      "0.5                                                                                                                    \n",
      "precision:                                                                                                             \n",
      "0.20326704545454546                                                                                                    \n",
      "f1:                                                                                                                    \n",
      "0.3378585763192067                                                                                                     \n",
      "------------------------------------                                                                                   \n",
      " 38%|█████████████████                            | 189/500 [01:20<02:59,  1.73trial/s, best loss: -0.3378585763192067]"
     ]
    },
    {
     "name": "stderr",
     "output_type": "stream",
     "text": [
      "D:\\ProgramData\\anaconda3\\Lib\\site-packages\\xgboost\\sklearn.py:889: UserWarning: `eval_metric` in `fit` method is deprecated for better compatibility with scikit-learn, use `eval_metric` in constructor or`set_params` instead.\n",
      "  warnings.warn(\n",
      "\n",
      "D:\\ProgramData\\anaconda3\\Lib\\site-packages\\xgboost\\sklearn.py:889: UserWarning: `early_stopping_rounds` in `fit` method is deprecated for better compatibility with scikit-learn, use `early_stopping_rounds` in constructor or`set_params` instead.\n",
      "  warnings.warn(\n",
      "\n"
     ]
    },
    {
     "name": "stdout",
     "output_type": "stream",
     "text": [
      "Accuracy:                                                                                                              \n",
      "0.20326704545454546                                                                                                    \n",
      " ROC_AUC:                                                                                                              \n",
      "0.5                                                                                                                    \n",
      "precision:                                                                                                             \n",
      "0.20326704545454546                                                                                                    \n",
      "f1:                                                                                                                    \n",
      "0.3378585763192067                                                                                                     \n",
      "------------------------------------                                                                                   \n",
      " 38%|█████████████████                            | 190/500 [01:20<03:16,  1.58trial/s, best loss: -0.3378585763192067]"
     ]
    },
    {
     "name": "stderr",
     "output_type": "stream",
     "text": [
      "D:\\ProgramData\\anaconda3\\Lib\\site-packages\\xgboost\\sklearn.py:889: UserWarning: `eval_metric` in `fit` method is deprecated for better compatibility with scikit-learn, use `eval_metric` in constructor or`set_params` instead.\n",
      "  warnings.warn(\n",
      "\n",
      "D:\\ProgramData\\anaconda3\\Lib\\site-packages\\xgboost\\sklearn.py:889: UserWarning: `early_stopping_rounds` in `fit` method is deprecated for better compatibility with scikit-learn, use `early_stopping_rounds` in constructor or`set_params` instead.\n",
      "  warnings.warn(\n",
      "\n"
     ]
    },
    {
     "name": "stdout",
     "output_type": "stream",
     "text": [
      "Accuracy:                                                                                                              \n",
      "0.20326704545454546                                                                                                    \n",
      " ROC_AUC:                                                                                                              \n",
      "0.5                                                                                                                    \n",
      "precision:                                                                                                             \n",
      "0.20326704545454546                                                                                                    \n",
      "f1:                                                                                                                    \n",
      "0.3378585763192067                                                                                                     \n",
      "------------------------------------                                                                                   \n",
      " 38%|█████████████████▏                           | 191/500 [01:21<02:53,  1.78trial/s, best loss: -0.3378585763192067]"
     ]
    },
    {
     "name": "stderr",
     "output_type": "stream",
     "text": [
      "D:\\ProgramData\\anaconda3\\Lib\\site-packages\\xgboost\\sklearn.py:889: UserWarning: `eval_metric` in `fit` method is deprecated for better compatibility with scikit-learn, use `eval_metric` in constructor or`set_params` instead.\n",
      "  warnings.warn(\n",
      "\n",
      "D:\\ProgramData\\anaconda3\\Lib\\site-packages\\xgboost\\sklearn.py:889: UserWarning: `early_stopping_rounds` in `fit` method is deprecated for better compatibility with scikit-learn, use `early_stopping_rounds` in constructor or`set_params` instead.\n",
      "  warnings.warn(\n",
      "\n"
     ]
    },
    {
     "name": "stdout",
     "output_type": "stream",
     "text": [
      "Accuracy:                                                                                                              \n",
      "0.20326704545454546                                                                                                    \n",
      " ROC_AUC:                                                                                                              \n",
      "0.5                                                                                                                    \n",
      "precision:                                                                                                             \n",
      "0.20326704545454546                                                                                                    \n",
      "f1:                                                                                                                    \n",
      "0.3378585763192067                                                                                                     \n",
      "------------------------------------                                                                                   \n",
      " 38%|█████████████████▎                           | 192/500 [01:21<02:55,  1.76trial/s, best loss: -0.3378585763192067]"
     ]
    },
    {
     "name": "stderr",
     "output_type": "stream",
     "text": [
      "D:\\ProgramData\\anaconda3\\Lib\\site-packages\\xgboost\\sklearn.py:889: UserWarning: `eval_metric` in `fit` method is deprecated for better compatibility with scikit-learn, use `eval_metric` in constructor or`set_params` instead.\n",
      "  warnings.warn(\n",
      "\n",
      "D:\\ProgramData\\anaconda3\\Lib\\site-packages\\xgboost\\sklearn.py:889: UserWarning: `early_stopping_rounds` in `fit` method is deprecated for better compatibility with scikit-learn, use `early_stopping_rounds` in constructor or`set_params` instead.\n",
      "  warnings.warn(\n",
      "\n"
     ]
    },
    {
     "name": "stdout",
     "output_type": "stream",
     "text": [
      "Accuracy:                                                                                                              \n",
      "0.20326704545454546                                                                                                    \n",
      " ROC_AUC:                                                                                                              \n",
      "0.5                                                                                                                    \n",
      "precision:                                                                                                             \n",
      "0.20326704545454546                                                                                                    \n",
      "f1:                                                                                                                    \n",
      "0.3378585763192067                                                                                                     \n",
      "------------------------------------                                                                                   \n",
      " 39%|█████████████████▎                           | 193/500 [01:22<02:38,  1.93trial/s, best loss: -0.3378585763192067]"
     ]
    },
    {
     "name": "stderr",
     "output_type": "stream",
     "text": [
      "D:\\ProgramData\\anaconda3\\Lib\\site-packages\\xgboost\\sklearn.py:889: UserWarning: `eval_metric` in `fit` method is deprecated for better compatibility with scikit-learn, use `eval_metric` in constructor or`set_params` instead.\n",
      "  warnings.warn(\n",
      "\n",
      "D:\\ProgramData\\anaconda3\\Lib\\site-packages\\xgboost\\sklearn.py:889: UserWarning: `early_stopping_rounds` in `fit` method is deprecated for better compatibility with scikit-learn, use `early_stopping_rounds` in constructor or`set_params` instead.\n",
      "  warnings.warn(\n",
      "\n"
     ]
    },
    {
     "name": "stdout",
     "output_type": "stream",
     "text": [
      "Accuracy:                                                                                                              \n",
      "0.20326704545454546                                                                                                    \n",
      " ROC_AUC:                                                                                                              \n",
      "0.5                                                                                                                    \n",
      "precision:                                                                                                             \n",
      "0.20326704545454546                                                                                                    \n",
      "f1:                                                                                                                    \n",
      "0.3378585763192067                                                                                                     \n",
      "------------------------------------                                                                                   \n",
      " 39%|█████████████████▍                           | 194/500 [01:22<02:28,  2.06trial/s, best loss: -0.3378585763192067]"
     ]
    },
    {
     "name": "stderr",
     "output_type": "stream",
     "text": [
      "D:\\ProgramData\\anaconda3\\Lib\\site-packages\\xgboost\\sklearn.py:889: UserWarning: `eval_metric` in `fit` method is deprecated for better compatibility with scikit-learn, use `eval_metric` in constructor or`set_params` instead.\n",
      "  warnings.warn(\n",
      "\n",
      "D:\\ProgramData\\anaconda3\\Lib\\site-packages\\xgboost\\sklearn.py:889: UserWarning: `early_stopping_rounds` in `fit` method is deprecated for better compatibility with scikit-learn, use `early_stopping_rounds` in constructor or`set_params` instead.\n",
      "  warnings.warn(\n",
      "\n"
     ]
    },
    {
     "name": "stdout",
     "output_type": "stream",
     "text": [
      "Accuracy:                                                                                                              \n",
      "0.20326704545454546                                                                                                    \n",
      " ROC_AUC:                                                                                                              \n",
      "0.5                                                                                                                    \n",
      "precision:                                                                                                             \n",
      "0.20326704545454546                                                                                                    \n",
      "f1:                                                                                                                    \n",
      "0.3378585763192067                                                                                                     \n",
      "------------------------------------                                                                                   \n",
      " 39%|█████████████████▌                           | 195/500 [01:23<02:21,  2.16trial/s, best loss: -0.3378585763192067]"
     ]
    },
    {
     "name": "stderr",
     "output_type": "stream",
     "text": [
      "D:\\ProgramData\\anaconda3\\Lib\\site-packages\\xgboost\\sklearn.py:889: UserWarning: `eval_metric` in `fit` method is deprecated for better compatibility with scikit-learn, use `eval_metric` in constructor or`set_params` instead.\n",
      "  warnings.warn(\n",
      "\n",
      "D:\\ProgramData\\anaconda3\\Lib\\site-packages\\xgboost\\sklearn.py:889: UserWarning: `early_stopping_rounds` in `fit` method is deprecated for better compatibility with scikit-learn, use `early_stopping_rounds` in constructor or`set_params` instead.\n",
      "  warnings.warn(\n",
      "\n"
     ]
    },
    {
     "name": "stdout",
     "output_type": "stream",
     "text": [
      "Accuracy:                                                                                                              \n",
      "0.20326704545454546                                                                                                    \n",
      " ROC_AUC:                                                                                                              \n",
      "0.5                                                                                                                    \n",
      "precision:                                                                                                             \n",
      "0.20326704545454546                                                                                                    \n",
      "f1:                                                                                                                    \n",
      "0.3378585763192067                                                                                                     \n",
      "------------------------------------                                                                                   \n",
      " 39%|█████████████████▋                           | 196/500 [01:23<02:15,  2.24trial/s, best loss: -0.3378585763192067]"
     ]
    },
    {
     "name": "stderr",
     "output_type": "stream",
     "text": [
      "D:\\ProgramData\\anaconda3\\Lib\\site-packages\\xgboost\\sklearn.py:889: UserWarning: `eval_metric` in `fit` method is deprecated for better compatibility with scikit-learn, use `eval_metric` in constructor or`set_params` instead.\n",
      "  warnings.warn(\n",
      "\n",
      "D:\\ProgramData\\anaconda3\\Lib\\site-packages\\xgboost\\sklearn.py:889: UserWarning: `early_stopping_rounds` in `fit` method is deprecated for better compatibility with scikit-learn, use `early_stopping_rounds` in constructor or`set_params` instead.\n",
      "  warnings.warn(\n",
      "\n"
     ]
    },
    {
     "name": "stdout",
     "output_type": "stream",
     "text": [
      "Accuracy:                                                                                                              \n",
      "0.20326704545454546                                                                                                    \n",
      " ROC_AUC:                                                                                                              \n",
      "0.5                                                                                                                    \n",
      "precision:                                                                                                             \n",
      "0.20326704545454546                                                                                                    \n",
      "f1:                                                                                                                    \n",
      "0.3378585763192067                                                                                                     \n",
      "------------------------------------                                                                                   \n",
      " 39%|█████████████████▋                           | 197/500 [01:23<02:10,  2.32trial/s, best loss: -0.3378585763192067]"
     ]
    },
    {
     "name": "stderr",
     "output_type": "stream",
     "text": [
      "D:\\ProgramData\\anaconda3\\Lib\\site-packages\\xgboost\\sklearn.py:889: UserWarning: `eval_metric` in `fit` method is deprecated for better compatibility with scikit-learn, use `eval_metric` in constructor or`set_params` instead.\n",
      "  warnings.warn(\n",
      "\n",
      "D:\\ProgramData\\anaconda3\\Lib\\site-packages\\xgboost\\sklearn.py:889: UserWarning: `early_stopping_rounds` in `fit` method is deprecated for better compatibility with scikit-learn, use `early_stopping_rounds` in constructor or`set_params` instead.\n",
      "  warnings.warn(\n",
      "\n"
     ]
    },
    {
     "name": "stdout",
     "output_type": "stream",
     "text": [
      "Accuracy:                                                                                                              \n",
      "0.20326704545454546                                                                                                    \n",
      " ROC_AUC:                                                                                                              \n",
      "0.5                                                                                                                    \n",
      "precision:                                                                                                             \n",
      "0.20326704545454546                                                                                                    \n",
      "f1:                                                                                                                    \n",
      "0.3378585763192067                                                                                                     \n",
      "------------------------------------                                                                                   \n",
      " 40%|█████████████████▊                           | 198/500 [01:24<02:07,  2.37trial/s, best loss: -0.3378585763192067]"
     ]
    },
    {
     "name": "stderr",
     "output_type": "stream",
     "text": [
      "D:\\ProgramData\\anaconda3\\Lib\\site-packages\\xgboost\\sklearn.py:889: UserWarning: `eval_metric` in `fit` method is deprecated for better compatibility with scikit-learn, use `eval_metric` in constructor or`set_params` instead.\n",
      "  warnings.warn(\n",
      "\n",
      "D:\\ProgramData\\anaconda3\\Lib\\site-packages\\xgboost\\sklearn.py:889: UserWarning: `early_stopping_rounds` in `fit` method is deprecated for better compatibility with scikit-learn, use `early_stopping_rounds` in constructor or`set_params` instead.\n",
      "  warnings.warn(\n",
      "\n"
     ]
    },
    {
     "name": "stdout",
     "output_type": "stream",
     "text": [
      "Accuracy:                                                                                                              \n",
      "0.20326704545454546                                                                                                    \n",
      " ROC_AUC:                                                                                                              \n",
      "0.5                                                                                                                    \n",
      "precision:                                                                                                             \n",
      "0.20326704545454546                                                                                                    \n",
      "f1:                                                                                                                    \n",
      "0.3378585763192067                                                                                                     \n",
      "------------------------------------                                                                                   \n",
      " 40%|█████████████████▉                           | 199/500 [01:24<02:05,  2.39trial/s, best loss: -0.3378585763192067]"
     ]
    },
    {
     "name": "stderr",
     "output_type": "stream",
     "text": [
      "D:\\ProgramData\\anaconda3\\Lib\\site-packages\\xgboost\\sklearn.py:889: UserWarning: `eval_metric` in `fit` method is deprecated for better compatibility with scikit-learn, use `eval_metric` in constructor or`set_params` instead.\n",
      "  warnings.warn(\n",
      "\n",
      "D:\\ProgramData\\anaconda3\\Lib\\site-packages\\xgboost\\sklearn.py:889: UserWarning: `early_stopping_rounds` in `fit` method is deprecated for better compatibility with scikit-learn, use `early_stopping_rounds` in constructor or`set_params` instead.\n",
      "  warnings.warn(\n",
      "\n"
     ]
    },
    {
     "name": "stdout",
     "output_type": "stream",
     "text": [
      "Accuracy:                                                                                                              \n",
      "0.20326704545454546                                                                                                    \n",
      " ROC_AUC:                                                                                                              \n",
      "0.5                                                                                                                    \n",
      "precision:                                                                                                             \n",
      "0.20326704545454546                                                                                                    \n",
      "f1:                                                                                                                    \n",
      "0.3378585763192067                                                                                                     \n",
      "------------------------------------                                                                                   \n",
      " 40%|██████████████████                           | 200/500 [01:25<02:07,  2.35trial/s, best loss: -0.3378585763192067]\n"
     ]
    }
   ],
   "source": [
    "trials = Trials()\n",
    "\n",
    "best_hyperparams = fmin(fn = objective,\n",
    "                        space = space,\n",
    "                        algo = tpe.suggest,\n",
    "                        max_evals = 500,\n",
    "                        trials = trials,\n",
    "                        early_stop_fn = no_progress_loss(200))"
   ]
  },
  {
   "cell_type": "markdown",
   "id": "39b80f27",
   "metadata": {},
   "source": [
    "### Mejores resultados con la optimización"
   ]
  },
  {
   "cell_type": "code",
   "execution_count": 50,
   "id": "525a1c48",
   "metadata": {},
   "outputs": [
    {
     "name": "stdout",
     "output_type": "stream",
     "text": [
      "The best hyperparameters are :  \n",
      "\n",
      "{'colsample_bytree': 0.7225095188784095, 'gamma': 2.41203858645357, 'max_depth': 11.0, 'min_child_weight': 6.0, 'n_estimators': 12700.0, 'reg_alpha': 130.0, 'reg_lambda': 8.81908450972299, 'scale_pos_weight': 8.0}\n"
     ]
    }
   ],
   "source": [
    "print(\"The best hyperparameters are : \",\"\\n\")\n",
    "print(best_hyperparams)"
   ]
  },
  {
   "cell_type": "code",
   "execution_count": 51,
   "id": "ba082b1f",
   "metadata": {},
   "outputs": [
    {
     "name": "stdout",
     "output_type": "stream",
     "text": [
      "CPU times: total: 0 ns\n",
      "Wall time: 0 ns\n"
     ]
    }
   ],
   "source": [
    "%%time\n",
    "\n",
    "xgb_params = {'n_estimators': best_hyperparams['n_estimators'], \n",
    "                    'max_depth': int(best_hyperparams['max_depth']), \n",
    "                    'gamma': best_hyperparams['gamma'],\n",
    "                    'reg_alpha': best_hyperparams['reg_alpha'],\n",
    "                    'reg_lambda': best_hyperparams['reg_lambda'],\n",
    "                    'min_child_weight': int(best_hyperparams['min_child_weight']),\n",
    "                    'scale_pos_weight': int(best_hyperparams['scale_pos_weight']),\n",
    "                    'colsample_bytree': int(best_hyperparams['colsample_bytree'])}\n",
    "\n"
   ]
  },
  {
   "cell_type": "code",
   "execution_count": 52,
   "id": "df4a6dbc",
   "metadata": {},
   "outputs": [
    {
     "data": {
      "text/plain": [
       "{'n_estimators': 12700.0,\n",
       " 'max_depth': 11,\n",
       " 'gamma': 2.41203858645357,\n",
       " 'reg_alpha': 130.0,\n",
       " 'reg_lambda': 8.81908450972299,\n",
       " 'min_child_weight': 6,\n",
       " 'scale_pos_weight': 8,\n",
       " 'colsample_bytree': 0}"
      ]
     },
     "execution_count": 52,
     "metadata": {},
     "output_type": "execute_result"
    }
   ],
   "source": [
    "xgb_params"
   ]
  },
  {
   "cell_type": "markdown",
   "id": "1ab4209b",
   "metadata": {},
   "source": [
    "### Entrenamos un XGBoost con los mejores parámetros encontrados"
   ]
  },
  {
   "cell_type": "code",
   "execution_count": 54,
   "id": "430a5032",
   "metadata": {},
   "outputs": [],
   "source": [
    "model = xgb.XGBClassifier(\n",
    "                                n_estimators = 5675, \n",
    "                                max_depth= 22,\n",
    "                                gamma =  3.79642083735549,\n",
    "                                reg_alpha = 134.0,\n",
    "                                reg_lambda = 5.316381136873466,\n",
    "                                min_child_weight = 13,\n",
    "                                scale_pos_weight = 14,\n",
    "                                colsample_bytree = 0, \n",
    "                                seed = 1234)"
   ]
  },
  {
   "cell_type": "code",
   "execution_count": 55,
   "id": "124ea61f",
   "metadata": {},
   "outputs": [
    {
     "data": {
      "text/html": [
       "<style>#sk-container-id-1 {color: black;background-color: white;}#sk-container-id-1 pre{padding: 0;}#sk-container-id-1 div.sk-toggleable {background-color: white;}#sk-container-id-1 label.sk-toggleable__label {cursor: pointer;display: block;width: 100%;margin-bottom: 0;padding: 0.3em;box-sizing: border-box;text-align: center;}#sk-container-id-1 label.sk-toggleable__label-arrow:before {content: \"▸\";float: left;margin-right: 0.25em;color: #696969;}#sk-container-id-1 label.sk-toggleable__label-arrow:hover:before {color: black;}#sk-container-id-1 div.sk-estimator:hover label.sk-toggleable__label-arrow:before {color: black;}#sk-container-id-1 div.sk-toggleable__content {max-height: 0;max-width: 0;overflow: hidden;text-align: left;background-color: #f0f8ff;}#sk-container-id-1 div.sk-toggleable__content pre {margin: 0.2em;color: black;border-radius: 0.25em;background-color: #f0f8ff;}#sk-container-id-1 input.sk-toggleable__control:checked~div.sk-toggleable__content {max-height: 200px;max-width: 100%;overflow: auto;}#sk-container-id-1 input.sk-toggleable__control:checked~label.sk-toggleable__label-arrow:before {content: \"▾\";}#sk-container-id-1 div.sk-estimator input.sk-toggleable__control:checked~label.sk-toggleable__label {background-color: #d4ebff;}#sk-container-id-1 div.sk-label input.sk-toggleable__control:checked~label.sk-toggleable__label {background-color: #d4ebff;}#sk-container-id-1 input.sk-hidden--visually {border: 0;clip: rect(1px 1px 1px 1px);clip: rect(1px, 1px, 1px, 1px);height: 1px;margin: -1px;overflow: hidden;padding: 0;position: absolute;width: 1px;}#sk-container-id-1 div.sk-estimator {font-family: monospace;background-color: #f0f8ff;border: 1px dotted black;border-radius: 0.25em;box-sizing: border-box;margin-bottom: 0.5em;}#sk-container-id-1 div.sk-estimator:hover {background-color: #d4ebff;}#sk-container-id-1 div.sk-parallel-item::after {content: \"\";width: 100%;border-bottom: 1px solid gray;flex-grow: 1;}#sk-container-id-1 div.sk-label:hover label.sk-toggleable__label {background-color: #d4ebff;}#sk-container-id-1 div.sk-serial::before {content: \"\";position: absolute;border-left: 1px solid gray;box-sizing: border-box;top: 0;bottom: 0;left: 50%;z-index: 0;}#sk-container-id-1 div.sk-serial {display: flex;flex-direction: column;align-items: center;background-color: white;padding-right: 0.2em;padding-left: 0.2em;position: relative;}#sk-container-id-1 div.sk-item {position: relative;z-index: 1;}#sk-container-id-1 div.sk-parallel {display: flex;align-items: stretch;justify-content: center;background-color: white;position: relative;}#sk-container-id-1 div.sk-item::before, #sk-container-id-1 div.sk-parallel-item::before {content: \"\";position: absolute;border-left: 1px solid gray;box-sizing: border-box;top: 0;bottom: 0;left: 50%;z-index: -1;}#sk-container-id-1 div.sk-parallel-item {display: flex;flex-direction: column;z-index: 1;position: relative;background-color: white;}#sk-container-id-1 div.sk-parallel-item:first-child::after {align-self: flex-end;width: 50%;}#sk-container-id-1 div.sk-parallel-item:last-child::after {align-self: flex-start;width: 50%;}#sk-container-id-1 div.sk-parallel-item:only-child::after {width: 0;}#sk-container-id-1 div.sk-dashed-wrapped {border: 1px dashed gray;margin: 0 0.4em 0.5em 0.4em;box-sizing: border-box;padding-bottom: 0.4em;background-color: white;}#sk-container-id-1 div.sk-label label {font-family: monospace;font-weight: bold;display: inline-block;line-height: 1.2em;}#sk-container-id-1 div.sk-label-container {text-align: center;}#sk-container-id-1 div.sk-container {/* jupyter's `normalize.less` sets `[hidden] { display: none; }` but bootstrap.min.css set `[hidden] { display: none !important; }` so we also need the `!important` here to be able to override the default hidden behavior on the sphinx rendered scikit-learn.org. See: https://github.com/scikit-learn/scikit-learn/issues/21755 */display: inline-block !important;position: relative;}#sk-container-id-1 div.sk-text-repr-fallback {display: none;}</style><div id=\"sk-container-id-1\" class=\"sk-top-container\"><div class=\"sk-text-repr-fallback\"><pre>XGBClassifier(base_score=None, booster=None, callbacks=None,\n",
       "              colsample_bylevel=None, colsample_bynode=None, colsample_bytree=0,\n",
       "              device=None, early_stopping_rounds=None, enable_categorical=False,\n",
       "              eval_metric=None, feature_types=None, gamma=3.79642083735549,\n",
       "              grow_policy=None, importance_type=None,\n",
       "              interaction_constraints=None, learning_rate=None, max_bin=None,\n",
       "              max_cat_threshold=None, max_cat_to_onehot=None,\n",
       "              max_delta_step=None, max_depth=22, max_leaves=None,\n",
       "              min_child_weight=13, missing=nan, monotone_constraints=None,\n",
       "              multi_strategy=None, n_estimators=5675, n_jobs=None,\n",
       "              num_parallel_tree=None, random_state=None, ...)</pre><b>In a Jupyter environment, please rerun this cell to show the HTML representation or trust the notebook. <br />On GitHub, the HTML representation is unable to render, please try loading this page with nbviewer.org.</b></div><div class=\"sk-container\" hidden><div class=\"sk-item\"><div class=\"sk-estimator sk-toggleable\"><input class=\"sk-toggleable__control sk-hidden--visually\" id=\"sk-estimator-id-1\" type=\"checkbox\" checked><label for=\"sk-estimator-id-1\" class=\"sk-toggleable__label sk-toggleable__label-arrow\">XGBClassifier</label><div class=\"sk-toggleable__content\"><pre>XGBClassifier(base_score=None, booster=None, callbacks=None,\n",
       "              colsample_bylevel=None, colsample_bynode=None, colsample_bytree=0,\n",
       "              device=None, early_stopping_rounds=None, enable_categorical=False,\n",
       "              eval_metric=None, feature_types=None, gamma=3.79642083735549,\n",
       "              grow_policy=None, importance_type=None,\n",
       "              interaction_constraints=None, learning_rate=None, max_bin=None,\n",
       "              max_cat_threshold=None, max_cat_to_onehot=None,\n",
       "              max_delta_step=None, max_depth=22, max_leaves=None,\n",
       "              min_child_weight=13, missing=nan, monotone_constraints=None,\n",
       "              multi_strategy=None, n_estimators=5675, n_jobs=None,\n",
       "              num_parallel_tree=None, random_state=None, ...)</pre></div></div></div></div></div>"
      ],
      "text/plain": [
       "XGBClassifier(base_score=None, booster=None, callbacks=None,\n",
       "              colsample_bylevel=None, colsample_bynode=None, colsample_bytree=0,\n",
       "              device=None, early_stopping_rounds=None, enable_categorical=False,\n",
       "              eval_metric=None, feature_types=None, gamma=3.79642083735549,\n",
       "              grow_policy=None, importance_type=None,\n",
       "              interaction_constraints=None, learning_rate=None, max_bin=None,\n",
       "              max_cat_threshold=None, max_cat_to_onehot=None,\n",
       "              max_delta_step=None, max_depth=22, max_leaves=None,\n",
       "              min_child_weight=13, missing=nan, monotone_constraints=None,\n",
       "              multi_strategy=None, n_estimators=5675, n_jobs=None,\n",
       "              num_parallel_tree=None, random_state=None, ...)"
      ]
     },
     "execution_count": 55,
     "metadata": {},
     "output_type": "execute_result"
    }
   ],
   "source": [
    "model.fit(X_train, y_train)"
   ]
  },
  {
   "cell_type": "markdown",
   "id": "cba14b39",
   "metadata": {},
   "source": [
    "### Resultados encontrados"
   ]
  },
  {
   "cell_type": "code",
   "execution_count": 57,
   "id": "38ec1b2f",
   "metadata": {},
   "outputs": [
    {
     "name": "stdout",
     "output_type": "stream",
     "text": [
      "ROC-AUC Score: 0.684600370847541\n",
      "Accuracy Score: 0.2340909090909091\n",
      "Classification Report:\n",
      "              precision    recall  f1-score   support\n",
      "\n",
      "           0       1.00      0.04      0.07      5609\n",
      "           1       0.21      1.00      0.35      1431\n",
      "\n",
      "    accuracy                           0.23      7040\n",
      "   macro avg       0.60      0.52      0.21      7040\n",
      "weighted avg       0.84      0.23      0.13      7040\n",
      "\n"
     ]
    },
    {
     "data": {
      "image/png": "[encoded data removed]",
      "text/plain": [
       "<Figure size 1000x700 with 2 Axes>"
      ]
     },
     "metadata": {},
     "output_type": "display_data"
    }
   ],
   "source": [
    "y_pred = model.predict(X_test)\n",
    "y_probs = model.predict_proba(X_test)[:, 1]\n",
    "auc_score = roc_auc_score(y_test, y_probs)\n",
    "acc_score = accuracy_score(y_test, y_pred)\n",
    "class_report = classification_report(y_test, y_pred, zero_division=0)\n",
    "conf_matrix = confusion_matrix(y_test, y_pred)\n",
    "\n",
    "print(f\"ROC-AUC Score: {auc_score}\")\n",
    "print(f\"Accuracy Score: {acc_score}\")\n",
    "print(\"Classification Report:\")\n",
    "print(class_report)\n",
    "\n",
    "plt.figure(figsize=(10, 7))\n",
    "sns.heatmap(conf_matrix, annot=True, fmt='d', cmap='Blues', xticklabels=['No Malo', 'Malo'], yticklabels=['No Malo', 'Malo'])\n",
    "plt.xlabel('Predicted')\n",
    "plt.ylabel('Actual')\n",
    "plt.title('Confusion Matrix')\n",
    "plt.show()"
   ]
  },
  {
   "cell_type": "code",
   "execution_count": 58,
   "id": "9da582ed",
   "metadata": {},
   "outputs": [
    {
     "data": {
      "image/png": "[encoded data removed]",
      "text/plain": [
       "<Figure size 800x600 with 1 Axes>"
      ]
     },
     "metadata": {},
     "output_type": "display_data"
    }
   ],
   "source": [
    "# Calcular la curva ROC y AUC-ROC\n",
    "from sklearn.metrics import auc\n",
    "y_probs = model.predict_proba(X_test)[:, 1]\n",
    "fpr, tpr, thresholds = roc_curve(y_test, y_probs)\n",
    "auc_score = auc(fpr, tpr)\n",
    "\n",
    "plt.figure(figsize=(8, 6))\n",
    "plt.plot(fpr, tpr, label=f'AUC = {auc_score:.2f}')\n",
    "plt.xlabel('False Positive Rate')\n",
    "plt.ylabel('True Positive Rate')\n",
    "plt.title('Receiver Operating Characteristic (ROC) Curve')\n",
    "plt.legend()\n",
    "plt.show()"
   ]
  },
  {
   "cell_type": "markdown",
   "id": "dee5c77e",
   "metadata": {},
   "source": [
    "**Importancia de las features**"
   ]
  },
  {
   "cell_type": "code",
   "execution_count": 60,
   "id": "b71cf6e2",
   "metadata": {},
   "outputs": [
    {
     "data": {
      "image/png": "[encoded data removed]",
      "text/plain": [
       "<Figure size 640x480 with 1 Axes>"
      ]
     },
     "metadata": {},
     "output_type": "display_data"
    }
   ],
   "source": [
    "if hasattr(model, 'feature_importances_'):\n",
    "    feature_importances = pd.Series(model.feature_importances_, index=X.columns)\n",
    "    feature_importances.nlargest(10).plot(kind='barh')\n",
    "    plt.title('Top 10 Feature Importances')\n",
    "    plt.xlabel('Feature Importance')\n",
    "    plt.ylabel('Feature')\n",
    "    plt.show()"
   ]
  },
  {
   "cell_type": "markdown",
   "id": "b18222ba",
   "metadata": {},
   "source": [
    "### Conclusiones"
   ]
  },
  {
   "cell_type": "markdown",
   "id": "65f54bff",
   "metadata": {},
   "source": [
    "En el presente Notebook probamos distintos modelos alternativos para la data de colocación de crédito de Kubo Financiero. \n",
    "\n",
    "Entre los modelos alternativos (algoritmos) que probamos se encuentran: \n",
    "\n",
    "\n",
    "\n",
    "\n",
    "**Logistic Regression**  \n",
    "\n",
    "\n",
    "**Random Forest**  \n",
    "\n",
    "**Gradient Boosting** \n",
    "\n",
    "**Support Vector Machine** \n",
    "\n",
    "**K-Nearest Neighbors**  \n",
    "\n",
    "**Naive Bayes**  \n",
    "\n",
    "Con lo anterior, los dos mejores modelos encontrados fueron: \n",
    "\n",
    "**Random Forest y Gradient Boosting.**\n",
    "\n",
    "Que cuando aplicamos un gridSearch para optimizar parámetros, encontramos que el mejor de ellos es el Gradient Boosting. \n",
    "\n",
    "\n",
    "Con el resultado anterior, lo que decidimos fue aplicar un XGBoost, una optimización del Gradient Boosting, que nos permite penalizar por overfitting, optimizar el cálculo con computo paralelizado, encontrar optimos globales, entre otros. \n",
    "\n",
    "Con lo que encontramos un modelo final: \n",
    "\n",
    "**XGBoost (eXtreme Gradient Boosting)** con ROC = 69 (que es nuestra métrica de interes)"
   ]
  },
  {
   "cell_type": "markdown",
   "id": "19fd3c87",
   "metadata": {},
   "source": [
    "\n"
   ]
  },
  {
   "cell_type": "code",
   "execution_count": null,
   "id": "ae0b904d",
   "metadata": {},
   "outputs": [],
   "source": []
  }
 ],
 "metadata": {
  "kernelspec": {
   "display_name": "Python 3 (ipykernel)",
   "language": "python",
   "name": "python3"
  },
  "language_info": {
   "codemirror_mode": {
    "name": "ipython",
    "version": 3
   },
   "file_extension": ".py",
   "mimetype": "text/x-python",
   "name": "python",
   "nbconvert_exporter": "python",
   "pygments_lexer": "ipython3",
   "version": "3.11.7"
  }
 },
 "nbformat": 4,
 "nbformat_minor": 5
}
