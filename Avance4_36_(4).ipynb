{
  "cells": [
    {
      "cell_type": "markdown",
      "id": "7de58723",
      "metadata": {
        "id": "7de58723"
      },
      "source": [
        "# Proyecto Integrador"
      ]
    },
    {
      "cell_type": "markdown",
      "id": "74c8f2dd",
      "metadata": {
        "id": "74c8f2dd"
      },
      "source": [
        "## Score de Riesgo en Originación de Crédito\n",
        "## Para Kubo Financiero\n",
        "\n",
        "Participantes:\n",
        "\n",
        "Dalina Aideé Villa Ocelotl (A01793258)\n",
        "\n",
        "Julián Valera Juarez (A01793875)\n",
        "\n",
        "Miguel Guillermo Galindo Orozco (A01793695)\n",
        "1793695)"
      ]
    },
    {
      "cell_type": "markdown",
      "id": "248595fc",
      "metadata": {
        "id": "248595fc"
      },
      "source": [
        "## Avance 4. Modelos alternativos"
      ]
    },
    {
      "cell_type": "markdown",
      "id": "7346866a",
      "metadata": {
        "id": "7346866a"
      },
      "source": [
        "### Importar librerías"
      ]
    },
    {
      "cell_type": "code",
      "execution_count": null,
      "id": "7f58e6c8-8783-47cd-bdf8-e81bf03286db",
      "metadata": {
        "id": "7f58e6c8-8783-47cd-bdf8-e81bf03286db"
      },
      "outputs": [],
      "source": [
        "import pandas as pd\n",
        "import numpy as np\n",
        "from sklearn.model_selection import train_test_split, GridSearchCV\n",
        "from sklearn.linear_model import LogisticRegression\n",
        "from sklearn.ensemble import RandomForestClassifier, GradientBoostingClassifier\n",
        "from sklearn.svm import SVC\n",
        "from sklearn.neighbors import KNeighborsClassifier\n",
        "from sklearn.naive_bayes import GaussianNB\n",
        "from sklearn.preprocessing import StandardScaler\n",
        "from sklearn.metrics import roc_auc_score, accuracy_score, classification_report, confusion_matrix\n",
        "import matplotlib.pyplot as plt\n",
        "import seaborn as sns\n",
        "from collections import Counter"
      ]
    },
    {
      "cell_type": "markdown",
      "id": "9c6c66b9",
      "metadata": {
        "id": "9c6c66b9"
      },
      "source": [
        "### Leer datos"
      ]
    },
    {
      "cell_type": "code",
      "execution_count": null,
      "id": "d61bf34a-1685-4b8a-9363-27c451569551",
      "metadata": {
        "id": "d61bf34a-1685-4b8a-9363-27c451569551"
      },
      "outputs": [],
      "source": [
        "file_path = 'base_20210101a20240430 (2).xlsx'\n",
        "df = pd.read_excel(file_path, sheet_name='Cliientes_Nuevos')"
      ]
    },
    {
      "cell_type": "markdown",
      "id": "d5857a44",
      "metadata": {
        "id": "d5857a44"
      },
      "source": [
        "Eliminar variables no necesarias"
      ]
    },
    {
      "cell_type": "code",
      "execution_count": null,
      "id": "ec4b1e2c-3296-4ae5-a6f7-7d309455ddc5",
      "metadata": {
        "id": "ec4b1e2c-3296-4ae5-a6f7-7d309455ddc5"
      },
      "outputs": [],
      "source": [
        "variables_eliminar = [\"montocredito_actual\", \"estatus_actual\",\"diasatraso_actual\",\"saldo_actual\"]\n",
        "variables_ok = [i for i in df.columns if i not in variables_eliminar ]\n",
        "df = df[variables_ok]\n",
        "df = df[df['es_malo_actual'].isin([0,1])]\n",
        "df = df.dropna()"
      ]
    },
    {
      "cell_type": "markdown",
      "id": "33ff2599",
      "metadata": {
        "id": "33ff2599"
      },
      "source": [
        "Separar variables independientes (x) y dependientes (y)"
      ]
    },
    {
      "cell_type": "code",
      "execution_count": null,
      "id": "e459b18d-6c2c-4b91-ab27-458ba105061c",
      "metadata": {
        "id": "e459b18d-6c2c-4b91-ab27-458ba105061c"
      },
      "outputs": [],
      "source": [
        "y = df['es_malo_actual']\n",
        "X = df.drop(['es_malo_actual'], axis=1)"
      ]
    },
    {
      "cell_type": "markdown",
      "id": "bbb5e60b",
      "metadata": {
        "id": "bbb5e60b"
      },
      "source": [
        "Eliminar columnas datetime y convertir categorias en dummy"
      ]
    },
    {
      "cell_type": "code",
      "execution_count": null,
      "id": "40b53496-fcbf-4c3f-85e0-b173cfccd87e",
      "metadata": {
        "id": "40b53496-fcbf-4c3f-85e0-b173cfccd87e"
      },
      "outputs": [],
      "source": [
        "X = X.select_dtypes(exclude=['datetime64'])\n",
        "X = pd.get_dummies(X, drop_first=True)"
      ]
    },
    {
      "cell_type": "markdown",
      "id": "6726b65f",
      "metadata": {
        "id": "6726b65f"
      },
      "source": [
        "Escalar datos"
      ]
    },
    {
      "cell_type": "code",
      "execution_count": null,
      "id": "6a15ddf3-fcbd-49eb-818b-f1b344832ad9",
      "metadata": {
        "id": "6a15ddf3-fcbd-49eb-818b-f1b344832ad9"
      },
      "outputs": [],
      "source": [
        "scaler = StandardScaler()\n",
        "X_scaled = scaler.fit_transform(X)"
      ]
    },
    {
      "cell_type": "markdown",
      "id": "fcc2eba6",
      "metadata": {
        "id": "fcc2eba6"
      },
      "source": [
        "Separar conjuntos de entrenamiento (train) y prueba (test)"
      ]
    },
    {
      "cell_type": "code",
      "execution_count": null,
      "id": "122c4371-c183-4f4d-8328-8073f786a8a2",
      "metadata": {
        "id": "122c4371-c183-4f4d-8328-8073f786a8a2"
      },
      "outputs": [],
      "source": [
        "X_train, X_test, y_train, y_test = train_test_split(X_scaled, y, test_size=0.2, random_state=1234, shuffle=True)"
      ]
    },
    {
      "cell_type": "markdown",
      "id": "aab5c6a2",
      "metadata": {
        "id": "aab5c6a2"
      },
      "source": [
        "### Entrenamiento de modelos"
      ]
    },
    {
      "cell_type": "code",
      "execution_count": null,
      "id": "0c054396-f694-4b76-b419-3a2eddfbd65c",
      "metadata": {
        "id": "0c054396-f694-4b76-b419-3a2eddfbd65c"
      },
      "outputs": [],
      "source": [
        "def evaluate_model(model, X_train, y_train, X_test, y_test):\n",
        "    model.fit(X_train, y_train)\n",
        "    y_pred = model.predict(X_test)\n",
        "    y_probs = model.predict_proba(X_test)[:, 1]\n",
        "    auc_score = roc_auc_score(y_test, y_probs)\n",
        "    acc_score = accuracy_score(y_test, y_pred)\n",
        "    class_report = classification_report(y_test, y_pred, zero_division=0)\n",
        "    conf_matrix = confusion_matrix(y_test, y_pred)\n",
        "\n",
        "    print(f\"ROC-AUC Score: {auc_score}\")\n",
        "    print(f\"Accuracy Score: {acc_score}\")\n",
        "    print(\"Classification Report:\")\n",
        "    print(class_report)\n",
        "\n",
        "    plt.figure(figsize=(10, 7))\n",
        "    sns.heatmap(conf_matrix, annot=True, fmt='d', cmap='Blues', xticklabels=['No Malo', 'Malo'], yticklabels=['No Malo', 'Malo'])\n",
        "    plt.xlabel('Predicted')\n",
        "    plt.ylabel('Actual')\n",
        "    plt.title('Confusion Matrix')\n",
        "    plt.show()\n",
        "\n",
        "    return auc_score, acc_score"
      ]
    },
    {
      "cell_type": "markdown",
      "id": "02a19c30",
      "metadata": {
        "id": "02a19c30"
      },
      "source": [
        "Se entrenan los distintos modelos con sus métricas de performance"
      ]
    },
    {
      "cell_type": "code",
      "execution_count": null,
      "id": "00dce919-83f0-4379-87aa-bd77a9c58c22",
      "metadata": {
        "id": "00dce919-83f0-4379-87aa-bd77a9c58c22",
        "outputId": "6b63b533-ee19-4015-b979-e3ec867fab3a"
      },
      "outputs": [
        {
          "name": "stdout",
          "output_type": "stream",
          "text": [
            "Evaluating Logistic Regression...\n",
            "ROC-AUC Score: 0.649122371888242\n",
            "Accuracy Score: 0.796048891415577\n",
            "Classification Report:\n",
            "              precision    recall  f1-score   support\n",
            "\n",
            "           0       0.80      1.00      0.89      5614\n",
            "           1       0.30      0.01      0.01      1422\n",
            "\n",
            "    accuracy                           0.80      7036\n",
            "   macro avg       0.55      0.50      0.45      7036\n",
            "weighted avg       0.70      0.80      0.71      7036\n",
            "\n"
          ]
        },
        {
          "data": {
            "image/png": "[encoded data removed]",
            "text/plain": [
              "<Figure size 1000x700 with 2 Axes>"
            ]
          },
          "metadata": {},
          "output_type": "display_data"
        },
        {
          "name": "stdout",
          "output_type": "stream",
          "text": [
            "Evaluating Random Forest...\n",
            "ROC-AUC Score: 0.6856840092856067\n",
            "Accuracy Score: 0.7993177942012507\n",
            "Classification Report:\n",
            "              precision    recall  f1-score   support\n",
            "\n",
            "           0       0.80      1.00      0.89      5614\n",
            "           1       0.63      0.02      0.03      1422\n",
            "\n",
            "    accuracy                           0.80      7036\n",
            "   macro avg       0.72      0.51      0.46      7036\n",
            "weighted avg       0.77      0.80      0.72      7036\n",
            "\n"
          ]
        },
        {
          "data": {
            "image/png": "[encoded data removed]",
            "text/plain": [
              "<Figure size 1000x700 with 2 Axes>"
            ]
          },
          "metadata": {},
          "output_type": "display_data"
        },
        {
          "name": "stdout",
          "output_type": "stream",
          "text": [
            "Evaluating Gradient Boosting...\n",
            "ROC-AUC Score: 0.6978461270973662\n",
            "Accuracy Score: 0.7984650369528141\n",
            "Classification Report:\n",
            "              precision    recall  f1-score   support\n",
            "\n",
            "           0       0.80      1.00      0.89      5614\n",
            "           1       0.56      0.01      0.03      1422\n",
            "\n",
            "    accuracy                           0.80      7036\n",
            "   macro avg       0.68      0.51      0.46      7036\n",
            "weighted avg       0.75      0.80      0.71      7036\n",
            "\n"
          ]
        },
        {
          "data": {
            "image/png": "[encoded data removed]",
            "text/plain": [
              "<Figure size 1000x700 with 2 Axes>"
            ]
          },
          "metadata": {},
          "output_type": "display_data"
        },
        {
          "name": "stdout",
          "output_type": "stream",
          "text": [
            "Evaluating Support Vector Machine...\n",
            "ROC-AUC Score: 0.5811631259404232\n",
            "Accuracy Score: 0.7973280272882319\n",
            "Classification Report:\n",
            "              precision    recall  f1-score   support\n",
            "\n",
            "           0       0.80      1.00      0.89      5614\n",
            "           1       0.17      0.00      0.00      1422\n",
            "\n",
            "    accuracy                           0.80      7036\n",
            "   macro avg       0.48      0.50      0.44      7036\n",
            "weighted avg       0.67      0.80      0.71      7036\n",
            "\n"
          ]
        },
        {
          "data": {
            "image/png": "[encoded data removed]",
            "text/plain": [
              "<Figure size 1000x700 with 2 Axes>"
            ]
          },
          "metadata": {},
          "output_type": "display_data"
        },
        {
          "name": "stdout",
          "output_type": "stream",
          "text": [
            "Evaluating K-Nearest Neighbors...\n",
            "ROC-AUC Score: 0.558248053264468\n",
            "Accuracy Score: 0.762933484934622\n",
            "Classification Report:\n",
            "              precision    recall  f1-score   support\n",
            "\n",
            "           0       0.80      0.93      0.86      5614\n",
            "           1       0.26      0.09      0.14      1422\n",
            "\n",
            "    accuracy                           0.76      7036\n",
            "   macro avg       0.53      0.51      0.50      7036\n",
            "weighted avg       0.69      0.76      0.72      7036\n",
            "\n"
          ]
        },
        {
          "data": {
            "image/png": "[encoded data removed]",
            "text/plain": [
              "<Figure size 1000x700 with 2 Axes>"
            ]
          },
          "metadata": {},
          "output_type": "display_data"
        },
        {
          "name": "stdout",
          "output_type": "stream",
          "text": [
            "Evaluating Naive Bayes...\n",
            "ROC-AUC Score: 0.5931842585619536\n",
            "Accuracy Score: 0.7148948266060261\n",
            "Classification Report:\n",
            "              precision    recall  f1-score   support\n",
            "\n",
            "           0       0.82      0.83      0.82      5614\n",
            "           1       0.28      0.26      0.27      1422\n",
            "\n",
            "    accuracy                           0.71      7036\n",
            "   macro avg       0.55      0.55      0.55      7036\n",
            "weighted avg       0.71      0.71      0.71      7036\n",
            "\n"
          ]
        },
        {
          "data": {
            "image/png": "[encoded data removed]",
            "text/plain": [
              "<Figure size 1000x700 with 2 Axes>"
            ]
          },
          "metadata": {},
          "output_type": "display_data"
        }
      ],
      "source": [
        "\n",
        "models = {\n",
        "    \"Logistic Regression\": LogisticRegression(max_iter=2000),\n",
        "    \"Random Forest\": RandomForestClassifier(),\n",
        "    \"Gradient Boosting\": GradientBoostingClassifier(),\n",
        "    \"Support Vector Machine\": SVC(probability=True),\n",
        "    \"K-Nearest Neighbors\": KNeighborsClassifier(),\n",
        "    \"Naive Bayes\": GaussianNB()\n",
        "}\n",
        "\n",
        "model_performance = {}\n",
        "\n",
        "for model_name, model in models.items():\n",
        "    print(f\"Evaluating {model_name}...\")\n",
        "    auc_score, acc_score = evaluate_model(model, X_train, y_train, X_test, y_test)\n",
        "    model_performance[model_name] = {'ROC-AUC': auc_score, 'Accuracy': acc_score}"
      ]
    },
    {
      "cell_type": "markdown",
      "id": "38aca86b",
      "metadata": {
        "id": "38aca86b"
      },
      "source": [
        "Comparación de resultados de modelos"
      ]
    },
    {
      "cell_type": "code",
      "execution_count": null,
      "id": "e0c6b9e5-ea84-4158-acf2-32ba39195c87",
      "metadata": {
        "id": "e0c6b9e5-ea84-4158-acf2-32ba39195c87",
        "outputId": "b60a02fe-25ee-4e21-955f-8dacdaf2d292"
      },
      "outputs": [
        {
          "name": "stdout",
          "output_type": "stream",
          "text": [
            "                         ROC-AUC  Accuracy\n",
            "Logistic Regression     0.649122  0.796049\n",
            "Random Forest           0.685684  0.799318\n",
            "Gradient Boosting       0.697846  0.798465\n",
            "Support Vector Machine  0.581163  0.797328\n",
            "K-Nearest Neighbors     0.558248  0.762933\n",
            "Naive Bayes             0.593184  0.714895\n"
          ]
        }
      ],
      "source": [
        "performance_df = pd.DataFrame(model_performance).T\n",
        "print(performance_df)"
      ]
    },
    {
      "cell_type": "markdown",
      "id": "ebfca1b0",
      "metadata": {
        "id": "ebfca1b0"
      },
      "source": [
        "Selecciona los dos modelos con mejor ROC-AUC"
      ]
    },
    {
      "cell_type": "code",
      "execution_count": null,
      "id": "c4de3a3f-84ec-439b-825f-3c6534b0a813",
      "metadata": {
        "id": "c4de3a3f-84ec-439b-825f-3c6534b0a813",
        "outputId": "6700cf3f-47ad-49c2-e387-a0d08507f21a"
      },
      "outputs": [
        {
          "name": "stdout",
          "output_type": "stream",
          "text": [
            "\n",
            "Models Based on ROC-AUC:\n",
            "                    ROC-AUC  Accuracy\n",
            "Gradient Boosting  0.697846  0.798465\n",
            "Random Forest      0.685684  0.799318\n"
          ]
        }
      ],
      "source": [
        " top_2_models = performance_df.nlargest(2, 'ROC-AUC')\n",
        "print(\"\\nModels Based on ROC-AUC:\")\n",
        "print(top_2_models)"
      ]
    },
    {
      "cell_type": "markdown",
      "id": "af8462da",
      "metadata": {
        "id": "af8462da"
      },
      "source": [
        "Ajuste de hiperparámetros a los dos mejores modelos (Gradient Boosting (gb) y Random Forest (rf))\n",
        "\n",
        "\n",
        "Usamos GridSearchCV para busqueda en grid con validación cruzada (cv=5) para encontrar la mejor combinación de hiperparámetros"
      ]
    },
    {
      "cell_type": "code",
      "execution_count": null,
      "id": "268f6687-f8d7-442e-ab0c-07cafa6bca18",
      "metadata": {
        "id": "268f6687-f8d7-442e-ab0c-07cafa6bca18"
      },
      "outputs": [],
      "source": [
        "param_grid_rf = {\n",
        "    'n_estimators': [100, 200, 300],\n",
        "    'max_depth': [None, 10, 20],\n",
        "    'min_samples_split': [2, 5, 10]\n",
        "}\n",
        "\n",
        "param_grid_gb = {\n",
        "    'n_estimators': [100, 200, 300],\n",
        "    'learning_rate': [0.01, 0.1, 0.2],\n",
        "    'max_depth': [3, 5, 7]\n",
        "}\n",
        "\n",
        "grid_rf = GridSearchCV(RandomForestClassifier(), param_grid_rf, cv=5, scoring='roc_auc')\n",
        "grid_gb = GridSearchCV(GradientBoostingClassifier(), param_grid_gb, cv=5, scoring='roc_auc')"
      ]
    },
    {
      "cell_type": "markdown",
      "id": "52313c6a",
      "metadata": {
        "id": "52313c6a"
      },
      "source": [
        "Entrenamos los modelos ajustados"
      ]
    },
    {
      "cell_type": "code",
      "execution_count": null,
      "id": "fb69e41b-4545-40b9-bd49-bee3c2f49f92",
      "metadata": {
        "id": "fb69e41b-4545-40b9-bd49-bee3c2f49f92",
        "outputId": "6d1e9181-0a7f-4c9f-cfe7-c4cb5f2ba69f"
      },
      "outputs": [
        {
          "name": "stdout",
          "output_type": "stream",
          "text": [
            "Ajustando hiperparámetros para Random Forest...\n",
            "Ajustando hiperparámetros para Gradient Boosting...\n"
          ]
        },
        {
          "data": {
            "text/html": [
              "<style>#sk-container-id-2 {\n",
              "  /* Definition of color scheme common for light and dark mode */\n",
              "  --sklearn-color-text: black;\n",
              "  --sklearn-color-line: gray;\n",
              "  /* Definition of color scheme for unfitted estimators */\n",
              "  --sklearn-color-unfitted-level-0: #fff5e6;\n",
              "  --sklearn-color-unfitted-level-1: #f6e4d2;\n",
              "  --sklearn-color-unfitted-level-2: #ffe0b3;\n",
              "  --sklearn-color-unfitted-level-3: chocolate;\n",
              "  /* Definition of color scheme for fitted estimators */\n",
              "  --sklearn-color-fitted-level-0: #f0f8ff;\n",
              "  --sklearn-color-fitted-level-1: #d4ebff;\n",
              "  --sklearn-color-fitted-level-2: #b3dbfd;\n",
              "  --sklearn-color-fitted-level-3: cornflowerblue;\n",
              "\n",
              "  /* Specific color for light theme */\n",
              "  --sklearn-color-text-on-default-background: var(--sg-text-color, var(--theme-code-foreground, var(--jp-content-font-color1, black)));\n",
              "  --sklearn-color-background: var(--sg-background-color, var(--theme-background, var(--jp-layout-color0, white)));\n",
              "  --sklearn-color-border-box: var(--sg-text-color, var(--theme-code-foreground, var(--jp-content-font-color1, black)));\n",
              "  --sklearn-color-icon: #696969;\n",
              "\n",
              "  @media (prefers-color-scheme: dark) {\n",
              "    /* Redefinition of color scheme for dark theme */\n",
              "    --sklearn-color-text-on-default-background: var(--sg-text-color, var(--theme-code-foreground, var(--jp-content-font-color1, white)));\n",
              "    --sklearn-color-background: var(--sg-background-color, var(--theme-background, var(--jp-layout-color0, #111)));\n",
              "    --sklearn-color-border-box: var(--sg-text-color, var(--theme-code-foreground, var(--jp-content-font-color1, white)));\n",
              "    --sklearn-color-icon: #878787;\n",
              "  }\n",
              "}\n",
              "\n",
              "#sk-container-id-2 {\n",
              "  color: var(--sklearn-color-text);\n",
              "}\n",
              "\n",
              "#sk-container-id-2 pre {\n",
              "  padding: 0;\n",
              "}\n",
              "\n",
              "#sk-container-id-2 input.sk-hidden--visually {\n",
              "  border: 0;\n",
              "  clip: rect(1px 1px 1px 1px);\n",
              "  clip: rect(1px, 1px, 1px, 1px);\n",
              "  height: 1px;\n",
              "  margin: -1px;\n",
              "  overflow: hidden;\n",
              "  padding: 0;\n",
              "  position: absolute;\n",
              "  width: 1px;\n",
              "}\n",
              "\n",
              "#sk-container-id-2 div.sk-dashed-wrapped {\n",
              "  border: 1px dashed var(--sklearn-color-line);\n",
              "  margin: 0 0.4em 0.5em 0.4em;\n",
              "  box-sizing: border-box;\n",
              "  padding-bottom: 0.4em;\n",
              "  background-color: var(--sklearn-color-background);\n",
              "}\n",
              "\n",
              "#sk-container-id-2 div.sk-container {\n",
              "  /* jupyter's `normalize.less` sets `[hidden] { display: none; }`\n",
              "     but bootstrap.min.css set `[hidden] { display: none !important; }`\n",
              "     so we also need the `!important` here to be able to override the\n",
              "     default hidden behavior on the sphinx rendered scikit-learn.org.\n",
              "     See: https://github.com/scikit-learn/scikit-learn/issues/21755 */\n",
              "  display: inline-block !important;\n",
              "  position: relative;\n",
              "}\n",
              "\n",
              "#sk-container-id-2 div.sk-text-repr-fallback {\n",
              "  display: none;\n",
              "}\n",
              "\n",
              "div.sk-parallel-item,\n",
              "div.sk-serial,\n",
              "div.sk-item {\n",
              "  /* draw centered vertical line to link estimators */\n",
              "  background-image: linear-gradient(var(--sklearn-color-text-on-default-background), var(--sklearn-color-text-on-default-background));\n",
              "  background-size: 2px 100%;\n",
              "  background-repeat: no-repeat;\n",
              "  background-position: center center;\n",
              "}\n",
              "\n",
              "/* Parallel-specific style estimator block */\n",
              "\n",
              "#sk-container-id-2 div.sk-parallel-item::after {\n",
              "  content: \"\";\n",
              "  width: 100%;\n",
              "  border-bottom: 2px solid var(--sklearn-color-text-on-default-background);\n",
              "  flex-grow: 1;\n",
              "}\n",
              "\n",
              "#sk-container-id-2 div.sk-parallel {\n",
              "  display: flex;\n",
              "  align-items: stretch;\n",
              "  justify-content: center;\n",
              "  background-color: var(--sklearn-color-background);\n",
              "  position: relative;\n",
              "}\n",
              "\n",
              "#sk-container-id-2 div.sk-parallel-item {\n",
              "  display: flex;\n",
              "  flex-direction: column;\n",
              "}\n",
              "\n",
              "#sk-container-id-2 div.sk-parallel-item:first-child::after {\n",
              "  align-self: flex-end;\n",
              "  width: 50%;\n",
              "}\n",
              "\n",
              "#sk-container-id-2 div.sk-parallel-item:last-child::after {\n",
              "  align-self: flex-start;\n",
              "  width: 50%;\n",
              "}\n",
              "\n",
              "#sk-container-id-2 div.sk-parallel-item:only-child::after {\n",
              "  width: 0;\n",
              "}\n",
              "\n",
              "/* Serial-specific style estimator block */\n",
              "\n",
              "#sk-container-id-2 div.sk-serial {\n",
              "  display: flex;\n",
              "  flex-direction: column;\n",
              "  align-items: center;\n",
              "  background-color: var(--sklearn-color-background);\n",
              "  padding-right: 1em;\n",
              "  padding-left: 1em;\n",
              "}\n",
              "\n",
              "\n",
              "/* Toggleable style: style used for estimator/Pipeline/ColumnTransformer box that is\n",
              "clickable and can be expanded/collapsed.\n",
              "- Pipeline and ColumnTransformer use this feature and define the default style\n",
              "- Estimators will overwrite some part of the style using the `sk-estimator` class\n",
              "*/\n",
              "\n",
              "/* Pipeline and ColumnTransformer style (default) */\n",
              "\n",
              "#sk-container-id-2 div.sk-toggleable {\n",
              "  /* Default theme specific background. It is overwritten whether we have a\n",
              "  specific estimator or a Pipeline/ColumnTransformer */\n",
              "  background-color: var(--sklearn-color-background);\n",
              "}\n",
              "\n",
              "/* Toggleable label */\n",
              "#sk-container-id-2 label.sk-toggleable__label {\n",
              "  cursor: pointer;\n",
              "  display: block;\n",
              "  width: 100%;\n",
              "  margin-bottom: 0;\n",
              "  padding: 0.5em;\n",
              "  box-sizing: border-box;\n",
              "  text-align: center;\n",
              "}\n",
              "\n",
              "#sk-container-id-2 label.sk-toggleable__label-arrow:before {\n",
              "  /* Arrow on the left of the label */\n",
              "  content: \"▸\";\n",
              "  float: left;\n",
              "  margin-right: 0.25em;\n",
              "  color: var(--sklearn-color-icon);\n",
              "}\n",
              "\n",
              "#sk-container-id-2 label.sk-toggleable__label-arrow:hover:before {\n",
              "  color: var(--sklearn-color-text);\n",
              "}\n",
              "\n",
              "/* Toggleable content - dropdown */\n",
              "\n",
              "#sk-container-id-2 div.sk-toggleable__content {\n",
              "  max-height: 0;\n",
              "  max-width: 0;\n",
              "  overflow: hidden;\n",
              "  text-align: left;\n",
              "  /* unfitted */\n",
              "  background-color: var(--sklearn-color-unfitted-level-0);\n",
              "}\n",
              "\n",
              "#sk-container-id-2 div.sk-toggleable__content.fitted {\n",
              "  /* fitted */\n",
              "  background-color: var(--sklearn-color-fitted-level-0);\n",
              "}\n",
              "\n",
              "#sk-container-id-2 div.sk-toggleable__content pre {\n",
              "  margin: 0.2em;\n",
              "  border-radius: 0.25em;\n",
              "  color: var(--sklearn-color-text);\n",
              "  /* unfitted */\n",
              "  background-color: var(--sklearn-color-unfitted-level-0);\n",
              "}\n",
              "\n",
              "#sk-container-id-2 div.sk-toggleable__content.fitted pre {\n",
              "  /* unfitted */\n",
              "  background-color: var(--sklearn-color-fitted-level-0);\n",
              "}\n",
              "\n",
              "#sk-container-id-2 input.sk-toggleable__control:checked~div.sk-toggleable__content {\n",
              "  /* Expand drop-down */\n",
              "  max-height: 200px;\n",
              "  max-width: 100%;\n",
              "  overflow: auto;\n",
              "}\n",
              "\n",
              "#sk-container-id-2 input.sk-toggleable__control:checked~label.sk-toggleable__label-arrow:before {\n",
              "  content: \"▾\";\n",
              "}\n",
              "\n",
              "/* Pipeline/ColumnTransformer-specific style */\n",
              "\n",
              "#sk-container-id-2 div.sk-label input.sk-toggleable__control:checked~label.sk-toggleable__label {\n",
              "  color: var(--sklearn-color-text);\n",
              "  background-color: var(--sklearn-color-unfitted-level-2);\n",
              "}\n",
              "\n",
              "#sk-container-id-2 div.sk-label.fitted input.sk-toggleable__control:checked~label.sk-toggleable__label {\n",
              "  background-color: var(--sklearn-color-fitted-level-2);\n",
              "}\n",
              "\n",
              "/* Estimator-specific style */\n",
              "\n",
              "/* Colorize estimator box */\n",
              "#sk-container-id-2 div.sk-estimator input.sk-toggleable__control:checked~label.sk-toggleable__label {\n",
              "  /* unfitted */\n",
              "  background-color: var(--sklearn-color-unfitted-level-2);\n",
              "}\n",
              "\n",
              "#sk-container-id-2 div.sk-estimator.fitted input.sk-toggleable__control:checked~label.sk-toggleable__label {\n",
              "  /* fitted */\n",
              "  background-color: var(--sklearn-color-fitted-level-2);\n",
              "}\n",
              "\n",
              "#sk-container-id-2 div.sk-label label.sk-toggleable__label,\n",
              "#sk-container-id-2 div.sk-label label {\n",
              "  /* The background is the default theme color */\n",
              "  color: var(--sklearn-color-text-on-default-background);\n",
              "}\n",
              "\n",
              "/* On hover, darken the color of the background */\n",
              "#sk-container-id-2 div.sk-label:hover label.sk-toggleable__label {\n",
              "  color: var(--sklearn-color-text);\n",
              "  background-color: var(--sklearn-color-unfitted-level-2);\n",
              "}\n",
              "\n",
              "/* Label box, darken color on hover, fitted */\n",
              "#sk-container-id-2 div.sk-label.fitted:hover label.sk-toggleable__label.fitted {\n",
              "  color: var(--sklearn-color-text);\n",
              "  background-color: var(--sklearn-color-fitted-level-2);\n",
              "}\n",
              "\n",
              "/* Estimator label */\n",
              "\n",
              "#sk-container-id-2 div.sk-label label {\n",
              "  font-family: monospace;\n",
              "  font-weight: bold;\n",
              "  display: inline-block;\n",
              "  line-height: 1.2em;\n",
              "}\n",
              "\n",
              "#sk-container-id-2 div.sk-label-container {\n",
              "  text-align: center;\n",
              "}\n",
              "\n",
              "/* Estimator-specific */\n",
              "#sk-container-id-2 div.sk-estimator {\n",
              "  font-family: monospace;\n",
              "  border: 1px dotted var(--sklearn-color-border-box);\n",
              "  border-radius: 0.25em;\n",
              "  box-sizing: border-box;\n",
              "  margin-bottom: 0.5em;\n",
              "  /* unfitted */\n",
              "  background-color: var(--sklearn-color-unfitted-level-0);\n",
              "}\n",
              "\n",
              "#sk-container-id-2 div.sk-estimator.fitted {\n",
              "  /* fitted */\n",
              "  background-color: var(--sklearn-color-fitted-level-0);\n",
              "}\n",
              "\n",
              "/* on hover */\n",
              "#sk-container-id-2 div.sk-estimator:hover {\n",
              "  /* unfitted */\n",
              "  background-color: var(--sklearn-color-unfitted-level-2);\n",
              "}\n",
              "\n",
              "#sk-container-id-2 div.sk-estimator.fitted:hover {\n",
              "  /* fitted */\n",
              "  background-color: var(--sklearn-color-fitted-level-2);\n",
              "}\n",
              "\n",
              "/* Specification for estimator info (e.g. \"i\" and \"?\") */\n",
              "\n",
              "/* Common style for \"i\" and \"?\" */\n",
              "\n",
              ".sk-estimator-doc-link,\n",
              "a:link.sk-estimator-doc-link,\n",
              "a:visited.sk-estimator-doc-link {\n",
              "  float: right;\n",
              "  font-size: smaller;\n",
              "  line-height: 1em;\n",
              "  font-family: monospace;\n",
              "  background-color: var(--sklearn-color-background);\n",
              "  border-radius: 1em;\n",
              "  height: 1em;\n",
              "  width: 1em;\n",
              "  text-decoration: none !important;\n",
              "  margin-left: 1ex;\n",
              "  /* unfitted */\n",
              "  border: var(--sklearn-color-unfitted-level-1) 1pt solid;\n",
              "  color: var(--sklearn-color-unfitted-level-1);\n",
              "}\n",
              "\n",
              ".sk-estimator-doc-link.fitted,\n",
              "a:link.sk-estimator-doc-link.fitted,\n",
              "a:visited.sk-estimator-doc-link.fitted {\n",
              "  /* fitted */\n",
              "  border: var(--sklearn-color-fitted-level-1) 1pt solid;\n",
              "  color: var(--sklearn-color-fitted-level-1);\n",
              "}\n",
              "\n",
              "/* On hover */\n",
              "div.sk-estimator:hover .sk-estimator-doc-link:hover,\n",
              ".sk-estimator-doc-link:hover,\n",
              "div.sk-label-container:hover .sk-estimator-doc-link:hover,\n",
              ".sk-estimator-doc-link:hover {\n",
              "  /* unfitted */\n",
              "  background-color: var(--sklearn-color-unfitted-level-3);\n",
              "  color: var(--sklearn-color-background);\n",
              "  text-decoration: none;\n",
              "}\n",
              "\n",
              "div.sk-estimator.fitted:hover .sk-estimator-doc-link.fitted:hover,\n",
              ".sk-estimator-doc-link.fitted:hover,\n",
              "div.sk-label-container:hover .sk-estimator-doc-link.fitted:hover,\n",
              ".sk-estimator-doc-link.fitted:hover {\n",
              "  /* fitted */\n",
              "  background-color: var(--sklearn-color-fitted-level-3);\n",
              "  color: var(--sklearn-color-background);\n",
              "  text-decoration: none;\n",
              "}\n",
              "\n",
              "/* Span, style for the box shown on hovering the info icon */\n",
              ".sk-estimator-doc-link span {\n",
              "  display: none;\n",
              "  z-index: 9999;\n",
              "  position: relative;\n",
              "  font-weight: normal;\n",
              "  right: .2ex;\n",
              "  padding: .5ex;\n",
              "  margin: .5ex;\n",
              "  width: min-content;\n",
              "  min-width: 20ex;\n",
              "  max-width: 50ex;\n",
              "  color: var(--sklearn-color-text);\n",
              "  box-shadow: 2pt 2pt 4pt #999;\n",
              "  /* unfitted */\n",
              "  background: var(--sklearn-color-unfitted-level-0);\n",
              "  border: .5pt solid var(--sklearn-color-unfitted-level-3);\n",
              "}\n",
              "\n",
              ".sk-estimator-doc-link.fitted span {\n",
              "  /* fitted */\n",
              "  background: var(--sklearn-color-fitted-level-0);\n",
              "  border: var(--sklearn-color-fitted-level-3);\n",
              "}\n",
              "\n",
              ".sk-estimator-doc-link:hover span {\n",
              "  display: block;\n",
              "}\n",
              "\n",
              "/* \"?\"-specific style due to the `<a>` HTML tag */\n",
              "\n",
              "#sk-container-id-2 a.estimator_doc_link {\n",
              "  float: right;\n",
              "  font-size: 1rem;\n",
              "  line-height: 1em;\n",
              "  font-family: monospace;\n",
              "  background-color: var(--sklearn-color-background);\n",
              "  border-radius: 1rem;\n",
              "  height: 1rem;\n",
              "  width: 1rem;\n",
              "  text-decoration: none;\n",
              "  /* unfitted */\n",
              "  color: var(--sklearn-color-unfitted-level-1);\n",
              "  border: var(--sklearn-color-unfitted-level-1) 1pt solid;\n",
              "}\n",
              "\n",
              "#sk-container-id-2 a.estimator_doc_link.fitted {\n",
              "  /* fitted */\n",
              "  border: var(--sklearn-color-fitted-level-1) 1pt solid;\n",
              "  color: var(--sklearn-color-fitted-level-1);\n",
              "}\n",
              "\n",
              "/* On hover */\n",
              "#sk-container-id-2 a.estimator_doc_link:hover {\n",
              "  /* unfitted */\n",
              "  background-color: var(--sklearn-color-unfitted-level-3);\n",
              "  color: var(--sklearn-color-background);\n",
              "  text-decoration: none;\n",
              "}\n",
              "\n",
              "#sk-container-id-2 a.estimator_doc_link.fitted:hover {\n",
              "  /* fitted */\n",
              "  background-color: var(--sklearn-color-fitted-level-3);\n",
              "}\n",
              "</style><div id=\"sk-container-id-2\" class=\"sk-top-container\"><div class=\"sk-text-repr-fallback\"><pre>GridSearchCV(cv=5, estimator=GradientBoostingClassifier(),\n",
              "             param_grid={&#x27;learning_rate&#x27;: [0.01, 0.1, 0.2],\n",
              "                         &#x27;max_depth&#x27;: [3, 5, 7],\n",
              "                         &#x27;n_estimators&#x27;: [100, 200, 300]},\n",
              "             scoring=&#x27;roc_auc&#x27;)</pre><b>In a Jupyter environment, please rerun this cell to show the HTML representation or trust the notebook. <br />On GitHub, the HTML representation is unable to render, please try loading this page with nbviewer.org.</b></div><div class=\"sk-container\" hidden><div class=\"sk-item sk-dashed-wrapped\"><div class=\"sk-label-container\"><div class=\"sk-label fitted sk-toggleable\"><input class=\"sk-toggleable__control sk-hidden--visually\" id=\"sk-estimator-id-4\" type=\"checkbox\" ><label for=\"sk-estimator-id-4\" class=\"sk-toggleable__label fitted sk-toggleable__label-arrow fitted\">&nbsp;&nbsp;GridSearchCV<a class=\"sk-estimator-doc-link fitted\" rel=\"noreferrer\" target=\"_blank\" href=\"https://scikit-learn.org/1.4/modules/generated/sklearn.model_selection.GridSearchCV.html\">?<span>Documentation for GridSearchCV</span></a><span class=\"sk-estimator-doc-link fitted\">i<span>Fitted</span></span></label><div class=\"sk-toggleable__content fitted\"><pre>GridSearchCV(cv=5, estimator=GradientBoostingClassifier(),\n",
              "             param_grid={&#x27;learning_rate&#x27;: [0.01, 0.1, 0.2],\n",
              "                         &#x27;max_depth&#x27;: [3, 5, 7],\n",
              "                         &#x27;n_estimators&#x27;: [100, 200, 300]},\n",
              "             scoring=&#x27;roc_auc&#x27;)</pre></div> </div></div><div class=\"sk-parallel\"><div class=\"sk-parallel-item\"><div class=\"sk-item\"><div class=\"sk-label-container\"><div class=\"sk-label fitted sk-toggleable\"><input class=\"sk-toggleable__control sk-hidden--visually\" id=\"sk-estimator-id-5\" type=\"checkbox\" ><label for=\"sk-estimator-id-5\" class=\"sk-toggleable__label fitted sk-toggleable__label-arrow fitted\">estimator: GradientBoostingClassifier</label><div class=\"sk-toggleable__content fitted\"><pre>GradientBoostingClassifier()</pre></div> </div></div><div class=\"sk-serial\"><div class=\"sk-item\"><div class=\"sk-estimator fitted sk-toggleable\"><input class=\"sk-toggleable__control sk-hidden--visually\" id=\"sk-estimator-id-6\" type=\"checkbox\" ><label for=\"sk-estimator-id-6\" class=\"sk-toggleable__label fitted sk-toggleable__label-arrow fitted\">&nbsp;GradientBoostingClassifier<a class=\"sk-estimator-doc-link fitted\" rel=\"noreferrer\" target=\"_blank\" href=\"https://scikit-learn.org/1.4/modules/generated/sklearn.ensemble.GradientBoostingClassifier.html\">?<span>Documentation for GradientBoostingClassifier</span></a></label><div class=\"sk-toggleable__content fitted\"><pre>GradientBoostingClassifier()</pre></div> </div></div></div></div></div></div></div></div></div>"
            ],
            "text/plain": [
              "GridSearchCV(cv=5, estimator=GradientBoostingClassifier(),\n",
              "             param_grid={'learning_rate': [0.01, 0.1, 0.2],\n",
              "                         'max_depth': [3, 5, 7],\n",
              "                         'n_estimators': [100, 200, 300]},\n",
              "             scoring='roc_auc')"
            ]
          },
          "execution_count": 55,
          "metadata": {},
          "output_type": "execute_result"
        }
      ],
      "source": [
        "print(\"Ajustando hiperparámetros para Random Forest...\")\n",
        "grid_rf.fit(X_train, y_train)\n",
        "print(\"Ajustando hiperparámetros para Gradient Boosting...\")\n",
        "grid_gb.fit(X_train, y_train)"
      ]
    },
    {
      "cell_type": "markdown",
      "id": "d4cd7edf",
      "metadata": {
        "id": "d4cd7edf"
      },
      "source": [
        "Evaluar modelos ajustados"
      ]
    },
    {
      "cell_type": "code",
      "execution_count": null,
      "id": "5512df03-57d7-48a1-9895-630228eb2ac8",
      "metadata": {
        "id": "5512df03-57d7-48a1-9895-630228eb2ac8",
        "outputId": "34458a5a-c6b9-4137-f033-906537edf489"
      },
      "outputs": [
        {
          "name": "stdout",
          "output_type": "stream",
          "text": [
            "\n",
            "Evaluación del modelo Random Forest ajustado:\n",
            "ROC-AUC Score: 0.6922856361206688\n",
            "Accuracy Score: 0.797896532120523\n",
            "Classification Report:\n",
            "              precision    recall  f1-score   support\n",
            "\n",
            "           0       0.80      1.00      0.89      5614\n",
            "           1       0.00      0.00      0.00      1422\n",
            "\n",
            "    accuracy                           0.80      7036\n",
            "   macro avg       0.40      0.50      0.44      7036\n",
            "weighted avg       0.64      0.80      0.71      7036\n",
            "\n"
          ]
        },
        {
          "data": {
            "image/png": "[encoded data removed]",
            "text/plain": [
              "<Figure size 1000x700 with 2 Axes>"
            ]
          },
          "metadata": {},
          "output_type": "display_data"
        },
        {
          "name": "stdout",
          "output_type": "stream",
          "text": [
            "\n",
            "Evaluación del modelo Gradient Boosting ajustado:\n"
          ]
        }
      ],
      "source": [
        "print(\"\\nEvaluación del modelo Random Forest ajustado:\")\n",
        "evaluate_model(grid_rf.best_estimator_, X_train, y_train, X_test, y_test)\n",
        "print(\"\\nEvaluación del modelo Gradient Boosting ajustado:\")\n",
        "evaluate_model(grid_gb.best_estimator_, X_train, y_train, X_test, y_test)"
      ]
    },
    {
      "cell_type": "markdown",
      "id": "16076b6e",
      "metadata": {
        "id": "16076b6e"
      },
      "source": [
        "Modelo final con mejor rendimiento"
      ]
    },
    {
      "cell_type": "code",
      "execution_count": null,
      "id": "eb8090b6-b786-4ebf-8583-fde81467a225",
      "metadata": {
        "id": "eb8090b6-b786-4ebf-8583-fde81467a225",
        "outputId": "c4f8293c-06c5-496d-a15c-19d9bd6cf715"
      },
      "outputs": [
        {
          "name": "stdout",
          "output_type": "stream",
          "text": [
            "Mejor score de Random Forest: 0.6801492573494466\n",
            "Mejor score de Gradient Boosting: 0.6820763750438987\n",
            "\n",
            "El mejor modelo es: Gradient Boosting\n"
          ]
        }
      ],
      "source": [
        "rf_best_score = grid_rf.best_score_\n",
        "gb_best_score = grid_gb.best_score_\n",
        "modelo_final = ''\n",
        "\n",
        "print(f\"Mejor score de Random Forest: {rf_best_score}\")\n",
        "print(f\"Mejor score de Gradient Boosting: {gb_best_score}\")\n",
        "\n",
        "if rf_best_score > gb_best_score:\n",
        "    # final_model = grid_rf.best_estimator_\n",
        "    modelo_final = \"Random Forest\"\n",
        "else:\n",
        "    # final_model = grid_gb.best_estimator_\n",
        "    modelo_final = \"Gradient Boosting\"\n",
        "print(f\"\\nEl mejor modelo es: {modelo_final}\")"
      ]
    },
    {
      "cell_type": "markdown",
      "id": "f2721180",
      "metadata": {
        "id": "f2721180"
      },
      "source": [
        "### **El mejor modelo es Gradient Boosting.**\n",
        "\n",
        "### **Por lo que ahora, buscaremos optimizar sobre ese algoritmo.**\n",
        "\n",
        "Lo que proponemos es aplicar una optimización del mismo conocido como **XGBoost (eXtreme Gradient Boosting)**, este algoritmo a diferencia del Gradient Boosting simple, permite optimizar en distintos hiperparámetros buscando optimizaciones globales y no sólo locales, algunos de las principales diferencias que marcan un beneficio son:\n",
        "\n",
        "- Regularización: Permite aplicar regularización para evitar overfitting.\n",
        "- Computo paralelizado: Permite realizar computo por batches de información.\n",
        "- Se puede trabajar con información faltante (missing data)\n",
        "- Tree Prunning: Realizar optimización de los árboles para encontrar mínimos globales y no sólo locales.\n",
        "- Validación Cruzada desde el entrenamiento.\n"
      ]
    },
    {
      "cell_type": "markdown",
      "id": "783c9d94",
      "metadata": {
        "id": "783c9d94"
      },
      "source": [
        "#### Librerías a utilizar"
      ]
    },
    {
      "cell_type": "code",
      "execution_count": null,
      "id": "6491c34a",
      "metadata": {
        "id": "6491c34a"
      },
      "outputs": [],
      "source": [
        "from sklearn.inspection import permutation_importance\n",
        "import xgboost as xgb\n",
        "from xgboost.sklearn import XGBClassifier\n",
        "from sklearn.metrics import confusion_matrix\n",
        "from sklearn.metrics import accuracy_score\n",
        "from sklearn.metrics import classification_report\n",
        "\n",
        "from sklearn.model_selection import KFold\n",
        "from sklearn.model_selection import cross_val_score\n",
        "\n",
        "import shap\n",
        "\n",
        "# import packages for hyperparameters tuning\n",
        "from hyperopt import STATUS_OK, Trials, fmin, hp, tpe\n",
        "from hyperopt.early_stop import no_progress_loss\n",
        "\n",
        "from sklearn.metrics import roc_curve\n",
        "from sklearn.metrics import roc_auc_score"
      ]
    },
    {
      "cell_type": "code",
      "execution_count": null,
      "id": "2bd71db1",
      "metadata": {
        "id": "2bd71db1"
      },
      "outputs": [],
      "source": [
        "from sklearn.metrics import precision_recall_curve\n",
        "#from sklearn.metrics import plot_precision_recall_curve\n",
        "from sklearn.metrics import precision_score\n",
        "from sklearn.metrics import f1_score\n",
        "from sklearn.metrics import recall_score\n"
      ]
    },
    {
      "cell_type": "markdown",
      "id": "0039eee5",
      "metadata": {
        "id": "0039eee5"
      },
      "source": [
        "Iniciamos el espacio de búscada con rangos para encontrar los mejores parámetros para el XGBoost"
      ]
    },
    {
      "cell_type": "code",
      "execution_count": null,
      "id": "ac536e83",
      "metadata": {
        "id": "ac536e83"
      },
      "outputs": [],
      "source": [
        "space={\n",
        "        'max_depth': hp.quniform(\"max_depth\", 3, 25, 1),\n",
        "        'gamma': hp.uniform ('gamma', 1,9),\n",
        "        'reg_alpha' : hp.quniform('reg_alpha', 40,180,1),\n",
        "        'reg_lambda' : hp.uniform('reg_lambda', 0,10),\n",
        "        'colsample_bytree' : hp.uniform('colsample_bytree', 0.5,1),\n",
        "        'min_child_weight' : hp.quniform('min_child_weight', 0, 15, 1),\n",
        "        'n_estimators': hp.quniform('n_estimators', 2500,15000,25),\n",
        "        'scale_pos_weight': hp.quniform('scale_pos_weight', 2,15,1), # Hiperparámetro de pesos para balance de clases\n",
        "        'seed': 0\n",
        "    }"
      ]
    },
    {
      "cell_type": "markdown",
      "id": "11628056",
      "metadata": {
        "id": "11628056"
      },
      "source": [
        "### Definir función objetivo para la optimización (minimización del -roc_auc)\n",
        "### Optimización bayesiana (tuneada de hiperparámetros)\n"
      ]
    },
    {
      "cell_type": "code",
      "execution_count": null,
      "id": "b92099b3",
      "metadata": {
        "id": "b92099b3"
      },
      "outputs": [],
      "source": [
        "from sklearn.metrics import roc_curve\n",
        "from sklearn.metrics import roc_auc_score\n",
        "\n",
        "\n",
        "def objective(space):\n",
        "    clf=xgb.XGBClassifier(\n",
        "                    n_estimators =int(space['n_estimators']),\n",
        "                    max_depth = int(space['max_depth']), gamma = space['gamma'],\n",
        "                    reg_alpha = space['reg_alpha'],\n",
        "                    min_child_weight=int(space['min_child_weight']),\n",
        "                    scale_pos_weight=int(space['scale_pos_weight']),\n",
        "                    colsample_bytree=int(space['colsample_bytree']))\n",
        "\n",
        "    evaluation = [( X_train, y_train), ( X_test, y_test)]\n",
        "\n",
        "    clf.fit(X_train, y_train,\n",
        "            eval_set=evaluation, eval_metric=\"aucpr\",\n",
        "            early_stopping_rounds=10,verbose=False)\n",
        "\n",
        "\n",
        "    pred = clf.predict(X_test)\n",
        "    accuracy = accuracy_score(y_test, pred>0.5)\n",
        "    ns_auc = roc_auc_score(y_test,  pred>0.5)\n",
        "    precision = precision_score(y_test,  pred)\n",
        "    recall = recall_score(y_test,  pred)\n",
        "    f1 = f1_score(y_test,  pred)\n",
        "    print (\"Accuracy:\", accuracy, \" ROC_AUC:\",ns_auc, \"precision:\", precision, \"f1:\",f1)\n",
        "    print (\"------------------------------------\")\n",
        "    return {'loss': -f1, 'status': STATUS_OK }"
      ]
    },
    {
      "cell_type": "markdown",
      "id": "f11d08d1",
      "metadata": {
        "id": "f11d08d1"
      },
      "source": [
        "### Algoritmo de optimización\n",
        "\n",
        "Este proceso puede ser tardado.\n",
        "\n",
        "Eliminamos la impresión de los 500 resultados solicitados."
      ]
    },
    {
      "cell_type": "markdown",
      "id": "36e126d7",
      "metadata": {
        "id": "36e126d7"
      },
      "source": [
        "trials = Trials()\n",
        "\n",
        "best_hyperparams = fmin(fn = objective,\n",
        "                        space = space,\n",
        "                        algo = tpe.suggest,\n",
        "                        max_evals = 500,\n",
        "                        trials = trials,\n",
        "                        early_stop_fn = no_progress_loss(200))"
      ]
    },
    {
      "cell_type": "markdown",
      "id": "39b80f27",
      "metadata": {
        "id": "39b80f27"
      },
      "source": [
        "### Mejores resultados con la optimización"
      ]
    },
    {
      "cell_type": "code",
      "execution_count": null,
      "id": "525a1c48",
      "metadata": {
        "id": "525a1c48",
        "outputId": "d890569b-8ae1-4ee8-92d2-745b207480a9"
      },
      "outputs": [
        {
          "name": "stdout",
          "output_type": "stream",
          "text": [
            "The best hyperparameters are :  \n",
            "\n",
            "{'colsample_bytree': 0.5267388881056403, 'gamma': 3.0352011179155465, 'max_depth': 11.0, 'min_child_weight': 1.0, 'n_estimators': 13025.0, 'reg_alpha': 45.0, 'reg_lambda': 1.9061745700892092, 'scale_pos_weight': 4.0}\n"
          ]
        }
      ],
      "source": [
        "print(\"The best hyperparameters are : \",\"\\n\")\n",
        "print(best_hyperparams)"
      ]
    },
    {
      "cell_type": "code",
      "execution_count": null,
      "id": "ba082b1f",
      "metadata": {
        "id": "ba082b1f",
        "outputId": "0c97e26f-02d9-41b0-b14c-3e8fc582c97f"
      },
      "outputs": [
        {
          "name": "stdout",
          "output_type": "stream",
          "text": [
            "CPU times: user 13 µs, sys: 2 µs, total: 15 µs\n",
            "Wall time: 55.8 µs\n"
          ]
        }
      ],
      "source": [
        "%%time\n",
        "\n",
        "xgb_params = {'n_estimators': best_hyperparams['n_estimators'],\n",
        "                    'max_depth': int(best_hyperparams['max_depth']),\n",
        "                    'gamma': best_hyperparams['gamma'],\n",
        "                    'reg_alpha': best_hyperparams['reg_alpha'],\n",
        "                    'reg_lambda': best_hyperparams['reg_lambda'],\n",
        "                    'min_child_weight': int(best_hyperparams['min_child_weight']),\n",
        "                    'scale_pos_weight': int(best_hyperparams['scale_pos_weight']),\n",
        "                    'colsample_bytree': int(best_hyperparams['colsample_bytree'])}\n",
        "\n"
      ]
    },
    {
      "cell_type": "code",
      "execution_count": null,
      "id": "df4a6dbc",
      "metadata": {
        "id": "df4a6dbc",
        "outputId": "36a66139-d0db-4fdb-8873-50408e99db26"
      },
      "outputs": [
        {
          "data": {
            "text/plain": [
              "{'n_estimators': 13025.0,\n",
              " 'max_depth': 11,\n",
              " 'gamma': 3.0352011179155465,\n",
              " 'reg_alpha': 45.0,\n",
              " 'reg_lambda': 1.9061745700892092,\n",
              " 'min_child_weight': 1,\n",
              " 'scale_pos_weight': 4,\n",
              " 'colsample_bytree': 0}"
            ]
          },
          "execution_count": 52,
          "metadata": {},
          "output_type": "execute_result"
        }
      ],
      "source": [
        "xgb_params"
      ]
    },
    {
      "cell_type": "markdown",
      "id": "1ab4209b",
      "metadata": {
        "id": "1ab4209b"
      },
      "source": [
        "### Entrenamos un XGBoost con los mejores parámetros encontrados"
      ]
    },
    {
      "cell_type": "code",
      "execution_count": null,
      "id": "430a5032",
      "metadata": {
        "id": "430a5032"
      },
      "outputs": [],
      "source": [
        "model = xgb.XGBClassifier(\n",
        "                                n_estimators = 13025,\n",
        "                                max_depth= 11,\n",
        "                                gamma = 3.0352011179155465,\n",
        "                                reg_alpha = 45.0,\n",
        "                                reg_lambda = 1.9061745700892092,\n",
        "                                min_child_weight = 1,\n",
        "                                scale_pos_weight = 4,\n",
        "                                colsample_bytree = 0,\n",
        "                                seed = 1234)"
      ]
    },
    {
      "cell_type": "code",
      "execution_count": null,
      "id": "124ea61f",
      "metadata": {
        "id": "124ea61f",
        "outputId": "68c7616d-1c7d-4465-faec-20cff0537df3"
      },
      "outputs": [
        {
          "data": {
            "text/html": [
              "<style>#sk-container-id-7 {\n",
              "  /* Definition of color scheme common for light and dark mode */\n",
              "  --sklearn-color-text: black;\n",
              "  --sklearn-color-line: gray;\n",
              "  /* Definition of color scheme for unfitted estimators */\n",
              "  --sklearn-color-unfitted-level-0: #fff5e6;\n",
              "  --sklearn-color-unfitted-level-1: #f6e4d2;\n",
              "  --sklearn-color-unfitted-level-2: #ffe0b3;\n",
              "  --sklearn-color-unfitted-level-3: chocolate;\n",
              "  /* Definition of color scheme for fitted estimators */\n",
              "  --sklearn-color-fitted-level-0: #f0f8ff;\n",
              "  --sklearn-color-fitted-level-1: #d4ebff;\n",
              "  --sklearn-color-fitted-level-2: #b3dbfd;\n",
              "  --sklearn-color-fitted-level-3: cornflowerblue;\n",
              "\n",
              "  /* Specific color for light theme */\n",
              "  --sklearn-color-text-on-default-background: var(--sg-text-color, var(--theme-code-foreground, var(--jp-content-font-color1, black)));\n",
              "  --sklearn-color-background: var(--sg-background-color, var(--theme-background, var(--jp-layout-color0, white)));\n",
              "  --sklearn-color-border-box: var(--sg-text-color, var(--theme-code-foreground, var(--jp-content-font-color1, black)));\n",
              "  --sklearn-color-icon: #696969;\n",
              "\n",
              "  @media (prefers-color-scheme: dark) {\n",
              "    /* Redefinition of color scheme for dark theme */\n",
              "    --sklearn-color-text-on-default-background: var(--sg-text-color, var(--theme-code-foreground, var(--jp-content-font-color1, white)));\n",
              "    --sklearn-color-background: var(--sg-background-color, var(--theme-background, var(--jp-layout-color0, #111)));\n",
              "    --sklearn-color-border-box: var(--sg-text-color, var(--theme-code-foreground, var(--jp-content-font-color1, white)));\n",
              "    --sklearn-color-icon: #878787;\n",
              "  }\n",
              "}\n",
              "\n",
              "#sk-container-id-7 {\n",
              "  color: var(--sklearn-color-text);\n",
              "}\n",
              "\n",
              "#sk-container-id-7 pre {\n",
              "  padding: 0;\n",
              "}\n",
              "\n",
              "#sk-container-id-7 input.sk-hidden--visually {\n",
              "  border: 0;\n",
              "  clip: rect(1px 1px 1px 1px);\n",
              "  clip: rect(1px, 1px, 1px, 1px);\n",
              "  height: 1px;\n",
              "  margin: -1px;\n",
              "  overflow: hidden;\n",
              "  padding: 0;\n",
              "  position: absolute;\n",
              "  width: 1px;\n",
              "}\n",
              "\n",
              "#sk-container-id-7 div.sk-dashed-wrapped {\n",
              "  border: 1px dashed var(--sklearn-color-line);\n",
              "  margin: 0 0.4em 0.5em 0.4em;\n",
              "  box-sizing: border-box;\n",
              "  padding-bottom: 0.4em;\n",
              "  background-color: var(--sklearn-color-background);\n",
              "}\n",
              "\n",
              "#sk-container-id-7 div.sk-container {\n",
              "  /* jupyter's `normalize.less` sets `[hidden] { display: none; }`\n",
              "     but bootstrap.min.css set `[hidden] { display: none !important; }`\n",
              "     so we also need the `!important` here to be able to override the\n",
              "     default hidden behavior on the sphinx rendered scikit-learn.org.\n",
              "     See: https://github.com/scikit-learn/scikit-learn/issues/21755 */\n",
              "  display: inline-block !important;\n",
              "  position: relative;\n",
              "}\n",
              "\n",
              "#sk-container-id-7 div.sk-text-repr-fallback {\n",
              "  display: none;\n",
              "}\n",
              "\n",
              "div.sk-parallel-item,\n",
              "div.sk-serial,\n",
              "div.sk-item {\n",
              "  /* draw centered vertical line to link estimators */\n",
              "  background-image: linear-gradient(var(--sklearn-color-text-on-default-background), var(--sklearn-color-text-on-default-background));\n",
              "  background-size: 2px 100%;\n",
              "  background-repeat: no-repeat;\n",
              "  background-position: center center;\n",
              "}\n",
              "\n",
              "/* Parallel-specific style estimator block */\n",
              "\n",
              "#sk-container-id-7 div.sk-parallel-item::after {\n",
              "  content: \"\";\n",
              "  width: 100%;\n",
              "  border-bottom: 2px solid var(--sklearn-color-text-on-default-background);\n",
              "  flex-grow: 1;\n",
              "}\n",
              "\n",
              "#sk-container-id-7 div.sk-parallel {\n",
              "  display: flex;\n",
              "  align-items: stretch;\n",
              "  justify-content: center;\n",
              "  background-color: var(--sklearn-color-background);\n",
              "  position: relative;\n",
              "}\n",
              "\n",
              "#sk-container-id-7 div.sk-parallel-item {\n",
              "  display: flex;\n",
              "  flex-direction: column;\n",
              "}\n",
              "\n",
              "#sk-container-id-7 div.sk-parallel-item:first-child::after {\n",
              "  align-self: flex-end;\n",
              "  width: 50%;\n",
              "}\n",
              "\n",
              "#sk-container-id-7 div.sk-parallel-item:last-child::after {\n",
              "  align-self: flex-start;\n",
              "  width: 50%;\n",
              "}\n",
              "\n",
              "#sk-container-id-7 div.sk-parallel-item:only-child::after {\n",
              "  width: 0;\n",
              "}\n",
              "\n",
              "/* Serial-specific style estimator block */\n",
              "\n",
              "#sk-container-id-7 div.sk-serial {\n",
              "  display: flex;\n",
              "  flex-direction: column;\n",
              "  align-items: center;\n",
              "  background-color: var(--sklearn-color-background);\n",
              "  padding-right: 1em;\n",
              "  padding-left: 1em;\n",
              "}\n",
              "\n",
              "\n",
              "/* Toggleable style: style used for estimator/Pipeline/ColumnTransformer box that is\n",
              "clickable and can be expanded/collapsed.\n",
              "- Pipeline and ColumnTransformer use this feature and define the default style\n",
              "- Estimators will overwrite some part of the style using the `sk-estimator` class\n",
              "*/\n",
              "\n",
              "/* Pipeline and ColumnTransformer style (default) */\n",
              "\n",
              "#sk-container-id-7 div.sk-toggleable {\n",
              "  /* Default theme specific background. It is overwritten whether we have a\n",
              "  specific estimator or a Pipeline/ColumnTransformer */\n",
              "  background-color: var(--sklearn-color-background);\n",
              "}\n",
              "\n",
              "/* Toggleable label */\n",
              "#sk-container-id-7 label.sk-toggleable__label {\n",
              "  cursor: pointer;\n",
              "  display: block;\n",
              "  width: 100%;\n",
              "  margin-bottom: 0;\n",
              "  padding: 0.5em;\n",
              "  box-sizing: border-box;\n",
              "  text-align: center;\n",
              "}\n",
              "\n",
              "#sk-container-id-7 label.sk-toggleable__label-arrow:before {\n",
              "  /* Arrow on the left of the label */\n",
              "  content: \"▸\";\n",
              "  float: left;\n",
              "  margin-right: 0.25em;\n",
              "  color: var(--sklearn-color-icon);\n",
              "}\n",
              "\n",
              "#sk-container-id-7 label.sk-toggleable__label-arrow:hover:before {\n",
              "  color: var(--sklearn-color-text);\n",
              "}\n",
              "\n",
              "/* Toggleable content - dropdown */\n",
              "\n",
              "#sk-container-id-7 div.sk-toggleable__content {\n",
              "  max-height: 0;\n",
              "  max-width: 0;\n",
              "  overflow: hidden;\n",
              "  text-align: left;\n",
              "  /* unfitted */\n",
              "  background-color: var(--sklearn-color-unfitted-level-0);\n",
              "}\n",
              "\n",
              "#sk-container-id-7 div.sk-toggleable__content.fitted {\n",
              "  /* fitted */\n",
              "  background-color: var(--sklearn-color-fitted-level-0);\n",
              "}\n",
              "\n",
              "#sk-container-id-7 div.sk-toggleable__content pre {\n",
              "  margin: 0.2em;\n",
              "  border-radius: 0.25em;\n",
              "  color: var(--sklearn-color-text);\n",
              "  /* unfitted */\n",
              "  background-color: var(--sklearn-color-unfitted-level-0);\n",
              "}\n",
              "\n",
              "#sk-container-id-7 div.sk-toggleable__content.fitted pre {\n",
              "  /* unfitted */\n",
              "  background-color: var(--sklearn-color-fitted-level-0);\n",
              "}\n",
              "\n",
              "#sk-container-id-7 input.sk-toggleable__control:checked~div.sk-toggleable__content {\n",
              "  /* Expand drop-down */\n",
              "  max-height: 200px;\n",
              "  max-width: 100%;\n",
              "  overflow: auto;\n",
              "}\n",
              "\n",
              "#sk-container-id-7 input.sk-toggleable__control:checked~label.sk-toggleable__label-arrow:before {\n",
              "  content: \"▾\";\n",
              "}\n",
              "\n",
              "/* Pipeline/ColumnTransformer-specific style */\n",
              "\n",
              "#sk-container-id-7 div.sk-label input.sk-toggleable__control:checked~label.sk-toggleable__label {\n",
              "  color: var(--sklearn-color-text);\n",
              "  background-color: var(--sklearn-color-unfitted-level-2);\n",
              "}\n",
              "\n",
              "#sk-container-id-7 div.sk-label.fitted input.sk-toggleable__control:checked~label.sk-toggleable__label {\n",
              "  background-color: var(--sklearn-color-fitted-level-2);\n",
              "}\n",
              "\n",
              "/* Estimator-specific style */\n",
              "\n",
              "/* Colorize estimator box */\n",
              "#sk-container-id-7 div.sk-estimator input.sk-toggleable__control:checked~label.sk-toggleable__label {\n",
              "  /* unfitted */\n",
              "  background-color: var(--sklearn-color-unfitted-level-2);\n",
              "}\n",
              "\n",
              "#sk-container-id-7 div.sk-estimator.fitted input.sk-toggleable__control:checked~label.sk-toggleable__label {\n",
              "  /* fitted */\n",
              "  background-color: var(--sklearn-color-fitted-level-2);\n",
              "}\n",
              "\n",
              "#sk-container-id-7 div.sk-label label.sk-toggleable__label,\n",
              "#sk-container-id-7 div.sk-label label {\n",
              "  /* The background is the default theme color */\n",
              "  color: var(--sklearn-color-text-on-default-background);\n",
              "}\n",
              "\n",
              "/* On hover, darken the color of the background */\n",
              "#sk-container-id-7 div.sk-label:hover label.sk-toggleable__label {\n",
              "  color: var(--sklearn-color-text);\n",
              "  background-color: var(--sklearn-color-unfitted-level-2);\n",
              "}\n",
              "\n",
              "/* Label box, darken color on hover, fitted */\n",
              "#sk-container-id-7 div.sk-label.fitted:hover label.sk-toggleable__label.fitted {\n",
              "  color: var(--sklearn-color-text);\n",
              "  background-color: var(--sklearn-color-fitted-level-2);\n",
              "}\n",
              "\n",
              "/* Estimator label */\n",
              "\n",
              "#sk-container-id-7 div.sk-label label {\n",
              "  font-family: monospace;\n",
              "  font-weight: bold;\n",
              "  display: inline-block;\n",
              "  line-height: 1.2em;\n",
              "}\n",
              "\n",
              "#sk-container-id-7 div.sk-label-container {\n",
              "  text-align: center;\n",
              "}\n",
              "\n",
              "/* Estimator-specific */\n",
              "#sk-container-id-7 div.sk-estimator {\n",
              "  font-family: monospace;\n",
              "  border: 1px dotted var(--sklearn-color-border-box);\n",
              "  border-radius: 0.25em;\n",
              "  box-sizing: border-box;\n",
              "  margin-bottom: 0.5em;\n",
              "  /* unfitted */\n",
              "  background-color: var(--sklearn-color-unfitted-level-0);\n",
              "}\n",
              "\n",
              "#sk-container-id-7 div.sk-estimator.fitted {\n",
              "  /* fitted */\n",
              "  background-color: var(--sklearn-color-fitted-level-0);\n",
              "}\n",
              "\n",
              "/* on hover */\n",
              "#sk-container-id-7 div.sk-estimator:hover {\n",
              "  /* unfitted */\n",
              "  background-color: var(--sklearn-color-unfitted-level-2);\n",
              "}\n",
              "\n",
              "#sk-container-id-7 div.sk-estimator.fitted:hover {\n",
              "  /* fitted */\n",
              "  background-color: var(--sklearn-color-fitted-level-2);\n",
              "}\n",
              "\n",
              "/* Specification for estimator info (e.g. \"i\" and \"?\") */\n",
              "\n",
              "/* Common style for \"i\" and \"?\" */\n",
              "\n",
              ".sk-estimator-doc-link,\n",
              "a:link.sk-estimator-doc-link,\n",
              "a:visited.sk-estimator-doc-link {\n",
              "  float: right;\n",
              "  font-size: smaller;\n",
              "  line-height: 1em;\n",
              "  font-family: monospace;\n",
              "  background-color: var(--sklearn-color-background);\n",
              "  border-radius: 1em;\n",
              "  height: 1em;\n",
              "  width: 1em;\n",
              "  text-decoration: none !important;\n",
              "  margin-left: 1ex;\n",
              "  /* unfitted */\n",
              "  border: var(--sklearn-color-unfitted-level-1) 1pt solid;\n",
              "  color: var(--sklearn-color-unfitted-level-1);\n",
              "}\n",
              "\n",
              ".sk-estimator-doc-link.fitted,\n",
              "a:link.sk-estimator-doc-link.fitted,\n",
              "a:visited.sk-estimator-doc-link.fitted {\n",
              "  /* fitted */\n",
              "  border: var(--sklearn-color-fitted-level-1) 1pt solid;\n",
              "  color: var(--sklearn-color-fitted-level-1);\n",
              "}\n",
              "\n",
              "/* On hover */\n",
              "div.sk-estimator:hover .sk-estimator-doc-link:hover,\n",
              ".sk-estimator-doc-link:hover,\n",
              "div.sk-label-container:hover .sk-estimator-doc-link:hover,\n",
              ".sk-estimator-doc-link:hover {\n",
              "  /* unfitted */\n",
              "  background-color: var(--sklearn-color-unfitted-level-3);\n",
              "  color: var(--sklearn-color-background);\n",
              "  text-decoration: none;\n",
              "}\n",
              "\n",
              "div.sk-estimator.fitted:hover .sk-estimator-doc-link.fitted:hover,\n",
              ".sk-estimator-doc-link.fitted:hover,\n",
              "div.sk-label-container:hover .sk-estimator-doc-link.fitted:hover,\n",
              ".sk-estimator-doc-link.fitted:hover {\n",
              "  /* fitted */\n",
              "  background-color: var(--sklearn-color-fitted-level-3);\n",
              "  color: var(--sklearn-color-background);\n",
              "  text-decoration: none;\n",
              "}\n",
              "\n",
              "/* Span, style for the box shown on hovering the info icon */\n",
              ".sk-estimator-doc-link span {\n",
              "  display: none;\n",
              "  z-index: 9999;\n",
              "  position: relative;\n",
              "  font-weight: normal;\n",
              "  right: .2ex;\n",
              "  padding: .5ex;\n",
              "  margin: .5ex;\n",
              "  width: min-content;\n",
              "  min-width: 20ex;\n",
              "  max-width: 50ex;\n",
              "  color: var(--sklearn-color-text);\n",
              "  box-shadow: 2pt 2pt 4pt #999;\n",
              "  /* unfitted */\n",
              "  background: var(--sklearn-color-unfitted-level-0);\n",
              "  border: .5pt solid var(--sklearn-color-unfitted-level-3);\n",
              "}\n",
              "\n",
              ".sk-estimator-doc-link.fitted span {\n",
              "  /* fitted */\n",
              "  background: var(--sklearn-color-fitted-level-0);\n",
              "  border: var(--sklearn-color-fitted-level-3);\n",
              "}\n",
              "\n",
              ".sk-estimator-doc-link:hover span {\n",
              "  display: block;\n",
              "}\n",
              "\n",
              "/* \"?\"-specific style due to the `<a>` HTML tag */\n",
              "\n",
              "#sk-container-id-7 a.estimator_doc_link {\n",
              "  float: right;\n",
              "  font-size: 1rem;\n",
              "  line-height: 1em;\n",
              "  font-family: monospace;\n",
              "  background-color: var(--sklearn-color-background);\n",
              "  border-radius: 1rem;\n",
              "  height: 1rem;\n",
              "  width: 1rem;\n",
              "  text-decoration: none;\n",
              "  /* unfitted */\n",
              "  color: var(--sklearn-color-unfitted-level-1);\n",
              "  border: var(--sklearn-color-unfitted-level-1) 1pt solid;\n",
              "}\n",
              "\n",
              "#sk-container-id-7 a.estimator_doc_link.fitted {\n",
              "  /* fitted */\n",
              "  border: var(--sklearn-color-fitted-level-1) 1pt solid;\n",
              "  color: var(--sklearn-color-fitted-level-1);\n",
              "}\n",
              "\n",
              "/* On hover */\n",
              "#sk-container-id-7 a.estimator_doc_link:hover {\n",
              "  /* unfitted */\n",
              "  background-color: var(--sklearn-color-unfitted-level-3);\n",
              "  color: var(--sklearn-color-background);\n",
              "  text-decoration: none;\n",
              "}\n",
              "\n",
              "#sk-container-id-7 a.estimator_doc_link.fitted:hover {\n",
              "  /* fitted */\n",
              "  background-color: var(--sklearn-color-fitted-level-3);\n",
              "}\n",
              "</style><div id=\"sk-container-id-7\" class=\"sk-top-container\"><div class=\"sk-text-repr-fallback\"><pre>XGBClassifier(base_score=None, booster=None, callbacks=None,\n",
              "              colsample_bylevel=None, colsample_bynode=None, colsample_bytree=0,\n",
              "              device=None, early_stopping_rounds=None, enable_categorical=False,\n",
              "              eval_metric=None, feature_types=None, gamma=3.0352011179155465,\n",
              "              grow_policy=None, importance_type=None,\n",
              "              interaction_constraints=None, learning_rate=None, max_bin=None,\n",
              "              max_cat_threshold=None, max_cat_to_onehot=None,\n",
              "              max_delta_step=None, max_depth=11, max_leaves=None,\n",
              "              min_child_weight=1, missing=nan, monotone_constraints=None,\n",
              "              multi_strategy=None, n_estimators=13025, n_jobs=None,\n",
              "              num_parallel_tree=None, random_state=None, ...)</pre><b>In a Jupyter environment, please rerun this cell to show the HTML representation or trust the notebook. <br />On GitHub, the HTML representation is unable to render, please try loading this page with nbviewer.org.</b></div><div class=\"sk-container\" hidden><div class=\"sk-item\"><div class=\"sk-estimator fitted sk-toggleable\"><input class=\"sk-toggleable__control sk-hidden--visually\" id=\"sk-estimator-id-7\" type=\"checkbox\" checked><label for=\"sk-estimator-id-7\" class=\"sk-toggleable__label fitted sk-toggleable__label-arrow fitted\">&nbsp;XGBClassifier<span class=\"sk-estimator-doc-link fitted\">i<span>Fitted</span></span></label><div class=\"sk-toggleable__content fitted\"><pre>XGBClassifier(base_score=None, booster=None, callbacks=None,\n",
              "              colsample_bylevel=None, colsample_bynode=None, colsample_bytree=0,\n",
              "              device=None, early_stopping_rounds=None, enable_categorical=False,\n",
              "              eval_metric=None, feature_types=None, gamma=3.0352011179155465,\n",
              "              grow_policy=None, importance_type=None,\n",
              "              interaction_constraints=None, learning_rate=None, max_bin=None,\n",
              "              max_cat_threshold=None, max_cat_to_onehot=None,\n",
              "              max_delta_step=None, max_depth=11, max_leaves=None,\n",
              "              min_child_weight=1, missing=nan, monotone_constraints=None,\n",
              "              multi_strategy=None, n_estimators=13025, n_jobs=None,\n",
              "              num_parallel_tree=None, random_state=None, ...)</pre></div> </div></div></div></div>"
            ],
            "text/plain": [
              "XGBClassifier(base_score=None, booster=None, callbacks=None,\n",
              "              colsample_bylevel=None, colsample_bynode=None, colsample_bytree=0,\n",
              "              device=None, early_stopping_rounds=None, enable_categorical=False,\n",
              "              eval_metric=None, feature_types=None, gamma=3.0352011179155465,\n",
              "              grow_policy=None, importance_type=None,\n",
              "              interaction_constraints=None, learning_rate=None, max_bin=None,\n",
              "              max_cat_threshold=None, max_cat_to_onehot=None,\n",
              "              max_delta_step=None, max_depth=11, max_leaves=None,\n",
              "              min_child_weight=1, missing=nan, monotone_constraints=None,\n",
              "              multi_strategy=None, n_estimators=13025, n_jobs=None,\n",
              "              num_parallel_tree=None, random_state=None, ...)"
            ]
          },
          "execution_count": 65,
          "metadata": {},
          "output_type": "execute_result"
        }
      ],
      "source": [
        "model.fit(X_train, y_train)"
      ]
    },
    {
      "cell_type": "markdown",
      "id": "cba14b39",
      "metadata": {
        "id": "cba14b39"
      },
      "source": [
        "### Resultados encontrados"
      ]
    },
    {
      "cell_type": "code",
      "execution_count": null,
      "id": "38ec1b2f",
      "metadata": {
        "id": "38ec1b2f",
        "outputId": "d6e5f838-2ac9-49f0-ae1c-0836e3451428"
      },
      "outputs": [
        {
          "name": "stdout",
          "output_type": "stream",
          "text": [
            "ROC-AUC Score: 0.6885694769505812\n",
            "Accuracy Score: 0.6011938601478113\n",
            "Classification Report:\n",
            "              precision    recall  f1-score   support\n",
            "\n",
            "           0       0.88      0.58      0.70      5614\n",
            "           1       0.30      0.70      0.42      1422\n",
            "\n",
            "    accuracy                           0.60      7036\n",
            "   macro avg       0.59      0.64      0.56      7036\n",
            "weighted avg       0.77      0.60      0.64      7036\n",
            "\n"
          ]
        },
        {
          "data": {
            "image/png": "[encoded data removed]",
            "text/plain": [
              "<Figure size 1000x700 with 2 Axes>"
            ]
          },
          "metadata": {},
          "output_type": "display_data"
        }
      ],
      "source": [
        "y_pred = model.predict(X_test)\n",
        "y_probs = model.predict_proba(X_test)[:, 1]\n",
        "auc_score = roc_auc_score(y_test, y_probs)\n",
        "acc_score = accuracy_score(y_test, y_pred)\n",
        "class_report = classification_report(y_test, y_pred, zero_division=0)\n",
        "conf_matrix = confusion_matrix(y_test, y_pred)\n",
        "\n",
        "print(f\"ROC-AUC Score: {auc_score}\")\n",
        "print(f\"Accuracy Score: {acc_score}\")\n",
        "print(\"Classification Report:\")\n",
        "print(class_report)\n",
        "\n",
        "plt.figure(figsize=(10, 7))\n",
        "sns.heatmap(conf_matrix, annot=True, fmt='d', cmap='Blues', xticklabels=['No Malo', 'Malo'], yticklabels=['No Malo', 'Malo'])\n",
        "plt.xlabel('Predicted')\n",
        "plt.ylabel('Actual')\n",
        "plt.title('Confusion Matrix')\n",
        "plt.show()"
      ]
    },
    {
      "cell_type": "code",
      "execution_count": null,
      "id": "9da582ed",
      "metadata": {
        "id": "9da582ed",
        "outputId": "fe3a400c-c168-420d-d254-8ff8ea879e80"
      },
      "outputs": [
        {
          "data": {
            "image/png": "[encoded data removed]",
            "text/plain": [
              "<Figure size 800x600 with 1 Axes>"
            ]
          },
          "metadata": {},
          "output_type": "display_data"
        }
      ],
      "source": [
        "# Calcular la curva ROC y AUC-ROC\n",
        "from sklearn.metrics import auc\n",
        "y_probs = model.predict_proba(X_test)[:, 1]\n",
        "fpr, tpr, thresholds = roc_curve(y_test, y_probs)\n",
        "auc_score = auc(fpr, tpr)\n",
        "\n",
        "plt.figure(figsize=(8, 6))\n",
        "plt.plot(fpr, tpr, label=f'AUC = {auc_score:.2f}')\n",
        "plt.xlabel('False Positive Rate')\n",
        "plt.ylabel('True Positive Rate')\n",
        "plt.title('Receiver Operating Characteristic (ROC) Curve')\n",
        "plt.legend()\n",
        "plt.show()"
      ]
    },
    {
      "cell_type": "markdown",
      "source": [
        "**Anexo Modelo ensamble**"
      ],
      "metadata": {
        "id": "JXEGwfLk85SR"
      },
      "id": "JXEGwfLk85SR"
    },
    {
      "cell_type": "code",
      "source": [
        "\n",
        "X_train, X_test, y_train, y_test = train_test_split(X, y, test_size=0.2, random_state=42)\n",
        "\n",
        "rf_model = RandomForestClassifier(n_estimators=100, random_state=42)\n",
        "\n",
        "\n",
        "# Modelo ensamble con el modelo final y un RF\n",
        "ensemble_model = VotingClassifier(estimators=[('rf', rf_model), ('xgb', model)], voting='soft')\n",
        "ensemble_model.fit(X_train, y_train)\n",
        "\n",
        "y_pred = ensemble_model.predict(X_test)\n",
        "y_probs = ensemble_model.predict_proba(X_test)[:, 1]\n",
        "\n",
        "# Métricas de rendimiento\n",
        "auc_score = roc_auc_score(y_test, y_probs)\n",
        "acc_score = accuracy_score(y_test, y_pred)\n",
        "class_report = classification_report(y_test, y_pred, zero_division=0)\n",
        "conf_matrix = confusion_matrix(y_test, y_pred)\n",
        "\n",
        "print(f\"ROC-AUC Score: {auc_score}\")\n",
        "print(f\"Accuracy Score: {acc_score}\")\n",
        "print(\"Classification Report:\")\n",
        "print(class_report)\n",
        "\n",
        "plt.figure(figsize=(10, 7))\n",
        "sns.heatmap(conf_matrix, annot=True, fmt='d', cmap='Blues', xticklabels=['No Malo', 'Malo'], yticklabels=['No Malo', 'Malo'])\n",
        "plt.xlabel('Predicted')\n",
        "plt.ylabel('Actual')\n",
        "plt.title('Confusion Matrix')\n",
        "plt.show()"
      ],
      "metadata": {
        "id": "y9Jj5dd780va"
      },
      "id": "y9Jj5dd780va",
      "execution_count": null,
      "outputs": []
    },
    {
      "cell_type": "code",
      "source": [
        "xgb_selector = xgb.XGBClassifier()\n",
        "xgb_selector.fit(X_train, y_train)\n",
        "selector = SelectFromModel(xgb_selector, prefit=True)\n",
        "X_train_selected = selector.transform(X_train)\n",
        "X_test_selected = selector.transform(X_test)\n",
        "\n",
        "# Hiperparámetros para los modelos en el ensamblado\n",
        "params1 = {\n",
        "    'n_estimators': 1000,\n",
        "    'max_depth': 6,\n",
        "    'learning_rate': 0.1,\n",
        "    'gamma': 0,\n",
        "    'reg_alpha': 1,\n",
        "    'reg_lambda': 1,\n",
        "    'colsample_bytree': 0.8,\n",
        "    'min_child_weight': 1,\n",
        "    'scale_pos_weight': 1,\n",
        "    'seed': 1234\n",
        "}\n",
        "\n",
        "params2 = {\n",
        "    'n_estimators': [100, 200, 300],\n",
        "    'learning_rate': [0.01, 0.1, 0.2],\n",
        "    'max_depth': [3, 5, 7]\n",
        "}\n",
        "\n",
        "# modelo ensamble con el modelo final y otro XGB\n",
        "model1 = xgb.XGBClassifier(**params1)\n",
        "model2 = xgb.XGBClassifier(**params2)\n",
        "\n",
        "ensemble_model = VotingClassifier(estimators=[\n",
        "    ('xgb1', model1),\n",
        "    ('xgb', model)], voting='soft')\n",
        "\n",
        "ensemble_model.fit(X_train_selected, y_train)\n",
        "\n",
        "y_pred = ensemble_model.predict(X_test_selected)\n",
        "y_probs = ensemble_model.predict_proba(X_test_selected)[:, 1]\n",
        "\n",
        "# Evaluaciones\n",
        "auc_score = roc_auc_score(y_test, y_probs)\n",
        "acc_score = accuracy_score(y_test, y_pred)\n",
        "class_report = classification_report(y_test, y_pred, zero_division=0)\n",
        "conf_matrix = confusion_matrix(y_test, y_pred)\n",
        "\n",
        "print(f\"ROC-AUC Score: {auc_score}\")\n",
        "print(f\"Accuracy Score: {acc_score}\")\n",
        "print(\"Classification Report:\")\n",
        "print(class_report)\n",
        "\n",
        "plt.figure(figsize=(10, 7))\n",
        "sns.heatmap(conf_matrix, annot=True, fmt='d', cmap='Blues', xticklabels=['No Malo', 'Malo'], yticklabels=['No Malo', 'Malo'])\n",
        "plt.xlabel('Predicted')\n",
        "plt.ylabel('Actual')\n",
        "plt.title('Confusion Matrix')\n",
        "plt.show()\n",
        "\n",
        "# Calcular la curva ROC y AUC-ROC\n",
        "fpr, tpr, thresholds = roc_curve(y_test, y_probs)\n",
        "auc_score = auc(fpr, tpr)\n",
        "\n",
        "plt.figure(figsize=(8, 6))\n",
        "plt.plot(fpr, tpr, label=f'AUC = {auc_score:.2f}')\n",
        "plt.xlabel('False Positive Rate')\n",
        "plt.ylabel('True Positive Rate')\n",
        "plt.title('Receiver Operating Characteristic (ROC) Curve')\n",
        "plt.legend()\n",
        "plt.show()"
      ],
      "metadata": {
        "id": "g0ry2Dyc8OJ-"
      },
      "id": "g0ry2Dyc8OJ-",
      "execution_count": null,
      "outputs": []
    },
    {
      "cell_type": "markdown",
      "id": "b18222ba",
      "metadata": {
        "id": "b18222ba"
      },
      "source": [
        "# **Conclusiones**"
      ]
    },
    {
      "cell_type": "markdown",
      "id": "65f54bff",
      "metadata": {
        "id": "65f54bff"
      },
      "source": [
        "En el presente Notebook probamos distintos modelos alternativos para la data de colocación de crédito en originación de Kubo Financiero.\n",
        "\n",
        "Entre los modelos alternativos (algoritmos) que probamos se encuentran:\n",
        "\n",
        "*   **Logistic Regression**  \n",
        "*   **Random Forest**  \n",
        "*   **Gradient Boosting**\n",
        "*   **Support Vector Machine**\n",
        "*   **K-Nearest Neighbors**  \n",
        "*   **Naive Bayes**  \n",
        "\n",
        "Con lo anterior, los dos mejores modelos encontrados fueron:\n",
        "\n",
        "**Random Forest y Gradient Boosting.**\n",
        "\n",
        "Que cuando aplicamos un gridSearch para optimizar parámetros, encontramos que el mejor de ellos es el Gradient Boosting.\n",
        "\n",
        "Con el resultado anterior, lo que decidimos fue aplicar un XGBoost, una optimización del Gradient Boosting, que nos permite penalizar por overfitting, optimizar el cálculo con computo paralelizado, encontrar optimos globales, entre otros.\n",
        "\n",
        "Con lo que encontramos un modelo final:\n",
        "\n",
        "**XGBoost (eXtreme Gradient Boosting)** con ROC = 69 (que es nuestra métrica de interes)\n",
        "\n",
        "Adicional se hizo prueba de ese modelo con un ensamble con el modleo final, pero el resultado se confirma que sigue siendo mejor el modelo de XGBoost"
      ]
    }
  ],
  "metadata": {
    "kernelspec": {
      "display_name": "Python 3 (ipykernel)",
      "language": "python",
      "name": "python3"
    },
    "language_info": {
      "codemirror_mode": {
        "name": "ipython",
        "version": 3
      },
      "file_extension": ".py",
      "mimetype": "text/x-python",
      "name": "python",
      "nbconvert_exporter": "python",
      "pygments_lexer": "ipython3",
      "version": "3.11.0"
    },
    "colab": {
      "provenance": []
    }
  },
  "nbformat": 4,
  "nbformat_minor": 5
}